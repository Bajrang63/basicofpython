{
  "cells": [
    {
      "cell_type": "markdown",
      "metadata": {
        "id": "view-in-github",
        "colab_type": "text"
      },
      "source": [
        "<a href=\"https://colab.research.google.com/github/Bajrang63/basicofpython/blob/main/Oops_(3).ipynb\" target=\"_parent\"><img src=\"https://colab.research.google.com/assets/colab-badge.svg\" alt=\"Open In Colab\"/></a>"
      ]
    },
    {
      "cell_type": "code",
      "execution_count": null,
      "id": "223647d0-9ae3-499a-a062-6566b0818016",
      "metadata": {
        "id": "223647d0-9ae3-499a-a062-6566b0818016",
        "outputId": "95d69138-3119-434f-ec38-ac4cfb3b9493"
      },
      "outputs": [
        {
          "data": {
            "text/plain": [
              "3"
            ]
          },
          "execution_count": 1,
          "metadata": {},
          "output_type": "execute_result"
        }
      ],
      "source": [
        "1+2"
      ]
    },
    {
      "cell_type": "code",
      "execution_count": null,
      "id": "3111e74e-2fa8-4da9-9fd6-c175e3c93ffa",
      "metadata": {
        "id": "3111e74e-2fa8-4da9-9fd6-c175e3c93ffa"
      },
      "outputs": [],
      "source": [
        "a = 10\n",
        "b = 20\n",
        "c = 50"
      ]
    },
    {
      "cell_type": "code",
      "execution_count": null,
      "id": "1e128e0e-0a87-4f99-9e82-e4bf9cf78b16",
      "metadata": {
        "id": "1e128e0e-0a87-4f99-9e82-e4bf9cf78b16"
      },
      "outputs": [],
      "source": [
        "s = \"sudh\""
      ]
    },
    {
      "cell_type": "code",
      "execution_count": null,
      "id": "9089f4aa-0d4f-49ba-9de4-5af80a17b5a8",
      "metadata": {
        "id": "9089f4aa-0d4f-49ba-9de4-5af80a17b5a8"
      },
      "outputs": [],
      "source": [
        "class bankaccount :\n",
        "\n",
        "    def openaccount(self,name , email_id) :\n",
        "        print(\"open an account by taking name and mail id \")\n",
        "        return name+email_id\n",
        "\n",
        "    def deposite(self,amount):\n",
        "        print(\"i am trying to tdeposite an amount in my account\")\n",
        "\n",
        "    def whithdraw(self,amt_with):\n",
        "        print(\"withdraw the amount\")\n",
        "\n",
        "    def update_details(self, name_update , emaid_update):\n",
        "        print(\"this function will update my name and mail if for account\")\n",
        "\n",
        ""
      ]
    },
    {
      "cell_type": "code",
      "execution_count": null,
      "id": "c239ccc2-a07f-4150-b3c6-5bdb7bb2bcef",
      "metadata": {
        "id": "c239ccc2-a07f-4150-b3c6-5bdb7bb2bcef"
      },
      "outputs": [],
      "source": [
        "sudh = bankaccount()"
      ]
    },
    {
      "cell_type": "code",
      "execution_count": null,
      "id": "8a9d53ee-1e24-4067-9393-0c1604fd9e27",
      "metadata": {
        "id": "8a9d53ee-1e24-4067-9393-0c1604fd9e27",
        "outputId": "09356f69-807e-4a23-aabd-329d6c49123b"
      },
      "outputs": [
        {
          "name": "stdout",
          "output_type": "stream",
          "text": [
            "open an account by taking name and mail id \n"
          ]
        },
        {
          "data": {
            "text/plain": [
              "'sudhanshusudhanshu@gmail.com'"
            ]
          },
          "execution_count": 17,
          "metadata": {},
          "output_type": "execute_result"
        }
      ],
      "source": [
        "sudh.openaccount(\"sudhanshu\",\"sudhanshu@gmail.com\")"
      ]
    },
    {
      "cell_type": "code",
      "execution_count": null,
      "id": "18b08e95-8e5b-4f07-8119-8afa48e8e9a1",
      "metadata": {
        "id": "18b08e95-8e5b-4f07-8119-8afa48e8e9a1"
      },
      "outputs": [],
      "source": [
        "def openaccount(name , email_id) :\n",
        "        print(\"open an account by taking name and mail id \")\n",
        "        return name+email_id"
      ]
    },
    {
      "cell_type": "code",
      "execution_count": null,
      "id": "f7a28aa1-0d7c-4e59-aa8a-ba0fce62f4f5",
      "metadata": {
        "id": "f7a28aa1-0d7c-4e59-aa8a-ba0fce62f4f5",
        "outputId": "46619b00-0035-4139-8218-30c79a84d8a2"
      },
      "outputs": [
        {
          "name": "stdout",
          "output_type": "stream",
          "text": [
            "open an account by taking name and mail id \n"
          ]
        },
        {
          "data": {
            "text/plain": [
              "'sudhsudh@gmail.com'"
            ]
          },
          "execution_count": 9,
          "metadata": {},
          "output_type": "execute_result"
        }
      ],
      "source": [
        "openaccount(\"sudh\" ,\"sudh@gmail.com\")"
      ]
    },
    {
      "cell_type": "code",
      "execution_count": null,
      "id": "f90884e6-cbc4-4f25-9f2d-132e25fdc8a1",
      "metadata": {
        "id": "f90884e6-cbc4-4f25-9f2d-132e25fdc8a1",
        "outputId": "afcff7bf-b849-44f7-ab72-2905cd0d2156"
      },
      "outputs": [
        {
          "ename": "NameError",
          "evalue": "name 'deposite' is not defined",
          "output_type": "error",
          "traceback": [
            "\u001b[0;31m---------------------------------------------------------------------------\u001b[0m",
            "\u001b[0;31mNameError\u001b[0m                                 Traceback (most recent call last)",
            "Cell \u001b[0;32mIn[10], line 1\u001b[0m\n\u001b[0;32m----> 1\u001b[0m \u001b[43mdeposite\u001b[49m(\u001b[38;5;241m34345\u001b[39m)\n",
            "\u001b[0;31mNameError\u001b[0m: name 'deposite' is not defined"
          ]
        }
      ],
      "source": [
        "deposite(34345)"
      ]
    },
    {
      "cell_type": "code",
      "execution_count": null,
      "id": "e011e323-a08b-423f-ad32-bf0d6e96fee3",
      "metadata": {
        "id": "e011e323-a08b-423f-ad32-bf0d6e96fee3"
      },
      "outputs": [],
      "source": [
        "class list_ops:\n",
        "    #a= 10\n",
        "    #l = [4,5,7,7,8,9,9]\n",
        "    def __init__(sudh,l):\n",
        "        sudh.l1 = l\n",
        "        sudh.l2 = 40\n",
        "        sudh.l3 = \"sudh\"\n",
        "        sudh.l4 = (4,5,6,6,7,8)\n",
        "        sudh.l5 = {\"key\":\"value\"}\n",
        "\n",
        "    def exractfromindex(sudh, index):\n",
        "        return sudh.l1[index]\n",
        "\n",
        "    def extractrangedata(sudh,l,start,end):\n",
        "        return l[start:end]\n",
        "\n",
        "    def extracteven(sudh,l):\n",
        "        l1= []\n",
        "        for i in l :\n",
        "            if i%2 == 0 :\n",
        "                l1.append(i)\n",
        "        return l1\n",
        ""
      ]
    },
    {
      "cell_type": "code",
      "execution_count": null,
      "id": "7413ac6e-65e1-4ac7-b9b2-b71657f24b9d",
      "metadata": {
        "id": "7413ac6e-65e1-4ac7-b9b2-b71657f24b9d",
        "outputId": "a910105a-49eb-4205-c817-3b08282c7a06"
      },
      "outputs": [
        {
          "data": {
            "text/plain": [
              "7"
            ]
          },
          "execution_count": 96,
          "metadata": {},
          "output_type": "execute_result"
        }
      ],
      "source": [
        "second_obj = list_ops([3,4,5,6,7,8])\n",
        "second_obj.exractfromindex(4)"
      ]
    },
    {
      "cell_type": "code",
      "execution_count": null,
      "id": "d89f52cd-e0a1-417e-a471-4bbdcf53e8d7",
      "metadata": {
        "id": "d89f52cd-e0a1-417e-a471-4bbdcf53e8d7",
        "outputId": "576af526-6c11-4af6-9311-a2f3e54831a2"
      },
      "outputs": [
        {
          "ename": "TypeError",
          "evalue": "list_ops.__init__() missing 1 required positional argument: 'l'",
          "output_type": "error",
          "traceback": [
            "\u001b[0;31m---------------------------------------------------------------------------\u001b[0m",
            "\u001b[0;31mTypeError\u001b[0m                                 Traceback (most recent call last)",
            "Cell \u001b[0;32mIn[94], line 1\u001b[0m\n\u001b[0;32m----> 1\u001b[0m third_obj\u001b[38;5;241m=\u001b[39m \u001b[43mlist_ops\u001b[49m\u001b[43m(\u001b[49m\u001b[43m)\u001b[49m\n",
            "\u001b[0;31mTypeError\u001b[0m: list_ops.__init__() missing 1 required positional argument: 'l'"
          ]
        }
      ],
      "source": [
        "third_obj= list_ops()\n"
      ]
    },
    {
      "cell_type": "code",
      "execution_count": null,
      "id": "f15ba44f-9849-43d3-bb1f-dec3e7ec6f69",
      "metadata": {
        "id": "f15ba44f-9849-43d3-bb1f-dec3e7ec6f69"
      },
      "outputs": [],
      "source": []
    },
    {
      "cell_type": "code",
      "execution_count": null,
      "id": "0bc65b54-babc-490b-b4cb-25d6bbcf56da",
      "metadata": {
        "id": "0bc65b54-babc-490b-b4cb-25d6bbcf56da",
        "outputId": "c9334d06-1fea-4351-f06b-1c4e2c65d34d"
      },
      "outputs": [
        {
          "data": {
            "text/plain": [
              "8"
            ]
          },
          "execution_count": 35,
          "metadata": {},
          "output_type": "execute_result"
        }
      ],
      "source": [
        "first_obj = list_ops()\n",
        "first_obj.exractfromindex(first_obj.l , 4)"
      ]
    },
    {
      "cell_type": "code",
      "execution_count": null,
      "id": "ae00410b-4c6f-4e37-ae09-9ae8b6e1b32e",
      "metadata": {
        "id": "ae00410b-4c6f-4e37-ae09-9ae8b6e1b32e",
        "outputId": "7bf42f9d-c7e3-4bf4-a1b5-7dab3f26e282"
      },
      "outputs": [
        {
          "data": {
            "text/plain": [
              "10"
            ]
          },
          "execution_count": 31,
          "metadata": {},
          "output_type": "execute_result"
        }
      ],
      "source": [
        "first_obj.a"
      ]
    },
    {
      "cell_type": "code",
      "execution_count": null,
      "id": "9a31c615-9be6-4cf5-8d08-b468f40aa5aa",
      "metadata": {
        "id": "9a31c615-9be6-4cf5-8d08-b468f40aa5aa",
        "outputId": "c4d3b582-4b08-469a-ae32-485fd6402c2e"
      },
      "outputs": [
        {
          "data": {
            "text/plain": [
              "[4, 5, 7, 7, 8, 9, 9]"
            ]
          },
          "execution_count": 34,
          "metadata": {},
          "output_type": "execute_result"
        }
      ],
      "source": [
        "first_obj.l"
      ]
    },
    {
      "cell_type": "code",
      "execution_count": null,
      "id": "ac1e7ac6-9462-4469-90dc-9a345a9c7505",
      "metadata": {
        "id": "ac1e7ac6-9462-4469-90dc-9a345a9c7505",
        "outputId": "4e08e9ae-894b-4f67-852e-89103c901a73"
      },
      "outputs": [
        {
          "data": {
            "text/plain": [
              "[2, 34, 5, 6]"
            ]
          },
          "execution_count": 25,
          "metadata": {},
          "output_type": "execute_result"
        }
      ],
      "source": [
        "first_obj.extractrangedata([2,34,5,6,7,8] , 0 , 4)"
      ]
    },
    {
      "cell_type": "code",
      "execution_count": null,
      "id": "87c84f77-56ad-49d0-8892-34ac19f7661d",
      "metadata": {
        "id": "87c84f77-56ad-49d0-8892-34ac19f7661d",
        "outputId": "ee76654a-d194-4a9f-f15e-adaeff5a448e"
      },
      "outputs": [
        {
          "data": {
            "text/plain": [
              "[4, 6, 4, 56]"
            ]
          },
          "execution_count": 26,
          "metadata": {},
          "output_type": "execute_result"
        }
      ],
      "source": [
        "first_obj.extracteven([4,5,6,4,5,56,67,7])"
      ]
    },
    {
      "cell_type": "code",
      "execution_count": null,
      "id": "1db23d4e-e685-4e5d-b5ac-80257cf7cc1c",
      "metadata": {
        "id": "1db23d4e-e685-4e5d-b5ac-80257cf7cc1c"
      },
      "outputs": [],
      "source": []
    },
    {
      "cell_type": "code",
      "execution_count": null,
      "id": "ccbda3de-80ae-44e6-b791-c48d8c6f5ce2",
      "metadata": {
        "id": "ccbda3de-80ae-44e6-b791-c48d8c6f5ce2",
        "outputId": "4a3964a4-f6ee-4852-bf58-9bcd250838ec"
      },
      "outputs": [
        {
          "data": {
            "text/plain": [
              "7"
            ]
          },
          "execution_count": 18,
          "metadata": {},
          "output_type": "execute_result"
        }
      ],
      "source": [
        "l = [4,5,6,7,7]\n",
        "l[3]"
      ]
    },
    {
      "cell_type": "code",
      "execution_count": null,
      "id": "c3fb70fa-76b9-4237-a24e-34a5b7aef7f6",
      "metadata": {
        "id": "c3fb70fa-76b9-4237-a24e-34a5b7aef7f6"
      },
      "outputs": [],
      "source": [
        "class book:\n",
        "\n",
        "    def __init__(self, name , title,pageno) :\n",
        "        self.name_of_book = name\n",
        "        self.title_of_book = title\n",
        "        self.page_no = pageno\n",
        "\n",
        "    def extract_details(self ):\n",
        "        print(self.name_of_book , self.title_of_book)\n",
        "\n",
        "    def print_page_no(self):\n",
        "        print(self.page_no)"
      ]
    },
    {
      "cell_type": "code",
      "execution_count": null,
      "id": "88efd2c3-89a5-4241-bb97-f31fdbcab08f",
      "metadata": {
        "id": "88efd2c3-89a5-4241-bb97-f31fdbcab08f",
        "outputId": "dc690e54-cad9-4baa-d403-838da5bb49a2"
      },
      "outputs": [
        {
          "data": {
            "text/plain": [
              "'dsa'"
            ]
          },
          "execution_count": 61,
          "metadata": {},
          "output_type": "execute_result"
        }
      ],
      "source": [
        "sudhanshu.name_of_book"
      ]
    },
    {
      "cell_type": "code",
      "execution_count": null,
      "id": "ef7d0e1d-4f36-4ac1-a1dd-2d2475391e40",
      "metadata": {
        "id": "ef7d0e1d-4f36-4ac1-a1dd-2d2475391e40"
      },
      "outputs": [],
      "source": []
    },
    {
      "cell_type": "code",
      "execution_count": null,
      "id": "8487658d-14e5-4f16-be3e-cb2fa3682488",
      "metadata": {
        "id": "8487658d-14e5-4f16-be3e-cb2fa3682488"
      },
      "outputs": [],
      "source": [
        "sudhanshu = book('dsa' , 'practical dsa',456)\n",
        "ronik = book('data science', 'emplementation of data science ' , 345)\n",
        "wasim = book('big data' , 'invention with big data' , 434)"
      ]
    },
    {
      "cell_type": "code",
      "execution_count": null,
      "id": "42e9a9eb-4660-43bb-b77d-4bb4509b20f7",
      "metadata": {
        "id": "42e9a9eb-4660-43bb-b77d-4bb4509b20f7",
        "outputId": "043bf0b4-3847-4ee7-8936-14e21c6b41e4"
      },
      "outputs": [
        {
          "name": "stdout",
          "output_type": "stream",
          "text": [
            "dsa practical dsa\n"
          ]
        }
      ],
      "source": [
        "sudhanshu.extract_details()"
      ]
    },
    {
      "cell_type": "code",
      "execution_count": null,
      "id": "59027650-cfcb-4081-9bf5-6a5616c8d9d3",
      "metadata": {
        "id": "59027650-cfcb-4081-9bf5-6a5616c8d9d3",
        "outputId": "a40ffb0e-9ec4-430c-8d4d-db4de939e6bc"
      },
      "outputs": [
        {
          "name": "stdout",
          "output_type": "stream",
          "text": [
            "data science emplementation of data science \n"
          ]
        }
      ],
      "source": [
        "ronik.extract_details()"
      ]
    },
    {
      "cell_type": "code",
      "execution_count": null,
      "id": "e5fd20d8-7c56-4477-b64a-9d1bf59d3500",
      "metadata": {
        "id": "e5fd20d8-7c56-4477-b64a-9d1bf59d3500",
        "outputId": "51702144-b5b9-439a-839f-74026f8974db"
      },
      "outputs": [
        {
          "name": "stdout",
          "output_type": "stream",
          "text": [
            "big data invention with big data\n"
          ]
        }
      ],
      "source": [
        "wasim.extract_details()"
      ]
    },
    {
      "cell_type": "code",
      "execution_count": null,
      "id": "286b5b95-75ad-4c70-8e93-db6ba5c9f14a",
      "metadata": {
        "id": "286b5b95-75ad-4c70-8e93-db6ba5c9f14a"
      },
      "outputs": [],
      "source": [
        "a = 10\n",
        "b= 60\n",
        "c= 40"
      ]
    },
    {
      "cell_type": "code",
      "execution_count": null,
      "id": "2e3e2862-5828-493b-9d24-0a285881eb3f",
      "metadata": {
        "id": "2e3e2862-5828-493b-9d24-0a285881eb3f"
      },
      "outputs": [],
      "source": [
        "class book:\n",
        "\n",
        "    def __init__(self) :\n",
        "        self.name_of_book = \"dsa\"\n",
        "        self.title_of_book = 'dsa advance'\n",
        "        self.page_no = 5646\n",
        "\n",
        "    def extract_details(self ):\n",
        "        print(self.name_of_book , self.title_of_book)\n",
        "\n",
        "    def print_page_no(self):\n",
        "        print(self.page_no)"
      ]
    },
    {
      "cell_type": "code",
      "execution_count": null,
      "id": "e4d4eb5f-7787-4bfa-9ec1-4565c914bb1c",
      "metadata": {
        "id": "e4d4eb5f-7787-4bfa-9ec1-4565c914bb1c"
      },
      "outputs": [],
      "source": [
        "student1 = book()"
      ]
    },
    {
      "cell_type": "code",
      "execution_count": null,
      "id": "605089e6-bfb5-4de0-8f5a-9a2c32e00a07",
      "metadata": {
        "id": "605089e6-bfb5-4de0-8f5a-9a2c32e00a07",
        "outputId": "cf81a1d2-4858-4e4f-f4ff-2e06295ecb36"
      },
      "outputs": [
        {
          "data": {
            "text/plain": [
              "'dsa'"
            ]
          },
          "execution_count": 64,
          "metadata": {},
          "output_type": "execute_result"
        }
      ],
      "source": [
        "student1.name_of_book"
      ]
    },
    {
      "cell_type": "code",
      "execution_count": null,
      "id": "06ff3650-29ee-48ec-b468-07e6f0d19ca6",
      "metadata": {
        "id": "06ff3650-29ee-48ec-b468-07e6f0d19ca6",
        "outputId": "ff2ef19b-1d2e-4bbb-9a4a-9d59f9d86996"
      },
      "outputs": [
        {
          "data": {
            "text/plain": [
              "'dsa'"
            ]
          },
          "execution_count": 65,
          "metadata": {},
          "output_type": "execute_result"
        }
      ],
      "source": [
        "stud2 = book()\n",
        "stud2.name_of_book"
      ]
    },
    {
      "cell_type": "code",
      "execution_count": null,
      "id": "23cb9077-976f-4a79-94f3-9ff2338c5d59",
      "metadata": {
        "id": "23cb9077-976f-4a79-94f3-9ff2338c5d59"
      },
      "outputs": [],
      "source": [
        "class gmail_ops:\n",
        "    def __init__(self,userid,password):\n",
        "        self.userid = userid\n",
        "        self.passwod = password\n",
        "        self.url = \"https://mail.google.com/mail/u/1/#inbox\"\n",
        "\n",
        "    def login(self) :\n",
        "        print(\"take userid\" + self.userid + \"take password\" + self.passwod + \"hit url\" + self.url)\n",
        "        print(\"login\")\n",
        "\n",
        "    def read_mail(self):\n",
        "        print(\"read mail for\" + self.userid + \"  \" + self.passwod)\n",
        "\n",
        "    def reply_mail(self) :\n",
        "        print(\"reply  mail for\" + self.userid + \"  \" + self.passwod)"
      ]
    },
    {
      "cell_type": "code",
      "execution_count": null,
      "id": "0d3221cf-0599-4bc0-afba-426432cf6c23",
      "metadata": {
        "id": "0d3221cf-0599-4bc0-afba-426432cf6c23",
        "outputId": "1024d71c-17eb-479e-bd50-80b287b63d28"
      },
      "outputs": [
        {
          "name": "stdout",
          "output_type": "stream",
          "text": [
            "take useriduser1take passworduser1passhit urlhttps://mail.google.com/mail/u/1/#inbox\n",
            "login\n"
          ]
        }
      ],
      "source": [
        "user1 = gmail_ops(\"user1\" , \"user1pass\")\n",
        "user1.login()"
      ]
    },
    {
      "cell_type": "code",
      "execution_count": null,
      "id": "b8b62340-f7a1-4c34-b72c-fd1e48da0d8e",
      "metadata": {
        "id": "b8b62340-f7a1-4c34-b72c-fd1e48da0d8e",
        "outputId": "b493b794-4e7e-4ab6-b866-30c885980b23"
      },
      "outputs": [
        {
          "name": "stdout",
          "output_type": "stream",
          "text": [
            "take useriduser2take passworduser2passhit urlhttps://mail.google.com/mail/u/1/#inbox\n",
            "login\n"
          ]
        }
      ],
      "source": [
        "user2 = gmail_ops(\"user2\" , \"user2pass\")\n",
        "user2.login()"
      ]
    },
    {
      "cell_type": "code",
      "execution_count": null,
      "id": "b003326a-3e0d-437e-be1a-0b1d6e4d7bcb",
      "metadata": {
        "id": "b003326a-3e0d-437e-be1a-0b1d6e4d7bcb"
      },
      "outputs": [],
      "source": [
        "from functools import reduce\n",
        "class calculator :\n",
        "\n",
        "    def __init__(self,username):\n",
        "        self.username= username\n",
        "\n",
        "    def add(self, *args):\n",
        "        return self.username , sum(args)\n",
        "\n",
        "    def subtraction(self, *args):\n",
        "        return self.username , reduce(lambda a,b : a-b , args)\n",
        "\n",
        "    def mul(self, *args):\n",
        "        return self.username , reduce(lambda a,b : a*b , args)\n",
        "\n",
        "    def div(self , * args):\n",
        "         return self.username , reduce(lambda a,b : a/b , args)\n",
        "\n",
        "\n",
        ""
      ]
    },
    {
      "cell_type": "code",
      "execution_count": null,
      "id": "2c8d7364-69cc-46ef-a6bf-433a19d5c8e5",
      "metadata": {
        "id": "2c8d7364-69cc-46ef-a6bf-433a19d5c8e5"
      },
      "outputs": [],
      "source": [
        "himanshu = calculator(\"chulbul pandey\")"
      ]
    },
    {
      "cell_type": "code",
      "execution_count": null,
      "id": "998875d3-9754-425a-8365-c80a51c93d74",
      "metadata": {
        "id": "998875d3-9754-425a-8365-c80a51c93d74",
        "outputId": "76986a4c-54e1-4ed4-ae41-acaa45adb360"
      },
      "outputs": [
        {
          "data": {
            "text/plain": [
              "('chulbul pandey', 31)"
            ]
          },
          "execution_count": 89,
          "metadata": {},
          "output_type": "execute_result"
        }
      ],
      "source": [
        "himanshu.add(3,4,5,4,7,8)"
      ]
    },
    {
      "cell_type": "code",
      "execution_count": null,
      "id": "14c7a3fc-2add-4d34-ba43-5edf4ceae04b",
      "metadata": {
        "id": "14c7a3fc-2add-4d34-ba43-5edf4ceae04b",
        "outputId": "bb45d5fb-2ca3-4a65-81b7-e86b649740ba"
      },
      "outputs": [
        {
          "data": {
            "text/plain": [
              "('chulbul pandey', 120)"
            ]
          },
          "execution_count": 85,
          "metadata": {},
          "output_type": "execute_result"
        }
      ],
      "source": [
        "himanshu.mul(4,5,6)"
      ]
    },
    {
      "cell_type": "code",
      "execution_count": null,
      "id": "046774d0-7c12-419f-96db-a8ce7d2d4a2d",
      "metadata": {
        "id": "046774d0-7c12-419f-96db-a8ce7d2d4a2d",
        "outputId": "653dd6d9-47cb-40be-af74-b873e5f02314"
      },
      "outputs": [
        {
          "data": {
            "text/plain": [
              "('chulbul pandey', -12)"
            ]
          },
          "execution_count": 86,
          "metadata": {},
          "output_type": "execute_result"
        }
      ],
      "source": [
        "himanshu.subtraction(3,4,5,6)"
      ]
    },
    {
      "cell_type": "code",
      "execution_count": null,
      "id": "9e9f70aa-f38c-4843-875b-08b54dc1e697",
      "metadata": {
        "id": "9e9f70aa-f38c-4843-875b-08b54dc1e697",
        "outputId": "7324e12b-5198-4b29-ed04-dd164e6e8f89"
      },
      "outputs": [
        {
          "data": {
            "text/plain": [
              "('chulbul pandey', 0.020833333333333332)"
            ]
          },
          "execution_count": 87,
          "metadata": {},
          "output_type": "execute_result"
        }
      ],
      "source": [
        "himanshu.div(3,4,6,6)"
      ]
    },
    {
      "cell_type": "code",
      "execution_count": null,
      "id": "3e2907fc-e1a5-40ec-8bb0-6b3c5954d904",
      "metadata": {
        "id": "3e2907fc-e1a5-40ec-8bb0-6b3c5954d904"
      },
      "outputs": [],
      "source": [
        "karan = calculator()"
      ]
    },
    {
      "cell_type": "code",
      "execution_count": null,
      "id": "4a11950a-4b0b-4dfc-9615-cabd86f5886a",
      "metadata": {
        "id": "4a11950a-4b0b-4dfc-9615-cabd86f5886a",
        "outputId": "0e9a6a65-81e0-4f11-908a-418512d79277"
      },
      "outputs": [
        {
          "data": {
            "text/plain": [
              "17"
            ]
          },
          "execution_count": 79,
          "metadata": {},
          "output_type": "execute_result"
        }
      ],
      "source": [
        "karan.add(3,4,5,5)"
      ]
    },
    {
      "cell_type": "code",
      "execution_count": null,
      "id": "4670da8b-2e26-4af1-846c-cd947d0dae75",
      "metadata": {
        "id": "4670da8b-2e26-4af1-846c-cd947d0dae75",
        "outputId": "f5036506-b0bb-4376-9084-e7a995f70490"
      },
      "outputs": [
        {
          "name": "stdin",
          "output_type": "stream",
          "text": [
            "Enter your age -3453\n"
          ]
        },
        {
          "name": "stdout",
          "output_type": "stream",
          "text": [
            "user has entered the neagtive age which is not valid\n",
            "something\n"
          ]
        }
      ],
      "source": [
        "try:\n",
        "    age = int(input(\"Enter your age\"))\n",
        "    if age < 0:\n",
        "        raise ValueError(\"user has entered the neagtive age which is not valid\")\n",
        "    elif age < 18:\n",
        "        raise ValueError(\"User is underage\")\n",
        "    else:\n",
        "        print(\"Valid user\")\n",
        "except ValueError as e :\n",
        "    print(e)\n",
        "    print(\"something\")\n"
      ]
    },
    {
      "cell_type": "code",
      "execution_count": null,
      "id": "63e97ce3-f61c-4cbf-b970-57657aa47039",
      "metadata": {
        "id": "63e97ce3-f61c-4cbf-b970-57657aa47039"
      },
      "outputs": [],
      "source": []
    }
  ],
  "metadata": {
    "kernelspec": {
      "display_name": "Python 3 (ipykernel)",
      "language": "python",
      "name": "python3"
    },
    "language_info": {
      "codemirror_mode": {
        "name": "ipython",
        "version": 3
      },
      "file_extension": ".py",
      "mimetype": "text/x-python",
      "name": "python",
      "nbconvert_exporter": "python",
      "pygments_lexer": "ipython3",
      "version": "3.10.8"
    },
    "colab": {
      "provenance": [],
      "include_colab_link": true
    }
  },
  "nbformat": 4,
  "nbformat_minor": 5
}