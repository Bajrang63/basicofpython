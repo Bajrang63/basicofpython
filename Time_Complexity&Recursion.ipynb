{
  "nbformat": 4,
  "nbformat_minor": 0,
  "metadata": {
    "colab": {
      "provenance": []
    },
    "kernelspec": {
      "name": "python3",
      "display_name": "Python 3"
    },
    "language_info": {
      "name": "python"
    }
  },
  "cells": [
    {
      "cell_type": "code",
      "execution_count": null,
      "metadata": {
        "id": "OtGyyxdHWxLR"
      },
      "outputs": [],
      "source": [
        "def quicksort(arr):\n",
        "    if len(arr) <= 1:\n",
        "        return arr\n",
        "    pivot = arr[len(arr) // 2]\n",
        "    left = [x for x in arr if x < pivot]\n",
        "    middle = [x for x in arr if x == pivot]\n",
        "    right = [x for x in arr if x > pivot]\n",
        "    return quicksort(left) + middle + quicksort(right)"
      ]
    },
    {
      "cell_type": "markdown",
      "source": [
        "Best Case: (O(n \\log n)): Occurs when the pivot divides the array into two nearly equal halves at every step.\n",
        "\n",
        "Worst Case: (O(n^2)): Happens when the pivot creates very unbalanced splits, like when the array is already sorted.\n",
        "\n",
        "Average Case: (O(n \\log n)): On average, reasonably balanced partitions lead to logarithmic recursion depth and linear work per level."
      ],
      "metadata": {
        "id": "mCJ6IyofX0ul"
      }
    },
    {
      "cell_type": "markdown",
      "source": [],
      "metadata": {
        "id": "LYwewErNX0tL"
      }
    },
    {
      "cell_type": "code",
      "source": [
        "def nested_loop_example(matrix):\n",
        "    rows, cols = len(matrix), len(matrix[0])\n",
        "    total = 0\n",
        "    for i in range(rows):\n",
        "        for j in range(cols):\n",
        "            total += matrix[i][j]\n",
        "    return total"
      ],
      "metadata": {
        "id": "sZPcMBkgWx9G"
      },
      "execution_count": 1,
      "outputs": []
    },
    {
      "cell_type": "markdown",
      "source": [
        "Time Complexity: (O(rows \\times cols)): The nested loops iterate over every element in the matrix exactly once."
      ],
      "metadata": {
        "id": "r7x9aXbcYRX1"
      }
    },
    {
      "cell_type": "code",
      "source": [
        "def example_function(arr):\n",
        "    result = 0\n",
        "    for element in arr:\n",
        "        result += element\n",
        "    return result"
      ],
      "metadata": {
        "id": "diW5ck0nWx47"
      },
      "execution_count": null,
      "outputs": []
    },
    {
      "cell_type": "markdown",
      "source": [
        "Time Complexity: (O(n)): The loop runs once for each element in the array."
      ],
      "metadata": {
        "id": "Rk2W3VP9YYwV"
      }
    },
    {
      "cell_type": "code",
      "source": [
        "def longest_increasing_subsequence(nums):\n",
        "    n = len(nums)\n",
        "    lis = [1] * n\n",
        "    for i in range(1, n):\n",
        "        for j in range(0, i):\n",
        "            if nums[i] > nums[j] and lis[i] < lis[j] + 1:\n",
        "                lis[i] = lis[j] + 1\n",
        "    return max(lis)"
      ],
      "metadata": {
        "id": "5Sm-39pcWx0w"
      },
      "execution_count": 2,
      "outputs": []
    },
    {
      "cell_type": "markdown",
      "source": [
        "Time Complexity: (O(n2/2)).\n",
        "because there are two nested loop the outer and inner loop runs up to time"
      ],
      "metadata": {
        "id": "-yUJR7V9YeYg"
      }
    },
    {
      "cell_type": "code",
      "source": [
        "def mysterious_function(arr):\n",
        "    n = len(arr)\n",
        "    result = 0\n",
        "    for i in range(n):\n",
        "        for j in range(i, n):\n",
        "            result += arr[i] * arr[j]\n",
        "    return result"
      ],
      "metadata": {
        "id": "NN_l1fRRWxx9"
      },
      "execution_count": null,
      "outputs": []
    },
    {
      "cell_type": "markdown",
      "source": [
        "Time Complexity: (O(n2)).\n",
        "the outer loop runs (n) times and for each iteration ,the inner loop runs up to (n-1) times this forms a triangles patterns of iterations summingup up to which is (O ( n2))"
      ],
      "metadata": {
        "id": "mhMePzJWY-aB"
      }
    },
    {
      "cell_type": "code",
      "source": [
        "# Sum of digit\n",
        "\n",
        "def sum_of_digits(n):\n",
        "    if n == 0:\n",
        "        return 0\n",
        "    return n % 10 + sum_of_digits(n // 10)\n",
        "\n",
        "\n",
        "print(sum_of_digits(123))"
      ],
      "metadata": {
        "colab": {
          "base_uri": "https://localhost:8080/"
        },
        "id": "VfIx8kE4ZiWq",
        "outputId": "ab5e1e3e-48e6-46ab-c66c-71c8e1577c55"
      },
      "execution_count": 8,
      "outputs": [
        {
          "output_type": "stream",
          "name": "stdout",
          "text": [
            "6\n"
          ]
        }
      ]
    },
    {
      "cell_type": "code",
      "source": [
        "# Fibonacci series\n",
        "\n",
        "def fibonacci_series(n, a=0, b=1, sequence=[]):\n",
        "    if n == 0:\n",
        "        return sequence\n",
        "    return fibonacci_series(n - 1, b, a + b, sequence + [a])\n",
        "\n",
        "print(fibonacci_series(6))"
      ],
      "metadata": {
        "colab": {
          "base_uri": "https://localhost:8080/"
        },
        "id": "8AH9C-wHZ_Qw",
        "outputId": "7af0a492-60bb-4b99-e4e8-6a4786b56991"
      },
      "execution_count": 9,
      "outputs": [
        {
          "output_type": "stream",
          "name": "stdout",
          "text": [
            "[0, 1, 1, 2, 3, 5]\n"
          ]
        }
      ]
    },
    {
      "cell_type": "code",
      "source": [
        "#Subset sum\n",
        "\n",
        "def subset_sum(arr, target):\n",
        "    if target == 0:\n",
        "        return True\n",
        "    if not arr:\n",
        "        return False\n",
        "    return subset_sum(arr[1:], target) or subset_sum(arr[1:], target - arr[0])\n",
        "\n",
        "\n",
        "print(subset_sum([3, 34, 4, 12, 5, 2], 9))"
      ],
      "metadata": {
        "colab": {
          "base_uri": "https://localhost:8080/"
        },
        "id": "hcDdR7MvaCSR",
        "outputId": "eb175339-367f-4539-eeef-719237f8a65d"
      },
      "execution_count": 10,
      "outputs": [
        {
          "output_type": "stream",
          "name": "stdout",
          "text": [
            "True\n"
          ]
        }
      ]
    },
    {
      "cell_type": "code",
      "source": [
        "#Word break\n",
        "\n",
        "def word_break(s, word_dict):\n",
        "    if not s:\n",
        "        return True\n",
        "    for word in word_dict:\n",
        "        if s.startswith(word) and word_break(s[len(word):], word_dict):\n",
        "            return True\n",
        "    return False\n",
        "\n",
        "print(word_break(\"leetcode\", [\"leet\", \"code\"]))"
      ],
      "metadata": {
        "colab": {
          "base_uri": "https://localhost:8080/"
        },
        "id": "GTYQCn44aBrp",
        "outputId": "3001d723-414b-4684-c3ce-9484d62a40ce"
      },
      "execution_count": 11,
      "outputs": [
        {
          "output_type": "stream",
          "name": "stdout",
          "text": [
            "True\n"
          ]
        }
      ]
    },
    {
      "cell_type": "code",
      "source": [
        "# N - Queens\n",
        "\n",
        "def n_queens(n, row=0, cols=[], results=[]):\n",
        "    if row == n:\n",
        "        results.append(cols[:])\n",
        "        return results\n",
        "    for col in range(n):\n",
        "        if all(abs(row - r) != abs(col - c) and col != c for r, c in enumerate(cols)):\n",
        "            cols.append(col)\n",
        "            n_queens(n, row + 1, cols, results)\n",
        "            cols.pop()\n",
        "    return results\n",
        "\n",
        "\n",
        "print(n_queens(4))\n"
      ],
      "metadata": {
        "colab": {
          "base_uri": "https://localhost:8080/"
        },
        "id": "8Awe3LZRaG-l",
        "outputId": "9ec9fa79-4e49-45d8-d039-ecfe974d647d"
      },
      "execution_count": 12,
      "outputs": [
        {
          "output_type": "stream",
          "name": "stdout",
          "text": [
            "[[1, 3, 0, 2], [2, 0, 3, 1]]\n"
          ]
        }
      ]
    },
    {
      "cell_type": "markdown",
      "source": [
        "Explanation: Use backtracking to place queens on the board, ensuring that no two queens threaten each other."
      ],
      "metadata": {
        "id": "PcJGNFoVapjF"
      }
    },
    {
      "cell_type": "code",
      "source": [],
      "metadata": {
        "id": "9b3eFSBtaJFF"
      },
      "execution_count": 12,
      "outputs": []
    }
  ]
}