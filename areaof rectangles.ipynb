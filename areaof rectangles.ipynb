{
 "cells": [
  {
   "cell_type": "code",
   "execution_count": 1,
   "id": "cf6cb8c6-19bf-45e3-ac10-d7f1e25849fa",
   "metadata": {},
   "outputs": [
    {
     "name": "stdin",
     "output_type": "stream",
     "text": [
      "enter the value of length 45\n"
     ]
    }
   ],
   "source": [
    "#taking the input from the user as a length\n",
    "l=int(input(\"enter the value of length\"))  "
   ]
  },
  {
   "cell_type": "code",
   "execution_count": null,
   "id": "418b07c5-11e2-459f-99ff-2e57e67833a2",
   "metadata": {},
   "outputs": [],
   "source": [
    "#taking the input from the user as a breadth\n",
    "b=int(input(\"enter the value of breadth \"))"
   ]
  },
  {
   "cell_type": "code",
   "execution_count": 5,
   "id": "e444eee3-e8c2-4c67-83cc-f328f0f16098",
   "metadata": {},
   "outputs": [],
   "source": [
    "# formula of area of rectangle len*bre\n",
    "area=l*b"
   ]
  },
  {
   "cell_type": "code",
   "execution_count": 6,
   "id": "171be3a5-d50e-466d-8d38-eca610e4301c",
   "metadata": {},
   "outputs": [
    {
     "data": {
      "text/plain": [
       "540"
      ]
     },
     "execution_count": 6,
     "metadata": {},
     "output_type": "execute_result"
    }
   ],
   "source": [
    "area"
   ]
  },
  {
   "cell_type": "code",
   "execution_count": null,
   "id": "5a2e042a-8763-4d1f-8693-eb4b7d721c7e",
   "metadata": {},
   "outputs": [],
   "source": []
  }
 ],
 "metadata": {
  "kernelspec": {
   "display_name": "Python 3 (ipykernel)",
   "language": "python",
   "name": "python3"
  },
  "language_info": {
   "codemirror_mode": {
    "name": "ipython",
    "version": 3
   },
   "file_extension": ".py",
   "mimetype": "text/x-python",
   "name": "python",
   "nbconvert_exporter": "python",
   "pygments_lexer": "ipython3",
   "version": "3.10.8"
  }
 },
 "nbformat": 4,
 "nbformat_minor": 5
}
