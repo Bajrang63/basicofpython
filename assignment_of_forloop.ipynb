{
 "cells": [
  {
   "cell_type": "code",
   "execution_count": 2,
   "id": "992fbcf0-a0b6-43d6-a4b2-11d8a63af55b",
   "metadata": {},
   "outputs": [
    {
     "name": "stdout",
     "output_type": "stream",
     "text": [
      "1\n",
      "2\n",
      "3\n",
      "4\n",
      "5\n",
      "6\n",
      "7\n",
      "8\n",
      "9\n",
      "10\n"
     ]
    }
   ],
   "source": [
    "###___Basic Level:\n",
    "\n",
    "##1. Write a Python program to print the numbers from 1 to 10 using a `for` loop\n",
    "\n",
    "for i in range(1,11):\n",
    "    print(i)"
   ]
  },
  {
   "cell_type": "code",
   "execution_count": 6,
   "id": "e54216b6-f70b-441c-8795-bff90f0553b0",
   "metadata": {},
   "outputs": [
    {
     "name": "stdout",
     "output_type": "stream",
     "text": [
      "The sum of all numbers in the list is: 1\n",
      "The sum of all numbers in the list is: 3\n",
      "The sum of all numbers in the list is: 6\n",
      "The sum of all numbers in the list is: 10\n",
      "The sum of all numbers in the list is: 15\n",
      "The sum of all numbers in the list is: 21\n",
      "The sum of all numbers in the list is: 28\n",
      "The sum of all numbers in the list is: 36\n"
     ]
    }
   ],
   "source": [
    "##2. Create a program that calculates the sum of all numbers in a list using a `for` loop.\n",
    "\n",
    "l1=[1,2,3,4,5,6,7,8]\n",
    "total=0\n",
    "for i in l1:\n",
    "    total+=i\n",
    "    print(\"The sum of all numbers in the list is:\",total)"
   ]
  },
  {
   "cell_type": "code",
   "execution_count": 12,
   "id": "81be9f02-1008-4d19-ba79-cc157123ccb9",
   "metadata": {},
   "outputs": [
    {
     "name": "stdout",
     "output_type": "stream",
     "text": [
      "g\n",
      "n\n",
      "a\n",
      "r\n",
      "j\n",
      "a\n",
      "b\n"
     ]
    }
   ],
   "source": [
    "##3. Write a program to print the characters of a string in reverse order using a `for` loop\n",
    "\n",
    "string=\"bajrang\"\n",
    "for s in string[::-1]:\n",
    "    print(s)"
   ]
  },
  {
   "cell_type": "code",
   "execution_count": 24,
   "id": "d413085b-cda4-42f3-90c3-be926a5b345b",
   "metadata": {},
   "outputs": [],
   "source": [
    "##4. Develop a program that finds the factorial of a given number using a `for` loop.\n",
    "def fact_num(n):\n",
    "    fact=1\n",
    "    for num in range(1,n+1):\n",
    "        fact*=num\n",
    "    return(fact)"
   ]
  },
  {
   "cell_type": "code",
   "execution_count": 26,
   "id": "73dbef9e-0374-4349-b35e-4495a5523b35",
   "metadata": {},
   "outputs": [
    {
     "data": {
      "text/plain": [
       "120"
      ]
     },
     "execution_count": 26,
     "metadata": {},
     "output_type": "execute_result"
    }
   ],
   "source": [
    "fact_num(5)"
   ]
  },
  {
   "cell_type": "code",
   "execution_count": 30,
   "id": "bb5a8708-9075-41b1-9910-327911f9d6ae",
   "metadata": {},
   "outputs": [
    {
     "name": "stdout",
     "output_type": "stream",
     "text": [
      "3\n",
      "6\n",
      "9\n",
      "12\n",
      "15\n",
      "18\n",
      "21\n",
      "24\n",
      "27\n",
      "30\n"
     ]
    }
   ],
   "source": [
    "##5. Create a program to print the multiplication table of a given number using a `for` loop.\n",
    "\n",
    "for i in range(1,11):\n",
    "    print(i*3)"
   ]
  },
  {
   "cell_type": "code",
   "execution_count": 1,
   "id": "82f38500-0d47-4a0f-b5a1-a5f9701d8148",
   "metadata": {},
   "outputs": [
    {
     "name": "stdout",
     "output_type": "stream",
     "text": [
      "Even count: 0\n",
      "Odd count: 1\n",
      "Even count: 1\n",
      "Odd count: 1\n",
      "Even count: 1\n",
      "Odd count: 2\n",
      "Even count: 2\n",
      "Odd count: 2\n",
      "Even count: 2\n",
      "Odd count: 3\n",
      "Even count: 3\n",
      "Odd count: 3\n",
      "Even count: 3\n",
      "Odd count: 4\n",
      "Even count: 4\n",
      "Odd count: 4\n",
      "Even count: 4\n",
      "Odd count: 5\n",
      "Even count: 5\n",
      "Odd count: 5\n"
     ]
    }
   ],
   "source": [
    "##6. Write a program that counts the number of even and odd numbers in a list using a `for` loop.\n",
    "\n",
    "l2=[1,2,3,4,5,6,7,8,9,10]\n",
    "even_count=0\n",
    "odd_count=0\n",
    "for i in l2:\n",
    "    if i%2==0:\n",
    "        even_count+=1\n",
    "    else:\n",
    "        odd_count+=1\n",
    "    print(\"Even count:\", even_count)\n",
    "    print(\"Odd count:\", odd_count)\n"
   ]
  },
  {
   "cell_type": "code",
   "execution_count": 4,
   "id": "f7ab5211-2f96-4741-b68d-021b8c154a77",
   "metadata": {},
   "outputs": [
    {
     "name": "stdout",
     "output_type": "stream",
     "text": [
      "Even count: 4\n",
      "Odd count: 5\n"
     ]
    }
   ],
   "source": [
    "##6. Write a program that counts the number of even and odd numbers in a list using a `for` loop.\n",
    "\n",
    "l2=[1,2,3,4,5,6,7,8,9]\n",
    "even_count=0\n",
    "odd_count=0\n",
    "for i in l2:\n",
    "    if i%2==0:\n",
    "        even_count+=1\n",
    "        \n",
    "    else:\n",
    "        odd_count+=1\n",
    "        \n",
    "print(\"Even count:\", even_count)\n",
    "print(\"Odd count:\", odd_count)\n"
   ]
  },
  {
   "cell_type": "code",
   "execution_count": 5,
   "id": "e6f48a73-091e-4f8f-bd80-2034e0cbd8c6",
   "metadata": {},
   "outputs": [
    {
     "name": "stdout",
     "output_type": "stream",
     "text": [
      "1\n",
      "4\n",
      "9\n",
      "16\n",
      "25\n"
     ]
    }
   ],
   "source": [
    "##7. Develop a program that prints the squares of numbers from 1 to 5 using a `for` loop.\n",
    "\n",
    "for i in range(1,6):\n",
    "    print(i*i)"
   ]
  },
  {
   "cell_type": "code",
   "execution_count": 3,
   "id": "324abc7d-7ee0-4417-8062-78bf7043ee20",
   "metadata": {},
   "outputs": [
    {
     "name": "stdout",
     "output_type": "stream",
     "text": [
      "1\n",
      "2\n",
      "3\n",
      "4\n",
      "5\n",
      "6\n",
      "7\n",
      "8\n",
      "9\n",
      "10\n",
      "11\n",
      "12\n",
      "13\n"
     ]
    }
   ],
   "source": [
    "##8. Create a program to find the length of a string without using the `len()` function.\n",
    "\n",
    "string=\"bajrangdahale\"\n",
    "count=0\n",
    "for i in string:\n",
    "    count+=1\n",
    "    print(count)\n",
    "    \n",
    "####______solve it later\n"
   ]
  },
  {
   "cell_type": "code",
   "execution_count": 20,
   "id": "cdb155e9-a984-488b-b343-9f233a6a9104",
   "metadata": {},
   "outputs": [
    {
     "name": "stdout",
     "output_type": "stream",
     "text": [
      "38.0\n"
     ]
    }
   ],
   "source": [
    "##9. Write a program that calculates the average of a list of numbers using a `for` loop\n",
    "\n",
    "list1=[15, 9, 55, 62, 49]\n",
    "total = 0 \n",
    "count = 0\n",
    "for number in list1:\n",
    "        total += number\n",
    "        count += 1\n",
    "average = total / count\n",
    "print(average)"
   ]
  },
  {
   "cell_type": "code",
   "execution_count": 21,
   "id": "f8a28e95-f5eb-41f9-9d77-093eadd83669",
   "metadata": {},
   "outputs": [
    {
     "name": "stdin",
     "output_type": "stream",
     "text": [
      "Enter the number of Fibonacci numbers to print:  2\n"
     ]
    },
    {
     "name": "stdout",
     "output_type": "stream",
     "text": [
      "0 1 "
     ]
    }
   ],
   "source": [
    "##10. Develop a program that prints the first `n` Fibonacci numbers using a `for` loop.\n",
    "\n",
    "n = int(input(\"Enter the number of Fibonacci numbers to print: \"))\n",
    "num1 = 0\n",
    "num2 = 1\n",
    "print(num1, end=\" \")\n",
    "print(num2, end=\" \")\n",
    "\n",
    "for i in range(n-2):\n",
    "    next_num = num1 + num2\n",
    "    print(next_num, end=\" \")\n",
    "    num1 = num2\n",
    "    num2 = next_num\n"
   ]
  },
  {
   "cell_type": "code",
   "execution_count": 1,
   "id": "aa6f2af8-c1b4-4058-b959-d02407f8e108",
   "metadata": {},
   "outputs": [],
   "source": [
    "###_________Intermediate Level:\n",
    "\n",
    " \n",
    "\n",
    "### 11. Write a program to check if a given list contains any duplicates using a `for` loop\n",
    "\n",
    "def has_duplicates(lst):\n",
    "    for i in range(len(lst)):\n",
    "        for j in range(i + 1, len(lst)):\n",
    "            if lst[i] == lst[j]:\n",
    "                return True\n",
    "    return False\n"
   ]
  },
  {
   "cell_type": "code",
   "execution_count": 3,
   "id": "6b52eddb-88f4-49c3-b19c-4a7f9db0179f",
   "metadata": {},
   "outputs": [
    {
     "data": {
      "text/plain": [
       "True"
      ]
     },
     "execution_count": 3,
     "metadata": {},
     "output_type": "execute_result"
    }
   ],
   "source": [
    "has_duplicates(\"pawan\")"
   ]
  },
  {
   "cell_type": "code",
   "execution_count": 4,
   "id": "90874a82-9555-4138-8134-79a26d502e2f",
   "metadata": {
    "jupyter": {
     "source_hidden": true
    },
    "tags": []
   },
   "outputs": [
    {
     "name": "stdin",
     "output_type": "stream",
     "text": [
      "Enter the start of the range:  6\n",
      "Enter the end of the range:  9\n"
     ]
    },
    {
     "name": "stdout",
     "output_type": "stream",
     "text": [
      "7\n"
     ]
    }
   ],
   "source": [
    "## 12. Create a program that prints the prime numbers in a given range using a `for` loop.\n",
    "\n",
    "# User inputs the range\n",
    "start = int(input(\"Enter the start of the range: \"))\n",
    "end = int(input(\"Enter the end of the range: \"))\n",
    "\n",
    "for num in range(start, end + 1):\n",
    "    # prime numbers are greater than 1\n",
    "    if num > 1:\n",
    "        for i in range(2, num):\n",
    "            if (num % i) == 0:\n",
    "                break\n",
    "        else:\n",
    "            print(num)\n"
   ]
  },
  {
   "cell_type": "code",
   "execution_count": 5,
   "id": "b7c94af5-a22c-4ecf-895e-4edee04e8961",
   "metadata": {},
   "outputs": [
    {
     "name": "stdin",
     "output_type": "stream",
     "text": [
      "Enter a string:  bajrang\n"
     ]
    },
    {
     "name": "stdout",
     "output_type": "stream",
     "text": [
      "The number of vowels in the string is **2**.\n"
     ]
    }
   ],
   "source": [
    "## 13. Develop a program that counts the number of vowels in a string using a `for` loop.\n",
    "\n",
    "string = input(\"Enter a string: \")\n",
    "vowels = \"aeiouAEIOU\"\n",
    "count = 0\n",
    "for char in string:\n",
    "    if char in vowels:\n",
    "        count += 1\n",
    "print(f\"The number of vowels in the string is **{count}**.\")\n"
   ]
  },
  {
   "cell_type": "code",
   "execution_count": 6,
   "id": "0853494b-b5ec-4325-9886-0fec36e2df82",
   "metadata": {},
   "outputs": [
    {
     "name": "stdout",
     "output_type": "stream",
     "text": [
      "The maximum element in the 2D list is **9**.\n"
     ]
    }
   ],
   "source": [
    "## 14. Write a program to find the maximum element in a 2D list using a nested `for` loop.\n",
    "\n",
    "my_list = [[1, 2, 3], [4, 5, 6], [7, 8, 9]]\n",
    "max_element = my_list[0][0]\n",
    "for i in range(len(my_list)):\n",
    "    for j in range(len(my_list[i])):\n",
    "        if my_list[i][j] > max_element:\n",
    "            max_element = my_list[i][j]\n",
    "print(f\"The maximum element in the 2D list is **{max_element}**.\")\n"
   ]
  },
  {
   "cell_type": "code",
   "execution_count": 7,
   "id": "7ee34f9c-b61b-4cf2-888c-7784c66965cb",
   "metadata": {},
   "outputs": [
    {
     "name": "stdout",
     "output_type": "stream",
     "text": [
      "The original list is **[1, 2, 3, 4, 5, 1, 2, 1]**.\n",
      "The new list with all occurrences of **1** removed is **[2, 3, 4, 5, 2]**.\n"
     ]
    }
   ],
   "source": [
    "## 15. Create a program that removes all occurrences of a specific element from a list using a `for` loop.\n",
    "\n",
    "my_list = [1, 2, 3, 4, 5, 1, 2, 1]\n",
    "element_to_remove = 1\n",
    "new_list = []\n",
    "for element in my_list:\n",
    "    if element != element_to_remove:\n",
    "        new_list.append(element)\n",
    "print(f\"The original list is **{my_list}**.\")\n",
    "print(f\"The new list with all occurrences of **{element_to_remove}** removed is **{new_list}**.\")\n"
   ]
  },
  {
   "cell_type": "code",
   "execution_count": 8,
   "id": "d91fb418-41da-41fe-ac6b-1e11fa0d5ceb",
   "metadata": {},
   "outputs": [
    {
     "name": "stdout",
     "output_type": "stream",
     "text": [
      "1 x 1 = 1\n",
      "1 x 2 = 2\n",
      "1 x 3 = 3\n",
      "1 x 4 = 4\n",
      "1 x 5 = 5\n",
      "1 x 6 = 6\n",
      "1 x 7 = 7\n",
      "1 x 8 = 8\n",
      "1 x 9 = 9\n",
      "1 x 10 = 10\n",
      "\n",
      "2 x 1 = 2\n",
      "2 x 2 = 4\n",
      "2 x 3 = 6\n",
      "2 x 4 = 8\n",
      "2 x 5 = 10\n",
      "2 x 6 = 12\n",
      "2 x 7 = 14\n",
      "2 x 8 = 16\n",
      "2 x 9 = 18\n",
      "2 x 10 = 20\n",
      "\n",
      "3 x 1 = 3\n",
      "3 x 2 = 6\n",
      "3 x 3 = 9\n",
      "3 x 4 = 12\n",
      "3 x 5 = 15\n",
      "3 x 6 = 18\n",
      "3 x 7 = 21\n",
      "3 x 8 = 24\n",
      "3 x 9 = 27\n",
      "3 x 10 = 30\n",
      "\n",
      "4 x 1 = 4\n",
      "4 x 2 = 8\n",
      "4 x 3 = 12\n",
      "4 x 4 = 16\n",
      "4 x 5 = 20\n",
      "4 x 6 = 24\n",
      "4 x 7 = 28\n",
      "4 x 8 = 32\n",
      "4 x 9 = 36\n",
      "4 x 10 = 40\n",
      "\n",
      "5 x 1 = 5\n",
      "5 x 2 = 10\n",
      "5 x 3 = 15\n",
      "5 x 4 = 20\n",
      "5 x 5 = 25\n",
      "5 x 6 = 30\n",
      "5 x 7 = 35\n",
      "5 x 8 = 40\n",
      "5 x 9 = 45\n",
      "5 x 10 = 50\n",
      "\n"
     ]
    }
   ],
   "source": [
    "## 16. Develop a program that generates a multiplication table for numbers from 1 to 5 using a nested `for` loop.\n",
    "\n",
    "for i in range(1, 6):\n",
    "    for j in range(1, 11):\n",
    "        print(f\"{i} x {j} = {i*j}\")\n",
    "    print()\n"
   ]
  },
  {
   "cell_type": "code",
   "execution_count": 1,
   "id": "8b373227-2c3a-4f30-8f8b-565c4e0728b2",
   "metadata": {},
   "outputs": [
    {
     "name": "stdout",
     "output_type": "stream",
     "text": [
      "The Fahrenheit temperatures are **[32, 68, 77, 104, 212]**.\n",
      "The Celsius temperatures are **[0.0, 20.0, 25.0, 40.0, 100.0]**.\n"
     ]
    }
   ],
   "source": [
    "## 17. Write a program that converts a list of Fahrenheit temperatures to Celsius using a `for` loop.\n",
    "\n",
    "fahrenheit_temperatures = [32, 68, 77, 104, 212]\n",
    "celsius_temperatures = []\n",
    "for temp in fahrenheit_temperatures:\n",
    "    celsius = (temp - 32) * 5/9\n",
    "    celsius_temperatures.append(celsius)\n",
    "print(f\"The Fahrenheit temperatures are **{fahrenheit_temperatures}**.\")\n",
    "print(f\"The Celsius temperatures are **{celsius_temperatures}**.\")\n"
   ]
  },
  {
   "cell_type": "code",
   "execution_count": 2,
   "id": "48a4f93f-e8e8-450b-9de6-41be1c071298",
   "metadata": {},
   "outputs": [
    {
     "name": "stdout",
     "output_type": "stream",
     "text": [
      "The common elements between [1, 2, 3, 4, 5] and [4, 5, 6, 7, 8] are: [4, 5]\n"
     ]
    }
   ],
   "source": [
    "## 18. Create a program to print the common elements from two lists using a `for` loop.\n",
    "\n",
    "list1 = [1, 2, 3, 4, 5]\n",
    "list2 = [4, 5, 6, 7, 8]\n",
    "\n",
    "common_elements = []\n",
    "\n",
    "for element in list1:\n",
    "    if element in list2:\n",
    "        common_elements.append(element)\n",
    "\n",
    "print(f\"The common elements between {list1} and {list2} are: {common_elements}\")\n"
   ]
  },
  {
   "cell_type": "code",
   "execution_count": 3,
   "id": "eab5262c-63f9-401e-9458-30d38eaff6d2",
   "metadata": {},
   "outputs": [
    {
     "name": "stdout",
     "output_type": "stream",
     "text": [
      "*\n",
      "**\n",
      "***\n",
      "****\n",
      "*****\n"
     ]
    }
   ],
   "source": [
    "##19. Develop a program that prints the pattern of right-angled triangles using a `for` loop. Use ‘*’ to draw the\n",
    "# pattern\n",
    "\n",
    "n = 5\n",
    "\n",
    "for i in range(n):\n",
    "    for j in range(i+1):\n",
    "        print(\"*\", end=\"\")\n",
    "    print()\n"
   ]
  },
  {
   "cell_type": "code",
   "execution_count": 4,
   "id": "463ab581-ed55-4063-96c1-c52837c51e8c",
   "metadata": {},
   "outputs": [
    {
     "name": "stdin",
     "output_type": "stream",
     "text": [
      "Enter the first number:  3\n",
      "Enter the second number:  6\n"
     ]
    },
    {
     "name": "stdout",
     "output_type": "stream",
     "text": [
      "The GCD of 3 and 6 is **3**.\n"
     ]
    }
   ],
   "source": [
    "## 20. Write a program to find the greatest common divisor (GCD) of two numbers using a `for` loop.\n",
    "\n",
    "num1 = int(input(\"Enter the first number: \"))\n",
    "num2 = int(input(\"Enter the second number: \"))\n",
    "\n",
    "# Find the smaller number\n",
    "if num1 > num2:\n",
    "    smaller = num2\n",
    "else:\n",
    "    smaller = num1\n",
    "\n",
    "# Iterate from 1 to the smaller number\n",
    "for i in range(1, smaller + 1):\n",
    "    if((num1 % i == 0) and (num2 % i == 0)):\n",
    "        gcd = i\n",
    "\n",
    "print(f\"The GCD of {num1} and {num2} is **{gcd}**.\")\n"
   ]
  },
  {
   "cell_type": "code",
   "execution_count": 5,
   "id": "cc374d91-716e-4c83-b6d5-202c16896692",
   "metadata": {},
   "outputs": [
    {
     "name": "stdout",
     "output_type": "stream",
     "text": [
      "The sum of the digits of the numbers in the list is **45**.\n"
     ]
    }
   ],
   "source": [
    "###____Advanced Level:\n",
    "    \n",
    "## 21. Create a program that calculates the sum of the digits of numbers in a list using a list comprehension.\n",
    "\n",
    "numbers = [123, 456, 789]\n",
    "digit_sum = sum([sum([int(digit) for digit in str(num)]) for num in numbers])\n",
    "print(f\"The sum of the digits of the numbers in the list is **{digit_sum}**.\")\n"
   ]
  },
  {
   "cell_type": "code",
   "execution_count": 6,
   "id": "56b3066d-9776-4fa0-b33e-672390fdae21",
   "metadata": {},
   "outputs": [
    {
     "name": "stdin",
     "output_type": "stream",
     "text": [
      "Enter a number:  4\n"
     ]
    },
    {
     "name": "stdout",
     "output_type": "stream",
     "text": [
      "The prime factors of 4 are **[2]**.\n"
     ]
    }
   ],
   "source": [
    "## 22. Write a program to find the prime factors of a given number using a `for` loop and list comprehension.\n",
    "\n",
    "number = int(input(\"Enter a number: \"))\n",
    "prime_factors = [i for i in range(2, number+1) if number % i == 0 and all(i % j != 0 for j in range(2, i))]\n",
    "print(f\"The prime factors of {number} are **{prime_factors}**.\")\n"
   ]
  },
  {
   "cell_type": "code",
   "execution_count": 7,
   "id": "2af84c80-a537-4431-9097-83458f738839",
   "metadata": {},
   "outputs": [
    {
     "name": "stdout",
     "output_type": "stream",
     "text": [
      "The unique elements in the list are **[]**.\n"
     ]
    }
   ],
   "source": [
    "## 23. Develop a program that extracts unique elements from a list and stores them in a new list using a list\n",
    "#comprehension.\n",
    "\n",
    "original_list = [1, 2, 3, 4, 5, 1, 2, 3, 4, 5]\n",
    "unique_list = [x for x in original_list if original_list.count(x) == 1]\n",
    "print(f\"The unique elements in the list are **{unique_list}**.\")\n"
   ]
  },
  {
   "cell_type": "code",
   "execution_count": 8,
   "id": "2ddfed21-3011-4451-b9a8-cfbf6a6b0552",
   "metadata": {},
   "outputs": [
    {
     "name": "stdin",
     "output_type": "stream",
     "text": [
      "Enter the limit:  5\n"
     ]
    },
    {
     "name": "stdout",
     "output_type": "stream",
     "text": [
      "The palindromic numbers up to 5 are **[1, 2, 3, 4, 5]**.\n"
     ]
    }
   ],
   "source": [
    "## 24. Create a program that generates a list of all palindromic numbers up to a specified limit using a list\n",
    "#comprehension.\n",
    "\n",
    "limit = int(input(\"Enter the limit: \"))\n",
    "palindromes = [num for num in range(1, limit+1) if str(num) == str(num)[::-1]]\n",
    "print(f\"The palindromic numbers up to {limit} are **{palindromes}**.\")\n"
   ]
  },
  {
   "cell_type": "code",
   "execution_count": 10,
   "id": "4754ae64-10a2-47cb-be6e-ce0223215259",
   "metadata": {},
   "outputs": [
    {
     "name": "stdout",
     "output_type": "stream",
     "text": [
      "[1, 2, 3, 4, 5, 6]\n"
     ]
    }
   ],
   "source": [
    "## 25. Write a program to flatten a nested list using list comprehension.\n",
    "\n",
    "my_list = [[1, 2], [3, 4], [5, 6]]\n",
    "flat_list = [num for sublist in my_list for num in sublist]\n",
    "print(flat_list)\n"
   ]
  },
  {
   "cell_type": "code",
   "execution_count": 11,
   "id": "028b7f17-f4fe-4e69-8c9d-7b6df038e6a7",
   "metadata": {},
   "outputs": [
    {
     "name": "stdout",
     "output_type": "stream",
     "text": [
      "The sum of even numbers in the list is **30** and the sum of odd numbers in the list is **25**.\n"
     ]
    }
   ],
   "source": [
    "## 26. Develop a program that computes the sum of even and odd numbers in a list separately using list\n",
    "#comprehension\n",
    "\n",
    "my_list = [1, 2, 3, 4, 5, 6, 7, 8, 9, 10]\n",
    "even_sum = sum([num for num in my_list if num % 2 == 0])\n",
    "odd_sum = sum([num for num in my_list if num % 2 != 0])\n",
    "print(f\"The sum of even numbers in the list is **{even_sum}** and the sum of odd numbers in the list is **{odd_sum}**.\")\n"
   ]
  },
  {
   "cell_type": "code",
   "execution_count": 11,
   "id": "004b8e26-ea8d-4ca9-a66d-e244afc3f8d5",
   "metadata": {},
   "outputs": [
    {
     "name": "stdout",
     "output_type": "stream",
     "text": [
      "[1, 9, 25, 49, 81]\n"
     ]
    }
   ],
   "source": [
    "## 27. Create a program that generates a list of squares of odd numbers between 1 and 10 using list\n",
    "#comprehension.\n",
    "\n",
    "\n",
    "# List comprehension to generate squares of odd numbers\n",
    "squares_of_odd_numbers = [i**2 for i in range(1, 11) if i%2!=0]\n",
    "\n",
    "print(squares_of_odd_numbers)\n"
   ]
  },
  {
   "cell_type": "code",
   "execution_count": 10,
   "id": "96b81b4c-b802-4465-8ad8-35f58239d17d",
   "metadata": {},
   "outputs": [
    {
     "name": "stdout",
     "output_type": "stream",
     "text": [
      "{'name': 'John', 'age': 25, 'gender': 'Male'}\n"
     ]
    }
   ],
   "source": [
    "## 28. Write a program that combines two lists into a dictionary using list comprehension.\n",
    "\n",
    "# Two input lists\n",
    "keys = ['name', 'age', 'gender']\n",
    "values = ['John', 25, 'Male']\n",
    "\n",
    "# Dictionary comprehension to combine two lists\n",
    "dictionary = {keys[i]: values[i] for i in range(len(keys))}\n",
    "\n",
    "print(dictionary)\n"
   ]
  },
  {
   "cell_type": "code",
   "execution_count": 9,
   "id": "94481c4f-a438-475f-85bf-30d2daf9b91b",
   "metadata": {},
   "outputs": [
    {
     "name": "stdout",
     "output_type": "stream",
     "text": [
      "['e', 'o', 'a', 'a']\n"
     ]
    }
   ],
   "source": [
    "## 29. Develop a program that extracts the vowels from a string and stores them in a list using list comprehension.\n",
    "\n",
    "# String input\n",
    "string = \"Hello,bajrang\"\n",
    "\n",
    "# List comprehension to extract vowels\n",
    "vowels = [char for char in string if char in \"aeiouAEIOU\"]\n",
    "\n",
    "print(vowels)\n"
   ]
  },
  {
   "cell_type": "code",
   "execution_count": 8,
   "id": "fdcd8d02-fa0d-49f2-919c-9345d58a75a9",
   "metadata": {},
   "outputs": [
    {
     "name": "stdout",
     "output_type": "stream",
     "text": [
      "[123, 456, 789, 0]\n"
     ]
    }
   ],
   "source": [
    "##30. Create a program that removes all non-numeric characters from a list of strings using list comprehension.\n",
    "\n",
    "# List of strings\n",
    "list_of_strings = ['abc123', 'def456', 'ghi789', 'jkl0mno']\n",
    "\n",
    "# List comprehension to remove non-numeric characters\n",
    "list_of_numbers = [int(''.join(filter(str.isdigit, string))) for string in list_of_strings]\n",
    "\n",
    "print(list_of_numbers)\n"
   ]
  },
  {
   "cell_type": "code",
   "execution_count": 6,
   "id": "3f74c4d4-cb56-460d-a55f-9a6f1d0a968e",
   "metadata": {},
   "outputs": [
    {
     "name": "stdout",
     "output_type": "stream",
     "text": [
      "The prime numbers between 2 and 100 are: [2, 3, 5, 7, 11, 13, 17, 19, 23, 29, 31, 37, 41, 43, 47, 53, 59, 61, 67, 71, 73, 79, 83, 89, 97]\n"
     ]
    }
   ],
   "source": [
    "###_________Challenge Level:\n",
    "  \n",
    "    \n",
    "## 31. Write a program to generate a list of prime numbers using the Sieve of Eratosthenes algorithm and listcomprehension.\n",
    "\n",
    "n = 100\n",
    "primes = [num for num in range(2, n+1) if all(num % i != 0 for i in range(2, int(num**0.5)+1))]\n",
    "print(f\"The prime numbers between 2 and {n} are: {primes}\")\n",
    "\n"
   ]
  },
  {
   "cell_type": "code",
   "execution_count": 1,
   "id": "50796545-4040-4cc2-87f8-bb33bd663f49",
   "metadata": {},
   "outputs": [
    {
     "name": "stdin",
     "output_type": "stream",
     "text": [
      "Enter the limit:  6\n"
     ]
    },
    {
     "name": "stdout",
     "output_type": "stream",
     "text": [
      "The Pythagorean triplets up to 6 are:\n",
      "[(3, 4, 5)]\n"
     ]
    }
   ],
   "source": [
    "## 32. Create a program that generates a list of all Pythagorean triplets up to a specified limit using list\n",
    "#comprehension.\n",
    "\n",
    "n = int(input(\"Enter the limit: \"))\n",
    "triplets = [(a, b, c) for a in range(1, n+1) for b in range(a, n+1) for c in range(b, n+1) if a**2 + b**2 == c**2]\n",
    "print(f\"The Pythagorean triplets up to {n} are:\\n{triplets}\")\n"
   ]
  },
  {
   "cell_type": "code",
   "execution_count": 2,
   "id": "a03116ae-09d2-4e69-aed1-e360e3f9ea1d",
   "metadata": {},
   "outputs": [
    {
     "name": "stdout",
     "output_type": "stream",
     "text": [
      "All possible combinations of [1, 2, 3] and ['a', 'b', 'c'] are:\n",
      "[(1, 'a'), (1, 'b'), (1, 'c'), (2, 'a'), (2, 'b'), (2, 'c'), (3, 'a'), (3, 'b'), (3, 'c')]\n"
     ]
    }
   ],
   "source": [
    "## 33. Develop a program that generates a list of all possible combinations of two lists using list comprehension.\n",
    "\n",
    "list1 = [1, 2, 3]\n",
    "list2 = ['a', 'b', 'c']\n",
    "combinations = [(x, y) for x in list1 for y in list2]\n",
    "print(f\"All possible combinations of {list1} and {list2} are:\\n{combinations}\")\n"
   ]
  },
  {
   "cell_type": "code",
   "execution_count": 3,
   "id": "3654130b-286a-409a-80b7-7b41733ec05b",
   "metadata": {},
   "outputs": [
    {
     "name": "stdout",
     "output_type": "stream",
     "text": [
      "The mean of [1, 2, 3, 4, 5, 5, 6, 7, 8, 9, 9, 9, 10] is 6.00\n",
      "The median of [1, 2, 3, 4, 5, 5, 6, 7, 8, 9, 9, 9, 10] is 6\n",
      "The mode of [1, 2, 3, 4, 5, 5, 6, 7, 8, 9, 9, 9, 10] is 9\n"
     ]
    }
   ],
   "source": [
    "## 34. Write a program that calculates the mean, median, and mode of a list of numbers using list\n",
    "#comprehension.\n",
    "\n",
    "from collections import Counter\n",
    "\n",
    "numbers = [1, 2, 3, 4, 5, 5, 6, 7, 8, 9, 9, 9, 10]\n",
    "\n",
    "mean = sum(numbers) / len(numbers)\n",
    "median = sorted(numbers)[len(numbers) // 2] if len(numbers) % 2 != 0 else (sorted(numbers)[len(numbers) // 2 - 1] + sorted(numbers)[len(numbers) // 2]) / 2\n",
    "mode = Counter(numbers).most_common(1)[0][0]\n",
    "\n",
    "print(f\"The mean of {numbers} is {mean:.2f}\")\n",
    "print(f\"The median of {numbers} is {median}\")\n",
    "print(f\"The mode of {numbers} is {mode}\")\n"
   ]
  },
  {
   "cell_type": "code",
   "execution_count": 1,
   "id": "367153e9-5882-4693-a940-e0727e3d0e8f",
   "metadata": {},
   "outputs": [
    {
     "name": "stdin",
     "output_type": "stream",
     "text": [
      "Enter the number of rows:  5\n"
     ]
    },
    {
     "name": "stdout",
     "output_type": "stream",
     "text": [
      "Pascal's triangle up to 5 rows is:\n",
      "[[1], [1, 1], [1, 2, 1], [1, 3, 3, 1], [1, 4, 6, 4, 1]]\n"
     ]
    }
   ],
   "source": [
    "##35. Create a program that generates Pascal's triangle up to a specified number of rows using list\n",
    "#comprehension.\n",
    "\n",
    "n = int(input(\"Enter the number of rows: \"))\n",
    "triangle = [[1] * (i + 1) for i in range(n)]\n",
    "for i in range(n):\n",
    "    for j in range(1, i):\n",
    "        triangle[i][j] = triangle[i - 1][j - 1] + triangle[i - 1][j]\n",
    "print(f\"Pascal's triangle up to {n} rows is:\\n{triangle}\")\n"
   ]
  },
  {
   "cell_type": "code",
   "execution_count": 2,
   "id": "ac5be88f-e05b-4ae2-a15c-adbacd5d9620",
   "metadata": {},
   "outputs": [
    {
     "name": "stdout",
     "output_type": "stream",
     "text": [
      "The sum of the digits of the factorials of [1, 2, 3, 4, 5] is [1, 2, 6, 6, 3]\n"
     ]
    }
   ],
   "source": [
    "## 36. Develop a program that calculates the sum of the digits of a factorial of numbers from 1 to 5 using list\n",
    "#comprehension.\n",
    "\n",
    "from math import factorial\n",
    "\n",
    "numbers = [1, 2, 3, 4, 5]\n",
    "sum_of_digits = [sum(int(digit) for digit in str(factorial(number))) for number in numbers]\n",
    "print(f\"The sum of the digits of the factorials of {numbers} is {sum_of_digits}\")\n"
   ]
  },
  {
   "cell_type": "code",
   "execution_count": 1,
   "id": "71a4a256-3034-499c-a3f5-9347ad7548ca",
   "metadata": {},
   "outputs": [
    {
     "name": "stdout",
     "output_type": "stream",
     "text": [
      "The longest word in the sentence is: quick\n"
     ]
    }
   ],
   "source": [
    "## 37. Write a program that finds the longest word in a sentence using list comprehension.\n",
    "\n",
    "sentence = \"The quick brown fox jumps over the lazy dog\"\n",
    "longest_word = max([word for word in sentence.split()], key=len)\n",
    "print(f\"The longest word in the sentence is: {longest_word}\")\n"
   ]
  },
  {
   "cell_type": "code",
   "execution_count": 2,
   "id": "e628d246-0e7d-4292-8271-2e7299e580a7",
   "metadata": {},
   "outputs": [
    {
     "name": "stdout",
     "output_type": "stream",
     "text": [
      "The fruits with more than three vowels are: ['pineapple', 'mandarin orange']\n"
     ]
    }
   ],
   "source": [
    "## 38. Create a program that filters a list of strings to include only those with more than three vowels using list\n",
    "##comprehension.\n",
    "\n",
    "fruits = ['mango', 'kiwi', 'strawberry', 'guava', 'pineapple', 'mandarin orange']\n",
    "vowels = 'aeiouAEIOU'\n",
    "fruits_with_more_than_three_vowels = [fruit for fruit in fruits if sum([1 for letter in fruit if letter in vowels]) > 3]\n",
    "print(f\"The fruits with more than three vowels are: {fruits_with_more_than_three_vowels}\")\n"
   ]
  },
  {
   "cell_type": "code",
   "execution_count": 3,
   "id": "9dad480f-619e-4401-8721-c87328a42f23",
   "metadata": {},
   "outputs": [
    {
     "name": "stdout",
     "output_type": "stream",
     "text": [
      "The sum of the digits of numbers from 1 to 1000 is: 13501\n"
     ]
    }
   ],
   "source": [
    "## 39. Develop a program that calculates the sum of the digits of numbers from 1 to 1000 using list\n",
    "#comprehension\n",
    "\n",
    "sum_of_digits = sum([sum([int(digit) for digit in str(num)]) for num in range(1, 1001)])\n",
    "print(f\"The sum of the digits of numbers from 1 to 1000 is: {sum_of_digits}\")\n"
   ]
  },
  {
   "cell_type": "code",
   "execution_count": 4,
   "id": "e2b9835b-f865-4f87-bd7a-b790cc95d342",
   "metadata": {},
   "outputs": [
    {
     "name": "stdout",
     "output_type": "stream",
     "text": [
      "The prime palindromic numbers between 2 and 1000 are: [2, 3, 5, 7, 11, 101, 131, 151, 181, 191, 313, 353, 373, 383, 727, 757, 787, 797, 919, 929]\n"
     ]
    }
   ],
   "source": [
    "##40. Write a program that generates a list of prime palindromic numbers using list comprehension.\n",
    "\n",
    "primes = [num for num in range(2, 1001) if all(num % i != 0 for i in range(2, int(num**0.5)+1)) and str(num) == str(num)[::-1]]\n",
    "print(f\"The prime palindromic numbers between 2 and 1000 are: {primes}\")\n"
   ]
  },
  {
   "cell_type": "code",
   "execution_count": null,
   "id": "184a2a2d-3f31-4a1f-a5b2-ca82ef27f6d2",
   "metadata": {},
   "outputs": [],
   "source": []
  }
 ],
 "metadata": {
  "kernelspec": {
   "display_name": "Python 3 (ipykernel)",
   "language": "python",
   "name": "python3"
  },
  "language_info": {
   "codemirror_mode": {
    "name": "ipython",
    "version": 3
   },
   "file_extension": ".py",
   "mimetype": "text/x-python",
   "name": "python",
   "nbconvert_exporter": "python",
   "pygments_lexer": "ipython3",
   "version": "3.10.8"
  }
 },
 "nbformat": 4,
 "nbformat_minor": 5
}
