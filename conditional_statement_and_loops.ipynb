{
  "cells": [
    {
      "cell_type": "markdown",
      "metadata": {
        "id": "view-in-github",
        "colab_type": "text"
      },
      "source": [
        "<a href=\"https://colab.research.google.com/github/Bajrang63/basicofpython/blob/main/conditional_statement_and_loops.ipynb\" target=\"_parent\"><img src=\"https://colab.research.google.com/assets/colab-badge.svg\" alt=\"Open In Colab\"/></a>"
      ]
    },
    {
      "cell_type": "code",
      "execution_count": null,
      "id": "9bbea8d0-111a-4d39-be1e-1f4de9043f2b",
      "metadata": {
        "id": "9bbea8d0-111a-4d39-be1e-1f4de9043f2b"
      },
      "outputs": [],
      "source": [
        "a  = 500\n",
        "price = 850\n",
        "if price <= 500:\n",
        "    print(\"yes i will be able to buy\")"
      ]
    },
    {
      "cell_type": "code",
      "execution_count": null,
      "id": "abe5c146-eeb2-4277-91c3-3fe33aa4a6ef",
      "metadata": {
        "id": "abe5c146-eeb2-4277-91c3-3fe33aa4a6ef",
        "outputId": "bf0466ff-a2a2-4794-9d65-ca933e3bfa68"
      },
      "outputs": [
        {
          "data": {
            "text/plain": [
              "True"
            ]
          },
          "execution_count": 4,
          "metadata": {},
          "output_type": "execute_result"
        }
      ],
      "source": [
        "price <=500"
      ]
    },
    {
      "cell_type": "code",
      "execution_count": null,
      "id": "020d3a60-5c72-4d22-a35b-960c53f9b552",
      "metadata": {
        "id": "020d3a60-5c72-4d22-a35b-960c53f9b552",
        "outputId": "8fafad02-44a0-489b-c48e-0d543514a3df"
      },
      "outputs": [
        {
          "data": {
            "text/plain": [
              "False"
            ]
          },
          "execution_count": 10,
          "metadata": {},
          "output_type": "execute_result"
        }
      ],
      "source": [
        "850<=500"
      ]
    },
    {
      "cell_type": "code",
      "execution_count": null,
      "id": "d71ce49b-30c4-4da1-a509-3d1c15de02d3",
      "metadata": {
        "id": "d71ce49b-30c4-4da1-a509-3d1c15de02d3",
        "outputId": "da3c0feb-f3d7-4730-e7ca-41b9fad3e0c4"
      },
      "outputs": [
        {
          "name": "stdout",
          "output_type": "stream",
          "text": [
            "this is a testing block\n",
            "i will try to buy shirt\n"
          ]
        }
      ],
      "source": [
        "a  = 500\n",
        "shirt_price = 200\n",
        "pant_price = 500\n",
        "coat_price = 800\n",
        "\n",
        "if True:\n",
        "    print(\"this is a testing block\")\n",
        "\n",
        "if coat_price <= a :\n",
        "    print(\"i will try to buy coat\")\n",
        "elif pant_price < 500 :\n",
        "    print(\"i will try to buy pant\")\n",
        "elif shirt_price < 500 :\n",
        "    print(\"i will try to buy shirt\")\n",
        "else :\n",
        "    print(\"i wont be able to buy\")"
      ]
    },
    {
      "cell_type": "code",
      "execution_count": null,
      "id": "4ae1ad6c-cbbd-4cc6-80a5-d3ca911a070d",
      "metadata": {
        "id": "4ae1ad6c-cbbd-4cc6-80a5-d3ca911a070d",
        "outputId": "e3422e6e-c3c5-4b41-b7d4-778affdebd82"
      },
      "outputs": [
        {
          "data": {
            "text/plain": [
              "False"
            ]
          },
          "execution_count": 15,
          "metadata": {},
          "output_type": "execute_result"
        }
      ],
      "source": [
        "500<500"
      ]
    },
    {
      "cell_type": "code",
      "execution_count": null,
      "id": "23562725-79e9-4793-987a-fed21122d944",
      "metadata": {
        "id": "23562725-79e9-4793-987a-fed21122d944",
        "outputId": "10baaed9-e23f-4be5-948b-b0dbb7b20895"
      },
      "outputs": [
        {
          "name": "stdout",
          "output_type": "stream",
          "text": [
            "yes its avaible under my budget\n",
            "i will try to buy shirt\n"
          ]
        }
      ],
      "source": [
        "a  = 500\n",
        "shirt_price = 200\n",
        "pant_price = 500\n",
        "coat_price = 800\n",
        "my_size  = 'M'\n",
        "size_store = ['L' , 'XL','S','XXL','XXXL','M']\n",
        "my_fav_clr = 'white'\n",
        "store_clr = ['white' , 'red' , 'blue','orange']\n",
        "\n",
        "if coat_price <= a :\n",
        "    print(\"i will try to buy coat\")\n",
        "elif pant_price < 500 :\n",
        "    print(\"i will try to buy pant\")\n",
        "elif shirt_price < 500 :\n",
        "    print(\"yes its avaible under my budget\")\n",
        "    if my_size in size_store:\n",
        "        print(\"i will try to buy shirt\")\n",
        "        if my_fav_clr in store_clr:\n",
        "            print(\"yes i will try to choose it \")\n",
        "        else :\n",
        "            print(\"my fav clr is not available i will move to another store\")\n",
        "    else :\n",
        "        print(\"my size is not avaialble\")\n",
        "else :\n",
        "    print(\"i wont be able to buy\")"
      ]
    },
    {
      "cell_type": "code",
      "execution_count": null,
      "id": "bbff8dac-8947-4aa2-ae78-b88f8770e7dd",
      "metadata": {
        "id": "bbff8dac-8947-4aa2-ae78-b88f8770e7dd",
        "outputId": "75e94677-723a-4782-b09e-459eef8fa34f"
      },
      "outputs": [
        {
          "data": {
            "text/plain": [
              "False"
            ]
          },
          "execution_count": 18,
          "metadata": {},
          "output_type": "execute_result"
        }
      ],
      "source": [
        "my_size == size_store"
      ]
    },
    {
      "cell_type": "code",
      "execution_count": null,
      "id": "43fa30ac-608a-47d6-8f4d-5c88452ddcba",
      "metadata": {
        "id": "43fa30ac-608a-47d6-8f4d-5c88452ddcba",
        "outputId": "0d7ed0c7-5731-417b-8dee-53f843fff708"
      },
      "outputs": [
        {
          "data": {
            "text/plain": [
              "False"
            ]
          },
          "execution_count": 20,
          "metadata": {},
          "output_type": "execute_result"
        }
      ],
      "source": [
        "'M' in size_store"
      ]
    },
    {
      "cell_type": "code",
      "execution_count": null,
      "id": "4182695d-57f6-48ce-bba4-318715bf9a96",
      "metadata": {
        "id": "4182695d-57f6-48ce-bba4-318715bf9a96"
      },
      "outputs": [],
      "source": [
        "course = ['DSM', 'DSA','java' , 'big data' , 'DA']\n",
        "price = 20000\n",
        "mentor = \"sudhanshu kumar\"\n",
        "if 'DSM' in course  and price == 1000 and \"sudhanshu kumar\" == mentor:\n",
        "    print(\"yes i am doing this course \")\n"
      ]
    },
    {
      "cell_type": "code",
      "execution_count": null,
      "id": "3d400f44-d0dc-4754-8466-1f85344e3578",
      "metadata": {
        "id": "3d400f44-d0dc-4754-8466-1f85344e3578",
        "outputId": "5d2f68b3-ed77-4442-f7de-6be8b4f30b15"
      },
      "outputs": [
        {
          "name": "stdout",
          "output_type": "stream",
          "text": [
            "its out of my budget\n"
          ]
        }
      ],
      "source": [
        "course_price = 20000\n",
        "\n",
        "if 10000<= course_price <=15000:\n",
        "    print(\"i will try to buy a course\")\n",
        "\n",
        "else :\n",
        "    print(\"its out of my budget\")"
      ]
    },
    {
      "cell_type": "code",
      "execution_count": null,
      "id": "12eba2ba-e434-4fbc-9d6e-b9fce48d6e0d",
      "metadata": {
        "id": "12eba2ba-e434-4fbc-9d6e-b9fce48d6e0d",
        "outputId": "abd70e4e-fec0-41fb-f1b8-37729e3f520c"
      },
      "outputs": [
        {
          "data": {
            "text/plain": [
              "False"
            ]
          },
          "execution_count": 27,
          "metadata": {},
          "output_type": "execute_result"
        }
      ],
      "source": [
        "10000<= course_price <=15000"
      ]
    },
    {
      "cell_type": "code",
      "execution_count": null,
      "id": "3ec9bc21-6d79-4554-908f-d5bef1419ad9",
      "metadata": {
        "id": "3ec9bc21-6d79-4554-908f-d5bef1419ad9",
        "outputId": "58684cbb-a16d-482f-f060-569fed09daa3"
      },
      "outputs": [
        {
          "name": "stdin",
          "output_type": "stream",
          "text": [
            "enter your username ffasdfsfasf\n",
            "enter your password sudh@1234\n"
          ]
        },
        {
          "name": "stdout",
          "output_type": "stream",
          "text": [
            "you have loged in succefully \n"
          ]
        }
      ],
      "source": [
        "user_name = \"sudh\"\n",
        "password = \"sudh@1234\"\n",
        "\n",
        "if user_name == input(\"enter your username\") and  password == input(\"enter your password\"):\n",
        "    print(\"you have loged in succefully \")\n",
        "else:\n",
        "    print(\"enter correct username and password \")\n",
        ""
      ]
    },
    {
      "cell_type": "code",
      "execution_count": null,
      "id": "d2db4e75-5885-4f18-8675-cef66e449396",
      "metadata": {
        "id": "d2db4e75-5885-4f18-8675-cef66e449396",
        "outputId": "9f0824c0-9f73-4cf3-e2f1-6042950f61d7"
      },
      "outputs": [
        {
          "name": "stdin",
          "output_type": "stream",
          "text": [
            "enter your registered mo no 123456\n"
          ]
        },
        {
          "name": "stdout",
          "output_type": "stream",
          "text": [
            "yes you are a registered user\n"
          ]
        },
        {
          "name": "stdin",
          "output_type": "stream",
          "text": [
            "enter otp that we have sent on your mo no 1234\n"
          ]
        },
        {
          "name": "stdout",
          "output_type": "stream",
          "text": [
            "you have logged in succefully\n"
          ]
        }
      ],
      "source": [
        "mobile_no = 123456\n",
        "otp = 1234\n",
        "if mobile_no == int(input(\"enter your registered mo no\")):\n",
        "    print(\"yes you are a registered user\")\n",
        "    if otp == int(input(\"enter otp that we have sent on your mo no\")):\n",
        "        print(\"you have logged in succefully\")\n",
        "    else :\n",
        "        print(\"otp is not correct please try to enter again\")\n",
        "else :\n",
        "    print(\"you have not entered a valid mo no\")"
      ]
    },
    {
      "cell_type": "code",
      "execution_count": null,
      "id": "868e15cb-1902-42f7-ac5a-2371fb9a3e43",
      "metadata": {
        "id": "868e15cb-1902-42f7-ac5a-2371fb9a3e43",
        "outputId": "06858078-5d3b-43b0-bc2e-1fcf74d981e7"
      },
      "outputs": [
        {
          "name": "stdin",
          "output_type": "stream",
          "text": [
            "enter your registered mo no 23432\n"
          ]
        },
        {
          "name": "stdout",
          "output_type": "stream",
          "text": [
            "yes you are a registered user\n"
          ]
        },
        {
          "name": "stdin",
          "output_type": "stream",
          "text": [
            "enter otp that we have sent on your mo no 1234\n"
          ]
        },
        {
          "name": "stdout",
          "output_type": "stream",
          "text": [
            "you have logged in succefully\n"
          ]
        }
      ],
      "source": [
        "mobile_no = {2343243,3543534,45654646,23432,345345,345343}\n",
        "otp = 1234\n",
        "if int(input(\"enter your registered mo no\")) in mobile_no:\n",
        "    print(\"yes you are a registered user\")\n",
        "    if otp == int(input(\"enter otp that we have sent on your mo no\")):\n",
        "        print(\"you have logged in succefully\")\n",
        "    else :\n",
        "        print(\"otp is not correct please try to enter again\")\n",
        "else :\n",
        "    print(\"you have not entered a valid mo no\")"
      ]
    },
    {
      "cell_type": "code",
      "execution_count": null,
      "id": "a40e26e8-bc3d-4479-81e7-8b7909d8d4fa",
      "metadata": {
        "id": "a40e26e8-bc3d-4479-81e7-8b7909d8d4fa",
        "outputId": "42456717-a5b2-41be-c8e7-e7b49841fd83"
      },
      "outputs": [
        {
          "name": "stdout",
          "output_type": "stream",
          "text": [
            "2343243\n",
            "3543534\n",
            "45654646\n",
            "23432\n",
            "yes user is registered\n",
            "yes student details are avaible in DB \n",
            "course accessed to this user is  ['dsa', 'dsm', 'big data']\n",
            "345345\n",
            "345343\n"
          ]
        }
      ],
      "source": [
        "l= [12,3,3,4,5,6,6]\n",
        "mobile_no = [2343243,3543534,45654646,23432,345345,345343]\n",
        "stud_mo = 23432\n",
        "stud_details = {'mobile_no' : 23432 ,'course' : ['dsa' , 'dsm' , 'big data']}\n",
        "\n",
        "for i in mobile_no:\n",
        "    print(i)\n",
        "    if i == stud_mo:\n",
        "        print(\"yes user is registered\")\n",
        "        if i == stud_details['mobile_no']:\n",
        "            print(\"yes student details are avaible in DB \")\n",
        "            print(\"course accessed to this user is \" , stud_details['course'])"
      ]
    },
    {
      "cell_type": "code",
      "execution_count": null,
      "id": "1bf63065-5a37-4331-bcef-bd95b72ad34b",
      "metadata": {
        "id": "1bf63065-5a37-4331-bcef-bd95b72ad34b"
      },
      "outputs": [],
      "source": [
        "t = (12,3,4,5,56, \"sudh\",\"kumar\",345.565)\n",
        "l_int = []\n",
        "l_str = []\n",
        "for i in t :\n",
        "    if type(i) == str :\n",
        "        l_str.append(i)\n",
        "    elif type(i) == int:\n",
        "        l_int.append(i)\n"
      ]
    },
    {
      "cell_type": "code",
      "execution_count": null,
      "id": "c616d3fe-88de-4023-aa21-78ac9d68949b",
      "metadata": {
        "id": "c616d3fe-88de-4023-aa21-78ac9d68949b",
        "outputId": "d401b8bf-1f66-4941-a355-a333988ef524"
      },
      "outputs": [
        {
          "data": {
            "text/plain": [
              "[12, 3, 4, 5, 56]"
            ]
          },
          "execution_count": 49,
          "metadata": {},
          "output_type": "execute_result"
        }
      ],
      "source": [
        "l_int"
      ]
    },
    {
      "cell_type": "code",
      "execution_count": null,
      "id": "8909569d-a1f8-4770-a59d-a6cbbfa54f4b",
      "metadata": {
        "id": "8909569d-a1f8-4770-a59d-a6cbbfa54f4b",
        "outputId": "87ffd1d6-3ac0-469e-9241-e37d182e0ed0"
      },
      "outputs": [
        {
          "data": {
            "text/plain": [
              "['sudh', 'kumar']"
            ]
          },
          "execution_count": 50,
          "metadata": {},
          "output_type": "execute_result"
        }
      ],
      "source": [
        "l_str"
      ]
    },
    {
      "cell_type": "code",
      "execution_count": null,
      "id": "230bdd7c-7834-4c97-b365-31d1d82c7680",
      "metadata": {
        "id": "230bdd7c-7834-4c97-b365-31d1d82c7680"
      },
      "outputs": [],
      "source": [
        "s = {3,4,5,56,76,7,7,8,8}"
      ]
    },
    {
      "cell_type": "code",
      "execution_count": null,
      "id": "611ca652-1688-45cb-bd9a-646805fb4545",
      "metadata": {
        "id": "611ca652-1688-45cb-bd9a-646805fb4545",
        "outputId": "c086b38e-687b-4788-d429-1ccb45a078d8"
      },
      "outputs": [
        {
          "data": {
            "text/plain": [
              "{3, 4, 5, 7, 8, 56, 76}"
            ]
          },
          "execution_count": 52,
          "metadata": {},
          "output_type": "execute_result"
        }
      ],
      "source": [
        "s"
      ]
    },
    {
      "cell_type": "code",
      "execution_count": null,
      "id": "bfbf0312-5b88-4259-a124-2af90ec4882a",
      "metadata": {
        "id": "bfbf0312-5b88-4259-a124-2af90ec4882a",
        "outputId": "9c5c7e6e-cd79-4553-a37a-e3f4669c230c"
      },
      "outputs": [
        {
          "name": "stdout",
          "output_type": "stream",
          "text": [
            "3\n",
            "4\n",
            "5\n",
            "7\n",
            "8\n",
            "56\n",
            "76\n"
          ]
        }
      ],
      "source": [
        "for i in s :\n",
        "    print(i)"
      ]
    },
    {
      "cell_type": "code",
      "execution_count": null,
      "id": "5b91581a-a9d6-4872-957a-3c430ec82d8f",
      "metadata": {
        "id": "5b91581a-a9d6-4872-957a-3c430ec82d8f"
      },
      "outputs": [],
      "source": [
        "d = {\"name\":\"sudh\" , 'class' :[\"big data\" , \"data analytics\",\"data science \" , \"DSA\" , \"architecture\", \"system design\"],\n",
        "'mobile no' : 345353453, \"email_id\":'sskumari787y@gmail.com'}"
      ]
    },
    {
      "cell_type": "code",
      "execution_count": null,
      "id": "e045d162-e2a5-452b-bfd6-10be81ada105",
      "metadata": {
        "id": "e045d162-e2a5-452b-bfd6-10be81ada105",
        "outputId": "2f0250bc-22d1-4878-f9cd-999c5e43447e"
      },
      "outputs": [
        {
          "data": {
            "text/plain": [
              "{'name': 'sudh',\n",
              " 'class': ['big data',\n",
              "  'data analytics',\n",
              "  'data science ',\n",
              "  'DSA',\n",
              "  'architecture',\n",
              "  'system design'],\n",
              " 'mobile no': 345353453,\n",
              " 'email_id': 'sskumari787y@gmail.com'}"
            ]
          },
          "execution_count": 55,
          "metadata": {},
          "output_type": "execute_result"
        }
      ],
      "source": [
        "d"
      ]
    },
    {
      "cell_type": "code",
      "execution_count": null,
      "id": "941154a7-05f6-4673-985e-c2993ce77218",
      "metadata": {
        "id": "941154a7-05f6-4673-985e-c2993ce77218",
        "outputId": "769d10c7-440a-4e8e-aa22-2381e2fba6f2"
      },
      "outputs": [
        {
          "data": {
            "text/plain": [
              "dict_values(['sudh', ['big data', 'data analytics', 'data science ', 'DSA', 'architecture', 'system design'], 345353453, 'sskumari787y@gmail.com'])"
            ]
          },
          "execution_count": 56,
          "metadata": {},
          "output_type": "execute_result"
        }
      ],
      "source": [
        "d.values()"
      ]
    },
    {
      "cell_type": "code",
      "execution_count": null,
      "id": "e4d8d1bf-98e4-4ba6-8a03-89ce6abc10c6",
      "metadata": {
        "id": "e4d8d1bf-98e4-4ba6-8a03-89ce6abc10c6",
        "outputId": "4e0b09bf-9b7d-4314-93b2-6b18bce33844"
      },
      "outputs": [
        {
          "name": "stdout",
          "output_type": "stream",
          "text": [
            "yes this mentor teach system design\n"
          ]
        }
      ],
      "source": [
        "for i in d.values():\n",
        "    if type(i) == list and 'system design' in i :\n",
        "            print(\"yes this mentor teach system design\")"
      ]
    },
    {
      "cell_type": "code",
      "execution_count": null,
      "id": "9045805c-0f75-4a50-bd6a-9cbe0e6150d2",
      "metadata": {
        "id": "9045805c-0f75-4a50-bd6a-9cbe0e6150d2",
        "outputId": "06f03e20-3d57-4dcd-9484-826899ec5853"
      },
      "outputs": [
        {
          "name": "stdout",
          "output_type": "stream",
          "text": [
            "big data\n",
            "data analytics\n",
            "data science \n",
            "DSA\n",
            "architecture\n",
            "system design\n"
          ]
        }
      ],
      "source": [
        "for i in d.values():\n",
        "    if type(i) == list:\n",
        "        for j in i :\n",
        "            print(j)"
      ]
    },
    {
      "cell_type": "code",
      "execution_count": null,
      "id": "43b62b76-a71c-47b7-8679-789d3ba920d2",
      "metadata": {
        "id": "43b62b76-a71c-47b7-8679-789d3ba920d2"
      },
      "outputs": [],
      "source": []
    }
  ],
  "metadata": {
    "kernelspec": {
      "display_name": "Python 3 (ipykernel)",
      "language": "python",
      "name": "python3"
    },
    "language_info": {
      "codemirror_mode": {
        "name": "ipython",
        "version": 3
      },
      "file_extension": ".py",
      "mimetype": "text/x-python",
      "name": "python",
      "nbconvert_exporter": "python",
      "pygments_lexer": "ipython3",
      "version": "3.10.8"
    },
    "colab": {
      "provenance": [],
      "include_colab_link": true
    }
  },
  "nbformat": 4,
  "nbformat_minor": 5
}