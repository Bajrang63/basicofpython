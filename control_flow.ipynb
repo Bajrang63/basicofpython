{
 "cells": [
  {
   "cell_type": "code",
   "execution_count": 1,
   "id": "12b8e6dc-3061-49ec-9583-9a3ae45fdfa1",
   "metadata": {},
   "outputs": [
    {
     "name": "stdin",
     "output_type": "stream",
     "text": [
      "Enter a number:  6\n"
     ]
    },
    {
     "name": "stdout",
     "output_type": "stream",
     "text": [
      "The number is **positive**\n"
     ]
    }
   ],
   "source": [
    "###______Basic If-Else Statements:\n",
    "\n",
    "\n",
    "## 1. Write a Python program to check if a given number is positive or negative.\n",
    "\n",
    "\n",
    "num = float(input(\"Enter a number: \"))\n",
    "if num > 0:\n",
    "    print(\"The number is **positive**\")\n",
    "elif num == 0:\n",
    "    print(\"The number is **zero**\")\n",
    "else:\n",
    "    print(\"The number is **negative**\")\n"
   ]
  },
  {
   "cell_type": "code",
   "execution_count": 2,
   "id": "5bdeb486-4c33-418f-8d38-f5d39816df44",
   "metadata": {},
   "outputs": [
    {
     "name": "stdin",
     "output_type": "stream",
     "text": [
      "Enter your age:  21\n"
     ]
    },
    {
     "name": "stdout",
     "output_type": "stream",
     "text": [
      "You are **eligible** to vote.\n"
     ]
    }
   ],
   "source": [
    "## 2. Create a program that determines if a person is eligible to vote based on their age.\n",
    "\n",
    "age = int(input(\"Enter your age: \"))\n",
    "if age >= 18:\n",
    "    print(\"You are **eligible** to vote.\")\n",
    "else:\n",
    "    print(\"You are **not eligible** to vote yet.\")\n"
   ]
  },
  {
   "cell_type": "code",
   "execution_count": 3,
   "id": "f58db4fa-e08b-484f-b49c-9998d6ca6fb6",
   "metadata": {},
   "outputs": [
    {
     "name": "stdin",
     "output_type": "stream",
     "text": [
      "Enter the first number:  23\n",
      "Enter the second number:  12\n"
     ]
    },
    {
     "name": "stdout",
     "output_type": "stream",
     "text": [
      "The maximum number is ** 23.0 **\n"
     ]
    }
   ],
   "source": [
    "## 3. Develop a program to find the maximum of two numbers using if-else statements.\n",
    "\n",
    "num1 = float(input(\"Enter the first number: \"))\n",
    "num2 = float(input(\"Enter the second number: \"))\n",
    "\n",
    "if num1 > num2:\n",
    "    print(\"The maximum number is **\", num1, \"**\")\n",
    "else:\n",
    "    print(\"The maximum number is **\", num2, \"**\")\n"
   ]
  },
  {
   "cell_type": "code",
   "execution_count": 4,
   "id": "fe4a2ba3-dd79-4766-a43a-51ae112563fa",
   "metadata": {},
   "outputs": [
    {
     "name": "stdin",
     "output_type": "stream",
     "text": [
      "Enter a year:  2003\n"
     ]
    },
    {
     "name": "stdout",
     "output_type": "stream",
     "text": [
      "The year ** 2003 ** is not a leap year.\n"
     ]
    }
   ],
   "source": [
    "## 4. Write a Python script to classify a given year as a leap year or not.\n",
    "\n",
    "year = int(input(\"Enter a year: \"))\n",
    "\n",
    "if (year % 4) == 0:\n",
    "   if (year % 100) == 0:\n",
    "       if (year % 400) == 0:\n",
    "           print(\"The year **\", year, \"** is a leap year.\")\n",
    "       else:\n",
    "           print(\"The year **\", year, \"** is not a leap year.\")\n",
    "   else:\n",
    "       print(\"The year **\", year, \"** is a leap year.\")\n",
    "else:\n",
    "   print(\"The year **\", year, \"** is not a leap year.\")\n"
   ]
  },
  {
   "cell_type": "code",
   "execution_count": 1,
   "id": "516d2a49-a635-4da8-b4f2-faa9831b97de",
   "metadata": {},
   "outputs": [
    {
     "name": "stdin",
     "output_type": "stream",
     "text": [
      "Enter a character:  b\n"
     ]
    },
    {
     "name": "stdout",
     "output_type": "stream",
     "text": [
      "The character ** b ** is a consonant.\n"
     ]
    }
   ],
   "source": [
    "## 5. Create a program that checks whether a character is a vowel or a consonant.\n",
    "\n",
    "\n",
    "ch = input(\"Enter a character: \")\n",
    "\n",
    "if ch in ['a', 'e', 'i', 'o', 'u', 'A', 'E', 'I', 'O', 'U']:\n",
    "    print(\"The character **\", ch, \"** is a vowel.\")\n",
    "else:\n",
    "    print(\"The character **\", ch, \"** is a consonant.\")\n",
    "    "
   ]
  },
  {
   "cell_type": "code",
   "execution_count": 2,
   "id": "c5591836-8d9b-43b2-b487-2fa90436e6b0",
   "metadata": {},
   "outputs": [
    {
     "name": "stdin",
     "output_type": "stream",
     "text": [
      "Enter a number:  8\n"
     ]
    },
    {
     "name": "stdout",
     "output_type": "stream",
     "text": [
      "8 is an even number.\n"
     ]
    }
   ],
   "source": [
    "## 6. Implement a program to determine whether a given number is even or odd.\n",
    "\n",
    "num = int(input(\"Enter a number: \"))\n",
    "if num % 2 == 0:\n",
    "    print(f\"{num} is an even number.\")\n",
    "else:\n",
    "    print(f\"{num} is an odd number.\")\n"
   ]
  },
  {
   "cell_type": "code",
   "execution_count": 1,
   "id": "7ba36be4-2e0e-454c-bb13-e5a6ec787fc6",
   "metadata": {},
   "outputs": [],
   "source": [
    "## 7. Write a Python function to calculate the absolute value of a number without using the `abs()` function.\n",
    "\n",
    "def my_abs(value):\n",
    "    \"\"\"Returns absolute value without using abs function\"\"\"\n",
    "    if value < 0:\n",
    "        return -value\n",
    "    else:\n",
    "        return value\n"
   ]
  },
  {
   "cell_type": "code",
   "execution_count": 2,
   "id": "8d056beb-3179-4a32-9b6e-7ab183b6c518",
   "metadata": {},
   "outputs": [],
   "source": [
    "## 8. Develop a program that determines the largest of three given numbers using if-else statements.\n",
    "\n",
    "def largest_of_three(num1, num2, num3):\n",
    "    \"\"\"Returns the largest of three numbers\"\"\"\n",
    "    if num1 >= num2 and num1 >= num3:\n",
    "        return num1\n",
    "    elif num2 >= num1 and num2 >= num3:\n",
    "        return num2\n",
    "    else:\n",
    "        return num3\n"
   ]
  },
  {
   "cell_type": "code",
   "execution_count": 3,
   "id": "47972ce9-8704-4944-ada5-8904a2382845",
   "metadata": {},
   "outputs": [
    {
     "name": "stdout",
     "output_type": "stream",
     "text": [
      "True\n"
     ]
    }
   ],
   "source": [
    "## 9. Create a program that checks if a given string is a palindrome.\n",
    "\n",
    "def is_palindrome(string):\n",
    "    # Returns True if string is a palindrome, False otherwise\n",
    "    if len(string) <= 1: # Base case\n",
    "        return True\n",
    "    elif string[0] == string[-1]: # Check first and last character\n",
    "        return is_palindrome(string[1:-1]) # Call function on substring\n",
    "    else:\n",
    "        return False\n",
    "\n",
    "# Example\n",
    "string = \"madam\"\n",
    "print(is_palindrome(string))\n",
    "# Output: True\n"
   ]
  },
  {
   "cell_type": "code",
   "execution_count": 5,
   "id": "64de944a-be93-400c-8c3f-e3b917f6710b",
   "metadata": {},
   "outputs": [],
   "source": [
    "## 10. Write a Python program to calculate the grade based on a student's score.\n",
    "\n",
    "def calculate_grade(score):\n",
    "    \"\"\"Returns the grade based on a student's score\"\"\"\n",
    "    if score >= 91:\n",
    "        return \"A1\"\n",
    "    elif score >= 81:\n",
    "        return \"A2\"\n",
    "    elif score >= 71:\n",
    "        return \"B1\"\n",
    "    elif score >= 61:\n",
    "        return \"B2\"\n",
    "    elif score >= 51:\n",
    "        return \"C1\"\n",
    "    elif score >= 41:\n",
    "        return \"C2\"\n",
    "    elif score >= 33:\n",
    "        return \"D\"\n",
    "    elif score >= 21:\n",
    "        return \"E1\"\n",
    "    else:\n",
    "        return \"E2\"\n"
   ]
  },
  {
   "cell_type": "code",
   "execution_count": 7,
   "id": "d4e098d3-b99c-4297-86db-d1f9c53dc6d8",
   "metadata": {},
   "outputs": [
    {
     "name": "stdin",
     "output_type": "stream",
     "text": [
      "Enter the first number:  3\n",
      "Enter the second number:  5\n",
      "Enter the third number:  7\n"
     ]
    },
    {
     "name": "stdout",
     "output_type": "stream",
     "text": [
      "The largest number is 7\n"
     ]
    }
   ],
   "source": [
    "####________Nested If-Else Statements:\n",
    "    \n",
    "    \n",
    "## 11. Write a program to find the largest among three numbers using nested if-else statements.\n",
    "\n",
    "# Take three numbers as input from the user\n",
    "num1 = int(input(\"Enter the first number: \"))\n",
    "num2 = int(input(\"Enter the second number: \"))\n",
    "num3 = int(input(\"Enter the third number: \"))\n",
    "\n",
    "# Find the largest number using nested if-else statements\n",
    "if num1 > num2: # Compare the first number with the second number\n",
    "    if num1 > num3: # Compare the first number with the third number\n",
    "        print(\"The largest number is\", num1) # Print the first number as the output\n",
    "    else:\n",
    "        print(\"The largest number is\", num3) # Print the third number as the output\n",
    "else: # If the first number is not greater than the second number\n",
    "    if num2 > num3: # Compare the second number with the third number\n",
    "        print(\"The largest number is\", num2) # Print the second number as the output\n",
    "    else:\n",
    "        print(\"The largest number is\", num3) # Print the third number as the output\n"
   ]
  },
  {
   "cell_type": "code",
   "execution_count": 6,
   "id": "29e09149-3422-4f10-ae55-e3e2a5f4e24e",
   "metadata": {},
   "outputs": [],
   "source": [
    "## 12. Implement a program to determine if a triangle is equilateral, isosceles, or scalene.\n",
    "\n",
    "def triangle_type(a, b, c):\n",
    "    \"\"\"Returns the type of triangle\"\"\"\n",
    "    if a == b == c:\n",
    "        return \"Equilateral\"\n",
    "    elif a == b or b == c or c == a:\n",
    "        return \"Isosceles\"\n",
    "    else:\n",
    "        return \"Scalene\"\n"
   ]
  },
  {
   "cell_type": "code",
   "execution_count": 10,
   "id": "39bf64c5-099f-4249-a8b0-a112959a26db",
   "metadata": {},
   "outputs": [
    {
     "name": "stdin",
     "output_type": "stream",
     "text": [
      "Enter a year:  2005\n"
     ]
    },
    {
     "name": "stdout",
     "output_type": "stream",
     "text": [
      "2005 is not a century year.\n",
      "2005 is not a leap year.\n"
     ]
    }
   ],
   "source": [
    "## 13. Develop a program that checks if a year is a leap year and also if it is a century year.\n",
    "\n",
    "# Take a year as input from the user\n",
    "year = int(input(\"Enter a year: \"))\n",
    "\n",
    "# Check if the year is a leap year and a century year\n",
    "if year % 100 == 0: # Check if the year ends with 00\n",
    "    print(year, \"is a century year.\")\n",
    "    if year % 400 == 0: # Check if the year is divisible by 400\n",
    "        print(year, \"is also a leap year.\")\n",
    "    else:\n",
    "        print(year, \"is not a leap year.\")\n",
    "else: # If the year does not end with 00\n",
    "    print(year, \"is not a century year.\")\n",
    "    if year % 4 == 0: # Check if the year is divisible by 4\n",
    "        print(year, \"is a leap year.\")\n",
    "    else:\n",
    "        print(year, \"is not a leap year.\")\n"
   ]
  },
  {
   "cell_type": "code",
   "execution_count": 9,
   "id": "ade829e8-e186-4a68-8f87-2b16c7ebbc53",
   "metadata": {},
   "outputs": [
    {
     "name": "stdout",
     "output_type": "stream",
     "text": [
      "**Positive** number\n"
     ]
    }
   ],
   "source": [
    "## 14. Write a Python script to determine if a number is positive, negative, or zero.\n",
    "\n",
    "num = 5\n",
    "if num > 0:\n",
    "     print(\"**Positive** number\")\n",
    "elif num == 0:\n",
    "     print(\"**Zero**\")\n",
    "else:\n",
    "     print(\"**Negative** number\")\n",
    "\n"
   ]
  },
  {
   "cell_type": "code",
   "execution_count": 11,
   "id": "765e0f4d-47ca-4905-9288-2a7ac28829ff",
   "metadata": {},
   "outputs": [
    {
     "name": "stdin",
     "output_type": "stream",
     "text": [
      "Enter the age of the person:  34\n"
     ]
    },
    {
     "name": "stdout",
     "output_type": "stream",
     "text": [
      "The person is not a teenager.\n"
     ]
    }
   ],
   "source": [
    "## 15. Create a program to check if a person is a teenager (between 13 and 19 years old).\n",
    "\n",
    "# Take the age of the person as input from the user\n",
    "age = int(input(\"Enter the age of the person: \"))\n",
    "\n",
    "# Check if the age is between 13 and 19\n",
    "if age >= 13 and age <= 19:\n",
    "    print(\"The person is a teenager.\")\n",
    "else:\n",
    "    print(\"The person is not a teenager.\")\n"
   ]
  },
  {
   "cell_type": "code",
   "execution_count": 12,
   "id": "f34b38c7-a026-41eb-abeb-cb697e664b42",
   "metadata": {},
   "outputs": [
    {
     "name": "stdin",
     "output_type": "stream",
     "text": [
      "Enter the angle measure:  24\n"
     ]
    },
    {
     "name": "stdout",
     "output_type": "stream",
     "text": [
      "The angle is Acute\n"
     ]
    }
   ],
   "source": [
    "## 16. Develop a program that determines the type of angle based on its measure (acute, obtuse, or right).\n",
    "\n",
    "def angle_type(angle_measure):\n",
    "    if angle_measure < 90:\n",
    "        return \"Acute\"\n",
    "    elif angle_measure == 90:\n",
    "        return \"Right\"\n",
    "    elif angle_measure > 90 and angle_measure < 180:\n",
    "        return \"Obtuse\"\n",
    "    else:\n",
    "        return \"Invalid angle measure\"\n",
    "\n",
    "angle_measure = float(input(\"Enter the angle measure: \"))\n",
    "print(\"The angle is\", angle_type(angle_measure))\n"
   ]
  },
  {
   "cell_type": "code",
   "execution_count": 13,
   "id": "4feb8a54-c253-4b8b-ba65-db50d6f8a8d9",
   "metadata": {},
   "outputs": [
    {
     "name": "stdout",
     "output_type": "stream",
     "text": [
      "The roots of the equation 1x^2 + -5x + 6 = 0 are (3+0j) and (2+0j)\n"
     ]
    }
   ],
   "source": [
    "## 17. Write a Python program to calculate the roots of a quadratic equation.\n",
    "\n",
    "# Import the cmath module\n",
    "import cmath\n",
    "\n",
    "# Define a function to calculate the roots of a quadratic equation\n",
    "def quadratic_roots(a, b, c):\n",
    "    # Calculate the discriminant\n",
    "    d = b**2 - 4*a*c\n",
    "    # Find the square root of the discriminant\n",
    "    sqrt_d = cmath.sqrt(d)\n",
    "    # Use the quadratic formula to find the two roots\n",
    "    root1 = (-b + sqrt_d) / (2*a)\n",
    "    root2 = (-b - sqrt_d) / (2*a)\n",
    "    # Return the roots as a tuple\n",
    "    return (root1, root2)\n",
    "\n",
    "# Call the function with some sample values\n",
    "a = 1\n",
    "b = -5\n",
    "c = 6\n",
    "roots = quadratic_roots(a, b, c)\n",
    "# Print the results\n",
    "print(f\"The roots of the equation {a}x^2 + {b}x + {c} = 0 are {roots[0]} and {roots[1]}\")\n"
   ]
  },
  {
   "cell_type": "code",
   "execution_count": 14,
   "id": "fd29c754-33ae-450d-bead-030208b68317",
   "metadata": {},
   "outputs": [
    {
     "name": "stdin",
     "output_type": "stream",
     "text": [
      "Enter the day number (1-7):  5\n"
     ]
    },
    {
     "name": "stdout",
     "output_type": "stream",
     "text": [
      "The day of the week is Friday\n"
     ]
    }
   ],
   "source": [
    "## 18. Implement a program to determine the day of the week based on a user-provided number (1 for Monday, 2for Tuesday, etc.)\n",
    "\n",
    "def day_of_week(day_number):\n",
    "    days_of_week = [\"Monday\", \"Tuesday\", \"Wednesday\", \"Thursday\", \"Friday\", \"Saturday\", \"Sunday\"]\n",
    "    if day_number >= 1 and day_number <= 7:\n",
    "        return days_of_week[day_number - 1]\n",
    "    else:\n",
    "        return \"Invalid day number\"\n",
    "\n",
    "day_number = int(input(\"Enter the day number (1-7): \"))\n",
    "print(\"The day of the week is\", day_of_week(day_number))\n"
   ]
  },
  {
   "cell_type": "code",
   "execution_count": 16,
   "id": "4a121186-4d09-4532-b7a5-4d78fdb2dc97",
   "metadata": {},
   "outputs": [
    {
     "name": "stdin",
     "output_type": "stream",
     "text": [
      "Enter a year:  2003\n"
     ]
    },
    {
     "name": "stdout",
     "output_type": "stream",
     "text": [
      "2003 is not a leap year or evenly divisible by 100 or 400.\n"
     ]
    }
   ],
   "source": [
    "## 19. Create a program that determines if a year is a leap year and also if it is evenly divisible by 400.\n",
    "\n",
    "# Take a year as input from the user\n",
    "year = int(input(\"Enter a year: \"))\n",
    "\n",
    "# Check if the year is a leap year and also if it is evenly divisible by 400\n",
    "if year % 4 == 0: # Check if the year is divisible by 4\n",
    "    if year % 100 == 0: # Check if the year is divisible by 100\n",
    "        if year % 400 == 0: # Check if the year is divisible by 400\n",
    "            print(year, \"is a leap year and also evenly divisible by 400.\")\n",
    "        else:\n",
    "            print(year, \"is not a leap year but is evenly divisible by 100.\")\n",
    "    else:\n",
    "        print(year, \"is a leap year but not evenly divisible by 100 or 400.\")\n",
    "else: # If the year is not divisible by 4\n",
    "    print(year, \"is not a leap year or evenly divisible by 100 or 400.\")\n"
   ]
  },
  {
   "cell_type": "code",
   "execution_count": 15,
   "id": "02d4075f-cf30-4639-a003-83369140b77e",
   "metadata": {},
   "outputs": [
    {
     "name": "stdin",
     "output_type": "stream",
     "text": [
      "Enter a number:  45\n"
     ]
    },
    {
     "name": "stdout",
     "output_type": "stream",
     "text": [
      "45 is not a prime number.\n"
     ]
    }
   ],
   "source": [
    "## 20. Develop a program that checks if a given number is prime or not using nested if-else statements.\n",
    "\n",
    "import math\n",
    "\n",
    "def is_prime(number):\n",
    "    if number < 2:\n",
    "        return False\n",
    "    elif number == 2:\n",
    "        return True\n",
    "    elif number > 2:\n",
    "        if number % 2 == 0:\n",
    "            return False\n",
    "        else:\n",
    "            for i in range(3, int(math.sqrt(number)) + 1, 2):\n",
    "                if number % i == 0:\n",
    "                    return False\n",
    "            return True\n",
    "\n",
    "number = int(input(\"Enter a number: \"))\n",
    "if is_prime(number):\n",
    "    print(number, \"is a prime number.\")\n",
    "else:\n",
    "    print(number, \"is not a prime number.\")\n"
   ]
  },
  {
   "cell_type": "code",
   "execution_count": 17,
   "id": "bd03eea5-9a63-45c4-b11a-fc5448b6cd55",
   "metadata": {},
   "outputs": [
    {
     "name": "stdin",
     "output_type": "stream",
     "text": [
      "Enter the score:  85.8\n"
     ]
    },
    {
     "name": "stdout",
     "output_type": "stream",
     "text": [
      "Invalid score\n"
     ]
    }
   ],
   "source": [
    "####_______Elif Statements:\n",
    "    \n",
    "    \n",
    "## 21. Write a Python program to assign grades based on different ranges of scores using elif statements.\n",
    "\n",
    "def assign_grade(score):\n",
    "    if score >= 90:\n",
    "        return \"A\"\n",
    "    elif score >= 80:\n",
    "        return \"B\"\n",
    "    elif score >= 70:\n",
    "        return \"C\"\n",
    "    elif score >= 60:\n",
    "        return \"D\"\n",
    "    else:\n",
    "        return \"F\"\n",
    "\n",
    "score = float(input(\"Enter the score: \"))\n",
    "if score < 0.6 or score > 1.0:\n",
    "    print(\"Invalid score\")\n",
    "else:\n",
    "    grade = assign_grade(score)\n",
    "    print(f\"The grade for the score {score} is {grade}\")\n"
   ]
  },
  {
   "cell_type": "code",
   "execution_count": 18,
   "id": "fed807f7-c57a-4fa5-be56-976cb25e9f09",
   "metadata": {},
   "outputs": [
    {
     "name": "stdin",
     "output_type": "stream",
     "text": [
      "Enter the first angle:  12\n",
      "Enter the second angle:  13\n",
      "Enter the third angle:  14\n"
     ]
    },
    {
     "name": "stdout",
     "output_type": "stream",
     "text": [
      "The input is not a valid triangle.\n"
     ]
    }
   ],
   "source": [
    "## 22. Implement a program to determine the type of a triangle based on its angles.\n",
    "\n",
    "# Take the angles of the triangle as input from the user\n",
    "angle1 = float(input(\"Enter the first angle: \"))\n",
    "angle2 = float(input(\"Enter the second angle: \"))\n",
    "angle3 = float(input(\"Enter the third angle: \"))\n",
    "\n",
    "# Check if the input is a valid triangle\n",
    "if angle1 + angle2 + angle3 == 180: # The sum of the angles should be 180 degrees\n",
    "    # Check the type of the triangle based on its angles\n",
    "    if angle1 < 90 and angle2 < 90 and angle3 < 90: # All angles are less than 90 degrees\n",
    "        print(\"The triangle is an acute triangle.\")\n",
    "    elif angle1 == 90 or angle2 == 90 or angle3 == 90: # One angle is 90 degrees\n",
    "        print(\"The triangle is a right triangle.\")\n",
    "    elif angle1 > 90 or angle2 > 90 or angle3 > 90: # One angle is greater than 90 degrees\n",
    "        print(\"The triangle is an obtuse triangle.\")\n",
    "    elif angle1 == 60 and angle2 == 60 and angle3 == 60: # All angles are equal to 60 degrees\n",
    "        print(\"The triangle is an equiangular triangle.\")\n",
    "    else: # Some other scenario that we haven't accounted for\n",
    "        print(\"The triangle is of unknown type.\")\n",
    "else: # The sum of the angles is not 180 degrees\n",
    "    print(\"The input is not a valid triangle.\")\n"
   ]
  },
  {
   "cell_type": "code",
   "execution_count": 19,
   "id": "3c119f36-62d4-471a-b90d-e4ecf2709eb5",
   "metadata": {},
   "outputs": [
    {
     "name": "stdin",
     "output_type": "stream",
     "text": [
      "Enter your height in meters:  5\n",
      "Enter your weight in kilograms:  49\n"
     ]
    },
    {
     "name": "stdout",
     "output_type": "stream",
     "text": [
      "Your BMI is 1.96\n",
      "You are Underweight\n"
     ]
    }
   ],
   "source": [
    "## 23. Develop a program to categorize a given person's BMI into underweight, normal, overweight, or obese using elif statements.\n",
    "\n",
    "# Take the height and weight of the person as input from the user\n",
    "height = float(input(\"Enter your height in meters: \"))\n",
    "weight = float(input(\"Enter your weight in kilograms: \"))\n",
    "\n",
    "# Calculate the BMI value\n",
    "bmi = weight / (height ** 2)\n",
    "\n",
    "# Check the BMI category of the person using elif statements\n",
    "if bmi < 18.5:\n",
    "    category = \"Underweight\"\n",
    "elif bmi < 25:\n",
    "    category = \"Normal\"\n",
    "elif bmi < 30:\n",
    "    category = \"Overweight\"\n",
    "else:\n",
    "    category = \"Obese\"\n",
    "\n",
    "# Print the BMI value and the BMI category of the person\n",
    "print(f\"Your BMI is {bmi:.2f}\")\n",
    "print(f\"You are {category}\")\n"
   ]
  },
  {
   "cell_type": "code",
   "execution_count": 20,
   "id": "d3a7aa5e-b60a-438a-84a0-95d739862e1f",
   "metadata": {},
   "outputs": [
    {
     "name": "stdin",
     "output_type": "stream",
     "text": [
      "Enter a number:  -7\n"
     ]
    },
    {
     "name": "stdout",
     "output_type": "stream",
     "text": [
      "The number -7.0 is negative.\n"
     ]
    }
   ],
   "source": [
    "## 24. Create a program that determines whether a given number is positive, negative, or zero using elif statements.\n",
    "\n",
    "def check_number(number):\n",
    "    if number > 0:\n",
    "        return \"positive\"\n",
    "    elif number < 0:\n",
    "        return \"negative\"\n",
    "    else:\n",
    "        return \"zero\"\n",
    "\n",
    "number = float(input(\"Enter a number: \"))\n",
    "print(f\"The number {number} is {check_number(number)}.\")\n"
   ]
  },
  {
   "cell_type": "code",
   "execution_count": 22,
   "id": "b4e82077-161a-4ff9-8f55-ca51256680f3",
   "metadata": {},
   "outputs": [
    {
     "name": "stdin",
     "output_type": "stream",
     "text": [
      "Enter a character:  8\n"
     ]
    },
    {
     "name": "stdout",
     "output_type": "stream",
     "text": [
      "8 is a special character.\n"
     ]
    }
   ],
   "source": [
    "## 25. Write a Python script to determine the type of a character (uppercase, lowercase, or special) using elif statements.\n",
    "\n",
    "character = input(\"Enter a character: \")\n",
    "\n",
    "if character.isupper():\n",
    "    print(f\"{character} is an uppercase letter.\")\n",
    "elif character.islower():\n",
    "    print(f\"{character} is a lowercase letter.\")\n",
    "else:\n",
    "    print(f\"{character} is a special character.\")\n"
   ]
  },
  {
   "cell_type": "code",
   "execution_count": 21,
   "id": "ee52c9f7-a54e-4711-932f-759fe7e21689",
   "metadata": {},
   "outputs": [
    {
     "name": "stdin",
     "output_type": "stream",
     "text": [
      "Enter the total cost of your purchase:  203\n"
     ]
    },
    {
     "name": "stdout",
     "output_type": "stream",
     "text": [
      "You have won a discount of 10%!\n",
      "The final cost of your purchase is $182.70.\n"
     ]
    }
   ],
   "source": [
    "## 26. Implement a program to calculate the discounted price based on different purchase amounts using elif statements.\n",
    "\n",
    "total_cost = float(input(\"Enter the total cost of your purchase: \"))\n",
    "\n",
    "if total_cost >= 500:\n",
    "    print(\"You have won a discount of 15%!\")\n",
    "    total_cost *= 0.85\n",
    "elif total_cost >= 100:\n",
    "    print(\"You have won a discount of 10%!\")\n",
    "    total_cost *= 0.9\n",
    "elif total_cost >= 50:\n",
    "    print(\"You have won a discount of 5%!\")\n",
    "    total_cost *= 0.95\n",
    "else:\n",
    "    print(\"Sorry, you are not eligible for any discount.\")\n",
    "\n",
    "print(f\"The final cost of your purchase is ${total_cost:.2f}.\")\n"
   ]
  },
  {
   "cell_type": "code",
   "execution_count": 23,
   "id": "41a1baab-6d18-4d1a-99d5-8cc4818fe1a1",
   "metadata": {},
   "outputs": [
    {
     "name": "stdin",
     "output_type": "stream",
     "text": [
      "Enter the number of units consumed:  120\n"
     ]
    },
    {
     "name": "stdout",
     "output_type": "stream",
     "text": [
      "The total electricity bill for 120 units is $1300.00.\n"
     ]
    }
   ],
   "source": [
    "## 27. Develop a program to calculate the electricity bill based on different consumption slabs using elif statements\n",
    "\n",
    "units = int(input(\"Enter the number of units consumed: \"))\n",
    "\n",
    "if units <= 100:\n",
    "    bill = units * 10\n",
    "elif units <= 200:\n",
    "    bill = 1000 + (units - 100) * 15\n",
    "elif units <= 300:\n",
    "    bill = 2500 + (units - 200) * 20\n",
    "else:\n",
    "    bill = 4500 + (units - 300) * 25\n",
    "\n",
    "print(f\"The total electricity bill for {units} units is ${bill:.2f}.\")\n"
   ]
  },
  {
   "cell_type": "code",
   "execution_count": 24,
   "id": "a65cbbad-219b-4a7f-99d8-41f0a4f1fa5d",
   "metadata": {},
   "outputs": [
    {
     "name": "stdin",
     "output_type": "stream",
     "text": [
      "Enter the first angle:  3\n",
      "Enter the second angle:  5\n",
      "Enter the third angle:  2\n",
      "Enter the fourth angle:  4\n"
     ]
    },
    {
     "name": "stdout",
     "output_type": "stream",
     "text": [
      "The quadrilateral is a general quadrilateral.\n"
     ]
    }
   ],
   "source": [
    "## 28. Create a program to determine the type of quadrilateral based on its angles and sides using elif statements.\n",
    "\n",
    "a = int(input(\"Enter the first angle: \"))\n",
    "b = int(input(\"Enter the second angle: \"))\n",
    "c = int(input(\"Enter the third angle: \"))\n",
    "d = int(input(\"Enter the fourth angle: \"))\n",
    "\n",
    "if a == b == c == d:\n",
    "    print(\"The quadrilateral is a square.\")\n",
    "elif a == c and b == d or a == b and c == d or a == d and b == c:\n",
    "    print(\"The quadrilateral is a rectangle.\")\n",
    "elif a == b == c or b == c == d or c == d == a or d == a == b:\n",
    "    print(\"The quadrilateral is a rhombus.\")\n",
    "elif a == b and c == d or a == d and b == c:\n",
    "    print(\"The quadrilateral is a kite.\")\n",
    "else:\n",
    "    print(\"The quadrilateral is a general quadrilateral.\")\n"
   ]
  },
  {
   "cell_type": "code",
   "execution_count": 25,
   "id": "16d693f3-9c19-4934-bf59-6d868a4dec95",
   "metadata": {},
   "outputs": [
    {
     "name": "stdin",
     "output_type": "stream",
     "text": [
      "Enter a month (1-12):  5\n"
     ]
    },
    {
     "name": "stdout",
     "output_type": "stream",
     "text": [
      "The season is spring.\n"
     ]
    }
   ],
   "source": [
    "## 29. Write a Python script to determine the season based on a user-provided month using elif statements.\n",
    "\n",
    "month = int(input(\"Enter a month (1-12): \"))\n",
    "\n",
    "if month in [12, 1, 2, 3]:\n",
    "    print(\"The season is winter.\")\n",
    "elif month in [4, 5]:\n",
    "    print(\"The season is spring.\")\n",
    "elif month in [6, 7, 8, 9]:\n",
    "    print(\"The season is summer.\")\n",
    "elif month in [10, 11]:\n",
    "    print(\"The season is fall.\")\n",
    "else:\n",
    "    print(\"Invalid input. Please enter a month between 1 and 12.\")\n"
   ]
  },
  {
   "cell_type": "code",
   "execution_count": 26,
   "id": "c44207bf-a866-45b0-9116-fb89e746145e",
   "metadata": {},
   "outputs": [
    {
     "name": "stdin",
     "output_type": "stream",
     "text": [
      "Enter a year:  2004\n"
     ]
    },
    {
     "name": "stdout",
     "output_type": "stream",
     "text": [
      "2004 is a leap year.\n"
     ]
    },
    {
     "name": "stdin",
     "output_type": "stream",
     "text": [
      "Enter a month (1-12):  5\n"
     ]
    },
    {
     "name": "stdout",
     "output_type": "stream",
     "text": [
      "The month 5 has 31 days.\n"
     ]
    }
   ],
   "source": [
    "## 30. Implement a program to determine the type of a year (leap or common) and month (30 or 31 days) using elif statements.\n",
    "\n",
    "def is_leap_year(year):\n",
    "    if year % 4 == 0:\n",
    "        if year % 100 == 0:\n",
    "            if year % 400 == 0:\n",
    "                return True\n",
    "            else:\n",
    "                return False\n",
    "        else:\n",
    "            return True\n",
    "    else:\n",
    "        return False\n",
    "\n",
    "def days_in_month(month, year):\n",
    "    if month in [1, 3, 5, 7, 8, 10, 12]:\n",
    "        return 31\n",
    "    elif month == 2:\n",
    "        if is_leap_year(year):\n",
    "            return 29\n",
    "        else:\n",
    "            return 28\n",
    "    else:\n",
    "        return 30\n",
    "\n",
    "year = int(input(\"Enter a year: \"))\n",
    "if is_leap_year(year):\n",
    "    print(f\"{year} is a leap year.\")\n",
    "else:\n",
    "    print(f\"{year} is not a leap year.\")\n",
    "\n",
    "month = int(input(\"Enter a month (1-12): \"))\n",
    "days = days_in_month(month, year)\n",
    "print(f\"The month {month} has {days} days.\")\n"
   ]
  },
  {
   "cell_type": "code",
   "execution_count": 27,
   "id": "11470d67-2bf3-4d06-8df3-f7c0b6b51458",
   "metadata": {},
   "outputs": [
    {
     "name": "stdin",
     "output_type": "stream",
     "text": [
      "Enter a number:  -2.3\n"
     ]
    },
    {
     "name": "stdout",
     "output_type": "stream",
     "text": [
      "-2.3 is a negative number.\n"
     ]
    }
   ],
   "source": [
    "####_______Basic Level:\n",
    "\n",
    " \n",
    "###1. Write a Python program that checks if a given number is positive, negative, or zero.\n",
    "\n",
    "num = float(input(\"Enter a number: \"))\n",
    "if num > 0:\n",
    "    print(f\"{num} is a positive number.\")\n",
    "elif num == 0:\n",
    "    print(f\"{num} is zero.\")\n",
    "else:\n",
    "    print(f\"{num} is a negative number.\")\n"
   ]
  },
  {
   "cell_type": "code",
   "execution_count": 28,
   "id": "297c14f5-4ac4-4ec8-88fe-e537f3c97304",
   "metadata": {},
   "outputs": [
    {
     "name": "stdin",
     "output_type": "stream",
     "text": [
      "Enter your age:  13\n"
     ]
    },
    {
     "name": "stdout",
     "output_type": "stream",
     "text": [
      "You are 13 years old and not eligible to vote.\n"
     ]
    }
   ],
   "source": [
    "## 2. Create a program to determine if a person is eligible to vote based on their age.\n",
    "\n",
    "age = int(input(\"Enter your age: \"))\n",
    "if age >= 18:\n",
    "    print(f\"You are {age} years old and eligible to vote.\")\n",
    "else:\n",
    "    print(f\"You are {age} years old and not eligible to vote.\")\n"
   ]
  },
  {
   "cell_type": "code",
   "execution_count": 29,
   "id": "ec1c9091-a1f4-4ba7-bf29-9df1303f8bb2",
   "metadata": {},
   "outputs": [
    {
     "name": "stdin",
     "output_type": "stream",
     "text": [
      "Enter the first number:  2\n",
      "Enter the second number:  3\n"
     ]
    },
    {
     "name": "stdout",
     "output_type": "stream",
     "text": [
      "The maximum of 2.0 and 3.0 is 3.0.\n"
     ]
    }
   ],
   "source": [
    "## 3. Write a program to find the maximum of two given numbers using conditional statements.\n",
    "\n",
    "num1 = float(input(\"Enter the first number: \"))\n",
    "num2 = float(input(\"Enter the second number: \"))\n",
    "\n",
    "if num1 > num2:\n",
    "    print(f\"The maximum of {num1} and {num2} is {num1}.\")\n",
    "elif num2 > num1:\n",
    "    print(f\"The maximum of {num1} and {num2} is {num2}.\")\n",
    "else:\n",
    "    print(f\"{num1} and {num2} are equal.\")\n"
   ]
  },
  {
   "cell_type": "code",
   "execution_count": 30,
   "id": "adb07d77-1f64-4619-a175-893c2a50ba86",
   "metadata": {},
   "outputs": [
    {
     "name": "stdin",
     "output_type": "stream",
     "text": [
      "Enter five test scores separated by commas:  76\n"
     ]
    },
    {
     "name": "stdout",
     "output_type": "stream",
     "text": [
      "The average score is: 76.0\n",
      "The letter grade is: C\n"
     ]
    }
   ],
   "source": [
    "## 4. Develop a program that calculates the grade of a student based on their exam score.\n",
    "\n",
    "\n",
    "# Define a function to determine the letter grade based on the score\n",
    "def determine_grade(score):\n",
    "  if score >= 91 and score <= 100:\n",
    "    return \"A\"\n",
    "  elif score >= 81 and score < 91:\n",
    "    return \"B\"\n",
    "  elif score >= 71 and score < 81:\n",
    "    return \"C\"\n",
    "  elif score >= 61 and score < 71:\n",
    "    return \"D\"\n",
    "  else:\n",
    "    return \"F\"\n",
    "\n",
    "# Define a function to calculate the average of a list of numbers\n",
    "def calculate_average(numbers):\n",
    "  total = sum(numbers)\n",
    "  count = len(numbers)\n",
    "  return total / count\n",
    "\n",
    "# Ask the user to enter five test scores separated by commas\n",
    "scores = input(\"Enter five test scores separated by commas: \")\n",
    "\n",
    "# Convert the input string into a list of integers\n",
    "scores = [int(num) for num in scores.split(\",\")]\n",
    "\n",
    "# Calculate the average and the letter grade\n",
    "average = calculate_average(scores)\n",
    "grade = determine_grade(average)\n",
    "\n",
    "# Print the results\n",
    "print(\"The average score is:\", average)\n",
    "print(\"The letter grade is:\", grade)\n"
   ]
  },
  {
   "cell_type": "code",
   "execution_count": 34,
   "id": "5bc428ef-a114-495d-a950-42da63802b4c",
   "metadata": {},
   "outputs": [
    {
     "name": "stdin",
     "output_type": "stream",
     "text": [
      "Enter a year:  2007\n"
     ]
    },
    {
     "name": "stdout",
     "output_type": "stream",
     "text": [
      "2007 is not a leap year.\n"
     ]
    }
   ],
   "source": [
    "## 5. Create a program that checks if a year is a leap year or not.\n",
    "\n",
    " # Ask the user to enter a year\n",
    "year = int(input(\"Enter a year: \"))\n",
    "\n",
    "# Call the function with the user's input as an argument\n",
    "result = is_leap_year(year)\n",
    "\n",
    "# Display a message based on the result\n",
    "if result:\n",
    "  print(year, \"is a leap year.\")\n",
    "else:\n",
    "  print(year, \"is not a leap year.\")\n",
    "\n"
   ]
  },
  {
   "cell_type": "code",
   "execution_count": 35,
   "id": "f9a21977-5ab9-4125-b10e-e822981512a0",
   "metadata": {},
   "outputs": [],
   "source": [
    "## 6. Write a program to classify a triangle based on its sides' lengths.\n",
    "\n",
    "def classify_triangle(a: float, b: float, c: float) -> str:\n",
    "  \n",
    "    if a <= 0 or b <= 0 or c <= 0:\n",
    "        return \"Invalid input: Sides cannot be negative or zero.\"\n",
    "    elif a + b <= c or a + c <= b or b + c <= a:\n",
    "        return \"Invalid input: The sum of any two sides must be greater than the third.\"\n",
    "    elif a == b == c:\n",
    "        return \"**Equilateral** triangle: All sides are of equal length.\"\n",
    "    elif a == b or b == c or a == c:\n",
    "        return \"**Isosceles** triangle: Two sides are of equal length.\"\n",
    "    else:\n",
    "        return \"**Scalene** triangle: No sides are of equal length.\"\n",
    "\n"
   ]
  },
  {
   "cell_type": "code",
   "execution_count": 36,
   "id": "c0f49487-665c-4391-b889-0690b7a497a1",
   "metadata": {},
   "outputs": [
    {
     "data": {
      "text/plain": [
       "'Invalid input: The sum of any two sides must be greater than the third.'"
      ]
     },
     "execution_count": 36,
     "metadata": {},
     "output_type": "execute_result"
    }
   ],
   "source": [
    "classify_triangle(2.3,1.3,4.5)"
   ]
  },
  {
   "cell_type": "code",
   "execution_count": 37,
   "id": "e1d86959-0e19-4ab7-8aeb-513ed02bcdf4",
   "metadata": {},
   "outputs": [
    {
     "name": "stdin",
     "output_type": "stream",
     "text": [
      "Enter the first number:  2\n",
      "Enter the second number:  3\n",
      "Enter the third number:  1\n"
     ]
    },
    {
     "name": "stdout",
     "output_type": "stream",
     "text": [
      "The largest number is 3\n"
     ]
    }
   ],
   "source": [
    "## 7. Build a program that determines the largest of three given numbers\n",
    "\n",
    "# ask the user to enter three numbers\n",
    "a = int(input(\"Enter the first number: \"))\n",
    "b = int(input(\"Enter the second number: \"))\n",
    "c = int(input(\"Enter the third number: \"))\n",
    "# use the ternary operator to find the largest number\n",
    "largest = a if a > b and a > c else (b if b > c else c)\n",
    "print(\"The largest number is\", largest)\n"
   ]
  },
  {
   "cell_type": "code",
   "execution_count": 38,
   "id": "b7f2d358-9cf6-4a02-bf3f-6a206f713e1d",
   "metadata": {},
   "outputs": [],
   "source": [
    "## 8. Develop a program that checks whether a character is a vowel or a consonant.\n",
    "\n",
    "def check_vowel_or_consonant(char: str) -> str:\n",
    "    \"\"\"\n",
    "    Check whether a character is a vowel or a consonant.\n",
    "\n",
    "    Args:\n",
    "    char: str - the character to be checked\n",
    "\n",
    "    Returns:\n",
    "    str - a string that describes whether the character is a vowel or a consonant\n",
    "    \"\"\"\n",
    "    if not char.isalpha():\n",
    "        return \"Invalid input: Please enter an alphabet.\"\n",
    "    elif char in \"aeiouAEIOU\":\n",
    "        return \"**Vowel**\"\n",
    "    else:\n",
    "        return \"**Consonant**\"\n",
    "\n"
   ]
  },
  {
   "cell_type": "code",
   "execution_count": 39,
   "id": "fcc4966e-328f-413e-8430-1968525eb354",
   "metadata": {},
   "outputs": [
    {
     "data": {
      "text/plain": [
       "'**Consonant**'"
      ]
     },
     "execution_count": 39,
     "metadata": {},
     "output_type": "execute_result"
    }
   ],
   "source": [
    "check_vowel_or_consonant('c')"
   ]
  },
  {
   "cell_type": "code",
   "execution_count": 4,
   "id": "9084b0d0-c418-436d-9a6b-9bc881130cc0",
   "metadata": {},
   "outputs": [
    {
     "name": "stdout",
     "output_type": "stream",
     "text": [
      "The total cost of the shopping cart is 9.3\n"
     ]
    }
   ],
   "source": [
    "# Define a dictionary to store the items and their prices\n",
    "items = {\"apple\": 0.5, \"banana\": 0.4, \"orange\": 0.6, \"milk\": 1.2, \"bread\": 1.0, \"cheese\": 2.5}\n",
    "\n",
    "# Define a function to calculate the total cost of the shopping cart\n",
    "def calculate_total(cart):\n",
    "  # Initialize the total cost to zero\n",
    "  total = 0\n",
    "  # Loop through the items in the cart\n",
    "  for item, quantity in cart.items():\n",
    "    # Get the price of the item from the dictionary\n",
    "    price = items.get(item, 0)\n",
    "    # Add the cost of the item to the total\n",
    "    total += price * quantity\n",
    " #more than 10, apply a 10% discount\n",
    "  if total > 10:\n",
    "    total = total * 0.9\n",
    "  # Return the total cost\n",
    "  return total\n",
    "\n",
    "# Create a dictionary to store the items and their quantities in the cart\n",
    "cart = {\"apple\": 4, \"banana\": 6, \"milk\": 2, \"cheese\": 1}\n",
    "# Call the function to calculate the total cost\n",
    "total = calculate_total(cart)\n",
    "# Print the result\n",
    "print(\"The total cost of the shopping cart is\", total)\n"
   ]
  },
  {
   "cell_type": "code",
   "execution_count": 5,
   "id": "fa8056fe-ae66-44f9-add8-acf5e8bc5412",
   "metadata": {},
   "outputs": [
    {
     "name": "stdin",
     "output_type": "stream",
     "text": [
      "Enter a number:  4\n"
     ]
    },
    {
     "name": "stdout",
     "output_type": "stream",
     "text": [
      "4 is even.\n"
     ]
    }
   ],
   "source": [
    "##10. Write a program that checks if a given number is even or odd in python\n",
    "\n",
    "# Ask the user to enter a number\n",
    "num = int(input(\"Enter a number: \"))\n",
    "\n",
    "# Check if the number is divisible by 2\n",
    "if num % 2 == 0:\n",
    "  # The number is even\n",
    "  print(num, \"is even.\")\n",
    "else:\n",
    "  # The number is odd\n",
    "  print(num, \"is odd.\")\n"
   ]
  },
  {
   "cell_type": "code",
   "execution_count": 20,
   "id": "0a7e9949-fe6c-44f0-88d6-74b8dcfd32f4",
   "metadata": {},
   "outputs": [
    {
     "name": "stdin",
     "output_type": "stream",
     "text": [
      "Enter the value of a:  4\n",
      "Enter the value of b:  3\n",
      "Enter the value of c:  2\n"
     ]
    },
    {
     "name": "stdout",
     "output_type": "stream",
     "text": [
      "The roots are -0.375 + 0.5994789404140899 i and -0.375 - 0.5994789404140899 i\n"
     ]
    }
   ],
   "source": [
    "###______Intermediate Level:\n",
    "\n",
    "\n",
    "## 11. Write a program that calculates the roots of a quadratic equation .\n",
    "\n",
    "## formula of quadratic equcation x = (-b ± √(b^2 - 4ac)) / 2a\n",
    "\n",
    "\n",
    "# Import the math module for square root function\n",
    "import math\n",
    "\n",
    "# Input the values of a, b, and c from the user\n",
    "a = float(input(\"Enter the value of a: \"))\n",
    "b = float(input(\"Enter the value of b: \"))\n",
    "c = float(input(\"Enter the value of c: \"))\n",
    "\n",
    "# Compute the discriminant\n",
    "d = b**2 - 4*a*c\n",
    "\n",
    "# Check the nature of the discriminant and apply the quadratic formula\n",
    "if d > 0:\n",
    "  # The roots are real and distinct\n",
    "  x1 = (-b + math.sqrt(d)) / (2*a)\n",
    "  x2 = (-b - math.sqrt(d)) / (2*a)\n",
    "  print(\"The roots are\", x1, \"and\", x2)\n",
    "elif d == 0:\n",
    "  # The roots are real and equal\n",
    "  x = -b / (2*a)\n",
    "  print(\"The root is\", x)\n",
    "else: \n",
    "  # The roots are complex and conjugate\n",
    "  x_real = -b / (2*a)\n",
    "  x_imag = math.sqrt(-d) / (2*a)\n",
    "  print(\"The roots are\", x_real, \"+\", x_imag, \"i and\", x_real, \"-\", x_imag, \"i\")\n"
   ]
  },
  {
   "cell_type": "code",
   "execution_count": 21,
   "id": "0f094da4-2ad9-4c83-b8ef-71f1e246ab85",
   "metadata": {},
   "outputs": [
    {
     "name": "stdin",
     "output_type": "stream",
     "text": [
      "Enter the day number (1-7):  9\n"
     ]
    },
    {
     "name": "stdout",
     "output_type": "stream",
     "text": [
      "Invalid day number. Please enter a number between 1 and 7.\n"
     ]
    }
   ],
   "source": [
    "## 12. Create a program that determines the day of the week based on the day number (1-7).\n",
    "\n",
    "days = [\"Monday\", \"Tuesday\", \"Wednesday\", \"Thursday\", \"Friday\", \"Saturday\", \"Sunday\"]\n",
    "day_number = int(input(\"Enter the day number (1-7): \"))\n",
    "if day_number >= 1 and day_number <= 7:\n",
    "    print(f\"The day of the week is {days[day_number - 1]}.\")\n",
    "else:\n",
    "    print(\"Invalid day number. Please enter a number between 1 and 7.\")\n"
   ]
  },
  {
   "cell_type": "code",
   "execution_count": 22,
   "id": "03fd837c-f739-4332-82c5-f1c50ee54b03",
   "metadata": {},
   "outputs": [
    {
     "name": "stdin",
     "output_type": "stream",
     "text": [
      "Enter a number:  5\n"
     ]
    },
    {
     "name": "stdout",
     "output_type": "stream",
     "text": [
      "The factorial of 5 is 120\n"
     ]
    }
   ],
   "source": [
    "## 13. Develop a program that calculates the factorial of a given number using recursion.\n",
    "\n",
    "# Define a function to calculate the factorial of a number using recursion\n",
    "def factorial(n):\n",
    "  # Check if the number is 0 or 1\n",
    "  if n == 0 or n == 1:\n",
    "    # Return 1\n",
    "    return 1\n",
    "  else:\n",
    "    # Multiply the number by the factorial of the number minus one\n",
    "    return n * factorial(n - 1)\n",
    "\n",
    "# Example usage\n",
    "# Input the number from the user\n",
    "num = int(input(\"Enter a number: \"))\n",
    "\n",
    "# Call the function and print the result\n",
    "print(\"The factorial of\", num, \"is\", factorial(num))\n"
   ]
  },
  {
   "cell_type": "code",
   "execution_count": 24,
   "id": "e57671b5-b9ad-405a-ae58-523871116133",
   "metadata": {},
   "outputs": [
    {
     "name": "stdin",
     "output_type": "stream",
     "text": [
      "Enter the first number:  3\n",
      "Enter the second number:  4\n",
      "Enter the third number:  5\n"
     ]
    },
    {
     "name": "stdout",
     "output_type": "stream",
     "text": [
      "The largest number among 3, 4, and 5 is 5.\n"
     ]
    }
   ],
   "source": [
    "## 14. Write a program to find the largest among three numbers without using the `max()` function.\n",
    "\n",
    "a = int(input(\"Enter the first number: \"))\n",
    "b = int(input(\"Enter the second number: \"))\n",
    "c = int(input(\"Enter the third number: \"))\n",
    "\n",
    "if a > b:\n",
    "    if a > c:\n",
    "        largest = a\n",
    "    else:\n",
    "        largest = c\n",
    "else:\n",
    "    if b > c:\n",
    "        largest = b\n",
    "    else:\n",
    "        largest = c\n",
    "\n",
    "print(f\"The largest number among {a}, {b}, and {c} is {largest}.\")\n"
   ]
  },
  {
   "cell_type": "code",
   "execution_count": 27,
   "id": "1a725947-feb3-4bf2-a6f1-b4a329447722",
   "metadata": {},
   "outputs": [
    {
     "name": "stdout",
     "output_type": "stream",
     "text": [
      "ATM Menu:\n",
      "1. Withdraw\n",
      "2. Deposit\n",
      "3. Check balance\n",
      "4. Exit\n"
     ]
    },
    {
     "name": "stdin",
     "output_type": "stream",
     "text": [
      "Enter your choice:  2\n",
      "Enter amount to deposit:  1000\n"
     ]
    },
    {
     "name": "stdout",
     "output_type": "stream",
     "text": [
      "Deposit successful. New balance: $2000.00.\n",
      "ATM Menu:\n",
      "1. Withdraw\n",
      "2. Deposit\n",
      "3. Check balance\n",
      "4. Exit\n"
     ]
    },
    {
     "name": "stdin",
     "output_type": "stream",
     "text": [
      "Enter your choice:  3\n"
     ]
    },
    {
     "name": "stdout",
     "output_type": "stream",
     "text": [
      "Current balance: $2000.00.\n",
      "ATM Menu:\n",
      "1. Withdraw\n",
      "2. Deposit\n",
      "3. Check balance\n",
      "4. Exit\n"
     ]
    },
    {
     "name": "stdin",
     "output_type": "stream",
     "text": [
      "Enter your choice:  4\n"
     ]
    },
    {
     "name": "stdout",
     "output_type": "stream",
     "text": [
      "Goodbye!\n"
     ]
    }
   ],
   "source": [
    "## 15. Create a program that simulates a basic ATM transaction menu.\n",
    "\n",
    "\n",
    "balance = 1000\n",
    "\n",
    "while True:\n",
    "    print(\"ATM Menu:\")\n",
    "    print(\"1. Withdraw\")\n",
    "    print(\"2. Deposit\")\n",
    "    print(\"3. Check balance\")\n",
    "    print(\"4. Exit\")\n",
    "    choice = input(\"Enter your choice: \")\n",
    "\n",
    "    if choice == \"1\":\n",
    "        amount = float(input(\"Enter amount to withdraw: \"))\n",
    "        if amount > balance:\n",
    "            print(\"Insufficient funds.\")\n",
    "        else:\n",
    "            balance -= amount\n",
    "            print(f\"Withdrawal successful. New balance: ${balance:.2f}.\")\n",
    "    elif choice == \"2\":\n",
    "        amount = float(input(\"Enter amount to deposit: \"))\n",
    "        balance += amount\n",
    "        print(f\"Deposit successful. New balance: ${balance:.2f}.\")\n",
    "    elif choice == \"3\":\n",
    "        print(f\"Current balance: ${balance:.2f}.\")\n",
    "    elif choice == \"4\":\n",
    "        print(\"Goodbye!\")\n",
    "        break\n",
    "    else:\n",
    "        print(\"Invalid choice. Please try again.\")\n"
   ]
  },
  {
   "cell_type": "code",
   "execution_count": 26,
   "id": "8e2d0e1d-918d-4c03-8ea9-ad7455bc4e9a",
   "metadata": {},
   "outputs": [
    {
     "name": "stdin",
     "output_type": "stream",
     "text": [
      "Enter a string:  nitin\n"
     ]
    },
    {
     "name": "stdout",
     "output_type": "stream",
     "text": [
      "The string is a palindrome.\n"
     ]
    }
   ],
   "source": [
    "## 16. Build a program that checks if a given string is a palindrome or not.\n",
    "\n",
    "# Ask the user to enter a string\n",
    "string = input(\"Enter a string: \")\n",
    "\n",
    "# Convert the string to lowercase\n",
    "string = string.lower()\n",
    "\n",
    "# Reverse the string\n",
    "reversed_string = string[::-1]\n",
    "\n",
    "# Compare the original and reversed strings\n",
    "if string == reversed_string:\n",
    "  # The string is a palindrome\n",
    "  print(\"The string is a palindrome.\")\n",
    "else:\n",
    "  # The string is not a palindrome\n",
    "  print(\"The string is not a palindrome.\")\n"
   ]
  },
  {
   "cell_type": "code",
   "execution_count": 30,
   "id": "266497f5-8b36-48c6-a921-375519f9f86d",
   "metadata": {},
   "outputs": [
    {
     "name": "stdin",
     "output_type": "stream",
     "text": [
      "Enter a list of numbers separated by commas:  34\n"
     ]
    },
    {
     "name": "stdout",
     "output_type": "stream",
     "text": [
      "The centered average of the list is: 34.0\n"
     ]
    }
   ],
   "source": [
    "## 17. Write a program that calculates the average of a list of numbers, excluding the smallest and largest values.\n",
    "\n",
    "# Ask the user to enter a list of numbers separated by commas\n",
    "numbers = input(\"Enter a list of numbers separated by commas: \")\n",
    "\n",
    "# Convert the input string into a list of floats\n",
    "numbers = [float(num) for num in numbers.split(\",\")]\n",
    "\n",
    "# Find the minimum and maximum values in the list\n",
    "min_value = min(numbers)\n",
    "max_value = max(numbers)\n",
    "\n",
    "# Find the sum of the list\n",
    "sum_value = sum(numbers)\n",
    "\n",
    "# Subtract the minimum and maximum values from the sum\n",
    "sum_value = sum_value - min_value - max_value\n",
    "\n",
    "# Find the length of the list\n",
    "len_value = len(numbers)\n",
    "\n",
    "# Subtract 2 from the length to account for the excluded values\n",
    "len_value = len_value - 2\n",
    "\n",
    "# Calculate the centered average by dividing the sum by the length\n",
    "centered_average = sum_value / len_value\n",
    "\n",
    "# Print the result\n",
    "print(\"The centered average of the list is:\", centered_average)\n"
   ]
  },
  {
   "cell_type": "code",
   "execution_count": 31,
   "id": "4bfe3a3e-7168-496a-af63-58a78cdb82ca",
   "metadata": {},
   "outputs": [
    {
     "name": "stdin",
     "output_type": "stream",
     "text": [
      "Enter the temperature in Celsius:  37\n"
     ]
    },
    {
     "name": "stdout",
     "output_type": "stream",
     "text": [
      "The temperature in Fahrenheit is: 98.6\n"
     ]
    }
   ],
   "source": [
    "## 18. Develop a program that converts a given temperature from Celsius to Fahrenheit.\n",
    "\n",
    "# Ask the user to enter a temperature in Celsius\n",
    "celsius = float(input(\"Enter the temperature in Celsius: \"))\n",
    "\n",
    "# Apply the formula to convert to Fahrenheit\n",
    "fahrenheit = celsius * 9/5 + 32\n",
    "\n",
    "# Print the result\n",
    "print(\"The temperature in Fahrenheit is:\", fahrenheit)\n"
   ]
  },
  {
   "cell_type": "code",
   "execution_count": 32,
   "id": "2826929a-19e5-488b-9410-77035eba4f5e",
   "metadata": {},
   "outputs": [
    {
     "name": "stdout",
     "output_type": "stream",
     "text": [
      "Calculator Menu:\n",
      "1. Add\n",
      "2. Subtract\n",
      "3. Multiply\n",
      "4. Divide\n",
      "5. Exit\n"
     ]
    },
    {
     "name": "stdin",
     "output_type": "stream",
     "text": [
      "Enter your choice (1-5):  3\n",
      "Enter the first number:  2\n",
      "Enter the second number:  3\n"
     ]
    },
    {
     "name": "stdout",
     "output_type": "stream",
     "text": [
      "2.0 * 3.0 = 6.0\n",
      "Calculator Menu:\n",
      "1. Add\n",
      "2. Subtract\n",
      "3. Multiply\n",
      "4. Divide\n",
      "5. Exit\n"
     ]
    },
    {
     "name": "stdin",
     "output_type": "stream",
     "text": [
      "Enter your choice (1-5):  5\n"
     ]
    },
    {
     "name": "stdout",
     "output_type": "stream",
     "text": [
      "Goodbye!\n"
     ]
    }
   ],
   "source": [
    "## 19. Create a program that simulates a basic calculator for addition, subtraction, multiplication, and division.\n",
    "\n",
    "while True:\n",
    "    print(\"Calculator Menu:\")\n",
    "    print(\"1. Add\")\n",
    "    print(\"2. Subtract\")\n",
    "    print(\"3. Multiply\")\n",
    "    print(\"4. Divide\")\n",
    "    print(\"5. Exit\")\n",
    "    choice = input(\"Enter your choice (1-5): \")\n",
    "\n",
    "    if choice == \"1\":\n",
    "        num1 = float(input(\"Enter the first number: \"))\n",
    "        num2 = float(input(\"Enter the second number: \"))\n",
    "        result = num1 + num2\n",
    "        print(f\"{num1} + {num2} = {result}\")\n",
    "    elif choice == \"2\":\n",
    "        num1 = float(input(\"Enter the first number: \"))\n",
    "        num2 = float(input(\"Enter the second number: \"))\n",
    "        result = num1 - num2\n",
    "        print(f\"{num1} - {num2} = {result}\")\n",
    "    elif choice == \"3\":\n",
    "        num1 = float(input(\"Enter the first number: \"))\n",
    "        num2 = float(input(\"Enter the second number: \"))\n",
    "        result = num1 * num2\n",
    "        print(f\"{num1} * {num2} = {result}\")\n",
    "    elif choice == \"4\":\n",
    "        num1 = float(input(\"Enter the first number: \"))\n",
    "        num2 = float(input(\"Enter the second number: \"))\n",
    "        if num2 == 0:\n",
    "            print(\"Cannot divide by zero.\")\n",
    "        else:\n",
    "            result = num1 / num2\n",
    "            print(f\"{num1} / {num2} = {result}\")\n",
    "    elif choice == \"5\":\n",
    "        print(\"Goodbye!\")\n",
    "        break\n",
    "    else:\n",
    "        print(\"Invalid choice. Please try again.\")\n"
   ]
  },
  {
   "cell_type": "code",
   "execution_count": 33,
   "id": "483a7e1e-04bf-4bd5-b7a0-6bc518b5a030",
   "metadata": {},
   "outputs": [
    {
     "name": "stdin",
     "output_type": "stream",
     "text": [
      "Enter the value of a:  3\n",
      "Enter the value of b:  4\n",
      "Enter the value of c:  5\n",
      "Enter the value of d:  6\n"
     ]
    },
    {
     "name": "stdout",
     "output_type": "stream",
     "text": [
      "The roots are:\n",
      "x1 = (0.4387261901664199+0.9838361967690031j)\n",
      "x2 = (-0.034002622185254294-0.7109060897040722j)\n",
      "x3 = (-1.7380569013144989-0.272930107064931j)\n"
     ]
    }
   ],
   "source": [
    "## 20. Write a program that determines the roots of a cubic equation using the Cardano formula.\n",
    "\n",
    "# Import the cmath module for complex numbers and square roots\n",
    "import cmath\n",
    "\n",
    "# Define a function to find the cube root of a complex number\n",
    "def cbrt(z):\n",
    "  # Use the polar form of the complex number and the De Moivre's theorem\n",
    "  r = abs(z) # The modulus of z\n",
    "  theta = cmath.phase(z) # The argument of z\n",
    "  # Return the cube root with the principal value of the argument\n",
    "  return r**(1/3) * cmath.exp(1j * theta / 3)\n",
    "\n",
    "# Ask the user to enter the values of a, b, c, and d\n",
    "a = float(input(\"Enter the value of a: \"))\n",
    "b = float(input(\"Enter the value of b: \"))\n",
    "c = float(input(\"Enter the value of c: \"))\n",
    "d = float(input(\"Enter the value of d: \"))\n",
    "\n",
    "# Compute the coefficients of the depressed cubic equation\n",
    "p = (3*a*c - b**2) / (3*a**2)\n",
    "q = (2*b**3 - 9*a*b*c + 27*a**2*d) / (27*a**3)\n",
    "\n",
    "# Compute the discriminant\n",
    "D = (q**2)/4 + (p**3)/27\n",
    "\n",
    "# Check the nature of the discriminant and apply the Cardano formula\n",
    "if D > 0:\n",
    "  # The roots are one real and two complex conjugates\n",
    "  # Find the two cube roots of -q/2 + sqrt(D)\n",
    "  u = cbrt(-q/2 + cmath.sqrt(D))\n",
    "  v = cbrt(-q/2 - cmath.sqrt(D))\n",
    "  # Find the real root\n",
    "  x1 = u + v - b / (3*a)\n",
    "  # Find the complex roots\n",
    "  x2 = - (u + v)/2 - b / (3*a) + cmath.sqrt(3) * 1j * (u - v)/2\n",
    "  x3 = - (u + v)/2 - b / (3*a) - cmath.sqrt(3) * 1j * (u - v)/2\n",
    "  # Print the results\n",
    "  print(\"The roots are:\")\n",
    "  print(\"x1 =\", x1)\n",
    "  print(\"x2 =\", x2)\n",
    "  print(\"x3 =\", x3)\n",
    "elif D == 0:\n",
    "  # The roots are all real, and at least two are equal\n",
    "  # Find the cube root of -q/2\n",
    "  u = cbrt(-q/2)\n",
    "  # Find the distinct root\n",
    "  x1 = 2*u - b / (3*a)\n",
    "  # Find the equal roots\n",
    "  x2 = x3 = -u - b / (3*a)\n",
    "  # Print the results\n",
    "  print(\"The roots are:\")\n",
    "  print(\"x1 =\", x1)\n",
    "  print(\"x2 = x3 =\", x2)\n",
    "else:\n",
    "  # The roots are three distinct real numbers\n",
    "  # Find the square root of -p/3\n",
    "  s = cmath.sqrt(-p/3)\n",
    "  # Find the cosine of the angle phi\n",
    "  cos_phi = -q / (2*s**3)\n",
    "  # Find the angle phi\n",
    "  phi = cmath.acos(cos_phi)\n",
    "  # Find the roots using trigonometric identities\n",
    "  x1 = 2*s * cmath.cos(phi/3) - b / (3*a)\n",
    "  x2 = 2*s * cmath.cos((phi + 2*cmath.pi)/3) - b / (3*a)\n",
    "  x3 = 2*s * cmath.cos((phi + 4*cmath.pi)/3) - b / (3*a)\n",
    "  # Print the results\n",
    "  print(\"The roots are:\")\n",
    "  print(\"x1 =\", x1)\n",
    "  print(\"x2 =\", x2)\n",
    "  print(\"x3 =\", x3)\n"
   ]
  },
  {
   "cell_type": "code",
   "execution_count": 34,
   "id": "024eb7fe-bd41-458f-a76b-524aa5d2f8cc",
   "metadata": {},
   "outputs": [
    {
     "name": "stdin",
     "output_type": "stream",
     "text": [
      "Enter your annual income:  35000\n"
     ]
    },
    {
     "name": "stdout",
     "output_type": "stream",
     "text": [
      "The income tax on an annual income of $35000.00 is $0.00.\n"
     ]
    }
   ],
   "source": [
    "####________Advanced Level:\n",
    "\n",
    "\n",
    "## 21. Create a program that calculates the income tax based the user's income and tax brackets.\n",
    "\n",
    "income = float(input(\"Enter your annual income: \"))\n",
    "tax = 0\n",
    "\n",
    "if income <= 250000:\n",
    "    tax = 0\n",
    "elif income <= 500000:\n",
    "    tax = (income - 250000) * 0.05\n",
    "elif income <= 750000:\n",
    "    tax = 12500 + (income - 500000) * 0.10\n",
    "elif income <= 1000000:\n",
    "    tax = 37500 + (income - 750000) * 0.15\n",
    "elif income <= 1250000:\n",
    "    tax = 75000 + (income - 1000000) * 0.20\n",
    "elif income <= 1500000:\n",
    "    tax = 125000 + (income - 1250000) * 0.25\n",
    "else:\n",
    "    tax = 187500 + (income - 1500000) * 0.30\n",
    "\n",
    "print(f\"The income tax on an annual income of ${income:.2f} is ${tax:.2f}.\")\n"
   ]
  },
  {
   "cell_type": "code",
   "execution_count": 36,
   "id": "1ec1b411-0710-46ee-84c6-a2ed2e34c963",
   "metadata": {},
   "outputs": [
    {
     "name": "stdin",
     "output_type": "stream",
     "text": [
      "Enter a choice (rock, paper, scissors):  paper\n"
     ]
    },
    {
     "name": "stdout",
     "output_type": "stream",
     "text": [
      "You chose paper\n",
      "The computer chose rock\n",
      "You win!\n"
     ]
    },
    {
     "name": "stdin",
     "output_type": "stream",
     "text": [
      "Do you want to play again? (y/n):  y\n",
      "Enter a choice (rock, paper, scissors):  rock\n"
     ]
    },
    {
     "name": "stdout",
     "output_type": "stream",
     "text": [
      "You chose rock\n",
      "The computer chose paper\n",
      "You lose!\n"
     ]
    },
    {
     "name": "stdin",
     "output_type": "stream",
     "text": [
      "Do you want to play again? (y/n):  n\n"
     ]
    }
   ],
   "source": [
    "## 22. Write a program that simulates a rock-paper-scissors game against the computer.\n",
    "\n",
    "# Import the random module\n",
    "import random\n",
    "\n",
    "# Define a list of choices\n",
    "choices = [\"rock\", \"paper\", \"scissors\"]\n",
    "\n",
    "# Define a function to compare the choices and determine the winner\n",
    "def compare(user_choice, computer_choice):\n",
    "  # Print the choices\n",
    "  print(\"You chose\", user_choice)\n",
    "  print(\"The computer chose\", computer_choice)\n",
    "  # Check the rules and print the result\n",
    "  if user_choice == computer_choice:\n",
    "    print(\"It's a tie!\")\n",
    "  elif user_choice == \"rock\":\n",
    "    if computer_choice == \"paper\":\n",
    "      print(\"You lose!\")\n",
    "    else:\n",
    "      print(\"You win!\")\n",
    "  elif user_choice == \"paper\":\n",
    "    if computer_choice == \"scissors\":\n",
    "      print(\"You lose!\")\n",
    "    else:\n",
    "      print(\"You win!\")\n",
    "  elif user_choice == \"scissors\":\n",
    "    if computer_choice == \"rock\":\n",
    "      print(\"You lose!\")\n",
    "    else:\n",
    "      print(\"You win!\")\n",
    "\n",
    "# Start the game loop\n",
    "while True:\n",
    "  # Ask the user to enter a choice\n",
    "  user_choice = input(\"Enter a choice (rock, paper, scissors): \")\n",
    "  # Validate the input\n",
    "  while user_choice not in choices:\n",
    "    user_choice = input(\"Invalid choice. Enter again: \")\n",
    "  # Generate a random choice for the computer\n",
    "  computer_choice = random.choice(choices)\n",
    "  # Compare the choices and determine the winner\n",
    "  compare(user_choice, computer_choice)\n",
    "  # Ask the user if they want to play again\n",
    "  play_again = input(\"Do you want to play again? (y/n): \")\n",
    "  # Validate the input\n",
    "  while play_again not in [\"y\", \"n\"]:\n",
    "    play_again = input(\"Invalid input. Enter again: \")\n",
    "  # Check if the user wants to exit the loop\n",
    "  if play_again == \"n\":\n",
    "    break\n"
   ]
  },
  {
   "cell_type": "code",
   "execution_count": 42,
   "id": "cbe0db6a-dfef-41d4-a108-2113116921ab",
   "metadata": {},
   "outputs": [
    {
     "name": "stdin",
     "output_type": "stream",
     "text": [
      "Enter the desired length of the password:  3\n",
      "Enter the desired complexity of the password (1-4):  3\n"
     ]
    },
    {
     "name": "stdout",
     "output_type": "stream",
     "text": [
      "The generated password is: eDi\n"
     ]
    }
   ],
   "source": [
    "## 23. Develop a program that generates a random password based on user preferences (length, complexity).\n",
    "\n",
    "\n",
    "# Import the random and string modules\n",
    "import random\n",
    "import string\n",
    "\n",
    "# Define the character sets for different levels of complexity\n",
    "lowercase = string.ascii_lowercase # All lowercase letters\n",
    "uppercase = string.ascii_uppercase # All uppercase letters\n",
    "digits = string.digits # All digits\n",
    "symbols = string.punctuation # All special symbols\n",
    "\n",
    "# Ask the user to enter the desired length of the password\n",
    "length = int(input(\"Enter the desired length of the password: \"))\n",
    "\n",
    "# Ask the user to enter the desired complexity of the password\n",
    "# 1 - Only lowercase letters\n",
    "# 2 - Lowercase and uppercase letters\n",
    "# 3 - Lowercase, uppercase, and digits\n",
    "# 4 - Lowercase, uppercase, digits, and symbols\n",
    "complexity = int(input(\"Enter the desired complexity of the password (1-4): \"))\n",
    "\n",
    "# Validate the input\n",
    "while complexity not in [1, 2, 3, 4]:\n",
    "  complexity = int(input(\"Invalid input. Enter again (1-4): \"))\n",
    "\n",
    "# Generate the password based on the user's preferences\n",
    "password = \"\"\n",
    "\n",
    "if complexity == 1:\n",
    "  # Only lowercase letters\n",
    "  for i in range(length):\n",
    "    password += random.choice(lowercase)\n",
    "elif complexity == 2:\n",
    "  # Lowercase and uppercase letters\n",
    "  for i in range(length):\n",
    "    password += random.choice(lowercase + uppercase)\n",
    "elif complexity == 3:\n",
    "  # Lowercase, uppercase, and digits\n",
    "  for i in range(length):\n",
    "    password += random.choice(lowercase + uppercase + digits)\n",
    "else:\n",
    "  # Lowercase, uppercase, digits, and symbols\n",
    "  for i in range(length):\n",
    "    password += random.choice(lowercase + uppercase + digits + symbols)\n",
    "\n",
    "# Print the generated password\n",
    "print(\"The generated password is:\", password)\n"
   ]
  },
  {
   "cell_type": "code",
   "execution_count": 1,
   "id": "45b6c6ab-2e1b-4503-ab4c-cdd30d9f21ee",
   "metadata": {},
   "outputs": [
    {
     "name": "stdout",
     "output_type": "stream",
     "text": [
      "Welcome to the Adventure Game!\n"
     ]
    },
    {
     "name": "stdin",
     "output_type": "stream",
     "text": [
      "What is your name?  paws\n"
     ]
    },
    {
     "name": "stdout",
     "output_type": "stream",
     "text": [
      "Hello, paws! You find yourself in a dark forest. You can go north, south, east, or west. Which direction do you choose?\n"
     ]
    },
    {
     "name": "stdin",
     "output_type": "stream",
     "text": [
      "Enter your choice (north, south, east, or west):  west\n"
     ]
    },
    {
     "name": "stdout",
     "output_type": "stream",
     "text": [
      "You encounter a cliff. You can climb down or jump. What do you do?\n"
     ]
    },
    {
     "name": "stdin",
     "output_type": "stream",
     "text": [
      "Enter your choice (climb or jump):  climb\n"
     ]
    },
    {
     "name": "stdout",
     "output_type": "stream",
     "text": [
      "You climb down the cliff and find a hidden path. You continue your journey.\n"
     ]
    },
    {
     "name": "stdin",
     "output_type": "stream",
     "text": [
      "Enter your choice (north, south, east, or west):  south\n"
     ]
    },
    {
     "name": "stdout",
     "output_type": "stream",
     "text": [
      "You encounter a pack of wolves. You can fight them or climb a tree. What do you do?\n"
     ]
    },
    {
     "name": "stdin",
     "output_type": "stream",
     "text": [
      "Enter your choice (fight or climb):  fight\n"
     ]
    },
    {
     "name": "stdout",
     "output_type": "stream",
     "text": [
      "You are outnumbered and killed by the wolves. Game over.\n"
     ]
    },
    {
     "name": "stdin",
     "output_type": "stream",
     "text": [
      "Enter your choice (north, south, east, or west):  east\n"
     ]
    },
    {
     "name": "stdout",
     "output_type": "stream",
     "text": [
      "You encounter a cave. You can enter the cave or continue on your path. What do you do?\n"
     ]
    },
    {
     "name": "stdin",
     "output_type": "stream",
     "text": [
      "Enter your choice (enter or continue):  continue \n"
     ]
    },
    {
     "name": "stdout",
     "output_type": "stream",
     "text": [
      "Invalid choice. Please try again.\n"
     ]
    },
    {
     "name": "stdin",
     "output_type": "stream",
     "text": [
      "Enter your choice (enter or continue):  enter\n"
     ]
    },
    {
     "name": "stdout",
     "output_type": "stream",
     "text": [
      "You enter the cave and find a treasure chest. You open it and find gold coins. You continue your journey.\n",
      "Congratulations! You have completed the game and collected all the gold coins!\n",
      "Your final score is 80.\n"
     ]
    }
   ],
   "source": [
    "## 24. Create a program that implements a simple text-based adventure game with branching scenarios.\n",
    "\n",
    "\n",
    "print(\"Welcome to the Adventure Game!\")\n",
    "name = input(\"What is your name? \")\n",
    "print(f\"Hello, {name}! You find yourself in a dark forest. You can go north, south, east, or west. Which direction do you choose?\")\n",
    "\n",
    "score = 0\n",
    "inventory = []\n",
    "\n",
    "while True:\n",
    "    direction = input(\"Enter your choice (north, south, east, or west): \")\n",
    "    if direction == \"north\":\n",
    "        print(\"You encounter a river. You can swim across or follow the riverbank. What do you do?\")\n",
    "        while True:\n",
    "            choice = input(\"Enter your choice (swim or follow): \")\n",
    "            if choice == \"swim\":\n",
    "                print(\"You are attacked by a crocodile and die. Game over.\")\n",
    "                break\n",
    "            elif choice == \"follow\":\n",
    "                print(\"You follow the riverbank and find a boat. You cross the river and continue your journey.\")\n",
    "                score += 10\n",
    "                break\n",
    "            else:\n",
    "                print(\"Invalid choice. Please try again.\")\n",
    "    elif direction == \"south\":\n",
    "        print(\"You encounter a pack of wolves. You can fight them or climb a tree. What do you do?\")\n",
    "        while True:\n",
    "            choice = input(\"Enter your choice (fight or climb): \")\n",
    "            if choice == \"fight\":\n",
    "                print(\"You are outnumbered and killed by the wolves. Game over.\")\n",
    "                break\n",
    "            elif choice == \"climb\":\n",
    "                print(\"You climb a tree and wait until the wolves leave. You continue your journey.\")\n",
    "                score += 10\n",
    "                break\n",
    "            else:\n",
    "                print(\"Invalid choice. Please try again.\")\n",
    "    elif direction == \"east\":\n",
    "        print(\"You encounter a cave. You can enter the cave or continue on your path. What do you do?\")\n",
    "        while True:\n",
    "            choice = input(\"Enter your choice (enter or continue): \")\n",
    "            if choice == \"enter\":\n",
    "                print(\"You enter the cave and find a treasure chest. You open it and find gold coins. You continue your journey.\")\n",
    "                score += 20\n",
    "                inventory.append(\"gold coins\")\n",
    "                break\n",
    "            elif choice == \"continue\":\n",
    "                print(\"You continue on your path and find a village. You rest and resupply before continuing your journey.\")\n",
    "                score += 10\n",
    "                break\n",
    "            else:\n",
    "                print(\"Invalid choice. Please try again.\")\n",
    "    elif direction == \"west\":\n",
    "        print(\"You encounter a cliff. You can climb down or jump. What do you do?\")\n",
    "        while True:\n",
    "            choice = input(\"Enter your choice (climb or jump): \")\n",
    "            if choice == \"climb\":\n",
    "                print(\"You climb down the cliff and find a hidden path. You continue your journey.\")\n",
    "                score += 10\n",
    "                break\n",
    "            elif choice == \"jump\":\n",
    "                print(\"You jump off the cliff and die. Game over.\")\n",
    "                break\n",
    "            else:\n",
    "                print(\"Invalid choice. Please try again.\")\n",
    "    else:\n",
    "        print(\"Invalid choice. Please try again.\")\n",
    "\n",
    "    if \"gold coins\" in inventory:\n",
    "        print(\"Congratulations! You have completed the game and collected all the gold coins!\")\n",
    "        score += 50\n",
    "        break\n",
    "\n",
    "print(f\"Your final score is {score}.\")\n"
   ]
  },
  {
   "cell_type": "code",
   "execution_count": 3,
   "id": "93f8e8ef-49f5-4dd9-9481-db3c3db5880e",
   "metadata": {},
   "outputs": [
    {
     "name": "stdin",
     "output_type": "stream",
     "text": [
      "Enter the coefficient of x:  3\n",
      "Enter the constant term:  2\n"
     ]
    },
    {
     "name": "stdout",
     "output_type": "stream",
     "text": [
      "The solution of the equation is x = -0.6666666666666666.\n"
     ]
    }
   ],
   "source": [
    "## 25. Build a program that solves a linear equation  for x, considering different cases.\n",
    "\n",
    "\n",
    "a = float(input(\"Enter the coefficient of x: \"))\n",
    "b = float(input(\"Enter the constant term: \"))\n",
    "\n",
    "if a == 0 and b == 0:\n",
    "    print(\"The equation is satisfied for all values of x.\")\n",
    "elif a == 0 and b != 0:\n",
    "    print(\"The equation has no solution.\")\n",
    "else:\n",
    "    x = -b / a\n",
    "    print(f\"The solution of the equation is x = {x}.\")\n"
   ]
  },
  {
   "cell_type": "code",
   "execution_count": 2,
   "id": "bef8046e-ae74-43ee-b9c9-0c263e4d7177",
   "metadata": {},
   "outputs": [
    {
     "name": "stdout",
     "output_type": "stream",
     "text": [
      "What is the capital of France?\n",
      "1. Paris\n",
      "2. London\n",
      "3. Berlin\n",
      "4. Madrid\n"
     ]
    },
    {
     "name": "stdin",
     "output_type": "stream",
     "text": [
      "Enter your answer (1-4):  2\n"
     ]
    },
    {
     "name": "stdout",
     "output_type": "stream",
     "text": [
      "Incorrect!\n",
      "What is the largest planet in our solar system?\n",
      "1. Mars\n",
      "2. Jupiter\n",
      "3. Venus\n",
      "4. Saturn\n"
     ]
    },
    {
     "name": "stdin",
     "output_type": "stream",
     "text": [
      "Enter your answer (1-4):  3\n"
     ]
    },
    {
     "name": "stdout",
     "output_type": "stream",
     "text": [
      "Incorrect!\n",
      "What is the smallest country in the world?\n",
      "1. Monaco\n",
      "2. Vatican City\n",
      "3. San Marino\n",
      "4. Liechtenstein\n"
     ]
    },
    {
     "name": "stdin",
     "output_type": "stream",
     "text": [
      "Enter your answer (1-4):  4\n"
     ]
    },
    {
     "name": "stdout",
     "output_type": "stream",
     "text": [
      "Incorrect!\n",
      "Your final score is 0/3\n"
     ]
    }
   ],
   "source": [
    "##26. Write a program that simulates a basic quiz game with multiple-choice questions and scoring in pyuthon\n",
    "\n",
    "score = 0\n",
    "\n",
    "# Define a list of questions and their corresponding answers\n",
    "questions = [\n",
    "    {\n",
    "        \"question\": \"What is the capital of France?\",\n",
    "        \"options\": [\"Paris\", \"London\", \"Berlin\", \"Madrid\"],\n",
    "        \"answer\": \"Paris\"\n",
    "    },\n",
    "    {\n",
    "        \"question\": \"What is the largest planet in our solar system?\",\n",
    "        \"options\": [\"Mars\", \"Jupiter\", \"Venus\", \"Saturn\"],\n",
    "        \"answer\": \"Jupiter\"\n",
    "    },\n",
    "    {\n",
    "        \"question\": \"What is the smallest country in the world?\",\n",
    "        \"options\": [\"Monaco\", \"Vatican City\", \"San Marino\", \"Liechtenstein\"],\n",
    "        \"answer\": \"Vatican City\"\n",
    "    }\n",
    "]\n",
    "\n",
    "# Loop through each question and ask the user for their answer\n",
    "for question in questions:\n",
    "    print(question[\"question\"])\n",
    "    for i, option in enumerate(question[\"options\"]):\n",
    "        print(f\"{i + 1}. {option}\")\n",
    "    user_answer = input(\"Enter your answer (1-4): \")\n",
    "    if question[\"options\"][int(user_answer) - 1] == question[\"answer\"]:\n",
    "        print(\"Correct!\")\n",
    "        score += 1\n",
    "    else:\n",
    "        print(\"Incorrect!\")\n",
    "\n",
    "# Print the final score\n",
    "print(f\"Your final score is {score}/{len(questions)}\")\n"
   ]
  },
  {
   "cell_type": "code",
   "execution_count": 3,
   "id": "cfc4e6ac-ff42-4292-bd86-b3c6026054f5",
   "metadata": {},
   "outputs": [
    {
     "name": "stdout",
     "output_type": "stream",
     "text": [
      "2024 is not a prime number\n"
     ]
    }
   ],
   "source": [
    "## 27. Develop a program that determines whether a given year is a prime number or not.\n",
    "\n",
    "def is_prime(year):\n",
    "    if year > 1:\n",
    "        for i in range(2, year):\n",
    "            if year % i == 0:\n",
    "                return False\n",
    "        return True\n",
    "    else:\n",
    "        return False\n",
    "\n",
    "year = 2024\n",
    "if is_prime(year):\n",
    "    print(f\"{year} is a prime number\")\n",
    "else:\n",
    "    print(f\"{year} is not a prime number\")\n"
   ]
  },
  {
   "cell_type": "code",
   "execution_count": 4,
   "id": "fa046df5-c3b8-43f6-8b31-638cf29d8c6d",
   "metadata": {},
   "outputs": [
    {
     "name": "stdin",
     "output_type": "stream",
     "text": [
      "Enter the first number:  9\n",
      "Enter the second number:  0\n",
      "Enter the third number:  7\n"
     ]
    },
    {
     "name": "stdout",
     "output_type": "stream",
     "text": [
      "The sorted numbers in ascending order are: 0 < 7 < 9\n"
     ]
    }
   ],
   "source": [
    "## 28. Create a program that sorts three numbers in ascending order using conditional statements.\n",
    "\n",
    "a = int(input(\"Enter the first number: \"))\n",
    "b = int(input(\"Enter the second number: \"))\n",
    "c = int(input(\"Enter the third number: \"))\n",
    "\n",
    "if a <= b and a <= c:\n",
    "    smallest = a\n",
    "    if b <= c:\n",
    "        middle = b\n",
    "        largest = c\n",
    "    else:\n",
    "        middle = c\n",
    "        largest = b\n",
    "elif b <= a and b <= c:\n",
    "    smallest = b\n",
    "    if a <= c:\n",
    "        middle = a\n",
    "        largest = c\n",
    "    else:\n",
    "        middle = c\n",
    "        largest = a\n",
    "else:\n",
    "    smallest = c\n",
    "    if a <= b:\n",
    "        middle = a\n",
    "        largest = b\n",
    "    else:\n",
    "        middle = b\n",
    "        largest = a\n",
    "\n",
    "print(f\"The sorted numbers in ascending order are: {smallest} < {middle} < {largest}\")\n"
   ]
  },
  {
   "cell_type": "code",
   "execution_count": 5,
   "id": "866a4bf9-5c35-4cbf-b409-d0321cb4fff5",
   "metadata": {},
   "outputs": [
    {
     "name": "stdout",
     "output_type": "stream",
     "text": [
      "The root of the quartic equation is approximately 0.212736\n"
     ]
    }
   ],
   "source": [
    "## 29. Build a program that determines the roots of a quartic equation using numerical methods.\n",
    "def f(x):\n",
    "    return x**4 - 3*x**3 + 2*x**2 - 5*x + 1\n",
    "\n",
    "def df(x):\n",
    "    return 4*x**3 - 9*x**2 + 4*x - 5\n",
    "\n",
    "x0 = 1.0\n",
    "tolerance = 1e-6\n",
    "max_iterations = 100\n",
    "\n",
    "for i in range(max_iterations):\n",
    "    x1 = x0 - f(x0) / df(x0)\n",
    "    if abs(x1 - x0) < tolerance:\n",
    "        break\n",
    "    x0 = x1\n",
    "\n",
    "if i == max_iterations - 1:\n",
    "    print(\"Failed to converge\")\n",
    "else:\n",
    "    print(f\"The root of the quartic equation is approximately {x1:.6f}\")\n"
   ]
  },
  {
   "cell_type": "code",
   "execution_count": 8,
   "id": "3e736809-72d7-4b21-b8f8-a472bb77ac76",
   "metadata": {},
   "outputs": [
    {
     "name": "stdin",
     "output_type": "stream",
     "text": [
      "Enter your height in meters:  5.8\n",
      "Enter your weight in kilograms:  55\n"
     ]
    },
    {
     "name": "stdout",
     "output_type": "stream",
     "text": [
      "Your BMI is 1.63\n",
      "You are underweight. It's recommended to gain some weight.\n"
     ]
    }
   ],
   "source": [
    "### 30. Write a program that calculates the BMI (Body Mass Index) and provides health recommendations based on the user's input.\n",
    "\n",
    "height = float(input(\"Enter your height in meters: \"))\n",
    "weight = float(input(\"Enter your weight in kilograms: \"))\n",
    "\n",
    "bmi = weight / (height ** 2)\n",
    "print(f\"Your BMI is {bmi:.2f}\")\n",
    "\n",
    "if bmi < 18.5:\n",
    "    print(\"You are underweight. It's recommended to gain some weight.\")\n",
    "elif bmi < 25:\n",
    "    print(\"Congratulations! You are healthy.\")\n",
    "elif bmi < 30:\n",
    "    print(\"You are overweight. It's recommended to lose some weight.\")\n",
    "else:\n",
    "    print(\"You are obese. It's recommended to lose weight as soon as possible.\")\n"
   ]
  },
  {
   "cell_type": "code",
   "execution_count": 11,
   "id": "787b92ee-5c10-44d9-87b9-d3ef6051a6dc",
   "metadata": {},
   "outputs": [
    {
     "name": "stdout",
     "output_type": "stream",
     "text": [
      "Password is valid\n"
     ]
    }
   ],
   "source": [
    "###________Challenge Level:\n",
    "\n",
    "## 31. Create a program that validates a password based on complexity rules (length, characters, etc.).\n",
    "\n",
    "import re\n",
    "\n",
    "def password_check(passwd):\n",
    "    SpecialSym =['$', '@', '#', '%']\n",
    "    val = True\n",
    "    if len(passwd) < 6:\n",
    "        print('length should be at least 6')\n",
    "        val = False\n",
    "    if len(passwd) > 20:\n",
    "        print('length should be not be greater than 8')\n",
    "        val = False\n",
    "    if not any(char.isdigit () for char in passwd):\n",
    "        print('Password should have at least one numeral')\n",
    "        val = False\n",
    "    if not any(char.isupper () for char in passwd):\n",
    "        print('Password should have at least one uppercase letter')\n",
    "        val = False\n",
    "    if not any(char.islower () for char in passwd):\n",
    "        print('Password should have at least one lowercase letter')\n",
    "        val = False\n",
    "    if not any(char in SpecialSym for char in passwd):\n",
    "        print('Password should have at least one of the symbols $@#')\n",
    "        val = False\n",
    "    if val:\n",
    "        return val\n",
    "\n",
    "def main():\n",
    "    passwd = 'bajranG##$@132'\n",
    "    if (password_check(passwd)):\n",
    "        print(\"Password is valid\")\n",
    "    else:\n",
    "        print(\"Invalid Password !!\")\n",
    "\n",
    "if __name__ == '__main__':\n",
    "    main()\n"
   ]
  },
  {
   "cell_type": "code",
   "execution_count": 12,
   "id": "1a1ce56c-0f2c-4909-b8fa-5e114b4599f8",
   "metadata": {},
   "outputs": [
    {
     "name": "stdout",
     "output_type": "stream",
     "text": [
      "Matrix 1:\n",
      "[[1 2]\n",
      " [3 4]]\n",
      "Matrix 2:\n",
      "[[5 6]\n",
      " [7 8]]\n",
      "Matrix Addition:\n",
      "[[ 6  8]\n",
      " [10 12]]\n",
      "Matrix Subtraction:\n",
      "[[-4 -4]\n",
      " [-4 -4]]\n"
     ]
    }
   ],
   "source": [
    "## 32. Develop a program that performs matrix addition and subtraction based on user input.\n",
    "\n",
    "import numpy as np\n",
    "\n",
    "def matrix_addition(matrix1, matrix2):\n",
    "    return np.add(matrix1, matrix2)\n",
    "\n",
    "def matrix_subtraction(matrix1, matrix2):\n",
    "    return np.subtract(matrix1, matrix2)\n",
    "\n",
    "def main():\n",
    "    matrix1 = np.array([[1, 2], [3, 4]])\n",
    "    matrix2 = np.array([[5, 6], [7, 8]])\n",
    "\n",
    "    print(\"Matrix 1:\")\n",
    "    print(matrix1)\n",
    "\n",
    "    print(\"Matrix 2:\")\n",
    "    print(matrix2)\n",
    "\n",
    "    print(\"Matrix Addition:\")\n",
    "    print(matrix_addition(matrix1, matrix2))\n",
    "\n",
    "    print(\"Matrix Subtraction:\")\n",
    "    print(matrix_subtraction(matrix1, matrix2))\n",
    "\n",
    "if __name__ == '__main__':\n",
    "    main()\n"
   ]
  },
  {
   "cell_type": "code",
   "execution_count": 13,
   "id": "49e5e9f7-3812-4839-8f5b-ab669a85b876",
   "metadata": {},
   "outputs": [
    {
     "name": "stdin",
     "output_type": "stream",
     "text": [
      "Enter the first number:  4\n",
      "Enter the second number:  5\n"
     ]
    },
    {
     "name": "stdout",
     "output_type": "stream",
     "text": [
      "The GCD of 4 and 5 is 1\n"
     ]
    }
   ],
   "source": [
    "## 33. Write a program that calculates the greatest common divisor (GCD) of two numbers using the Euclidean algorithm\n",
    "\n",
    "def gcd(a, b):\n",
    "    if b == 0:\n",
    "        return a\n",
    "    else:\n",
    "        return gcd(b, a % b)\n",
    "\n",
    "a = int(input(\"Enter the first number: \"))\n",
    "b = int(input(\"Enter the second number: \"))\n",
    "\n",
    "print(\"The GCD of\", a, \"and\", b, \"is\", gcd(a, b))\n"
   ]
  },
  {
   "cell_type": "code",
   "execution_count": 16,
   "id": "bad12140-e444-4a5b-a052-c1527535a4d8",
   "metadata": {},
   "outputs": [
    {
     "name": "stdout",
     "output_type": "stream",
     "text": [
      "Matrix 1:\n",
      "[1, 2]\n",
      "[3, 4]\n",
      "Matrix 2:\n",
      "[5, 6]\n",
      "[7, 8]\n",
      "Matrix Multiplication:\n",
      "[19, 22]\n",
      "[43, 50]\n"
     ]
    }
   ],
   "source": [
    "## 34. Build a program that performs matrix multiplication using nested loops and conditional statements.\n",
    "\n",
    "def matrix_multiplication(matrix1, matrix2):\n",
    "    result = [[0 for j in range(len(matrix2[0]))] for i in range(len(matrix1))]\n",
    "    for i in range(len(matrix1)):\n",
    "        for j in range(len(matrix2[0])):\n",
    "            for k in range(len(matrix2)):\n",
    "                result[i][j] += matrix1[i][k] * matrix2[k][j]\n",
    "    return result\n",
    "\n",
    "def main():\n",
    "    matrix1 = [[1, 2], [3, 4]]\n",
    "    matrix2 = [[5, 6], [7, 8]]\n",
    "\n",
    "    print(\"Matrix 1:\")\n",
    "    for row in matrix1:\n",
    "        print(row)\n",
    "\n",
    "    print(\"Matrix 2:\")\n",
    "    for row in matrix2:\n",
    "        print(row)\n",
    "\n",
    "    print(\"Matrix Multiplication:\")\n",
    "    result = matrix_multiplication(matrix1, matrix2)\n",
    "    for row in result:\n",
    "        print(row)\n",
    "\n",
    "if __name__ == '__main__':\n",
    "    main()\n"
   ]
  },
  {
   "cell_type": "code",
   "execution_count": null,
   "id": "688fb923-fa0d-4148-afac-29a28a6223e2",
   "metadata": {},
   "outputs": [
    {
     "name": "stdout",
     "output_type": "stream",
     "text": [
      "Welcome to Tic Tac Toe!\n",
      "Do you want to be X or O?\n"
     ]
    },
    {
     "name": "stdin",
     "output_type": "stream",
     "text": [
      " o\n"
     ]
    },
    {
     "name": "stdout",
     "output_type": "stream",
     "text": [
      "The player will go first.\n",
      " | | \n",
      "-+-+-\n",
      " | | \n",
      "-+-+-\n",
      " | | \n",
      "What is your next move? (1-9)\n"
     ]
    },
    {
     "name": "stdin",
     "output_type": "stream",
     "text": [
      " o\n"
     ]
    },
    {
     "name": "stdout",
     "output_type": "stream",
     "text": [
      "What is your next move? (1-9)\n"
     ]
    },
    {
     "name": "stdin",
     "output_type": "stream",
     "text": [
      " 3\n"
     ]
    },
    {
     "name": "stdout",
     "output_type": "stream",
     "text": [
      " | | \n",
      "-+-+-\n",
      " | | \n",
      "-+-+-\n",
      " | |O\n",
      "What is your next move? (1-9)\n"
     ]
    },
    {
     "name": "stdin",
     "output_type": "stream",
     "text": [
      " 6\n"
     ]
    },
    {
     "name": "stdout",
     "output_type": "stream",
     "text": [
      " | | \n",
      "-+-+-\n",
      " | |O\n",
      "-+-+-\n",
      " | |O\n",
      "What is your next move? (1-9)\n"
     ]
    },
    {
     "name": "stdin",
     "output_type": "stream",
     "text": [
      " 9\n"
     ]
    },
    {
     "name": "stdout",
     "output_type": "stream",
     "text": [
      " | |O\n",
      "-+-+-\n",
      " | |O\n",
      "-+-+-\n",
      " | |O\n",
      "Hooray! You have won the game!\n",
      "Do you want to be X or O?\n"
     ]
    },
    {
     "name": "stdin",
     "output_type": "stream",
     "text": [
      " x\n"
     ]
    },
    {
     "name": "stdout",
     "output_type": "stream",
     "text": [
      "The player will go first.\n",
      " | | \n",
      "-+-+-\n",
      " | | \n",
      "-+-+-\n",
      " | | \n",
      "What is your next move? (1-9)\n"
     ]
    },
    {
     "name": "stdin",
     "output_type": "stream",
     "text": [
      " 1\n"
     ]
    },
    {
     "name": "stdout",
     "output_type": "stream",
     "text": [
      " | | \n",
      "-+-+-\n",
      " | | \n",
      "-+-+-\n",
      "X| | \n",
      "What is your next move? (1-9)\n"
     ]
    },
    {
     "name": "stdin",
     "output_type": "stream",
     "text": [
      " 2\n"
     ]
    },
    {
     "name": "stdout",
     "output_type": "stream",
     "text": [
      " | | \n",
      "-+-+-\n",
      " | | \n",
      "-+-+-\n",
      "X|X| \n",
      "What is your next move? (1-9)\n"
     ]
    },
    {
     "name": "stdin",
     "output_type": "stream",
     "text": [
      " 3\n"
     ]
    },
    {
     "name": "stdout",
     "output_type": "stream",
     "text": [
      " | | \n",
      "-+-+-\n",
      " | | \n",
      "-+-+-\n",
      "X|X|X\n",
      "Hooray! You have won the game!\n",
      "Do you want to be X or O?\n"
     ]
    },
    {
     "name": "stdin",
     "output_type": "stream",
     "text": [
      " 1\n"
     ]
    },
    {
     "name": "stdout",
     "output_type": "stream",
     "text": [
      "Do you want to be X or O?\n"
     ]
    },
    {
     "name": "stdin",
     "output_type": "stream",
     "text": [
      " 2\n"
     ]
    },
    {
     "name": "stdout",
     "output_type": "stream",
     "text": [
      "Do you want to be X or O?\n"
     ]
    },
    {
     "name": "stdin",
     "output_type": "stream",
     "text": [
      " w\n"
     ]
    },
    {
     "name": "stdout",
     "output_type": "stream",
     "text": [
      "Do you want to be X or O?\n"
     ]
    }
   ],
   "source": [
    "## 35. Create a program that simulates a basic text-based tic-tac-toe game against the computer.\n",
    "\n",
    "import random\n",
    "\n",
    "def draw_board(board):\n",
    "    print(board[7] + '|' + board[8] + '|' + board[9])\n",
    "    print('-+-+-')\n",
    "    print(board[4] + '|' + board[5] + '|' + board[6])\n",
    "    print('-+-+-')\n",
    "    print(board[1] + '|' + board[2] + '|' + board[3])\n",
    "\n",
    "def input_player_letter():\n",
    "    letter = ''\n",
    "    while not (letter == 'X' or letter == 'O'):\n",
    "        print('Do you want to be X or O?')\n",
    "        letter = input().upper()\n",
    "    if letter == 'X':\n",
    "        return ['X', 'O']\n",
    "    else:\n",
    "        return ['O', 'X']\n",
    "\n",
    "def who_goes_first():\n",
    "    if random.randint(0, 1) == 0:\n",
    "        return 'computer'\n",
    "    else:\n",
    "        return 'player'\n",
    "\n",
    "def make_move(board, letter, move):\n",
    "    board[move] = letter\n",
    "\n",
    "def is_winner(bo, le):\n",
    "    return ((bo[7] == le and bo[8] == le and bo[9] == le) or\n",
    "    (bo[4] == le and bo[5] == le and bo[6] == le) or\n",
    "    (bo[1] == le and bo[2] == le and bo[3] == le) or\n",
    "    (bo[7] == le and bo[4] == le and bo[1] == le) or\n",
    "    (bo[8] == le and bo[5] == le and bo[2] == le) or\n",
    "    (bo[9] == le and bo[6] == le and bo[3] == le) or\n",
    "    (bo[7] == le and bo[5] == le and bo[3] == le) or\n",
    "    (bo[9] == le and bo[5] == le and bo[1] == le))\n",
    "\n",
    "def get_board_copy(board):\n",
    "    dupe_board = []\n",
    "    for i in board:\n",
    "        dupe_board.append(i)\n",
    "    return dupe_board\n",
    "\n",
    "def is_space_free(board, move):\n",
    "    return board[move] == ' '\n",
    "\n",
    "def get_player_move(board):\n",
    "    move = ' '\n",
    "    while move not in '1 2 3 4 5 6 7 8 9'.split() or not is_space_free(board, int(move)):\n",
    "        print('What is your next move? (1-9)')\n",
    "        move = input()\n",
    "    return int(move)\n",
    "\n",
    "def choose_random_move_from_list(board, moves_list):\n",
    "    possible_moves = []\n",
    "    for i in moves_list:\n",
    "        if is_space_free(board, i):\n",
    "            possible_moves.append(i)\n",
    "    if len(possible_moves) != 0:\n",
    "        return random.choice(possible_moves)\n",
    "    else:\n",
    "        return None\n",
    "\n",
    "def get_computer_move(board, computer_letter):\n",
    "    if computer_letter == 'X':\n",
    "        player_letter = 'O'\n",
    "    else:\n",
    "        player_letter = 'X'\n",
    "\n",
    "    for i in range(1, 10):\n",
    "        copy = get_board_copy(board)\n",
    "        if is_space_free(copy, i):\n",
    "            make_move(copy, computer_letter, i)\n",
    "            if is_winner(copy, computer_letter):\n",
    "                return i\n",
    "\n",
    "    for i in range(1, 10):\n",
    "        copy = get_board_copy(board)\n",
    "        if is_space_free(copy, i):\n",
    "            make_move(copy, player_letter, i)\n",
    "            if is_winner(copy, player_letter):\n",
    "                return i\n",
    "\n",
    "    move = choose_random_move_from_list(board, [1, 3, 7, 9])\n",
    "    if move != None:\n",
    "        return move\n",
    "\n",
    "    if is_space_free(board, 5):\n",
    "        return 5\n",
    "\n",
    "    return choose_random_move_from_list(board, [2, 4, 6, 8])\n",
    "\n",
    "def is_board_full(board):\n",
    "    for i in range(1, 10):\n",
    "        if is_space_free(board, i):\n",
    "            return False\n",
    "    return True\n",
    "\n",
    "print('Welcome to Tic Tac Toe!')\n",
    "\n",
    "while True:\n",
    "    the_board = [' '] * 10\n",
    "    player_letter, computer_letter = input_player_letter()\n",
    "    turn = who_goes_first()\n",
    "    print('The ' + turn + ' will go first.')\n",
    "    game_is_playing = True\n",
    "\n",
    "    while game_is_playing:\n",
    "        if turn == 'player':\n",
    "            draw_board(the_board)\n",
    "            move = get_player_move(the_board)\n",
    "            make_move(the_board, player_letter, move)\n",
    "\n",
    "            if is_winner(the_board, player_letter):\n",
    "                draw_board(the_board)\n",
    "                print('Hooray! You have won the game!')\n",
    "                game_is_playing = False\n",
    "            else:\n",
    "                if is_board_full(the_board):\n",
    "                    draw_board(the_board)\n",
    "                    print('The game is a tie!')\n",
    "                    break\n",
    "                else:\n",
    "                    turn "
   ]
  },
  {
   "cell_type": "code",
   "execution_count": 1,
   "id": "c6c8e0fc-2b5b-429b-8e73-07e91d80d531",
   "metadata": {},
   "outputs": [
    {
     "name": "stdin",
     "output_type": "stream",
     "text": [
      "Enter the number of terms in the sequence:  5\n"
     ]
    },
    {
     "name": "stdout",
     "output_type": "stream",
     "text": [
      "0 1 1 2 3 "
     ]
    }
   ],
   "source": [
    "## 36. Write a program that generates Fibonacci numbers up to a specified term using iterative methods.\n",
    "\n",
    "a = 0\n",
    "b = 1\n",
    "n = int(input(\"Enter the number of terms in the sequence: \"))\n",
    "print(a, b, end=\" \")\n",
    "while n - 2:\n",
    "    c = a + b\n",
    "    a, b = b, c\n",
    "    print(c, end=\" \")\n",
    "    n -= 1\n"
   ]
  },
  {
   "cell_type": "code",
   "execution_count": 2,
   "id": "b90a8396-cc5d-40de-a7e7-2d49db8a83b3",
   "metadata": {},
   "outputs": [
    {
     "name": "stdin",
     "output_type": "stream",
     "text": [
      "Enter the value of n:  5\n"
     ]
    },
    {
     "name": "stdout",
     "output_type": "stream",
     "text": [
      "The 5th term of the Fibonacci sequence is 5\n"
     ]
    }
   ],
   "source": [
    "## 37. Develop a program that calculates the nth term of the Fibonacci sequence using memoization.\n",
    "\n",
    "def fibonacci(n, memo={}):\n",
    "    if n in memo:\n",
    "        return memo[n]\n",
    "    if n <= 2:\n",
    "        return 1\n",
    "    memo[n] = fibonacci(n - 1, memo) + fibonacci(n - 2, memo)\n",
    "    return memo[n]\n",
    "\n",
    "n = int(input(\"Enter the value of n: \"))\n",
    "print(f\"The {n}th term of the Fibonacci sequence is {fibonacci(n)}\")\n"
   ]
  },
  {
   "cell_type": "code",
   "execution_count": 3,
   "id": "0fbb3053-7eb9-4bd3-b6de-570226790b9c",
   "metadata": {},
   "outputs": [
    {
     "name": "stdin",
     "output_type": "stream",
     "text": [
      "Enter the year:  2003\n",
      "Enter the month:  5\n"
     ]
    },
    {
     "name": "stdout",
     "output_type": "stream",
     "text": [
      "          May 2003\n",
      "Su Mo Tu We Th Fr Sa\n",
      "       1  2  3  4 \n",
      " 5  6  7  8  9 10 11 \n",
      "12 13 14 15 16 17 18 \n",
      "19 20 21 22 23 24 25 \n",
      "26 27 28 29 30 31   \n"
     ]
    }
   ],
   "source": [
    "## 38. Create a program that generates a calendar for a given month and year using conditional statements.\n",
    "\n",
    "import calendar\n",
    "\n",
    "year = int(input(\"Enter the year: \"))\n",
    "month = int(input(\"Enter the month: \"))\n",
    "\n",
    "print(f\"{' ' * 10}{calendar.month_name[month]} {year}\")\n",
    "print(\"Su Mo Tu We Th Fr Sa\")\n",
    "for i in calendar.monthcalendar(year, month):\n",
    "    for j in i:\n",
    "        if j == 0:\n",
    "            print(\"  \", end=\"\")\n",
    "        else:\n",
    "            print(f\"{j:2d}\", end=\" \")\n",
    "    print()\n"
   ]
  },
  {
   "cell_type": "code",
   "execution_count": 5,
   "id": "dccdb77c-00d1-4fd6-9ede-52dbf3f7d69f",
   "metadata": {},
   "outputs": [
    {
     "name": "stdout",
     "output_type": "stream",
     "text": [
      "   Your cards: [9, 9], current score: 18\n",
      "   Computer's first card: 8\n"
     ]
    },
    {
     "name": "stdin",
     "output_type": "stream",
     "text": [
      "Type 'y' to get another card, type 'n' to pass:  y\n"
     ]
    },
    {
     "name": "stdout",
     "output_type": "stream",
     "text": [
      "   Your cards: [9, 9, 9], current score: 27\n",
      "   Computer's first card: 8\n",
      "   Your final hand: [9, 9, 9], final score: 27\n",
      "   Computer's final hand: [8, 11], final score: 19\n",
      "You went over. You lose 😭\n"
     ]
    }
   ],
   "source": [
    "## 39. Build a program that simulates a basic text-based blackjack game against the computer.\n",
    "\n",
    "import random\n",
    "\n",
    "def deal_card():\n",
    "    \"\"\"Returns a random card from the deck.\"\"\"\n",
    "    cards = [11,2,3,4,5,6,7,8,9,10,10,10,10]\n",
    "    return random.choice(cards)\n",
    "\n",
    "def calculate_score(cards):\n",
    "    \"\"\"Take a list of cards and return the score calculated from the cards\"\"\"\n",
    "    if sum(cards) == 21 and len(cards) == 2:\n",
    "        return 0\n",
    "    if 11 in cards and sum(cards) > 21:\n",
    "        cards.remove(11)\n",
    "        cards.append(1)\n",
    "    return sum(cards)\n",
    "\n",
    "def compare(user_score, computer_score):\n",
    "    if user_score == computer_score:\n",
    "        return \"Draw 🙁\"\n",
    "    elif computer_score == 0:\n",
    "        return \"Lose, opponent has Blackjack 😱\"\n",
    "    elif user_score == 0:\n",
    "        return \"Win with a Blackjack 😎\"\n",
    "    elif user_score > 21:\n",
    "        return \"You went over. You lose 😭\"\n",
    "    elif computer_score > 21:\n",
    "        return \"Opponent went over. You win 😁\"\n",
    "    elif user_score > computer_score:\n",
    "        return \"You win 😃\"\n",
    "    else:\n",
    "        return \"You lose 😤\"\n",
    "\n",
    "def play_game():\n",
    "    user_cards = []\n",
    "    computer_cards = []\n",
    "    is_game_over = False\n",
    "\n",
    "    for _ in range(2):\n",
    "        user_cards.append(deal_card())\n",
    "        computer_cards.append(deal_card())\n",
    "\n",
    "    while not is_game_over:\n",
    "        user_score = calculate_score(user_cards)\n",
    "        computer_score = calculate_score(computer_cards)\n",
    "        print(f\"   Your cards: {user_cards}, current score: {user_score}\")\n",
    "        print(f\"   Computer's first card: {computer_cards[0]}\")\n",
    "\n",
    "        if user_score == 0 or computer_score == 0 or user_score > 21:\n",
    "            is_game_over = True\n",
    "        else:\n",
    "            user_should_deal = input(\"Type 'y' to get another card, type 'n' to pass: \")\n",
    "            if user_should_deal == \"y\":\n",
    "                user_cards.append(deal_card())\n",
    "            else:\n",
    "                is_game_over = True\n",
    "\n",
    "    while computer_score != 0 and computer_score < 17:\n",
    "        computer_cards.append(deal_card())\n",
    "        computer_score = calculate_score(computer_cards)\n",
    "\n",
    "    print(f\"   Your final hand: {user_cards}, final score: {user_score}\")\n",
    "    print(f\"   Computer's final hand: {computer_cards}, final score: {computer_score}\")\n",
    "    print(compare(user_score, computer_score))\n",
    "\n",
    "play_game()\n"
   ]
  },
  {
   "cell_type": "code",
   "execution_count": 6,
   "id": "9a046bc1-0482-4025-b9fd-f33b58c61960",
   "metadata": {},
   "outputs": [
    {
     "name": "stdin",
     "output_type": "stream",
     "text": [
      "Enter a number:  34\n"
     ]
    },
    {
     "name": "stdout",
     "output_type": "stream",
     "text": [
      "The prime factors of 34 are: [2, 17]\n"
     ]
    }
   ],
   "source": [
    "## 40. Write a program that generates the prime factors of a given number using trial division.\n",
    "\n",
    "def prime_factors(n):\n",
    "    \"\"\"Returns the prime factors of a given number using trial division.\"\"\"\n",
    "    factors = []\n",
    "    divisor = 2\n",
    "    while n > 1:\n",
    "        if n % divisor == 0:\n",
    "            factors.append(divisor)\n",
    "            n /= divisor\n",
    "        else:\n",
    "            divisor += 1\n",
    "    return factors\n",
    "\n",
    "number = int(input(\"Enter a number: \"))\n",
    "print(f\"The prime factors of {number} are: {prime_factors(number)}\")\n"
   ]
  },
  {
   "cell_type": "code",
   "execution_count": null,
   "id": "307640af-c19f-4d68-af1a-0cd88f4d6b92",
   "metadata": {},
   "outputs": [],
   "source": []
  }
 ],
 "metadata": {
  "kernelspec": {
   "display_name": "Python 3 (ipykernel)",
   "language": "python",
   "name": "python3"
  },
  "language_info": {
   "codemirror_mode": {
    "name": "ipython",
    "version": 3
   },
   "file_extension": ".py",
   "mimetype": "text/x-python",
   "name": "python",
   "nbconvert_exporter": "python",
   "pygments_lexer": "ipython3",
   "version": "3.10.8"
  }
 },
 "nbformat": 4,
 "nbformat_minor": 5
}
