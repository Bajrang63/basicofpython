{
 "cells": [
  {
   "cell_type": "code",
   "execution_count": 1,
   "id": "3df6e8a4-8d6a-4b37-afb0-ed661e3da694",
   "metadata": {},
   "outputs": [
    {
     "name": "stdin",
     "output_type": "stream",
     "text": [
      "enter the value of celsius 1.233\n"
     ]
    }
   ],
   "source": [
    "# convert the temperature from Celsius to Fahrenheit\n",
    "\n",
    "celsius=float(input(\"enter the value temperture from  celsius\"))"
   ]
  },
  {
   "cell_type": "code",
   "execution_count": 2,
   "id": "4eb83f0c-9dad-4acd-9a2d-5557b6052c70",
   "metadata": {},
   "outputs": [],
   "source": [
    "#formula of the temperture to celsius (celsius * 9/5) + 32\n",
    "fahrenheit =(celsius *9/5)+32"
   ]
  },
  {
   "cell_type": "code",
   "execution_count": 3,
   "id": "cd57e22e-036e-4036-a3c8-6d6ce5a2f4cd",
   "metadata": {},
   "outputs": [
    {
     "name": "stdout",
     "output_type": "stream",
     "text": [
      "1.23 Celsius is :- 34.22 Fahrenheit\n"
     ]
    }
   ],
   "source": [
    "#this  print function  to show celsius and fahrenheit\n",
    "print('%.2f Celsius is :- %0.2f Fahrenheit' %(celsius, fahrenheit))"
   ]
  },
  {
   "cell_type": "code",
   "execution_count": 4,
   "id": "cd63e791-f647-4ef9-9aba-4039b19c49f1",
   "metadata": {},
   "outputs": [
    {
     "name": "stdin",
     "output_type": "stream",
     "text": [
      "Enter temperature in fahrenheit :-  23\n"
     ]
    }
   ],
   "source": [
    "#convert the fahrenheit to celsius\n",
    "fahrenheit = float(input(\"Enter temperature in fahrenheit :- \"))"
   ]
  },
  {
   "cell_type": "code",
   "execution_count": 5,
   "id": "40be4342-a446-46d5-a1dd-b651aed794be",
   "metadata": {},
   "outputs": [],
   "source": [
    "#formula of convert the farenheit to celsius\n",
    "celsius = (fahrenheit - 32) * 5/9"
   ]
  },
  {
   "cell_type": "code",
   "execution_count": 9,
   "id": "be508023-85b3-40a2-9523-ec28502ce1a5",
   "metadata": {},
   "outputs": [
    {
     "name": "stdout",
     "output_type": "stream",
     "text": [
      "23.00 farenheit is :- -5.00 celsius \n"
     ]
    }
   ],
   "source": [
    "print(\"%.2f farenheit is :- %0.2f celsius \" %(fahrenheit ,celsius))"
   ]
  },
  {
   "cell_type": "code",
   "execution_count": null,
   "id": "92d103e0-e6fd-438f-ad76-29fac9bcf35e",
   "metadata": {},
   "outputs": [],
   "source": []
  },
  {
   "cell_type": "code",
   "execution_count": null,
   "id": "ca3c2d0e-7003-44fa-aa85-977f10843e55",
   "metadata": {},
   "outputs": [],
   "source": []
  }
 ],
 "metadata": {
  "kernelspec": {
   "display_name": "Python 3 (ipykernel)",
   "language": "python",
   "name": "python3"
  },
  "language_info": {
   "codemirror_mode": {
    "name": "ipython",
    "version": 3
   },
   "file_extension": ".py",
   "mimetype": "text/x-python",
   "name": "python",
   "nbconvert_exporter": "python",
   "pygments_lexer": "ipython3",
   "version": "3.10.8"
  }
 },
 "nbformat": 4,
 "nbformat_minor": 5
}
