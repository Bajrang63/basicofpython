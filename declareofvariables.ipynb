{
 "cells": [
  {
   "cell_type": "code",
   "execution_count": 7,
   "id": "28c22e78-9740-4a41-8c47-e8ac0367a4ed",
   "metadata": {},
   "outputs": [],
   "source": [
    "x=10    #assign the value of a variable\n"
   ]
  },
  {
   "cell_type": "code",
   "execution_count": 8,
   "id": "16f45caa-2bb5-4ab9-807d-5783b34e5fc4",
   "metadata": {},
   "outputs": [],
   "source": [
    "y=20   #assign the value of b variable"
   ]
  },
  {
   "cell_type": "code",
   "execution_count": 9,
   "id": "e0c40e31-7fb9-4861-946e-d313163d8205",
   "metadata": {},
   "outputs": [
    {
     "data": {
      "text/plain": [
       "10"
      ]
     },
     "execution_count": 9,
     "metadata": {},
     "output_type": "execute_result"
    }
   ],
   "source": [
    "x"
   ]
  },
  {
   "cell_type": "code",
   "execution_count": 10,
   "id": "b76c3f10-4801-4ca4-b590-55b89a69bf0f",
   "metadata": {},
   "outputs": [
    {
     "data": {
      "text/plain": [
       "20"
      ]
     },
     "execution_count": 10,
     "metadata": {},
     "output_type": "execute_result"
    }
   ],
   "source": [
    "y"
   ]
  },
  {
   "cell_type": "code",
   "execution_count": 11,
   "id": "52014c3f-db58-465d-8f4a-769a0d0a4d0e",
   "metadata": {},
   "outputs": [],
   "source": [
    "x,y=y,x  #swap the two variable "
   ]
  },
  {
   "cell_type": "code",
   "execution_count": 12,
   "id": "1fb3e2df-27a7-4b3d-adcc-06b4a73bcaaa",
   "metadata": {},
   "outputs": [
    {
     "data": {
      "text/plain": [
       "20"
      ]
     },
     "execution_count": 12,
     "metadata": {},
     "output_type": "execute_result"
    }
   ],
   "source": [
    "x"
   ]
  },
  {
   "cell_type": "code",
   "execution_count": 13,
   "id": "21812019-2a7c-4c01-809e-d22f7e59a168",
   "metadata": {},
   "outputs": [
    {
     "data": {
      "text/plain": [
       "10"
      ]
     },
     "execution_count": 13,
     "metadata": {},
     "output_type": "execute_result"
    }
   ],
   "source": [
    "y"
   ]
  },
  {
   "cell_type": "code",
   "execution_count": null,
   "id": "d306c970-798c-4833-a057-9da621db784f",
   "metadata": {},
   "outputs": [],
   "source": []
  }
 ],
 "metadata": {
  "kernelspec": {
   "display_name": "Python 3 (ipykernel)",
   "language": "python",
   "name": "python3"
  },
  "language_info": {
   "codemirror_mode": {
    "name": "ipython",
    "version": 3
   },
   "file_extension": ".py",
   "mimetype": "text/x-python",
   "name": "python",
   "nbconvert_exporter": "python",
   "pygments_lexer": "ipython3",
   "version": "3.10.8"
  }
 },
 "nbformat": 4,
 "nbformat_minor": 5
}
