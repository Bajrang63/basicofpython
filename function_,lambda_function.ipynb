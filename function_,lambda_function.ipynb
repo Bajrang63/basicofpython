{
  "cells": [
    {
      "cell_type": "markdown",
      "metadata": {
        "id": "view-in-github",
        "colab_type": "text"
      },
      "source": [
        "<a href=\"https://colab.research.google.com/github/Bajrang63/basicofpython/blob/main/function_%2Clambda_function.ipynb\" target=\"_parent\"><img src=\"https://colab.research.google.com/assets/colab-badge.svg\" alt=\"Open In Colab\"/></a>"
      ]
    },
    {
      "cell_type": "code",
      "execution_count": null,
      "id": "f1208d9c-0a15-4f5d-8555-cfe718a4107b",
      "metadata": {
        "id": "f1208d9c-0a15-4f5d-8555-cfe718a4107b"
      },
      "outputs": [],
      "source": [
        "17.Accept a string as input. Your task is to determine if the input string is a valid password or not. For a\n",
        "string to be a valid password, it must satisfy all the conditions given below:\n",
        "(1) It should have at least 8 and at most 32 characters\n",
        "(2) It should start with an uppercase or lowercase letter\n",
        "(3) It should not have any of these characters: / \\ = ' \"\n",
        "(4) It should not have spaces\n",
        "It could have any character that is not mentioned in the list of characters to be avoided (points 3 and\n",
        "4). Output True if the string forms a valid password and False otherwise"
      ]
    },
    {
      "cell_type": "code",
      "execution_count": null,
      "id": "ee4c8995-7d33-4be7-abeb-2c0ba05bd2aa",
      "metadata": {
        "id": "ee4c8995-7d33-4be7-abeb-2c0ba05bd2aa"
      },
      "outputs": [],
      "source": [
        "def validPassword(pwd: str):\n",
        "    if 8 <= len(pwd) <= 32 and pwd[0].isalpha() and all(char not in pwd for char in [\" \", \"'\", \"/\", \"=\", '\"', '\\\\']):\n",
        "        return True\n",
        "    else:\n",
        "        return False\n"
      ]
    },
    {
      "cell_type": "code",
      "execution_count": null,
      "id": "9dabbfa8-6b28-4e01-a768-f13a29c16463",
      "metadata": {
        "id": "9dabbfa8-6b28-4e01-a768-f13a29c16463",
        "outputId": "0c4c84a1-51ca-4f88-8e70-31d6afaed669"
      },
      "outputs": [
        {
          "data": {
            "text/plain": [
              "False"
            ]
          },
          "execution_count": 3,
          "metadata": {},
          "output_type": "execute_result"
        }
      ],
      "source": [
        "validPassword('123hggkhG')"
      ]
    },
    {
      "cell_type": "code",
      "execution_count": null,
      "id": "9c1e2215-e45a-4f54-84d5-8dd05fd4c7e6",
      "metadata": {
        "id": "9c1e2215-e45a-4f54-84d5-8dd05fd4c7e6"
      },
      "outputs": [],
      "source": [
        "def greet():\n",
        "\n",
        "    message='Hello'\n",
        "\n",
        "    print(\"local\",message)"
      ]
    },
    {
      "cell_type": "code",
      "execution_count": null,
      "id": "9ae945d1-4b65-4ca5-a1c6-cd9959c47d8a",
      "metadata": {
        "id": "9ae945d1-4b65-4ca5-a1c6-cd9959c47d8a"
      },
      "outputs": [],
      "source": []
    },
    {
      "cell_type": "code",
      "execution_count": null,
      "id": "c296fd6f-81e5-40c0-86ab-4950b6cb7e96",
      "metadata": {
        "id": "c296fd6f-81e5-40c0-86ab-4950b6cb7e96",
        "outputId": "c1eb022a-8ca8-478c-9fef-70abd93bb851"
      },
      "outputs": [
        {
          "name": "stdout",
          "output_type": "stream",
          "text": [
            "local Hello\n"
          ]
        }
      ],
      "source": [
        "greet()"
      ]
    },
    {
      "cell_type": "code",
      "execution_count": null,
      "id": "b38712f4-30e3-4e02-96ef-f2c7ac69316e",
      "metadata": {
        "id": "b38712f4-30e3-4e02-96ef-f2c7ac69316e",
        "outputId": "745c1c60-425b-4966-8242-4b4c55cc9867"
      },
      "outputs": [
        {
          "ename": "NameError",
          "evalue": "name 'message' is not defined",
          "output_type": "error",
          "traceback": [
            "\u001b[0;31m---------------------------------------------------------------------------\u001b[0m",
            "\u001b[0;31mNameError\u001b[0m                                 Traceback (most recent call last)",
            "Cell \u001b[0;32mIn[7], line 7\u001b[0m\n\u001b[1;32m      3\u001b[0m     message\u001b[38;5;241m=\u001b[39m\u001b[38;5;124m'\u001b[39m\u001b[38;5;124mHello\u001b[39m\u001b[38;5;124m'\u001b[39m\n\u001b[1;32m      5\u001b[0m     \u001b[38;5;28mprint\u001b[39m(\u001b[38;5;124m\"\u001b[39m\u001b[38;5;124mlocal\u001b[39m\u001b[38;5;124m\"\u001b[39m,message)\n\u001b[0;32m----> 7\u001b[0m \u001b[38;5;28mprint\u001b[39m(\u001b[43mmessage\u001b[49m)\n\u001b[1;32m      8\u001b[0m \u001b[38;5;66;03m#greet()\u001b[39;00m\n",
            "\u001b[0;31mNameError\u001b[0m: name 'message' is not defined"
          ]
        }
      ],
      "source": [
        "def greet():\n",
        "\n",
        "    message='Hello'\n",
        "\n",
        "    print(\"local\",message)\n",
        "\n",
        "print(message)\n",
        "#greet()"
      ]
    },
    {
      "cell_type": "code",
      "execution_count": null,
      "id": "6e26a30c-8726-4bdb-ba27-677fcf0729a3",
      "metadata": {
        "id": "6e26a30c-8726-4bdb-ba27-677fcf0729a3",
        "outputId": "c285b3fc-a8bf-440f-d909-4486258d5328"
      },
      "outputs": [
        {
          "ename": "NameError",
          "evalue": "name 'x' is not defined",
          "output_type": "error",
          "traceback": [
            "\u001b[0;31m---------------------------------------------------------------------------\u001b[0m",
            "\u001b[0;31mNameError\u001b[0m                                 Traceback (most recent call last)",
            "Cell \u001b[0;32mIn[9], line 5\u001b[0m\n\u001b[1;32m      3\u001b[0m     y\u001b[38;5;241m=\u001b[39m\u001b[38;5;241m30\u001b[39m\n\u001b[1;32m      4\u001b[0m     \u001b[38;5;28mprint\u001b[39m(x\u001b[38;5;241m+\u001b[39my)\n\u001b[0;32m----> 5\u001b[0m \u001b[38;5;28mprint\u001b[39m(\u001b[43mx\u001b[49m)\n\u001b[1;32m      6\u001b[0m \u001b[38;5;28mprint\u001b[39m(y)\n",
            "\u001b[0;31mNameError\u001b[0m: name 'x' is not defined"
          ]
        }
      ],
      "source": [
        "def add():\n",
        "    x=20\n",
        "    y=30\n",
        "    print(x+y)\n",
        "print(x)\n",
        "print(y)"
      ]
    },
    {
      "cell_type": "code",
      "execution_count": null,
      "id": "e7d65514-a90d-4239-b61a-f669c16febd9",
      "metadata": {
        "id": "e7d65514-a90d-4239-b61a-f669c16febd9",
        "outputId": "1dcba9ca-212b-40e3-a6ae-1ad3833af942"
      },
      "outputs": [
        {
          "name": "stdout",
          "output_type": "stream",
          "text": [
            "python is fantastic\n",
            "awesome\n"
          ]
        }
      ],
      "source": [
        "x= \"awesome\"\n",
        "#global scope\n",
        "\n",
        "def myfunc():\n",
        "    x=\"fantastic\"\n",
        "    #local scope\n",
        "    print(\"python is \" + x)\n",
        "\n",
        "myfunc()\n",
        "print(x)"
      ]
    },
    {
      "cell_type": "code",
      "execution_count": null,
      "id": "0e614f79-a80d-48b9-b453-60898ee29301",
      "metadata": {
        "id": "0e614f79-a80d-48b9-b453-60898ee29301"
      },
      "outputs": [],
      "source": [
        "x=20\n",
        "\n",
        "def add():\n",
        "\n",
        "    y=30\n",
        "    print(\"local variable y=\",y)\n",
        "\n",
        "    print(\"global variable x=\", x)\n",
        "\n",
        "    z= x+y\n",
        "    print(z)"
      ]
    },
    {
      "cell_type": "code",
      "execution_count": null,
      "id": "2126da9d-b059-4c5e-aeb2-dca5c5172b07",
      "metadata": {
        "id": "2126da9d-b059-4c5e-aeb2-dca5c5172b07",
        "outputId": "433a8c85-5838-4a8d-caee-01698e5ec133"
      },
      "outputs": [
        {
          "name": "stdout",
          "output_type": "stream",
          "text": [
            "local variable y= 30\n",
            "global variable x= 20\n",
            "50\n"
          ]
        }
      ],
      "source": [
        "add()"
      ]
    },
    {
      "cell_type": "code",
      "execution_count": null,
      "id": "8c59a842-eca0-49a6-8858-ef7b4ba5a90e",
      "metadata": {
        "id": "8c59a842-eca0-49a6-8858-ef7b4ba5a90e"
      },
      "outputs": [],
      "source": [
        "## Python Function Arguments"
      ]
    },
    {
      "cell_type": "code",
      "execution_count": null,
      "id": "0b4e5d56-180b-41dc-8fa5-ef3568b1b99b",
      "metadata": {
        "id": "0b4e5d56-180b-41dc-8fa5-ef3568b1b99b"
      },
      "outputs": [],
      "source": [
        "# positional arguments\n",
        "def add_numbers(a,b):\n",
        "    sum = a+b\n",
        "    print(\"sum\",sum)\n",
        ""
      ]
    },
    {
      "cell_type": "code",
      "execution_count": null,
      "id": "e582a1af-2248-4ef0-90c4-8de968059cdf",
      "metadata": {
        "id": "e582a1af-2248-4ef0-90c4-8de968059cdf",
        "outputId": "95dcb688-b3de-45c7-c978-bac0f8c8c929"
      },
      "outputs": [
        {
          "name": "stdout",
          "output_type": "stream",
          "text": [
            "sum 6\n"
          ]
        }
      ],
      "source": [
        "add_numbers(2,4)"
      ]
    },
    {
      "cell_type": "code",
      "execution_count": null,
      "id": "e7c0a7dc-2fbd-4049-8dd2-747d42cf64a9",
      "metadata": {
        "id": "e7c0a7dc-2fbd-4049-8dd2-747d42cf64a9"
      },
      "outputs": [],
      "source": [
        "def emp_name(name):\n",
        "    print(\"my name is \",name)"
      ]
    },
    {
      "cell_type": "code",
      "execution_count": null,
      "id": "2d14fd7d-0b7b-4069-85ee-c266535279e9",
      "metadata": {
        "id": "2d14fd7d-0b7b-4069-85ee-c266535279e9",
        "outputId": "4ce714ee-5c99-446e-d85e-31f8d789b783"
      },
      "outputs": [
        {
          "name": "stdout",
          "output_type": "stream",
          "text": [
            "my name is  imran\n"
          ]
        }
      ],
      "source": [
        "emp_name('imran')"
      ]
    },
    {
      "cell_type": "code",
      "execution_count": null,
      "id": "f0863849-df07-4796-85d5-e9033ea24336",
      "metadata": {
        "id": "f0863849-df07-4796-85d5-e9033ea24336"
      },
      "outputs": [],
      "source": [
        "#default arguments\n",
        "def add_numbers(a=4,b=8):\n",
        "    sum = a+b\n",
        "    print(\"sum\",sum)\n",
        ""
      ]
    },
    {
      "cell_type": "code",
      "execution_count": null,
      "id": "030cab7c-7c96-41eb-8fa2-fc76456f76a8",
      "metadata": {
        "id": "030cab7c-7c96-41eb-8fa2-fc76456f76a8",
        "outputId": "468e12b9-6675-44e7-8aeb-28984ef1977c"
      },
      "outputs": [
        {
          "name": "stdout",
          "output_type": "stream",
          "text": [
            "sum 12\n"
          ]
        }
      ],
      "source": [
        "add_numbers()"
      ]
    },
    {
      "cell_type": "code",
      "execution_count": null,
      "id": "83ef410a-8665-4db3-ab1b-266fa4b5e8ac",
      "metadata": {
        "id": "83ef410a-8665-4db3-ab1b-266fa4b5e8ac",
        "outputId": "189c455f-c981-4873-91f2-9ccd8f1ee4c6"
      },
      "outputs": [
        {
          "name": "stdout",
          "output_type": "stream",
          "text": [
            "sum 12\n"
          ]
        }
      ],
      "source": [
        "add_numbers()"
      ]
    },
    {
      "cell_type": "code",
      "execution_count": null,
      "id": "0c070143-c961-4b49-af43-3c1dc5492650",
      "metadata": {
        "id": "0c070143-c961-4b49-af43-3c1dc5492650",
        "outputId": "1a54ddc0-ca9e-46c8-cdc4-fe7ebc69c325"
      },
      "outputs": [
        {
          "name": "stdout",
          "output_type": "stream",
          "text": [
            "sum 10\n"
          ]
        }
      ],
      "source": [
        "add_numbers(2,8)"
      ]
    },
    {
      "cell_type": "code",
      "execution_count": null,
      "id": "f77479f7-30eb-42be-ab72-ac6737cf7546",
      "metadata": {
        "id": "f77479f7-30eb-42be-ab72-ac6737cf7546"
      },
      "outputs": [],
      "source": [
        "def emp_name(name=\"pw skills\"):\n",
        "    print(\"my name is \",name)"
      ]
    },
    {
      "cell_type": "code",
      "execution_count": null,
      "id": "3ec3c0bc-699f-4996-889d-58bb5286eaa9",
      "metadata": {
        "id": "3ec3c0bc-699f-4996-889d-58bb5286eaa9",
        "outputId": "dfb62690-2eb7-49ef-e904-08824c2127d6"
      },
      "outputs": [
        {
          "name": "stdout",
          "output_type": "stream",
          "text": [
            "my name is  imran\n"
          ]
        }
      ],
      "source": [
        "emp_name('imran')"
      ]
    },
    {
      "cell_type": "code",
      "execution_count": null,
      "id": "d24765b8-bcd9-406e-b76d-b976c73e34e0",
      "metadata": {
        "id": "d24765b8-bcd9-406e-b76d-b976c73e34e0"
      },
      "outputs": [],
      "source": [
        "# keyword arguments"
      ]
    },
    {
      "cell_type": "code",
      "execution_count": null,
      "id": "43700f84-6502-476f-bd04-40bd0201a23d",
      "metadata": {
        "id": "43700f84-6502-476f-bd04-40bd0201a23d"
      },
      "outputs": [],
      "source": [
        "def display_info(first_name,last_name):\n",
        "    print(\"first name\",first_name)\n",
        "    print(\"last name\", last_name)"
      ]
    },
    {
      "cell_type": "code",
      "execution_count": null,
      "id": "13f43d7a-4f64-4da6-8d90-2c54e3dcd7d5",
      "metadata": {
        "id": "13f43d7a-4f64-4da6-8d90-2c54e3dcd7d5",
        "outputId": "0771f0d0-5c5a-4122-8e97-dcb06fdc2a10"
      },
      "outputs": [
        {
          "name": "stdout",
          "output_type": "stream",
          "text": [
            "first name pw\n",
            "last name skills\n"
          ]
        }
      ],
      "source": [
        "display_info(first_name='pw', last_name='skills')"
      ]
    },
    {
      "cell_type": "code",
      "execution_count": null,
      "id": "3ada0aec-d3c7-42f7-97c2-d19c178a4e32",
      "metadata": {
        "id": "3ada0aec-d3c7-42f7-97c2-d19c178a4e32",
        "outputId": "8f7c346b-9ad8-4b4b-cf2f-f93f8c8ca12c"
      },
      "outputs": [
        {
          "name": "stdout",
          "output_type": "stream",
          "text": [
            "first name pw\n",
            "last name skills\n"
          ]
        }
      ],
      "source": [
        "display_info(last_name='skills',first_name='pw', )"
      ]
    },
    {
      "cell_type": "code",
      "execution_count": null,
      "id": "ef094815-eef9-448f-91dd-722f29c5d503",
      "metadata": {
        "id": "ef094815-eef9-448f-91dd-722f29c5d503"
      },
      "outputs": [],
      "source": [
        "def add_numbers(a,b):\n",
        "    sum = a+b\n",
        "    print(\"sum\",sum)"
      ]
    },
    {
      "cell_type": "code",
      "execution_count": null,
      "id": "f3e06ae0-8081-46ba-9c62-d81ee51be2bd",
      "metadata": {
        "id": "f3e06ae0-8081-46ba-9c62-d81ee51be2bd",
        "outputId": "0503ad20-22fd-4484-e231-79159cb0a953"
      },
      "outputs": [
        {
          "name": "stdout",
          "output_type": "stream",
          "text": [
            "sum 11\n"
          ]
        }
      ],
      "source": [
        "add_numbers(a=4,b=7)"
      ]
    },
    {
      "cell_type": "code",
      "execution_count": null,
      "id": "f67800d0-0c5a-4c28-979a-c8c2bb24254e",
      "metadata": {
        "id": "f67800d0-0c5a-4c28-979a-c8c2bb24254e",
        "outputId": "e362c205-d958-4957-8edb-296f136f9047"
      },
      "outputs": [
        {
          "name": "stdout",
          "output_type": "stream",
          "text": [
            "sum 11\n"
          ]
        }
      ],
      "source": [
        "add_numbers(b=4,a=7)"
      ]
    },
    {
      "cell_type": "code",
      "execution_count": null,
      "id": "57903fa8-4904-44b7-a873-e6bc9b250f39",
      "metadata": {
        "id": "57903fa8-4904-44b7-a873-e6bc9b250f39"
      },
      "outputs": [],
      "source": [
        "def add_numbers(a,b,c,d):\n",
        "    sum = a+b+c+d\n",
        "    print(\"sum\",sum)"
      ]
    },
    {
      "cell_type": "code",
      "execution_count": null,
      "id": "508d0a7c-ef5b-4fcc-97bb-2d3946952fee",
      "metadata": {
        "id": "508d0a7c-ef5b-4fcc-97bb-2d3946952fee",
        "outputId": "01bccff3-0476-4eeb-959f-f4c4591f1c9d"
      },
      "outputs": [
        {
          "name": "stdout",
          "output_type": "stream",
          "text": [
            "sum 10\n"
          ]
        }
      ],
      "source": [
        "add_numbers(1,2,3,4)"
      ]
    },
    {
      "cell_type": "code",
      "execution_count": null,
      "id": "9e7cee07-7b79-419a-a81e-c670ee134110",
      "metadata": {
        "id": "9e7cee07-7b79-419a-a81e-c670ee134110"
      },
      "outputs": [],
      "source": [
        "# *args and **kargs"
      ]
    },
    {
      "cell_type": "code",
      "execution_count": null,
      "id": "9f1e175b-fde2-4d12-a5b2-49ba812f96d7",
      "metadata": {
        "id": "9f1e175b-fde2-4d12-a5b2-49ba812f96d7"
      },
      "outputs": [],
      "source": [
        "def find_sum(*numbers):\n",
        "    result=0\n",
        "\n",
        "    for num in numbers:\n",
        "        result = result+num\n",
        "    print(\"sum\",result)"
      ]
    },
    {
      "cell_type": "code",
      "execution_count": null,
      "id": "32a534f5-eb4c-4e62-ac87-23fe9dc0b3fe",
      "metadata": {
        "id": "32a534f5-eb4c-4e62-ac87-23fe9dc0b3fe",
        "outputId": "5a4f26b7-7c48-47fb-9267-f523b594bb74"
      },
      "outputs": [
        {
          "name": "stdout",
          "output_type": "stream",
          "text": [
            "sum 0\n"
          ]
        }
      ],
      "source": [
        "find_sum()"
      ]
    },
    {
      "cell_type": "code",
      "execution_count": null,
      "id": "def80881-1bb1-4a97-91b7-b9a90984b4fe",
      "metadata": {
        "id": "def80881-1bb1-4a97-91b7-b9a90984b4fe",
        "outputId": "af2b4195-4454-4fa9-eb8c-ab6af3dfab32"
      },
      "outputs": [
        {
          "name": "stdout",
          "output_type": "stream",
          "text": [
            "sum 6\n"
          ]
        }
      ],
      "source": [
        "find_sum(1,2,3)"
      ]
    },
    {
      "cell_type": "code",
      "execution_count": null,
      "id": "43a1466b-1636-4d2f-bd50-710c890c8d17",
      "metadata": {
        "id": "43a1466b-1636-4d2f-bd50-710c890c8d17",
        "outputId": "77106476-af82-4bac-8033-fa474f58a80e"
      },
      "outputs": [
        {
          "name": "stdout",
          "output_type": "stream",
          "text": [
            "sum 36\n"
          ]
        }
      ],
      "source": [
        "find_sum(1,2,3,4,5,6,7,8)"
      ]
    },
    {
      "cell_type": "code",
      "execution_count": null,
      "id": "96db12ec-67be-453d-87a6-4538f25efef9",
      "metadata": {
        "id": "96db12ec-67be-453d-87a6-4538f25efef9",
        "outputId": "0aff9453-962f-4d21-bb0b-1c7fdedb03b7"
      },
      "outputs": [
        {
          "name": "stdout",
          "output_type": "stream",
          "text": [
            "sum 55\n"
          ]
        }
      ],
      "source": [
        "find_sum(1,2,3,4,5,6,7,8,9,10)"
      ]
    },
    {
      "cell_type": "code",
      "execution_count": null,
      "id": "a3bb37b1-29f1-409d-a9c4-b79cdfa6a384",
      "metadata": {
        "id": "a3bb37b1-29f1-409d-a9c4-b79cdfa6a384"
      },
      "outputs": [],
      "source": [
        "def simple(*x):\n",
        "    print(x)"
      ]
    },
    {
      "cell_type": "code",
      "execution_count": null,
      "id": "966a260c-d77f-4133-8174-eeef2f680e90",
      "metadata": {
        "id": "966a260c-d77f-4133-8174-eeef2f680e90",
        "outputId": "c80ebf22-8a76-44bd-90a3-e67e610d8a5b"
      },
      "outputs": [
        {
          "name": "stdout",
          "output_type": "stream",
          "text": [
            "()\n"
          ]
        }
      ],
      "source": [
        "simple()"
      ]
    },
    {
      "cell_type": "code",
      "execution_count": null,
      "id": "c97277d1-26c1-4220-9dc9-8516571fb4a0",
      "metadata": {
        "id": "c97277d1-26c1-4220-9dc9-8516571fb4a0",
        "outputId": "17eea5ee-f2c3-4134-e9fb-3b38061c38f3"
      },
      "outputs": [
        {
          "name": "stdout",
          "output_type": "stream",
          "text": [
            "(1, 2, 3)\n"
          ]
        }
      ],
      "source": [
        "simple(1,2,3)"
      ]
    },
    {
      "cell_type": "code",
      "execution_count": null,
      "id": "85c0949b-55b0-4928-94ff-761de9bfe2c2",
      "metadata": {
        "id": "85c0949b-55b0-4928-94ff-761de9bfe2c2",
        "outputId": "b091b5a8-5ad1-4c85-baa8-52add49bc14c"
      },
      "outputs": [
        {
          "name": "stdout",
          "output_type": "stream",
          "text": [
            "(1, 2, 3, 4, 5, 6, 7)\n"
          ]
        }
      ],
      "source": [
        "simple(1,2,3,4,5,6,7)"
      ]
    },
    {
      "cell_type": "code",
      "execution_count": null,
      "id": "05e63fea-436f-4ea9-9bb1-68eec0c64de4",
      "metadata": {
        "id": "05e63fea-436f-4ea9-9bb1-68eec0c64de4"
      },
      "outputs": [],
      "source": [
        "def intro(**data):\n",
        "    print(\"data type of argument\", type(data))\n",
        "\n",
        "    for key,value in data.items():\n",
        "          print(key,value)"
      ]
    },
    {
      "cell_type": "code",
      "execution_count": null,
      "id": "99e0e57f-f441-4aa7-ac14-4ca7c312e59c",
      "metadata": {
        "id": "99e0e57f-f441-4aa7-ac14-4ca7c312e59c",
        "outputId": "cf5681bb-a08b-417d-b0c6-90a238143680"
      },
      "outputs": [
        {
          "name": "stdout",
          "output_type": "stream",
          "text": [
            "data type of argument <class 'dict'>\n",
            "firstname pw\n",
            "lastname skills\n"
          ]
        }
      ],
      "source": [
        "intro(firstname='pw',lastname='skills')"
      ]
    },
    {
      "cell_type": "code",
      "execution_count": null,
      "id": "368b2fea-4d1c-4fae-9f54-8aebff5162ba",
      "metadata": {
        "id": "368b2fea-4d1c-4fae-9f54-8aebff5162ba"
      },
      "outputs": [],
      "source": [
        "x={'a':1,'b':2}"
      ]
    },
    {
      "cell_type": "code",
      "execution_count": null,
      "id": "cc78b275-d2bf-4f45-874f-5a72ae069a61",
      "metadata": {
        "id": "cc78b275-d2bf-4f45-874f-5a72ae069a61",
        "outputId": "c1bd2a29-3a79-4ef3-dd0d-1597eb7cc3e2"
      },
      "outputs": [
        {
          "data": {
            "text/plain": [
              "dict_items([('a', 1), ('b', 2)])"
            ]
          },
          "execution_count": 66,
          "metadata": {},
          "output_type": "execute_result"
        }
      ],
      "source": [
        "x.items()"
      ]
    },
    {
      "cell_type": "code",
      "execution_count": null,
      "id": "42dcbb8f-2c5a-4b6c-aa84-8185b0fb3b16",
      "metadata": {
        "id": "42dcbb8f-2c5a-4b6c-aa84-8185b0fb3b16",
        "outputId": "4186164c-eed2-4d97-f372-cb0eb2352030"
      },
      "outputs": [
        {
          "name": "stdout",
          "output_type": "stream",
          "text": [
            "a 1\n",
            "b 2\n"
          ]
        }
      ],
      "source": [
        "for keys,value in x.items():\n",
        "    print(keys,value)"
      ]
    },
    {
      "cell_type": "code",
      "execution_count": null,
      "id": "494e8d48-d03e-490e-adda-697be84efbf1",
      "metadata": {
        "id": "494e8d48-d03e-490e-adda-697be84efbf1"
      },
      "outputs": [],
      "source": [
        "def simple(**x):\n",
        "    print(x)"
      ]
    },
    {
      "cell_type": "code",
      "execution_count": null,
      "id": "a795e090-fc20-4170-b880-286c23f74ae8",
      "metadata": {
        "id": "a795e090-fc20-4170-b880-286c23f74ae8",
        "outputId": "5b129a13-cef4-466d-ebd0-b1c647b0b468"
      },
      "outputs": [
        {
          "name": "stdout",
          "output_type": "stream",
          "text": [
            "{'name': 'imran', 'age': 24, 'id_no': 23}\n"
          ]
        }
      ],
      "source": [
        "simple(name='imran',age=24,id_no=23)"
      ]
    },
    {
      "cell_type": "code",
      "execution_count": null,
      "id": "0980542e-41cb-4ca8-8a72-634ee519cd0f",
      "metadata": {
        "id": "0980542e-41cb-4ca8-8a72-634ee519cd0f"
      },
      "outputs": [],
      "source": [
        "def simple1(*y):\n",
        "    print(y)"
      ]
    },
    {
      "cell_type": "code",
      "execution_count": null,
      "id": "fe3ee2bd-5cb0-4896-b96b-91c4f1aaffc0",
      "metadata": {
        "id": "fe3ee2bd-5cb0-4896-b96b-91c4f1aaffc0",
        "outputId": "79d9b45d-48a2-42e8-d035-e7a9deaba3ff"
      },
      "outputs": [
        {
          "name": "stdout",
          "output_type": "stream",
          "text": [
            "(2, 3)\n"
          ]
        }
      ],
      "source": [
        "simple1(2,3)"
      ]
    },
    {
      "cell_type": "code",
      "execution_count": null,
      "id": "2290182b-a7ec-4a93-852c-ed6d8af413ed",
      "metadata": {
        "id": "2290182b-a7ec-4a93-852c-ed6d8af413ed",
        "outputId": "d2e86104-daae-42bd-a1af-25d6cd55e0e3"
      },
      "outputs": [
        {
          "name": "stdout",
          "output_type": "stream",
          "text": [
            "(3, 5, 6)\n"
          ]
        }
      ],
      "source": [
        "simple1(3,5,6)"
      ]
    },
    {
      "cell_type": "code",
      "execution_count": null,
      "id": "6b762d2d-196f-4735-b767-0a069346770c",
      "metadata": {
        "id": "6b762d2d-196f-4735-b767-0a069346770c",
        "outputId": "53bfd2d1-26a8-417a-877c-18e312390cb8"
      },
      "outputs": [
        {
          "name": "stdout",
          "output_type": "stream",
          "text": [
            "(4, 5, 6, 7, 8, 9)\n"
          ]
        }
      ],
      "source": [
        "simple1(4,5,6,7,8,9)"
      ]
    },
    {
      "cell_type": "code",
      "execution_count": null,
      "id": "775201b8-c1db-43a3-9b32-db0fab862ef9",
      "metadata": {
        "id": "775201b8-c1db-43a3-9b32-db0fab862ef9"
      },
      "outputs": [],
      "source": [
        "def simple(**x):\n",
        "    print(x)"
      ]
    },
    {
      "cell_type": "code",
      "execution_count": null,
      "id": "83f361cf-8968-4607-a1e9-3dca5424469d",
      "metadata": {
        "id": "83f361cf-8968-4607-a1e9-3dca5424469d",
        "outputId": "f9a1d240-b6fd-4e66-d668-2879c4908676"
      },
      "outputs": [
        {
          "name": "stdout",
          "output_type": "stream",
          "text": [
            "{'name': 'imran'}\n"
          ]
        }
      ],
      "source": [
        "simple(name='imran')"
      ]
    },
    {
      "cell_type": "code",
      "execution_count": null,
      "id": "0fe75729-8741-4182-9c04-099e72448688",
      "metadata": {
        "id": "0fe75729-8741-4182-9c04-099e72448688",
        "outputId": "e951dc99-c8ea-4328-add6-5a27eb24801d"
      },
      "outputs": [
        {
          "name": "stdout",
          "output_type": "stream",
          "text": [
            "{'name': 'imran', 'age': 45}\n"
          ]
        }
      ],
      "source": [
        "simple(name='imran',age=45)"
      ]
    },
    {
      "cell_type": "code",
      "execution_count": null,
      "id": "70e7b88d-96b6-49c3-a8b8-3ede756010dc",
      "metadata": {
        "id": "70e7b88d-96b6-49c3-a8b8-3ede756010dc"
      },
      "outputs": [],
      "source": []
    },
    {
      "cell_type": "code",
      "execution_count": null,
      "id": "c8cd45a5-9493-4e78-98b1-2cf46b05e329",
      "metadata": {
        "id": "c8cd45a5-9493-4e78-98b1-2cf46b05e329"
      },
      "outputs": [],
      "source": []
    },
    {
      "cell_type": "code",
      "execution_count": null,
      "id": "64dcd727-5892-403d-aa9a-efffb3518887",
      "metadata": {
        "id": "64dcd727-5892-403d-aa9a-efffb3518887"
      },
      "outputs": [],
      "source": []
    },
    {
      "cell_type": "code",
      "execution_count": null,
      "id": "f7c004d1-e966-4e16-9760-8dbb7936979c",
      "metadata": {
        "id": "f7c004d1-e966-4e16-9760-8dbb7936979c"
      },
      "outputs": [],
      "source": []
    },
    {
      "cell_type": "code",
      "execution_count": null,
      "id": "9f3bb2a5-6fe7-4d62-8f40-b60dcc772807",
      "metadata": {
        "id": "9f3bb2a5-6fe7-4d62-8f40-b60dcc772807"
      },
      "outputs": [],
      "source": []
    },
    {
      "cell_type": "code",
      "execution_count": null,
      "id": "1efbb1d9-aa78-40cc-bbff-2f91b7e61a62",
      "metadata": {
        "id": "1efbb1d9-aa78-40cc-bbff-2f91b7e61a62"
      },
      "outputs": [],
      "source": []
    },
    {
      "cell_type": "code",
      "execution_count": null,
      "id": "9cf374a1-2e49-4005-8693-7c133c372f35",
      "metadata": {
        "id": "9cf374a1-2e49-4005-8693-7c133c372f35"
      },
      "outputs": [],
      "source": []
    },
    {
      "cell_type": "code",
      "execution_count": null,
      "id": "5feea595-1c1b-4cb2-805c-9ff3069b9c1e",
      "metadata": {
        "id": "5feea595-1c1b-4cb2-805c-9ff3069b9c1e"
      },
      "outputs": [],
      "source": []
    },
    {
      "cell_type": "code",
      "execution_count": null,
      "id": "e77f2971-76b1-4745-a715-2a59f1808aef",
      "metadata": {
        "id": "e77f2971-76b1-4745-a715-2a59f1808aef"
      },
      "outputs": [],
      "source": [
        "def shownumbers(*args):\n",
        "    print(x)"
      ]
    },
    {
      "cell_type": "code",
      "execution_count": null,
      "id": "7e169570-13a7-4867-a048-c01a4843f4f8",
      "metadata": {
        "id": "7e169570-13a7-4867-a048-c01a4843f4f8",
        "outputId": "37a957c2-99b7-4c5f-84f2-caa0f4adcf30"
      },
      "outputs": [
        {
          "name": "stdout",
          "output_type": "stream",
          "text": [
            "(1,)\n"
          ]
        }
      ],
      "source": [
        "shownumbers(1)"
      ]
    },
    {
      "cell_type": "code",
      "execution_count": null,
      "id": "8be643e4-5e71-451b-8bbc-be97adcf2ccf",
      "metadata": {
        "id": "8be643e4-5e71-451b-8bbc-be97adcf2ccf",
        "outputId": "ce47d8f3-6e4d-4335-d13c-0d9ecbb85bbd"
      },
      "outputs": [
        {
          "name": "stdout",
          "output_type": "stream",
          "text": [
            "(2, 3, 4, 6)\n"
          ]
        }
      ],
      "source": [
        "shownumbers(2,3,4,6)"
      ]
    },
    {
      "cell_type": "code",
      "execution_count": null,
      "id": "4284306c-314a-4cf3-99f2-1fe9257235e9",
      "metadata": {
        "id": "4284306c-314a-4cf3-99f2-1fe9257235e9"
      },
      "outputs": [],
      "source": [
        "def showkeyvale(**kwargs):\n",
        "    print(y)"
      ]
    },
    {
      "cell_type": "code",
      "execution_count": null,
      "id": "b6d6c505-f300-460a-8adf-26c20768cc2a",
      "metadata": {
        "id": "b6d6c505-f300-460a-8adf-26c20768cc2a",
        "outputId": "7f569476-ef6c-4bde-fec9-a5e0e533bed3"
      },
      "outputs": [
        {
          "name": "stdout",
          "output_type": "stream",
          "text": [
            "{'x': 1, 'y': 2}\n"
          ]
        }
      ],
      "source": [
        "showkeyvale(x=1,y=2)"
      ]
    },
    {
      "cell_type": "code",
      "execution_count": null,
      "id": "98d53c17-bd05-4453-8399-3f0784578177",
      "metadata": {
        "id": "98d53c17-bd05-4453-8399-3f0784578177",
        "outputId": "c460a432-a1fc-44c3-9bf6-3797ab10b68e"
      },
      "outputs": [
        {
          "name": "stdout",
          "output_type": "stream",
          "text": [
            "{'x': 1, 'y': 2, 'w': 9, 'u': 'pw'}\n"
          ]
        }
      ],
      "source": [
        "showkeyvale(x=1,y=2,w=9,u=\"pw\")"
      ]
    },
    {
      "cell_type": "code",
      "execution_count": null,
      "id": "2f402630-864b-4e14-9593-b359400cf704",
      "metadata": {
        "id": "2f402630-864b-4e14-9593-b359400cf704"
      },
      "outputs": [],
      "source": [
        "def showkeyvale(**kwargs):\n",
        "    print(kwargs)"
      ]
    },
    {
      "cell_type": "code",
      "execution_count": null,
      "id": "a959cfbc-2773-4208-8923-6d687edec6ab",
      "metadata": {
        "id": "a959cfbc-2773-4208-8923-6d687edec6ab",
        "outputId": "85230484-882b-4b69-c1e0-e788639add7e"
      },
      "outputs": [
        {
          "name": "stdout",
          "output_type": "stream",
          "text": [
            "{'x': 2, 'u': 5}\n"
          ]
        }
      ],
      "source": [
        "showkeyvale(x=2,u=5)"
      ]
    },
    {
      "cell_type": "code",
      "execution_count": null,
      "id": "b0c3a3ac-8804-405c-a475-080dddd83747",
      "metadata": {
        "id": "b0c3a3ac-8804-405c-a475-080dddd83747"
      },
      "outputs": [],
      "source": [
        "# lambda functions"
      ]
    },
    {
      "cell_type": "code",
      "execution_count": null,
      "id": "c76cd006-04e5-4ce5-b27e-19b7c1866e3f",
      "metadata": {
        "id": "c76cd006-04e5-4ce5-b27e-19b7c1866e3f"
      },
      "outputs": [],
      "source": [
        "x=lambda : print(\"hello wolrd\")"
      ]
    },
    {
      "cell_type": "code",
      "execution_count": null,
      "id": "42827c61-8c13-4d6c-a18e-8de05ccff5b4",
      "metadata": {
        "id": "42827c61-8c13-4d6c-a18e-8de05ccff5b4",
        "outputId": "5d5865f6-6c00-466f-abed-aece8398873b"
      },
      "outputs": [
        {
          "name": "stdout",
          "output_type": "stream",
          "text": [
            "hello wolrd\n"
          ]
        }
      ],
      "source": [
        "x()"
      ]
    },
    {
      "cell_type": "code",
      "execution_count": null,
      "id": "49743fdf-45cd-4683-b1bf-778f76592797",
      "metadata": {
        "id": "49743fdf-45cd-4683-b1bf-778f76592797"
      },
      "outputs": [],
      "source": [
        "y=lambda : print(\"pw skills\")"
      ]
    },
    {
      "cell_type": "code",
      "execution_count": null,
      "id": "373f4ee3-1e8b-4c67-83a8-0f15eca88593",
      "metadata": {
        "id": "373f4ee3-1e8b-4c67-83a8-0f15eca88593",
        "outputId": "2239ea06-66d0-45c8-d32e-a57795867bcc"
      },
      "outputs": [
        {
          "name": "stdout",
          "output_type": "stream",
          "text": [
            "pw skills\n"
          ]
        }
      ],
      "source": [
        "y()"
      ]
    },
    {
      "cell_type": "code",
      "execution_count": null,
      "id": "af67ab4a-d91d-4464-b577-f77e8f48ce05",
      "metadata": {
        "id": "af67ab4a-d91d-4464-b577-f77e8f48ce05"
      },
      "outputs": [],
      "source": [
        "addnum=lambda a,b:a+b"
      ]
    },
    {
      "cell_type": "code",
      "execution_count": null,
      "id": "1a649604-954a-46ac-a066-17877cc49989",
      "metadata": {
        "id": "1a649604-954a-46ac-a066-17877cc49989",
        "outputId": "a93079be-7ec9-4265-9692-6ba3e1ecf888"
      },
      "outputs": [
        {
          "data": {
            "text/plain": [
              "5"
            ]
          },
          "execution_count": 108,
          "metadata": {},
          "output_type": "execute_result"
        }
      ],
      "source": [
        "addnum(2,3)"
      ]
    },
    {
      "cell_type": "code",
      "execution_count": null,
      "id": "79498693-fca8-4fad-a7cc-fad6b7d817dc",
      "metadata": {
        "id": "79498693-fca8-4fad-a7cc-fad6b7d817dc"
      },
      "outputs": [],
      "source": [
        "multi = lambda a,b : a*b\n"
      ]
    },
    {
      "cell_type": "code",
      "execution_count": null,
      "id": "5d4e5e47-a70b-4921-82c0-d1249dd9d0bf",
      "metadata": {
        "id": "5d4e5e47-a70b-4921-82c0-d1249dd9d0bf",
        "outputId": "60bf5d03-814f-421f-8ac2-3637fd6bb374"
      },
      "outputs": [
        {
          "data": {
            "text/plain": [
              "8"
            ]
          },
          "execution_count": 110,
          "metadata": {},
          "output_type": "execute_result"
        }
      ],
      "source": [
        "multi(2,4)"
      ]
    },
    {
      "cell_type": "code",
      "execution_count": null,
      "id": "032c6bc3-1dda-4785-86a3-75af125a4802",
      "metadata": {
        "id": "032c6bc3-1dda-4785-86a3-75af125a4802",
        "outputId": "1db48189-94c5-4f9c-b180-fd8e7c769276"
      },
      "outputs": [
        {
          "name": "stdin",
          "output_type": "stream",
          "text": [
            "enter first number 2\n",
            "enter second number 3\n"
          ]
        },
        {
          "name": "stdout",
          "output_type": "stream",
          "text": [
            "(4, 9)\n"
          ]
        }
      ],
      "source": [
        "a= int(input(\"enter first number\"))\n",
        "b= int(input(\"enter second number\"))\n",
        "square=lambda a,b:(a**2,b**2)\n",
        "print(square(a,b))"
      ]
    },
    {
      "cell_type": "code",
      "execution_count": null,
      "id": "24c4e4af-ce42-46f2-8df7-705ee7412c35",
      "metadata": {
        "id": "24c4e4af-ce42-46f2-8df7-705ee7412c35"
      },
      "outputs": [],
      "source": [
        "def evenodd(n):\n",
        "    if n%2==0:\n",
        "        print(\"number is even\")\n",
        "    else:\n",
        "        print(\"number is odd\")"
      ]
    },
    {
      "cell_type": "code",
      "execution_count": null,
      "id": "7697b3f4-e16b-45e4-abe6-f36d9bc8fe94",
      "metadata": {
        "id": "7697b3f4-e16b-45e4-abe6-f36d9bc8fe94",
        "outputId": "be55dea4-f59f-4b59-e379-6c53e7907470"
      },
      "outputs": [
        {
          "name": "stdout",
          "output_type": "stream",
          "text": [
            "number is odd\n"
          ]
        }
      ],
      "source": [
        "evenodd(23)"
      ]
    },
    {
      "cell_type": "code",
      "execution_count": null,
      "id": "8d919fcd-c08b-4357-b245-2e8e0ec6b83f",
      "metadata": {
        "id": "8d919fcd-c08b-4357-b245-2e8e0ec6b83f"
      },
      "outputs": [],
      "source": [
        "x=lambda n: \"number is even\" if n%2==0 else \"number is odd\""
      ]
    },
    {
      "cell_type": "code",
      "execution_count": null,
      "id": "2974f74f-cab5-4f7b-add2-b16535b24547",
      "metadata": {
        "id": "2974f74f-cab5-4f7b-add2-b16535b24547",
        "outputId": "ca3ea136-f309-4aac-aa5e-c7ea05e64950"
      },
      "outputs": [
        {
          "data": {
            "text/plain": [
              "'number is odd'"
            ]
          },
          "execution_count": 120,
          "metadata": {},
          "output_type": "execute_result"
        }
      ],
      "source": [
        "x(3)"
      ]
    },
    {
      "cell_type": "code",
      "execution_count": null,
      "id": "4c6cdc6a-1b46-48b4-92ff-8305d8b606ba",
      "metadata": {
        "id": "4c6cdc6a-1b46-48b4-92ff-8305d8b606ba"
      },
      "outputs": [],
      "source": [
        "# write a lambda function that accespts 2 arguments and return the greater amongst them"
      ]
    },
    {
      "cell_type": "code",
      "execution_count": null,
      "id": "8a61a0f8-55ee-40b8-bd76-5e778112311b",
      "metadata": {
        "id": "8a61a0f8-55ee-40b8-bd76-5e778112311b"
      },
      "outputs": [],
      "source": [
        "greatest_num=lambda a,b: a if a>b else b"
      ]
    },
    {
      "cell_type": "code",
      "execution_count": null,
      "id": "3a0b1bb1-bb5d-4d50-85cc-3145e8cff848",
      "metadata": {
        "id": "3a0b1bb1-bb5d-4d50-85cc-3145e8cff848",
        "outputId": "55ff2b7f-d1a9-45d8-d6e2-84e202538ae7"
      },
      "outputs": [
        {
          "data": {
            "text/plain": [
              "8"
            ]
          },
          "execution_count": 122,
          "metadata": {},
          "output_type": "execute_result"
        }
      ],
      "source": [
        "greatest_num(4,8)"
      ]
    },
    {
      "cell_type": "code",
      "execution_count": null,
      "id": "9854aa5b-5e00-4fdd-b748-4e0149db44bb",
      "metadata": {
        "id": "9854aa5b-5e00-4fdd-b748-4e0149db44bb"
      },
      "outputs": [],
      "source": [
        "# lambda fucntion to fing sum of numbers"
      ]
    },
    {
      "cell_type": "code",
      "execution_count": null,
      "id": "9a7d50c2-4a61-4cde-810d-074c08cd0f40",
      "metadata": {
        "id": "9a7d50c2-4a61-4cde-810d-074c08cd0f40"
      },
      "outputs": [],
      "source": [
        "sum_of =lambda a,b,c: (a+b+c)\n"
      ]
    },
    {
      "cell_type": "code",
      "execution_count": null,
      "id": "bcae0035-47e4-4428-b533-0535d261dcdc",
      "metadata": {
        "id": "bcae0035-47e4-4428-b533-0535d261dcdc",
        "outputId": "b29f2021-71be-4b90-ee17-ccc57dd500e2"
      },
      "outputs": [
        {
          "data": {
            "text/plain": [
              "6"
            ]
          },
          "execution_count": 126,
          "metadata": {},
          "output_type": "execute_result"
        }
      ],
      "source": [
        "sum_of(1,2,3)"
      ]
    },
    {
      "cell_type": "code",
      "execution_count": null,
      "id": "218b7320-ba2b-4622-beb2-8e32e59bf3f2",
      "metadata": {
        "id": "218b7320-ba2b-4622-beb2-8e32e59bf3f2"
      },
      "outputs": [],
      "source": [
        "products = [\n",
        "    {'name':'product1','price':50},\n",
        "    {'name':'product2','price':40},\n",
        "    {'name':'product3','price':30},\n",
        "    {'name':'product4','price':80}\n",
        "]\n",
        "\n",
        "# sorted()\n",
        "\n",
        "sorted_products= sorted(products, key=lambda x:x['price'],reverse=True)\n",
        ""
      ]
    },
    {
      "cell_type": "code",
      "execution_count": null,
      "id": "d0b34f76-cf6b-44f7-814d-5da4369fa741",
      "metadata": {
        "id": "d0b34f76-cf6b-44f7-814d-5da4369fa741",
        "outputId": "86efc4f4-cac4-4a75-ba4f-095c8a0c4801"
      },
      "outputs": [
        {
          "name": "stdout",
          "output_type": "stream",
          "text": [
            "{'name': 'product3', 'price': 30}\n",
            "{'name': 'product2', 'price': 40}\n",
            "{'name': 'product1', 'price': 50}\n",
            "{'name': 'product4', 'price': 80}\n"
          ]
        }
      ],
      "source": [
        "for i in sorted_products:\n",
        "    print(i)"
      ]
    },
    {
      "cell_type": "code",
      "execution_count": null,
      "id": "2445ef58-8ee3-480b-8864-e40e9d2df57d",
      "metadata": {
        "id": "2445ef58-8ee3-480b-8864-e40e9d2df57d",
        "outputId": "845d7721-45e9-48a8-9cb0-e215c4d62f11"
      },
      "outputs": [
        {
          "data": {
            "text/plain": [
              "[{'name': 'product3', 'price': 30},\n",
              " {'name': 'product2', 'price': 40},\n",
              " {'name': 'product1', 'price': 50},\n",
              " {'name': 'product4', 'price': 80}]"
            ]
          },
          "execution_count": 129,
          "metadata": {},
          "output_type": "execute_result"
        }
      ],
      "source": [
        "sorted_products"
      ]
    },
    {
      "cell_type": "code",
      "execution_count": null,
      "id": "9bb37616-2a3a-4902-a055-bbbb8501aa6c",
      "metadata": {
        "id": "9bb37616-2a3a-4902-a055-bbbb8501aa6c"
      },
      "outputs": [],
      "source": [
        "x={'name':'product1','price':50}"
      ]
    },
    {
      "cell_type": "code",
      "execution_count": null,
      "id": "0ffd1ba7-2610-4885-b5cd-b34b56e4d9fa",
      "metadata": {
        "id": "0ffd1ba7-2610-4885-b5cd-b34b56e4d9fa"
      },
      "outputs": [],
      "source": [
        "key=lambda x:x['price']"
      ]
    },
    {
      "cell_type": "code",
      "execution_count": null,
      "id": "a084a85f-4b2f-49a3-80d6-aa45c85de97b",
      "metadata": {
        "id": "a084a85f-4b2f-49a3-80d6-aa45c85de97b",
        "outputId": "ee69c7f0-d361-48cb-dbfb-16f4985491c7"
      },
      "outputs": [
        {
          "data": {
            "text/plain": [
              "<function __main__.<lambda>(x)>"
            ]
          },
          "execution_count": 132,
          "metadata": {},
          "output_type": "execute_result"
        }
      ],
      "source": [
        "key"
      ]
    },
    {
      "cell_type": "code",
      "execution_count": null,
      "id": "dc4cedb3-b3dc-4847-b87e-fbab4da01b94",
      "metadata": {
        "id": "dc4cedb3-b3dc-4847-b87e-fbab4da01b94",
        "outputId": "e61cb9f3-fe9e-4976-ccc7-f4d13ff779df"
      },
      "outputs": [
        {
          "data": {
            "text/plain": [
              "50"
            ]
          },
          "execution_count": 134,
          "metadata": {},
          "output_type": "execute_result"
        }
      ],
      "source": [
        "x['price']"
      ]
    },
    {
      "cell_type": "code",
      "execution_count": null,
      "id": "63a0bcf0-48f9-4ce9-b7b9-b91a38b0f276",
      "metadata": {
        "id": "63a0bcf0-48f9-4ce9-b7b9-b91a38b0f276"
      },
      "outputs": [],
      "source": [
        "# wite a lambda expression that accepts a charater as argument and retun true if it is a volwel other flase\n",
        "# a e i o u\n",
        "# imran\n",
        "# i a"
      ]
    },
    {
      "cell_type": "code",
      "execution_count": null,
      "id": "01966b83-c5ff-4b79-87e0-f7f989b2d941",
      "metadata": {
        "id": "01966b83-c5ff-4b79-87e0-f7f989b2d941"
      },
      "outputs": [],
      "source": [
        "# filter\n",
        "# map\n",
        "# reduce"
      ]
    },
    {
      "cell_type": "code",
      "execution_count": null,
      "id": "22691a04-9042-4d9d-8efd-12ff810014b1",
      "metadata": {
        "id": "22691a04-9042-4d9d-8efd-12ff810014b1",
        "outputId": "f356a2c1-6584-4819-cf65-5fe133e04617"
      },
      "outputs": [
        {
          "name": "stdin",
          "output_type": "stream",
          "text": [
            "Enter a string:  imran\n"
          ]
        },
        {
          "data": {
            "text/plain": [
              "['i', 'a']"
            ]
          },
          "execution_count": 139,
          "metadata": {},
          "output_type": "execute_result"
        }
      ],
      "source": [
        "vowels = ['a','e','i','o','u','A','E','I','O','U']\n",
        "string = input(\"Enter a string: \")\n",
        "\n",
        "vowels_list = [string[i] for i in range(len(string)) if string[i] in vowels]\n",
        "vowels_list\n"
      ]
    },
    {
      "cell_type": "code",
      "execution_count": null,
      "id": "a566dc5a-d70a-4904-a040-cc5912273398",
      "metadata": {
        "id": "a566dc5a-d70a-4904-a040-cc5912273398"
      },
      "outputs": [],
      "source": [
        "x=-10"
      ]
    },
    {
      "cell_type": "code",
      "execution_count": null,
      "id": "7ef1c01e-2f39-4a85-9ac1-6b140ef7114b",
      "metadata": {
        "id": "7ef1c01e-2f39-4a85-9ac1-6b140ef7114b",
        "outputId": "f7a476ba-13ee-4542-e141-c6075b529fe6"
      },
      "outputs": [
        {
          "data": {
            "text/plain": [
              "10"
            ]
          },
          "execution_count": 141,
          "metadata": {},
          "output_type": "execute_result"
        }
      ],
      "source": [
        "abs(x)"
      ]
    },
    {
      "cell_type": "code",
      "execution_count": null,
      "id": "fbfb8528-796f-49d0-b444-003f5ea2c8c1",
      "metadata": {
        "id": "fbfb8528-796f-49d0-b444-003f5ea2c8c1"
      },
      "outputs": [],
      "source": [
        "x=5"
      ]
    },
    {
      "cell_type": "code",
      "execution_count": null,
      "id": "629263f9-376b-4577-8ae2-a0920d0d29ad",
      "metadata": {
        "id": "629263f9-376b-4577-8ae2-a0920d0d29ad",
        "outputId": "268b712f-e65d-4751-ab4b-e6d058365e84"
      },
      "outputs": [
        {
          "data": {
            "text/plain": [
              "139859879395696"
            ]
          },
          "execution_count": 143,
          "metadata": {},
          "output_type": "execute_result"
        }
      ],
      "source": [
        "id(x)"
      ]
    },
    {
      "cell_type": "code",
      "execution_count": null,
      "id": "b07ae3cb-5bb9-4f2b-9ba9-c95a13f1f249",
      "metadata": {
        "id": "b07ae3cb-5bb9-4f2b-9ba9-c95a13f1f249"
      },
      "outputs": [],
      "source": [
        "l=[1,2,3,4]"
      ]
    },
    {
      "cell_type": "code",
      "execution_count": null,
      "id": "95be1090-d66b-4031-a8b2-ef9e34c79144",
      "metadata": {
        "id": "95be1090-d66b-4031-a8b2-ef9e34c79144",
        "outputId": "df56f022-6ac7-4ef6-fb87-7dfc84bc4032"
      },
      "outputs": [
        {
          "data": {
            "text/plain": [
              "4"
            ]
          },
          "execution_count": 145,
          "metadata": {},
          "output_type": "execute_result"
        }
      ],
      "source": [
        "max(l)"
      ]
    },
    {
      "cell_type": "code",
      "execution_count": null,
      "id": "50e27fae-c742-4df3-ba6f-1830b4ec6942",
      "metadata": {
        "id": "50e27fae-c742-4df3-ba6f-1830b4ec6942"
      },
      "outputs": [],
      "source": [
        "x=2"
      ]
    },
    {
      "cell_type": "code",
      "execution_count": null,
      "id": "bf5c657b-920d-436c-81f8-804a2f34be80",
      "metadata": {
        "id": "bf5c657b-920d-436c-81f8-804a2f34be80"
      },
      "outputs": [],
      "source": [
        "y=str(x)"
      ]
    },
    {
      "cell_type": "code",
      "execution_count": null,
      "id": "a51c8b24-91de-4c83-9c0a-45dfa62375c9",
      "metadata": {
        "id": "a51c8b24-91de-4c83-9c0a-45dfa62375c9",
        "outputId": "7311c746-7fba-4b86-97d2-7dbb5403491b"
      },
      "outputs": [
        {
          "data": {
            "text/plain": [
              "'2'"
            ]
          },
          "execution_count": 149,
          "metadata": {},
          "output_type": "execute_result"
        }
      ],
      "source": [
        "y"
      ]
    },
    {
      "cell_type": "code",
      "execution_count": null,
      "id": "8ac7881f-eca9-4587-9c91-0a1ae9260ce0",
      "metadata": {
        "id": "8ac7881f-eca9-4587-9c91-0a1ae9260ce0",
        "outputId": "ae7fa493-e20d-4cd1-a1a2-b9e77880a961"
      },
      "outputs": [
        {
          "data": {
            "text/plain": [
              "str"
            ]
          },
          "execution_count": 151,
          "metadata": {},
          "output_type": "execute_result"
        }
      ],
      "source": [
        "type(y)"
      ]
    },
    {
      "cell_type": "code",
      "execution_count": null,
      "id": "fe70309e-d654-4034-a545-531a317b828d",
      "metadata": {
        "id": "fe70309e-d654-4034-a545-531a317b828d"
      },
      "outputs": [],
      "source": [
        "language=['python','java','javascript']"
      ]
    },
    {
      "cell_type": "code",
      "execution_count": null,
      "id": "0527acca-6c71-4bfe-8e35-50d57070c835",
      "metadata": {
        "id": "0527acca-6c71-4bfe-8e35-50d57070c835"
      },
      "outputs": [],
      "source": [
        "enumerate_prime= enumerate(language,3)"
      ]
    },
    {
      "cell_type": "code",
      "execution_count": null,
      "id": "edc67932-1761-4409-981d-f3cd9dc35453",
      "metadata": {
        "id": "edc67932-1761-4409-981d-f3cd9dc35453",
        "outputId": "389e53a7-03fc-4bfa-af86-8c17df2c6215"
      },
      "outputs": [
        {
          "data": {
            "text/plain": [
              "[(3, 'python'), (4, 'java'), (5, 'javascript')]"
            ]
          },
          "execution_count": 174,
          "metadata": {},
          "output_type": "execute_result"
        }
      ],
      "source": [
        "list(enumerate_prime)"
      ]
    },
    {
      "cell_type": "code",
      "execution_count": null,
      "id": "565ef69f-153c-4c88-9787-eb7fbb7365e7",
      "metadata": {
        "id": "565ef69f-153c-4c88-9787-eb7fbb7365e7"
      },
      "outputs": [],
      "source": [
        "## List comprehension"
      ]
    },
    {
      "cell_type": "code",
      "execution_count": null,
      "id": "a421dbd9-21c5-40cc-acd2-8398c3c0af75",
      "metadata": {
        "id": "a421dbd9-21c5-40cc-acd2-8398c3c0af75"
      },
      "outputs": [],
      "source": [
        "lst=[1,2,3,4,5,6,7,8,9,10]"
      ]
    },
    {
      "cell_type": "code",
      "execution_count": null,
      "id": "c3db9570-6b86-4a55-a784-4f5fe7da55a3",
      "metadata": {
        "id": "c3db9570-6b86-4a55-a784-4f5fe7da55a3"
      },
      "outputs": [],
      "source": [
        "a=[x for x in lst]"
      ]
    },
    {
      "cell_type": "code",
      "execution_count": null,
      "id": "9f1d8d66-42b1-4b3a-a787-70030044e283",
      "metadata": {
        "id": "9f1d8d66-42b1-4b3a-a787-70030044e283",
        "outputId": "9147381a-283c-4311-9779-6bd5ed70b4af"
      },
      "outputs": [
        {
          "data": {
            "text/plain": [
              "[1, 2, 3, 4, 5, 6, 7, 8, 9, 10]"
            ]
          },
          "execution_count": 178,
          "metadata": {},
          "output_type": "execute_result"
        }
      ],
      "source": [
        "a"
      ]
    },
    {
      "cell_type": "code",
      "execution_count": null,
      "id": "5f6baafc-d821-4131-b072-83ab64397cae",
      "metadata": {
        "id": "5f6baafc-d821-4131-b072-83ab64397cae",
        "outputId": "6b5661ba-7bbc-414f-b581-d5bd44996189"
      },
      "outputs": [
        {
          "name": "stdout",
          "output_type": "stream",
          "text": [
            "1\n",
            "2\n",
            "3\n",
            "4\n",
            "5\n",
            "6\n",
            "7\n",
            "8\n",
            "9\n",
            "10\n"
          ]
        }
      ],
      "source": [
        "for i in lst:\n",
        "    print(i)"
      ]
    },
    {
      "cell_type": "code",
      "execution_count": null,
      "id": "9005ee53-ddf5-4335-9370-68ab5b01bc6a",
      "metadata": {
        "id": "9005ee53-ddf5-4335-9370-68ab5b01bc6a"
      },
      "outputs": [],
      "source": [
        "lst=[1,2,3,4,5,6,7,8,9,10]\n",
        "a=[x+1 for x in lst]"
      ]
    },
    {
      "cell_type": "code",
      "execution_count": null,
      "id": "c5863c64-74f3-44e5-b5f7-22ce2ab1b446",
      "metadata": {
        "id": "c5863c64-74f3-44e5-b5f7-22ce2ab1b446",
        "outputId": "2fb62d8c-6dd2-41ca-b69b-bc70c0256a3b"
      },
      "outputs": [
        {
          "data": {
            "text/plain": [
              "[2, 3, 4, 5, 6, 7, 8, 9, 10, 11]"
            ]
          },
          "execution_count": 182,
          "metadata": {},
          "output_type": "execute_result"
        }
      ],
      "source": [
        "a"
      ]
    },
    {
      "cell_type": "code",
      "execution_count": null,
      "id": "1c94409b-14a6-43e6-ae93-b2e66fc3c546",
      "metadata": {
        "id": "1c94409b-14a6-43e6-ae93-b2e66fc3c546"
      },
      "outputs": [],
      "source": [
        "lst=[1,2,3,4,5,6,7,8,9,10]\n",
        "a=[x*2 for x in lst]"
      ]
    },
    {
      "cell_type": "code",
      "execution_count": null,
      "id": "3697561e-a106-4df9-a6ca-224ba2c5da1b",
      "metadata": {
        "id": "3697561e-a106-4df9-a6ca-224ba2c5da1b",
        "outputId": "21fd5829-b3b6-4c80-b5be-566d6834a4d1"
      },
      "outputs": [
        {
          "data": {
            "text/plain": [
              "[2, 4, 6, 8, 10, 12, 14, 16, 18, 20]"
            ]
          },
          "execution_count": 187,
          "metadata": {},
          "output_type": "execute_result"
        }
      ],
      "source": [
        "a"
      ]
    },
    {
      "cell_type": "code",
      "execution_count": null,
      "id": "bcaff278-72b9-4899-b1db-1d7f4bd9fca9",
      "metadata": {
        "id": "bcaff278-72b9-4899-b1db-1d7f4bd9fca9"
      },
      "outputs": [],
      "source": [
        "lst=[1,2,3,4,5,6,7,8,9,10]\n",
        "\n",
        "c= [ x for x in lst if x>4]"
      ]
    },
    {
      "cell_type": "code",
      "execution_count": null,
      "id": "4827a748-4bde-46eb-b74f-43458b39bcb3",
      "metadata": {
        "id": "4827a748-4bde-46eb-b74f-43458b39bcb3",
        "outputId": "dfe985c4-4f8c-42b7-e001-af3e8d197571"
      },
      "outputs": [
        {
          "data": {
            "text/plain": [
              "[5, 6, 7, 8, 9, 10]"
            ]
          },
          "execution_count": 189,
          "metadata": {},
          "output_type": "execute_result"
        }
      ],
      "source": [
        "c"
      ]
    },
    {
      "cell_type": "code",
      "execution_count": null,
      "id": "ed85b39a-3455-4eab-876a-74cbc567bcdf",
      "metadata": {
        "id": "ed85b39a-3455-4eab-876a-74cbc567bcdf"
      },
      "outputs": [],
      "source": [
        "a=[]\n",
        "\n",
        "for x in lst:\n",
        "    if x>4:\n",
        "        a.append(x)"
      ]
    },
    {
      "cell_type": "code",
      "execution_count": null,
      "id": "757e949d-fa4e-4625-91e4-f6c688a06f83",
      "metadata": {
        "id": "757e949d-fa4e-4625-91e4-f6c688a06f83",
        "outputId": "a1be4d5a-585d-4b4b-ad95-505c5286575c"
      },
      "outputs": [
        {
          "data": {
            "text/plain": [
              "[5, 6, 7, 8, 9, 10]"
            ]
          },
          "execution_count": 191,
          "metadata": {},
          "output_type": "execute_result"
        }
      ],
      "source": [
        "a"
      ]
    },
    {
      "cell_type": "code",
      "execution_count": null,
      "id": "722a46da-0497-48c9-a497-c7c901956536",
      "metadata": {
        "id": "722a46da-0497-48c9-a497-c7c901956536"
      },
      "outputs": [],
      "source": [
        "lst=[1,2,3,4,5,6,7,8,9,10]"
      ]
    },
    {
      "cell_type": "code",
      "execution_count": null,
      "id": "7bcb9f52-5902-47e5-9b36-ebba2569cfca",
      "metadata": {
        "id": "7bcb9f52-5902-47e5-9b36-ebba2569cfca",
        "outputId": "4e4fa73c-cbda-463c-9ba9-3c5f4ba3f035"
      },
      "outputs": [
        {
          "data": {
            "text/plain": [
              "[1, 3, 5, 7, 9]"
            ]
          },
          "execution_count": 193,
          "metadata": {},
          "output_type": "execute_result"
        }
      ],
      "source": [
        "l=[1,2,3,4,5,6,7,8,9,10]\n",
        "result=[i for i in l if i%2!=0]\n",
        "result\n"
      ]
    },
    {
      "cell_type": "code",
      "execution_count": null,
      "id": "e714b75a-9f1c-4a88-a529-085aca407245",
      "metadata": {
        "id": "e714b75a-9f1c-4a88-a529-085aca407245",
        "outputId": "59330256-15cd-4566-b811-0e3f4d2d4959"
      },
      "outputs": [
        {
          "data": {
            "text/plain": [
              "[2, 4, 6, 8, 10]"
            ]
          },
          "execution_count": 195,
          "metadata": {},
          "output_type": "execute_result"
        }
      ],
      "source": [
        "l=[1,2,3,4,5,6,7,8,9,10]\n",
        "result=[i for i in l if i%2==0]\n",
        "result"
      ]
    },
    {
      "cell_type": "code",
      "execution_count": null,
      "id": "c41d7970-9917-4f7b-8ee0-4365a02e1cf8",
      "metadata": {
        "id": "c41d7970-9917-4f7b-8ee0-4365a02e1cf8"
      },
      "outputs": [],
      "source": [
        "lst=[1,2,3,4,5,6,7,8,9,10]\n",
        "d=[x for x in lst if x>4 if x%2==0]"
      ]
    },
    {
      "cell_type": "code",
      "execution_count": null,
      "id": "63791ce9-9172-4865-a301-58d6ba8aafcd",
      "metadata": {
        "id": "63791ce9-9172-4865-a301-58d6ba8aafcd",
        "outputId": "46987d43-1aa6-44a7-e26d-423c9c1050b3"
      },
      "outputs": [
        {
          "data": {
            "text/plain": [
              "[6, 8, 10]"
            ]
          },
          "execution_count": 197,
          "metadata": {},
          "output_type": "execute_result"
        }
      ],
      "source": [
        "d"
      ]
    },
    {
      "cell_type": "code",
      "execution_count": null,
      "id": "87b43d02-e803-44bb-8dff-62d9f47c3922",
      "metadata": {
        "id": "87b43d02-e803-44bb-8dff-62d9f47c3922"
      },
      "outputs": [],
      "source": [
        "a=[]\n",
        "\n",
        "for x in lst:\n",
        "    if x>4:\n",
        "        a.append(x)"
      ]
    },
    {
      "cell_type": "code",
      "execution_count": null,
      "id": "7e1fd85b-b191-4071-8fd9-888d8bf6d609",
      "metadata": {
        "id": "7e1fd85b-b191-4071-8fd9-888d8bf6d609"
      },
      "outputs": [],
      "source": [
        "lst=[1,2,3,4,5,6,7,8,9,10]\n",
        "e= [x if x>4 else 'lessthan 4' for x in lst]"
      ]
    },
    {
      "cell_type": "code",
      "execution_count": null,
      "id": "04f5a4f7-7059-4950-8e2a-3a0af60dae92",
      "metadata": {
        "id": "04f5a4f7-7059-4950-8e2a-3a0af60dae92",
        "outputId": "76869351-5886-4074-e393-bbb8031de5aa"
      },
      "outputs": [
        {
          "data": {
            "text/plain": [
              "['lessthan 4', 'lessthan 4', 'lessthan 4', 'lessthan 4', 5, 6, 7, 8, 9, 10]"
            ]
          },
          "execution_count": 200,
          "metadata": {},
          "output_type": "execute_result"
        }
      ],
      "source": [
        "e"
      ]
    },
    {
      "cell_type": "code",
      "execution_count": null,
      "id": "659e6f7b-1a70-42aa-9f65-7b9ba4b4887e",
      "metadata": {
        "id": "659e6f7b-1a70-42aa-9f65-7b9ba4b4887e"
      },
      "outputs": [],
      "source": [
        "a=[]\n",
        "\n",
        "for x in lst:\n",
        "    if x>4:\n",
        "        a.append(x)\n",
        "    else:\n",
        "        a.append(\"less than 4\")"
      ]
    },
    {
      "cell_type": "code",
      "execution_count": null,
      "id": "99f3a3dd-8dff-4c22-bfb5-645e3dac1b01",
      "metadata": {
        "id": "99f3a3dd-8dff-4c22-bfb5-645e3dac1b01"
      },
      "outputs": [],
      "source": [
        "lst=[1,2,3,4,5,6,7,8,9,10]\n",
        "f=['two' if x%2==0 else 'three' if x%3==0 else 'not a & b' for x in lst]"
      ]
    },
    {
      "cell_type": "code",
      "execution_count": null,
      "id": "2fe835b5-d5c9-4cb2-bfe4-9862aea5ef2a",
      "metadata": {
        "id": "2fe835b5-d5c9-4cb2-bfe4-9862aea5ef2a"
      },
      "outputs": [],
      "source": [
        "list = [91, 12, 63, 5]\n",
        "f = lambda listx: [print(x) for x in listx]\n",
        "f(list)\n"
      ]
    },
    {
      "cell_type": "code",
      "execution_count": null,
      "id": "2aaeb0e2-01b2-4a4b-83bf-f6da21937ff9",
      "metadata": {
        "id": "2aaeb0e2-01b2-4a4b-83bf-f6da21937ff9",
        "outputId": "bdfd96f1-02b9-408b-cf86-38ecd95f9c4a"
      },
      "outputs": [
        {
          "data": {
            "text/plain": [
              "['not a & b',\n",
              " 'two',\n",
              " 'three',\n",
              " 'two',\n",
              " 'not a & b',\n",
              " 'two',\n",
              " 'not a & b',\n",
              " 'two',\n",
              " 'three',\n",
              " 'two']"
            ]
          },
          "execution_count": 206,
          "metadata": {},
          "output_type": "execute_result"
        }
      ],
      "source": [
        "f"
      ]
    },
    {
      "cell_type": "code",
      "execution_count": null,
      "id": "96834840-eb67-4327-988c-6852369a0c20",
      "metadata": {
        "id": "96834840-eb67-4327-988c-6852369a0c20"
      },
      "outputs": [],
      "source": [
        "a=[]\n",
        "\n",
        "for x in lst:\n",
        "    if x%2==0:\n",
        "        a.append('two')\n",
        "    elif x%3==0:\n",
        "        a.append('three')\n",
        "    else:\n",
        "        a.append(\"not 2 & 3\")"
      ]
    },
    {
      "cell_type": "code",
      "execution_count": null,
      "id": "3d8ce6ff-633e-4df5-b8a5-845fd09dbe7e",
      "metadata": {
        "id": "3d8ce6ff-633e-4df5-b8a5-845fd09dbe7e",
        "outputId": "9ddd8a65-1c68-4443-b7a4-4d928f8d0a2e"
      },
      "outputs": [
        {
          "data": {
            "text/plain": [
              "['not 2 & 3',\n",
              " 'two',\n",
              " 'three',\n",
              " 'two',\n",
              " 'not 2 & 3',\n",
              " 'two',\n",
              " 'not 2 & 3',\n",
              " 'two',\n",
              " 'three',\n",
              " 'two']"
            ]
          },
          "execution_count": 204,
          "metadata": {},
          "output_type": "execute_result"
        }
      ],
      "source": [
        "a"
      ]
    }
  ],
  "metadata": {
    "kernelspec": {
      "display_name": "Python 3 (ipykernel)",
      "language": "python",
      "name": "python3"
    },
    "language_info": {
      "codemirror_mode": {
        "name": "ipython",
        "version": 3
      },
      "file_extension": ".py",
      "mimetype": "text/x-python",
      "name": "python",
      "nbconvert_exporter": "python",
      "pygments_lexer": "ipython3",
      "version": "3.10.8"
    },
    "colab": {
      "provenance": [],
      "include_colab_link": true
    }
  },
  "nbformat": 4,
  "nbformat_minor": 5
}