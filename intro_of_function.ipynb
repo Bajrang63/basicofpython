{
  "cells": [
    {
      "cell_type": "markdown",
      "metadata": {
        "id": "view-in-github",
        "colab_type": "text"
      },
      "source": [
        "<a href=\"https://colab.research.google.com/github/Bajrang63/basicofpython/blob/main/intro_of_function.ipynb\" target=\"_parent\"><img src=\"https://colab.research.google.com/assets/colab-badge.svg\" alt=\"Open In Colab\"/></a>"
      ]
    },
    {
      "cell_type": "code",
      "execution_count": null,
      "id": "1e3b397b-2cc2-4302-9eb4-494130734223",
      "metadata": {
        "id": "1e3b397b-2cc2-4302-9eb4-494130734223",
        "outputId": "38fda335-f856-4189-a66e-0e46cfc687a2"
      },
      "outputs": [
        {
          "name": "stdout",
          "output_type": "stream",
          "text": [
            "negative number\n",
            "this is always prints\n"
          ]
        }
      ],
      "source": [
        "number = -1\n",
        "\n",
        "if number > 0:\n",
        "    print(\"positive number\")\n",
        "elif number == 0:\n",
        "    print(\"zer0\")\n",
        "else:\n",
        "    print(\"negative number\")\n",
        "\n",
        "print(\"this is always prints\")"
      ]
    },
    {
      "cell_type": "code",
      "execution_count": null,
      "id": "9f38e075-5444-49a8-bf5e-046aa86f7c5f",
      "metadata": {
        "id": "9f38e075-5444-49a8-bf5e-046aa86f7c5f",
        "outputId": "141c0dca-64c7-4584-e336-e812a34095c6"
      },
      "outputs": [
        {
          "name": "stdout",
          "output_type": "stream",
          "text": [
            "0\n",
            "1\n",
            "2\n",
            "3\n",
            "4\n"
          ]
        }
      ],
      "source": [
        "for i in range(5):\n",
        "    print(i)"
      ]
    },
    {
      "cell_type": "code",
      "execution_count": null,
      "id": "d0041729-2f3b-4f9c-9465-959b9cf92a95",
      "metadata": {
        "id": "d0041729-2f3b-4f9c-9465-959b9cf92a95",
        "outputId": "0a9eb499-200a-4635-c556-7cbaf3a5e2ed"
      },
      "outputs": [
        {
          "name": "stdout",
          "output_type": "stream",
          "text": [
            "today is mon\n",
            "today is tue\n",
            "today is wed\n",
            "today is thu\n",
            "today is fri\n",
            "today is sat\n",
            "today is sun\n"
          ]
        }
      ],
      "source": [
        "days=0\n",
        "week=['mon','tue','wed','thu','fri','sat','sun']\n",
        "\n",
        "while days<7:\n",
        "    print(\"today is \" + week[days])\n",
        "    days +=1\n",
        "    # days= days+1"
      ]
    },
    {
      "cell_type": "code",
      "execution_count": null,
      "id": "28d480ec-244d-477c-81dd-85fe3d4a5bdd",
      "metadata": {
        "id": "28d480ec-244d-477c-81dd-85fe3d4a5bdd"
      },
      "outputs": [],
      "source": [
        "week[0]"
      ]
    },
    {
      "cell_type": "code",
      "execution_count": null,
      "id": "a0cb7f8f-b6d1-489a-b47b-5d619b34db20",
      "metadata": {
        "id": "a0cb7f8f-b6d1-489a-b47b-5d619b34db20"
      },
      "outputs": [],
      "source": [
        "# split"
      ]
    },
    {
      "cell_type": "code",
      "execution_count": null,
      "id": "d18920dc-18db-4b29-801d-dd3ff73e4bb4",
      "metadata": {
        "id": "d18920dc-18db-4b29-801d-dd3ff73e4bb4",
        "outputId": "6be1ab3d-7b8d-4faa-a22a-56e053d021fe"
      },
      "outputs": [
        {
          "data": {
            "text/plain": [
              "['i', 'write', 'code']"
            ]
          },
          "execution_count": 8,
          "metadata": {},
          "output_type": "execute_result"
        }
      ],
      "source": [
        "text=\" i write code\"\n",
        "\n",
        "text.split()"
      ]
    },
    {
      "cell_type": "code",
      "execution_count": null,
      "id": "7b8cbeca-e429-4872-8c34-d95aca8d951c",
      "metadata": {
        "id": "7b8cbeca-e429-4872-8c34-d95aca8d951c",
        "outputId": "7a7acf25-c7ac-46b5-b240-578ed1ad2bb4"
      },
      "outputs": [
        {
          "data": {
            "text/plain": [
              "['i', 'love', 'python']"
            ]
          },
          "execution_count": 9,
          "metadata": {},
          "output_type": "execute_result"
        }
      ],
      "source": [
        "text='i love python'\n",
        "\n",
        "text.split()"
      ]
    },
    {
      "cell_type": "code",
      "execution_count": null,
      "id": "f8d39a12-9bb5-47ed-9fe7-d65e8bb2e1e3",
      "metadata": {
        "id": "f8d39a12-9bb5-47ed-9fe7-d65e8bb2e1e3",
        "outputId": "0380c7af-770f-4eef-d3c2-a5fd505a13cb"
      },
      "outputs": [
        {
          "name": "stdin",
          "output_type": "stream",
          "text": [
            "enter 3 word message welocme to pwskills\n"
          ]
        }
      ],
      "source": [
        "x = input(\"enter 3 word message\")\n",
        "\n",
        "\n"
      ]
    },
    {
      "cell_type": "code",
      "execution_count": null,
      "id": "848584fc-3ebf-42c7-a8c2-37303301a707",
      "metadata": {
        "id": "848584fc-3ebf-42c7-a8c2-37303301a707"
      },
      "outputs": [],
      "source": [
        "y=1"
      ]
    },
    {
      "cell_type": "code",
      "execution_count": null,
      "id": "6b85770e-f1d0-4e69-8ada-c510d47dc571",
      "metadata": {
        "id": "6b85770e-f1d0-4e69-8ada-c510d47dc571"
      },
      "outputs": [],
      "source": [
        "y,w=2,3"
      ]
    },
    {
      "cell_type": "code",
      "execution_count": null,
      "id": "e94dd25b-1f38-477e-a763-20654f3bffe2",
      "metadata": {
        "id": "e94dd25b-1f38-477e-a763-20654f3bffe2"
      },
      "outputs": [],
      "source": [
        "word1,word2,word3=x.split()"
      ]
    },
    {
      "cell_type": "code",
      "execution_count": null,
      "id": "24ee1c5b-fe22-40f1-b1b8-46e0a42fe9cd",
      "metadata": {
        "id": "24ee1c5b-fe22-40f1-b1b8-46e0a42fe9cd",
        "outputId": "e6a4f908-3764-42cb-ab55-662f108ec8a5"
      },
      "outputs": [
        {
          "data": {
            "text/plain": [
              "'welocme'"
            ]
          },
          "execution_count": 14,
          "metadata": {},
          "output_type": "execute_result"
        }
      ],
      "source": [
        "word1"
      ]
    },
    {
      "cell_type": "code",
      "execution_count": null,
      "id": "0fa10f8b-71fc-426e-8513-179668437074",
      "metadata": {
        "id": "0fa10f8b-71fc-426e-8513-179668437074",
        "outputId": "0ab4df71-743b-4dd6-b9c6-31babdd0182d"
      },
      "outputs": [
        {
          "data": {
            "text/plain": [
              "'to'"
            ]
          },
          "execution_count": 15,
          "metadata": {},
          "output_type": "execute_result"
        }
      ],
      "source": [
        "word2"
      ]
    },
    {
      "cell_type": "code",
      "execution_count": null,
      "id": "1a8c75a7-c6e5-46bb-9b41-0a9030ca3966",
      "metadata": {
        "id": "1a8c75a7-c6e5-46bb-9b41-0a9030ca3966",
        "outputId": "bfffca0c-87d5-4abb-8312-9bd76f82e797"
      },
      "outputs": [
        {
          "data": {
            "text/plain": [
              "'pwskills'"
            ]
          },
          "execution_count": 16,
          "metadata": {},
          "output_type": "execute_result"
        }
      ],
      "source": [
        "word3"
      ]
    },
    {
      "cell_type": "code",
      "execution_count": null,
      "id": "b94c6902-8ada-48f4-a264-b34366f75f77",
      "metadata": {
        "id": "b94c6902-8ada-48f4-a264-b34366f75f77",
        "outputId": "73068f17-7ed1-495a-8781-54b4ae02128b"
      },
      "outputs": [
        {
          "name": "stdin",
          "output_type": "stream",
          "text": [
            "enter 1st number 2\n",
            "enter 2nd number 4\n"
          ]
        },
        {
          "name": "stdout",
          "output_type": "stream",
          "text": [
            "6\n"
          ]
        }
      ],
      "source": [
        "a = int(input(\"enter 1st number\"))\n",
        "b = int(input(\"enter 2nd number\"))\n",
        "print(a+b)"
      ]
    },
    {
      "cell_type": "code",
      "execution_count": null,
      "id": "9aa3388e-bbf0-4cdb-9157-dbe3967d135b",
      "metadata": {
        "id": "9aa3388e-bbf0-4cdb-9157-dbe3967d135b",
        "outputId": "b165c38c-c137-4f5c-ac52-ab3d0e4de914"
      },
      "outputs": [
        {
          "name": "stdin",
          "output_type": "stream",
          "text": [
            "enter two number 2 3\n"
          ]
        },
        {
          "name": "stdout",
          "output_type": "stream",
          "text": [
            "5\n"
          ]
        }
      ],
      "source": [
        "a,b= input(\"enter two number\").split()\n",
        "c= int(a)+int(b)\n",
        "\n",
        "print(c)"
      ]
    },
    {
      "cell_type": "code",
      "execution_count": null,
      "id": "82490984-f95e-4911-98b8-57f531685c49",
      "metadata": {
        "id": "82490984-f95e-4911-98b8-57f531685c49",
        "outputId": "b0306ec7-c5b9-4bb8-a3e4-cb42ac983a5b"
      },
      "outputs": [
        {
          "name": "stdin",
          "output_type": "stream",
          "text": [
            "enter two number sepreated by spaces 3 6\n"
          ]
        },
        {
          "name": "stdout",
          "output_type": "stream",
          "text": [
            "9\n"
          ]
        }
      ],
      "source": [
        "x = input(\"enter two number sepreated by spaces\")\n",
        "sum = int(x.split()[0]) + int(x.split()[1])\n",
        "print(sum)\n"
      ]
    },
    {
      "cell_type": "code",
      "execution_count": null,
      "id": "af8af6d2-3656-46a5-bd2e-0ef282a4d714",
      "metadata": {
        "id": "af8af6d2-3656-46a5-bd2e-0ef282a4d714",
        "outputId": "7a487dcc-fdd3-4c6e-b81b-7a6d63588212"
      },
      "outputs": [
        {
          "name": "stdin",
          "output_type": "stream",
          "text": [
            "enter roll no, name and percentage 34 pw 56\n"
          ]
        },
        {
          "name": "stdout",
          "output_type": "stream",
          "text": [
            "34\n",
            "pw\n",
            "56\n"
          ]
        }
      ],
      "source": [
        "s= input(\"enter roll no, name and percentage\")\n",
        "roll,name,percent=s.split()\n",
        "print(roll)\n",
        "print(name)\n",
        "print(percent)"
      ]
    },
    {
      "cell_type": "code",
      "execution_count": null,
      "id": "620009cf-225b-4d18-91f4-8bdee1a7fb3e",
      "metadata": {
        "id": "620009cf-225b-4d18-91f4-8bdee1a7fb3e",
        "outputId": "893afdf8-fac7-4fd9-8a7f-37db0d24f95d"
      },
      "outputs": [
        {
          "name": "stdout",
          "output_type": "stream",
          "text": [
            "['A', 'B', 'C', 'D E F']\n"
          ]
        }
      ],
      "source": [
        "s1=\"A B C D E F\"\n",
        "print(s1.split(' ',3))"
      ]
    },
    {
      "cell_type": "code",
      "execution_count": null,
      "id": "4e1c506f-7616-4e05-8bb3-31e202620634",
      "metadata": {
        "id": "4e1c506f-7616-4e05-8bb3-31e202620634",
        "outputId": "6537a3a0-66a7-4f05-caac-509f61e01db5"
      },
      "outputs": [
        {
          "data": {
            "text/plain": [
              "['HI', 'HI', 'HI@HI@HI']"
            ]
          },
          "execution_count": 30,
          "metadata": {},
          "output_type": "execute_result"
        }
      ],
      "source": [
        "s1=\"HI@HI@HI@HI@HI\"\n",
        "\n",
        "s1.split('@',2)"
      ]
    },
    {
      "cell_type": "code",
      "execution_count": null,
      "id": "8eaaf304-887b-4391-8ea1-ebcabd187c9b",
      "metadata": {
        "id": "8eaaf304-887b-4391-8ea1-ebcabd187c9b",
        "outputId": "e71abccd-618b-4ca5-ca4b-b3c4b7840930"
      },
      "outputs": [
        {
          "name": "stdout",
          "output_type": "stream",
          "text": [
            "letter p\n",
            "letter w\n",
            "letter s\n",
            "letter k\n",
            "letter i\n",
            "letter l\n",
            "letter l\n",
            "letter s\n"
          ]
        }
      ],
      "source": [
        "for letter in \"pwskills\":\n",
        "    print('letter', letter)"
      ]
    },
    {
      "cell_type": "code",
      "execution_count": null,
      "id": "5ac9715b-6c72-47af-8b43-0a81fe79968f",
      "metadata": {
        "id": "5ac9715b-6c72-47af-8b43-0a81fe79968f",
        "outputId": "72021cbd-3bde-4a58-f48e-2f6ad645c045"
      },
      "outputs": [
        {
          "name": "stdout",
          "output_type": "stream",
          "text": [
            "letter p\n",
            "letter w\n",
            "letter s\n",
            "letter k\n",
            "letter i\n"
          ]
        }
      ],
      "source": [
        "for letter in \"pwskills\":\n",
        "    if letter == \"l\":\n",
        "        break\n",
        "    print('letter', letter)"
      ]
    },
    {
      "cell_type": "code",
      "execution_count": null,
      "id": "3ba6676b-a4da-4b5a-a84b-d844a13038d7",
      "metadata": {
        "id": "3ba6676b-a4da-4b5a-a84b-d844a13038d7",
        "outputId": "f783fb95-f050-43c5-8dbd-2fbc93d0be68"
      },
      "outputs": [
        {
          "name": "stdout",
          "output_type": "stream",
          "text": [
            "0\n",
            "1\n",
            "2\n"
          ]
        }
      ],
      "source": [
        "for i in range(5):\n",
        "    if i==3:\n",
        "        break\n",
        "    print(i)"
      ]
    },
    {
      "cell_type": "code",
      "execution_count": null,
      "id": "def1f291-9fb5-47e1-a492-a4a900bf0224",
      "metadata": {
        "id": "def1f291-9fb5-47e1-a492-a4a900bf0224",
        "outputId": "99c261f9-626a-4aaa-8903-c227cde95e9c"
      },
      "outputs": [
        {
          "data": {
            "text/plain": [
              "[0, 1, 2, 3, 4]"
            ]
          },
          "execution_count": 35,
          "metadata": {},
          "output_type": "execute_result"
        }
      ],
      "source": [
        "list(range(5))"
      ]
    },
    {
      "cell_type": "code",
      "execution_count": null,
      "id": "72b9b3c4-96c6-4ddb-ad22-92c2040fa811",
      "metadata": {
        "id": "72b9b3c4-96c6-4ddb-ad22-92c2040fa811",
        "outputId": "35ab86ab-5a2c-4296-e39c-be4d42f9859b"
      },
      "outputs": [
        {
          "name": "stdout",
          "output_type": "stream",
          "text": [
            "1\n",
            "2\n",
            "3\n",
            "4\n",
            "5\n"
          ]
        }
      ],
      "source": [
        "i = 1\n",
        "\n",
        "while i<=10:\n",
        "    print(i)\n",
        "\n",
        "    if i >=5:\n",
        "        break\n",
        "    i=i+1"
      ]
    },
    {
      "cell_type": "code",
      "execution_count": null,
      "id": "12d7c31e-64b8-40e9-9fed-001c32f70e8d",
      "metadata": {
        "id": "12d7c31e-64b8-40e9-9fed-001c32f70e8d",
        "outputId": "d83601b2-e3c0-421e-d990-064489dabd27"
      },
      "outputs": [
        {
          "name": "stdout",
          "output_type": "stream",
          "text": [
            "10\n",
            "20\n",
            "30\n",
            "40\n"
          ]
        }
      ],
      "source": [
        "numbers = [10,20,30,40,120,230]\n",
        "\n",
        "for i in numbers:\n",
        "    if i>100:\n",
        "        break\n",
        "    print(i)"
      ]
    },
    {
      "cell_type": "code",
      "execution_count": null,
      "id": "7b4d43eb-f7e3-4947-803c-1a4ea12e509d",
      "metadata": {
        "id": "7b4d43eb-f7e3-4947-803c-1a4ea12e509d",
        "outputId": "27460aba-4d2b-4ace-d90f-f1bb325293d2"
      },
      "outputs": [
        {
          "name": "stdout",
          "output_type": "stream",
          "text": [
            "h\n",
            "e\n",
            "l\n",
            "l\n",
            "o\n",
            ",\n"
          ]
        }
      ],
      "source": [
        "s= \"hello, world\"\n",
        "for char in s:\n",
        "    print(char)\n",
        "    if char == ',':\n",
        "        break"
      ]
    },
    {
      "cell_type": "code",
      "execution_count": null,
      "id": "6019e9ee-4eb4-432a-b9e6-f004be19c61c",
      "metadata": {
        "id": "6019e9ee-4eb4-432a-b9e6-f004be19c61c",
        "outputId": "e3d03be4-598d-48cc-a63b-c24becbe57da"
      },
      "outputs": [
        {
          "name": "stdout",
          "output_type": "stream",
          "text": [
            "p\n",
            "w\n",
            "s\n",
            "k\n",
            "i\n",
            "s\n"
          ]
        }
      ],
      "source": [
        "for letter in \"pwskills\":\n",
        "    if letter == 'l':\n",
        "        continue\n",
        "    print(letter)"
      ]
    },
    {
      "cell_type": "code",
      "execution_count": null,
      "id": "a970ee8f-983f-411b-87df-bd0b9f67e0b1",
      "metadata": {
        "id": "a970ee8f-983f-411b-87df-bd0b9f67e0b1",
        "outputId": "3dc64050-31d3-4492-ffaf-88918d3c50d0"
      },
      "outputs": [
        {
          "name": "stdout",
          "output_type": "stream",
          "text": [
            "0\n",
            "1\n",
            "2\n",
            "4\n"
          ]
        }
      ],
      "source": [
        "for i in range(5):\n",
        "    if i ==3:\n",
        "        continue\n",
        "    print(i)\n",
        "\n",
        "\n",
        "# break --- end the loop\n",
        "# continue -- skip the loop"
      ]
    },
    {
      "cell_type": "code",
      "execution_count": null,
      "id": "fd3478f5-8d69-49b4-9a16-49077af1ab44",
      "metadata": {
        "id": "fd3478f5-8d69-49b4-9a16-49077af1ab44"
      },
      "outputs": [],
      "source": [
        "# write a program to print odd number from 1 to 10"
      ]
    },
    {
      "cell_type": "code",
      "execution_count": null,
      "id": "43fecdf5-3309-44e4-bdba-cb4ad26029ee",
      "metadata": {
        "id": "43fecdf5-3309-44e4-bdba-cb4ad26029ee",
        "outputId": "cd8aa588-3250-4141-820f-574ad9a976ca"
      },
      "outputs": [
        {
          "name": "stdout",
          "output_type": "stream",
          "text": [
            "1\n",
            "3\n",
            "5\n",
            "7\n",
            "9\n"
          ]
        }
      ],
      "source": [
        "for i in range (1,11):\n",
        "    if i%2==0:\n",
        "        continue\n",
        "    print(i)\n"
      ]
    },
    {
      "cell_type": "code",
      "execution_count": null,
      "id": "65c8737e-c11f-48c4-8f42-32b788153a9f",
      "metadata": {
        "id": "65c8737e-c11f-48c4-8f42-32b788153a9f",
        "outputId": "0c829b50-4d46-4cbb-f162-ca44bdbf177f"
      },
      "outputs": [
        {
          "name": "stdout",
          "output_type": "stream",
          "text": [
            "1\n",
            "3\n",
            "5\n",
            "7\n",
            "9\n"
          ]
        }
      ],
      "source": [
        "for i in range(1,11):\n",
        "    if i%2!=0:\n",
        "        print(i)\n",
        "    else:\n",
        "        continue\n"
      ]
    },
    {
      "cell_type": "code",
      "execution_count": null,
      "id": "a6ed787f-b4cd-4828-82a8-4a4815452d6c",
      "metadata": {
        "id": "a6ed787f-b4cd-4828-82a8-4a4815452d6c",
        "outputId": "314d9571-8480-4bed-cccd-98ded522fd24"
      },
      "outputs": [
        {
          "name": "stdout",
          "output_type": "stream",
          "text": [
            "1\n",
            "3\n",
            "5\n",
            "7\n",
            "9\n"
          ]
        }
      ],
      "source": [
        "# write a program to print odd numbers from 1 to 10\n",
        "for i in range(1,11):\n",
        "    if i % 2 == 0:\n",
        "        continue\n",
        "    print(i)\n"
      ]
    },
    {
      "cell_type": "code",
      "execution_count": null,
      "id": "594b9098-4e3b-4782-9ef6-d139fcdfd5c8",
      "metadata": {
        "id": "594b9098-4e3b-4782-9ef6-d139fcdfd5c8",
        "outputId": "8fa48b34-d117-478e-a489-c778a661f2fa"
      },
      "outputs": [
        {
          "name": "stdout",
          "output_type": "stream",
          "text": [
            "hello\n"
          ]
        }
      ],
      "source": [
        "n=10\n",
        "\n",
        "if n > 10:\n",
        "    pass\n",
        "\n",
        "print('hello')"
      ]
    },
    {
      "cell_type": "code",
      "execution_count": null,
      "id": "db02daeb-fa71-4b3c-8e6c-8477083e53e4",
      "metadata": {
        "id": "db02daeb-fa71-4b3c-8e6c-8477083e53e4"
      },
      "outputs": [],
      "source": [
        "for i in range(5):\n",
        "    pass\n"
      ]
    },
    {
      "cell_type": "code",
      "execution_count": null,
      "id": "ef18a6ca-ce4a-47a4-9312-37847a13f957",
      "metadata": {
        "id": "ef18a6ca-ce4a-47a4-9312-37847a13f957",
        "outputId": "03387ff2-c775-49e7-b2de-71bcd750f63f"
      },
      "outputs": [
        {
          "ename": "SyntaxError",
          "evalue": "incomplete input (3139233531.py, line 3)",
          "output_type": "error",
          "traceback": [
            "\u001b[0;36m  Cell \u001b[0;32mIn[46], line 3\u001b[0;36m\u001b[0m\n\u001b[0;31m    \u001b[0m\n\u001b[0m    ^\u001b[0m\n\u001b[0;31mSyntaxError\u001b[0m\u001b[0;31m:\u001b[0m incomplete input\n"
          ]
        }
      ],
      "source": [
        "if n>45:\n",
        "\n",
        ""
      ]
    },
    {
      "cell_type": "code",
      "execution_count": null,
      "id": "89726fcd-2518-470c-a617-24d42add2280",
      "metadata": {
        "id": "89726fcd-2518-470c-a617-24d42add2280",
        "outputId": "abeacbae-b267-485b-cd55-d307b3f7a78a"
      },
      "outputs": [
        {
          "name": "stdout",
          "output_type": "stream",
          "text": [
            "p\n",
            "w\n",
            "s\n",
            "k\n",
            "i\n",
            "l\n",
            "l\n",
            "s\n"
          ]
        }
      ],
      "source": [
        "for letter in \"pwskills\":\n",
        "    if letter == 'i':\n",
        "        pass\n",
        "\n",
        "    print(letter)"
      ]
    },
    {
      "cell_type": "code",
      "execution_count": null,
      "id": "99f5aaf8-3c38-4ff4-862b-3f3a470dd276",
      "metadata": {
        "id": "99f5aaf8-3c38-4ff4-862b-3f3a470dd276"
      },
      "outputs": [],
      "source": [
        "# Functions"
      ]
    },
    {
      "cell_type": "code",
      "execution_count": null,
      "id": "7656b108-0afd-4d5d-be42-f8917b85345d",
      "metadata": {
        "id": "7656b108-0afd-4d5d-be42-f8917b85345d",
        "outputId": "821ebec6-7731-4f52-9174-039c1fefcb87"
      },
      "outputs": [
        {
          "name": "stdout",
          "output_type": "stream",
          "text": [
            "30\n"
          ]
        }
      ],
      "source": [
        "a=10\n",
        "b=20\n",
        "print(a+b)"
      ]
    },
    {
      "cell_type": "code",
      "execution_count": null,
      "id": "545e081f-1ed9-4388-9aaf-f2365747709a",
      "metadata": {
        "id": "545e081f-1ed9-4388-9aaf-f2365747709a",
        "outputId": "0b90dda2-2363-442f-c496-3fe7a128045e"
      },
      "outputs": [
        {
          "name": "stdout",
          "output_type": "stream",
          "text": [
            "114\n"
          ]
        }
      ],
      "source": [
        "a=80\n",
        "b=34\n",
        "print(a+b)"
      ]
    },
    {
      "cell_type": "code",
      "execution_count": null,
      "id": "158d9f5a-077e-4ed7-af72-67c37da3235b",
      "metadata": {
        "id": "158d9f5a-077e-4ed7-af72-67c37da3235b",
        "outputId": "02181493-8412-45db-d8f4-e5d34d9e24fa"
      },
      "outputs": [
        {
          "name": "stdout",
          "output_type": "stream",
          "text": [
            "47\n"
          ]
        }
      ],
      "source": [
        "a=45\n",
        "b=2\n",
        "print(a+b)"
      ]
    },
    {
      "cell_type": "code",
      "execution_count": null,
      "id": "ddcb4a98-1a97-4dab-b096-780c5417f972",
      "metadata": {
        "id": "ddcb4a98-1a97-4dab-b096-780c5417f972"
      },
      "outputs": [],
      "source": [
        "def add_nums(a, b):\n",
        "    return a + b\n"
      ]
    },
    {
      "cell_type": "code",
      "execution_count": null,
      "id": "3f38cdb2-0688-4a4e-b856-1aad2482815c",
      "metadata": {
        "id": "3f38cdb2-0688-4a4e-b856-1aad2482815c"
      },
      "outputs": [],
      "source": [
        "Create a function\n",
        "\n",
        "def functionname(arguments):\n",
        "    # function body\n",
        "\n",
        "    return\n",
        "-------------------------------------\n",
        "call a function\n",
        "\n",
        "functionname()\n"
      ]
    },
    {
      "cell_type": "code",
      "execution_count": null,
      "id": "188a1d71-c79e-4c9f-a113-550fb0f52532",
      "metadata": {
        "id": "188a1d71-c79e-4c9f-a113-550fb0f52532"
      },
      "outputs": [],
      "source": [
        "x=10"
      ]
    },
    {
      "cell_type": "code",
      "execution_count": null,
      "id": "b8817b90-fd7e-4b7d-86fc-4f72168768f3",
      "metadata": {
        "id": "b8817b90-fd7e-4b7d-86fc-4f72168768f3"
      },
      "outputs": [],
      "source": [
        "def greet():\n",
        "    print(\"hello wolrd\")"
      ]
    },
    {
      "cell_type": "code",
      "execution_count": null,
      "id": "0082099a-73fc-4558-8b28-335376674af6",
      "metadata": {
        "id": "0082099a-73fc-4558-8b28-335376674af6",
        "outputId": "c16f5016-a6ea-4496-a215-008215246575"
      },
      "outputs": [
        {
          "name": "stdout",
          "output_type": "stream",
          "text": [
            "hello wolrd\n"
          ]
        }
      ],
      "source": [
        "greet()"
      ]
    },
    {
      "cell_type": "code",
      "execution_count": null,
      "id": "aea23da9-5d2c-44ee-85b2-21b6d8345c25",
      "metadata": {
        "id": "aea23da9-5d2c-44ee-85b2-21b6d8345c25"
      },
      "outputs": [],
      "source": [
        "def addnum():\n",
        "    a=100\n",
        "    b=233\n",
        "    c=a+b\n",
        "    print(c)"
      ]
    },
    {
      "cell_type": "code",
      "execution_count": null,
      "id": "afde3e95-1a25-4327-b0c0-c96fb24349b1",
      "metadata": {
        "id": "afde3e95-1a25-4327-b0c0-c96fb24349b1",
        "outputId": "94d1fde1-8dbd-4e3a-9d73-184d17735ffd"
      },
      "outputs": [
        {
          "name": "stdout",
          "output_type": "stream",
          "text": [
            "333\n"
          ]
        }
      ],
      "source": [
        "addnum()"
      ]
    },
    {
      "cell_type": "code",
      "execution_count": null,
      "id": "f02d5bcd-f1d1-48c9-8cb4-ebdf66c86748",
      "metadata": {
        "id": "f02d5bcd-f1d1-48c9-8cb4-ebdf66c86748",
        "outputId": "38199c33-3abf-4bc7-f37a-1307b7028981"
      },
      "outputs": [
        {
          "name": "stdout",
          "output_type": "stream",
          "text": [
            "333\n"
          ]
        }
      ],
      "source": [
        "addnum()"
      ]
    },
    {
      "cell_type": "code",
      "execution_count": null,
      "id": "eda65f08-f0f4-40de-8005-831656140ef2",
      "metadata": {
        "id": "eda65f08-f0f4-40de-8005-831656140ef2"
      },
      "outputs": [],
      "source": [
        "def addtwonumbers():\n",
        "    a=input(\"enter first number\")\n",
        "    b=input(\"enter second number\")\n",
        "    c=int(a)+int(b)\n",
        "    print(c)"
      ]
    },
    {
      "cell_type": "code",
      "execution_count": null,
      "id": "fbc8fea0-5ec8-4dac-8f0b-adcc9e9d48d2",
      "metadata": {
        "id": "fbc8fea0-5ec8-4dac-8f0b-adcc9e9d48d2",
        "outputId": "8e739cba-405c-455a-be79-e3cea6e020b4"
      },
      "outputs": [
        {
          "name": "stdin",
          "output_type": "stream",
          "text": [
            "enter first number 5\n",
            "enter second number 8\n"
          ]
        },
        {
          "name": "stdout",
          "output_type": "stream",
          "text": [
            "13\n"
          ]
        }
      ],
      "source": [
        "addtwonumbers()"
      ]
    },
    {
      "cell_type": "code",
      "execution_count": null,
      "id": "b5086e25-b465-4adc-83ce-80b65d64d3ff",
      "metadata": {
        "id": "b5086e25-b465-4adc-83ce-80b65d64d3ff",
        "outputId": "dcee7159-bf47-4ba9-9e37-3e24513bb612"
      },
      "outputs": [
        {
          "name": "stdin",
          "output_type": "stream",
          "text": [
            "enter first number 4\n",
            "enter second number 9\n"
          ]
        },
        {
          "name": "stdout",
          "output_type": "stream",
          "text": [
            "13\n"
          ]
        }
      ],
      "source": [
        "addtwonumbers()"
      ]
    },
    {
      "cell_type": "code",
      "execution_count": null,
      "id": "bb5e96d1-28f5-4c3e-9d71-9a01d30024d2",
      "metadata": {
        "id": "bb5e96d1-28f5-4c3e-9d71-9a01d30024d2"
      },
      "outputs": [],
      "source": [
        "def multwonumbers(x,y):\n",
        "    a=x\n",
        "    b=y\n",
        "    c=a*b\n",
        "    print(c)"
      ]
    },
    {
      "cell_type": "code",
      "execution_count": null,
      "id": "36635ca0-a7bf-45d3-ad50-062cbd902536",
      "metadata": {
        "id": "36635ca0-a7bf-45d3-ad50-062cbd902536",
        "outputId": "7af51b1c-7bb1-42b5-f5c6-c82b7d2d5dbd"
      },
      "outputs": [
        {
          "name": "stdout",
          "output_type": "stream",
          "text": [
            "8\n"
          ]
        }
      ],
      "source": [
        "multwonumbers(2,4)"
      ]
    },
    {
      "cell_type": "code",
      "execution_count": null,
      "id": "0af263fc-b1dc-4b9d-a96a-d033d2c47b79",
      "metadata": {
        "id": "0af263fc-b1dc-4b9d-a96a-d033d2c47b79"
      },
      "outputs": [],
      "source": [
        "def introduction(name):\n",
        "    print(\"hi\",name)"
      ]
    },
    {
      "cell_type": "code",
      "execution_count": null,
      "id": "c8d1df0c-bd83-464b-8844-28ac52c44385",
      "metadata": {
        "id": "c8d1df0c-bd83-464b-8844-28ac52c44385",
        "outputId": "dff4c0d9-76f0-447a-bf03-b29a2d40fba8"
      },
      "outputs": [
        {
          "name": "stdout",
          "output_type": "stream",
          "text": [
            "hi pwskills\n"
          ]
        }
      ],
      "source": [
        "introduction('pwskills')"
      ]
    },
    {
      "cell_type": "code",
      "execution_count": null,
      "id": "7e7cc4d7-6eda-4e93-b736-0a8d1026f5f0",
      "metadata": {
        "id": "7e7cc4d7-6eda-4e93-b736-0a8d1026f5f0"
      },
      "outputs": [],
      "source": [
        "def introduction(name,lastname):\n",
        "    print(\"hi\", name+lastname)\n"
      ]
    },
    {
      "cell_type": "code",
      "execution_count": null,
      "id": "66ed2297-7ca1-4b0a-bd0e-dbc5f2675e34",
      "metadata": {
        "id": "66ed2297-7ca1-4b0a-bd0e-dbc5f2675e34",
        "outputId": "1a090b30-6e35-4b4e-db72-07aee1c70d61"
      },
      "outputs": [
        {
          "name": "stdout",
          "output_type": "stream",
          "text": [
            "hi pwskills\n"
          ]
        }
      ],
      "source": [
        "introduction(\"pw\",\"skills\")"
      ]
    },
    {
      "cell_type": "code",
      "execution_count": null,
      "id": "a6648a0e-fde3-4801-a0a6-f81cede1bcf2",
      "metadata": {
        "id": "a6648a0e-fde3-4801-a0a6-f81cede1bcf2"
      },
      "outputs": [],
      "source": [
        "-21   21\n"
      ]
    },
    {
      "cell_type": "code",
      "execution_count": null,
      "id": "bd44ce31-32e0-4855-ac1f-4bc959b434b9",
      "metadata": {
        "id": "bd44ce31-32e0-4855-ac1f-4bc959b434b9"
      },
      "outputs": [],
      "source": [
        "def absolute(n):\n",
        "    if n>0:\n",
        "        print(n)\n",
        "    else:\n",
        "        print(-n)"
      ]
    },
    {
      "cell_type": "code",
      "execution_count": null,
      "id": "f86f8182-91fc-4d86-bd1e-9d547f0ba903",
      "metadata": {
        "id": "f86f8182-91fc-4d86-bd1e-9d547f0ba903",
        "outputId": "e6ce6c19-781c-4fa6-e705-91282eb3e85a"
      },
      "outputs": [
        {
          "name": "stdout",
          "output_type": "stream",
          "text": [
            "85\n"
          ]
        }
      ],
      "source": [
        "absolute(-85)"
      ]
    },
    {
      "cell_type": "code",
      "execution_count": null,
      "id": "f093d5dc-542b-491f-833f-974191990c39",
      "metadata": {
        "id": "f093d5dc-542b-491f-833f-974191990c39"
      },
      "outputs": [],
      "source": [
        "def fullname(a,b):\n",
        "    c=a+b\n",
        "    return (c)"
      ]
    },
    {
      "cell_type": "code",
      "execution_count": null,
      "id": "08ada7cf-ed6d-47b4-af1a-a539329e32f5",
      "metadata": {
        "id": "08ada7cf-ed6d-47b4-af1a-a539329e32f5"
      },
      "outputs": [],
      "source": [
        "x=fullname('pw','skills')"
      ]
    },
    {
      "cell_type": "code",
      "execution_count": null,
      "id": "743f6429-be46-43fb-8dbb-c3bc162f3ca5",
      "metadata": {
        "id": "743f6429-be46-43fb-8dbb-c3bc162f3ca5",
        "outputId": "c464500d-6057-4d99-e9f1-a0e8f549f555"
      },
      "outputs": [
        {
          "data": {
            "text/plain": [
              "str"
            ]
          },
          "execution_count": 104,
          "metadata": {},
          "output_type": "execute_result"
        }
      ],
      "source": [
        "type(x)"
      ]
    },
    {
      "cell_type": "code",
      "execution_count": null,
      "id": "2f7d4fcf-2826-4add-af1d-bc2da5f7d670",
      "metadata": {
        "id": "2f7d4fcf-2826-4add-af1d-bc2da5f7d670",
        "outputId": "eadea776-7e97-4dfe-fff9-24cb62435b52"
      },
      "outputs": [
        {
          "data": {
            "text/plain": [
              "'pwskills'"
            ]
          },
          "execution_count": 105,
          "metadata": {},
          "output_type": "execute_result"
        }
      ],
      "source": [
        "x"
      ]
    },
    {
      "cell_type": "code",
      "execution_count": null,
      "id": "67f7bba1-449a-4bb2-aa9a-d6a8e4d59027",
      "metadata": {
        "id": "67f7bba1-449a-4bb2-aa9a-d6a8e4d59027"
      },
      "outputs": [],
      "source": [
        "def fullname(a,b):\n",
        "    c=a+b\n",
        "    print(c)"
      ]
    },
    {
      "cell_type": "code",
      "execution_count": null,
      "id": "680c17b5-ad01-489a-81d1-6428edec5de5",
      "metadata": {
        "id": "680c17b5-ad01-489a-81d1-6428edec5de5"
      },
      "outputs": [],
      "source": []
    },
    {
      "cell_type": "code",
      "execution_count": null,
      "id": "f8961ee0-9a0c-4e8c-a264-7fd6ee5ad111",
      "metadata": {
        "id": "f8961ee0-9a0c-4e8c-a264-7fd6ee5ad111",
        "outputId": "2815e608-4f36-4112-f7d3-1cec7317f1c5"
      },
      "outputs": [
        {
          "name": "stdout",
          "output_type": "stream",
          "text": [
            "pwskills\n"
          ]
        }
      ],
      "source": [
        "x=fullname('pw','skills')"
      ]
    },
    {
      "cell_type": "code",
      "execution_count": null,
      "id": "5eeb0354-651c-42d2-85f5-5bad16e6a883",
      "metadata": {
        "id": "5eeb0354-651c-42d2-85f5-5bad16e6a883"
      },
      "outputs": [],
      "source": []
    },
    {
      "cell_type": "code",
      "execution_count": null,
      "id": "96db6848-568f-491e-b185-f262d38fbc5d",
      "metadata": {
        "id": "96db6848-568f-491e-b185-f262d38fbc5d",
        "outputId": "394d5277-30a9-47eb-d188-8a9376563ea8"
      },
      "outputs": [
        {
          "data": {
            "text/plain": [
              "NoneType"
            ]
          },
          "execution_count": 120,
          "metadata": {},
          "output_type": "execute_result"
        }
      ],
      "source": [
        "type(x)"
      ]
    },
    {
      "cell_type": "code",
      "execution_count": null,
      "id": "6fe6f4a5-833c-43de-8bf3-59eb95af3764",
      "metadata": {
        "id": "6fe6f4a5-833c-43de-8bf3-59eb95af3764"
      },
      "outputs": [],
      "source": [
        "def fullname(a,b):\n",
        "    c=a+b\n",
        "    return (c)"
      ]
    },
    {
      "cell_type": "code",
      "execution_count": null,
      "id": "7fd857b3-d13d-42b4-98c4-aa0005fa3cf3",
      "metadata": {
        "id": "7fd857b3-d13d-42b4-98c4-aa0005fa3cf3"
      },
      "outputs": [],
      "source": [
        "y=fullname('pw','skills')"
      ]
    },
    {
      "cell_type": "code",
      "execution_count": null,
      "id": "1ae09954-2b48-43d7-9a8b-3848a044795b",
      "metadata": {
        "id": "1ae09954-2b48-43d7-9a8b-3848a044795b",
        "outputId": "18ed6530-f779-4158-f112-672dac76d1a9"
      },
      "outputs": [
        {
          "data": {
            "text/plain": [
              "'pwskills'"
            ]
          },
          "execution_count": 113,
          "metadata": {},
          "output_type": "execute_result"
        }
      ],
      "source": [
        "y"
      ]
    },
    {
      "cell_type": "code",
      "execution_count": null,
      "id": "fa3b6645-692d-47c0-a2e4-1640ac53c37b",
      "metadata": {
        "id": "fa3b6645-692d-47c0-a2e4-1640ac53c37b"
      },
      "outputs": [],
      "source": [
        "def fullname(a,b):\n",
        "    c=a+b\n",
        "    return"
      ]
    },
    {
      "cell_type": "code",
      "execution_count": null,
      "id": "f5ab794c-c4ca-48ab-b0b2-edccfac309fe",
      "metadata": {
        "id": "f5ab794c-c4ca-48ab-b0b2-edccfac309fe"
      },
      "outputs": [],
      "source": [
        "w=fullname('pw','skills')"
      ]
    },
    {
      "cell_type": "code",
      "execution_count": null,
      "id": "c0affe13-a691-4102-aeb4-5df9ad60213f",
      "metadata": {
        "id": "c0affe13-a691-4102-aeb4-5df9ad60213f",
        "outputId": "db816011-9b0a-404d-83a4-e6fc5a029288"
      },
      "outputs": [
        {
          "data": {
            "text/plain": [
              "NoneType"
            ]
          },
          "execution_count": 117,
          "metadata": {},
          "output_type": "execute_result"
        }
      ],
      "source": [
        "type(w)"
      ]
    },
    {
      "cell_type": "code",
      "execution_count": null,
      "id": "8a889e06-1788-4cd1-beb7-a510e124d93f",
      "metadata": {
        "id": "8a889e06-1788-4cd1-beb7-a510e124d93f"
      },
      "outputs": [],
      "source": [
        "def calculator(a,b):\n",
        "    c=a+b\n",
        "    d=a-b\n",
        "    e=a*b\n",
        "    return c,d,e\n"
      ]
    },
    {
      "cell_type": "code",
      "execution_count": null,
      "id": "638e077d-d0d7-4851-ada0-e275d7fc0384",
      "metadata": {
        "id": "638e077d-d0d7-4851-ada0-e275d7fc0384"
      },
      "outputs": [],
      "source": [
        "x=calculator(3,4)"
      ]
    },
    {
      "cell_type": "code",
      "execution_count": null,
      "id": "ac16c44c-4cb5-4185-9ea6-dacf33dbf7c6",
      "metadata": {
        "id": "ac16c44c-4cb5-4185-9ea6-dacf33dbf7c6",
        "outputId": "1b965175-8c54-4636-b012-b55725b606e3"
      },
      "outputs": [
        {
          "data": {
            "text/plain": [
              "tuple"
            ]
          },
          "execution_count": 130,
          "metadata": {},
          "output_type": "execute_result"
        }
      ],
      "source": [
        "type(x)"
      ]
    },
    {
      "cell_type": "code",
      "execution_count": null,
      "id": "cee361f6-474e-4474-906c-74a11f1655ad",
      "metadata": {
        "id": "cee361f6-474e-4474-906c-74a11f1655ad"
      },
      "outputs": [],
      "source": [
        "def calculator():\n",
        "    a = int(input(\"enter first number: \"))\n",
        "    b = int(input(\"enter second number: \"))\n",
        "    summ = a + b\n",
        "    subtract = a - b\n",
        "    divide = a // b\n",
        "    return summ, subtract, divide\n"
      ]
    },
    {
      "cell_type": "code",
      "execution_count": null,
      "id": "a5f9be24-5ff2-492d-aedf-337a472e2e80",
      "metadata": {
        "id": "a5f9be24-5ff2-492d-aedf-337a472e2e80"
      },
      "outputs": [],
      "source": []
    },
    {
      "cell_type": "code",
      "execution_count": null,
      "id": "bbe62a8d-c0cf-4e15-97a7-3aff332b2da7",
      "metadata": {
        "id": "bbe62a8d-c0cf-4e15-97a7-3aff332b2da7",
        "outputId": "7a786367-25dc-45de-903d-e39da8df2f15"
      },
      "outputs": [
        {
          "name": "stdin",
          "output_type": "stream",
          "text": [
            "enter first number:  5\n",
            "enter second number:  2\n"
          ]
        },
        {
          "data": {
            "text/plain": [
              "(7, 3, 2)"
            ]
          },
          "execution_count": 127,
          "metadata": {},
          "output_type": "execute_result"
        }
      ],
      "source": [
        "calculator()"
      ]
    },
    {
      "cell_type": "code",
      "execution_count": null,
      "id": "dc9d2a7b-583a-49c1-a882-b610963e936a",
      "metadata": {
        "id": "dc9d2a7b-583a-49c1-a882-b610963e936a"
      },
      "outputs": [],
      "source": [
        "def cal(a,b):\n",
        "    oper = input(\"enter a operator\")\n",
        "    if(oper == \"add\"):\n",
        "        return a+b\n",
        "    elif(oper == \"sub\"):\n",
        "        return a-b\n",
        "    elif(oper == \"mul\"):\n",
        "        return a*b\n",
        "    else:\n",
        "        return a/b\n"
      ]
    },
    {
      "cell_type": "code",
      "execution_count": null,
      "id": "4412071e-1c2c-44bd-bf79-eefba198cfac",
      "metadata": {
        "id": "4412071e-1c2c-44bd-bf79-eefba198cfac",
        "outputId": "d766a87a-b98a-48d8-842a-45d77bba2c58"
      },
      "outputs": [
        {
          "name": "stdin",
          "output_type": "stream",
          "text": [
            "enter a operator add\n"
          ]
        },
        {
          "data": {
            "text/plain": [
              "13"
            ]
          },
          "execution_count": 132,
          "metadata": {},
          "output_type": "execute_result"
        }
      ],
      "source": [
        "cal(6,7)"
      ]
    },
    {
      "cell_type": "code",
      "execution_count": null,
      "id": "84286d85-4fcb-49b1-ae18-62c51ba07f64",
      "metadata": {
        "id": "84286d85-4fcb-49b1-ae18-62c51ba07f64"
      },
      "outputs": [],
      "source": [
        "find area of circle ------ 3.14*r*r\n",
        "find area of rec ------ l*b\n",
        "find area of triangle- 1/2*b*h"
      ]
    },
    {
      "cell_type": "code",
      "execution_count": null,
      "id": "5ef3ef2a-93da-4281-aa78-de4c2aa71942",
      "metadata": {
        "id": "5ef3ef2a-93da-4281-aa78-de4c2aa71942"
      },
      "outputs": [],
      "source": [
        "def area(radius):\n",
        "    return 3.14*radius*radius\n"
      ]
    },
    {
      "cell_type": "code",
      "execution_count": null,
      "id": "c26fa23d-1118-4030-ba39-fea698ef5d21",
      "metadata": {
        "id": "c26fa23d-1118-4030-ba39-fea698ef5d21",
        "outputId": "73f6a1b1-da2e-4c72-db4d-2d08baf3e9cd"
      },
      "outputs": [
        {
          "data": {
            "text/plain": [
              "28.259999999999998"
            ]
          },
          "execution_count": 136,
          "metadata": {},
          "output_type": "execute_result"
        }
      ],
      "source": [
        "area(3)"
      ]
    },
    {
      "cell_type": "code",
      "execution_count": null,
      "id": "fcad8297-73e8-4ae0-9807-ce83abd01a39",
      "metadata": {
        "id": "fcad8297-73e8-4ae0-9807-ce83abd01a39"
      },
      "outputs": [],
      "source": [
        "def area_rect(l,b):\n",
        "    area = l*b\n",
        "    return area\n"
      ]
    },
    {
      "cell_type": "code",
      "execution_count": null,
      "id": "fac22a55-af7b-48e0-848b-96d45593e08d",
      "metadata": {
        "id": "fac22a55-af7b-48e0-848b-96d45593e08d",
        "outputId": "a1249d5f-7963-4600-de6f-c56fcd4d1d98"
      },
      "outputs": [
        {
          "data": {
            "text/plain": [
              "12"
            ]
          },
          "execution_count": 138,
          "metadata": {},
          "output_type": "execute_result"
        }
      ],
      "source": [
        "area_rect(3,4)"
      ]
    },
    {
      "cell_type": "code",
      "execution_count": null,
      "id": "5e502f88-9172-4dab-8648-7fcbc81d1455",
      "metadata": {
        "id": "5e502f88-9172-4dab-8648-7fcbc81d1455"
      },
      "outputs": [],
      "source": [
        "def area(b,h):\n",
        "    return 0.5*b*h\n"
      ]
    },
    {
      "cell_type": "code",
      "execution_count": null,
      "id": "281e76c8-55e5-423e-8caf-b42182bb140d",
      "metadata": {
        "id": "281e76c8-55e5-423e-8caf-b42182bb140d",
        "outputId": "678d0415-e6de-4015-9868-4b392a800895"
      },
      "outputs": [
        {
          "data": {
            "text/plain": [
              "6.0"
            ]
          },
          "execution_count": 140,
          "metadata": {},
          "output_type": "execute_result"
        }
      ],
      "source": [
        "area(3,4)"
      ]
    },
    {
      "cell_type": "code",
      "execution_count": null,
      "id": "2d20bcf5-ae63-4a34-9ba3-88734f3f9175",
      "metadata": {
        "id": "2d20bcf5-ae63-4a34-9ba3-88734f3f9175"
      },
      "outputs": [],
      "source": [
        "1. Print the first 5 positive integers in ascending order with one number\n",
        "in each line"
      ]
    },
    {
      "cell_type": "code",
      "execution_count": null,
      "id": "bba9d681-1ee7-42ff-ab1c-79cd3810c95c",
      "metadata": {
        "id": "bba9d681-1ee7-42ff-ab1c-79cd3810c95c"
      },
      "outputs": [],
      "source": [
        "def numbers():\n",
        "    for i in range(6):\n",
        "        print(i)\n"
      ]
    },
    {
      "cell_type": "code",
      "execution_count": null,
      "id": "13750cc3-da14-4f04-82f1-c12a159239de",
      "metadata": {
        "id": "13750cc3-da14-4f04-82f1-c12a159239de",
        "outputId": "3b954f1c-8b05-4e66-ef07-602d3b1f2ed8"
      },
      "outputs": [
        {
          "name": "stdout",
          "output_type": "stream",
          "text": [
            "0\n",
            "1\n",
            "2\n",
            "3\n",
            "4\n",
            "5\n"
          ]
        }
      ],
      "source": [
        "numbers()"
      ]
    },
    {
      "cell_type": "code",
      "execution_count": null,
      "id": "5008179a-7a9b-4efa-9424-7c977af126ba",
      "metadata": {
        "id": "5008179a-7a9b-4efa-9424-7c977af126ba",
        "outputId": "f436d800-c438-4aa5-c7d9-305a75bc6623"
      },
      "outputs": [
        {
          "name": "stdout",
          "output_type": "stream",
          "text": [
            "0\n",
            "1\n",
            "2\n",
            "3\n",
            "4\n",
            "5\n"
          ]
        }
      ],
      "source": [
        "for i in range(6):\n",
        "    print(i)\n"
      ]
    },
    {
      "cell_type": "code",
      "execution_count": null,
      "id": "a2a3aead-f849-4deb-bdc1-2e1027e90154",
      "metadata": {
        "id": "a2a3aead-f849-4deb-bdc1-2e1027e90154"
      },
      "outputs": [],
      "source": [
        "3. Accept an integer as input and print its square as output."
      ]
    },
    {
      "cell_type": "code",
      "execution_count": null,
      "id": "45e577e8-f84d-4e03-9deb-4e4c856ab70b",
      "metadata": {
        "id": "45e577e8-f84d-4e03-9deb-4e4c856ab70b"
      },
      "outputs": [],
      "source": [
        "def sq():\n",
        "    a=int(input(\"Enter the number\"))\n",
        "    return a*a\n"
      ]
    },
    {
      "cell_type": "code",
      "execution_count": null,
      "id": "f24b5c49-f73a-4057-a060-f8df25bcb2ca",
      "metadata": {
        "id": "f24b5c49-f73a-4057-a060-f8df25bcb2ca",
        "outputId": "1f4c837f-e7bb-4196-fe0c-e074b5ff3477"
      },
      "outputs": [
        {
          "name": "stdin",
          "output_type": "stream",
          "text": [
            "Enter the number 2\n"
          ]
        },
        {
          "data": {
            "text/plain": [
              "4"
            ]
          },
          "execution_count": 145,
          "metadata": {},
          "output_type": "execute_result"
        }
      ],
      "source": [
        "sq()"
      ]
    },
    {
      "cell_type": "code",
      "execution_count": null,
      "id": "b7010703-33e8-410e-88cf-39f5def43023",
      "metadata": {
        "id": "b7010703-33e8-410e-88cf-39f5def43023",
        "outputId": "56102f2a-bd47-4bab-bde8-0846885e8f8d"
      },
      "outputs": [
        {
          "name": "stdin",
          "output_type": "stream",
          "text": [
            "Enter the number 3\n"
          ]
        },
        {
          "name": "stdout",
          "output_type": "stream",
          "text": [
            "9\n"
          ]
        }
      ],
      "source": [
        "a=int(input(\"Enter the number\"))\n",
        "print(a*a)\n"
      ]
    },
    {
      "cell_type": "code",
      "execution_count": null,
      "id": "b7275fdc-8cd7-4e52-b406-378666d95025",
      "metadata": {
        "id": "b7275fdc-8cd7-4e52-b406-378666d95025"
      },
      "outputs": [],
      "source": [
        "4.Accept two integers as input and print their sum as output."
      ]
    },
    {
      "cell_type": "code",
      "execution_count": null,
      "id": "7ab97eb1-cdae-4df3-ba9d-ad1365d672e9",
      "metadata": {
        "id": "7ab97eb1-cdae-4df3-ba9d-ad1365d672e9",
        "outputId": "be05b645-8d2a-4022-d256-14597fe3fa71"
      },
      "outputs": [
        {
          "name": "stdin",
          "output_type": "stream",
          "text": [
            "Enter the first number:  3\n",
            "Enter the second number:  9\n"
          ]
        },
        {
          "name": "stdout",
          "output_type": "stream",
          "text": [
            "The sum of 3 and 9 is 12: \n"
          ]
        }
      ],
      "source": [
        "num1 = int(input(\"Enter the first number: \"))\n",
        "num2 = int(input(\"Enter the second number: \"))\n",
        "num3 = num1 + num2\n",
        "print(f\"The sum of {num1} and {num2} is {num3}: \". format(num1, num2, num3))\n"
      ]
    },
    {
      "cell_type": "code",
      "execution_count": null,
      "id": "962252b4-a0e8-4ead-bc52-b4373d30af2f",
      "metadata": {
        "id": "962252b4-a0e8-4ead-bc52-b4373d30af2f"
      },
      "outputs": [],
      "source": [
        "5. Accept two words as input and print the two words after adding a\n",
        "space between them"
      ]
    },
    {
      "cell_type": "code",
      "execution_count": null,
      "id": "ddca740d-8c10-4c48-adaf-612a2c7710f2",
      "metadata": {
        "id": "ddca740d-8c10-4c48-adaf-612a2c7710f2"
      },
      "outputs": [],
      "source": [
        "def fullname(first ,second):\n",
        "    print(first ,\" \",second)\n"
      ]
    },
    {
      "cell_type": "code",
      "execution_count": null,
      "id": "1102a0b3-6326-4fac-913f-9e758a2876fd",
      "metadata": {
        "id": "1102a0b3-6326-4fac-913f-9e758a2876fd",
        "outputId": "e2cfb8d0-da68-4f75-eafe-436429ed8bae"
      },
      "outputs": [
        {
          "name": "stdout",
          "output_type": "stream",
          "text": [
            "pw   skills\n"
          ]
        }
      ],
      "source": [
        "fullname(\"pw\",\"skills\")"
      ]
    },
    {
      "cell_type": "code",
      "execution_count": null,
      "id": "202ae45f-cdd3-4c52-aa12-e982c1056f85",
      "metadata": {
        "id": "202ae45f-cdd3-4c52-aa12-e982c1056f85"
      },
      "outputs": [],
      "source": [
        "create a python program that includes a user-defined function called print_even_number().\n",
        "the function should prompt the user to set a range limit before printing\n",
        "all even numbers upto that limit"
      ]
    },
    {
      "cell_type": "code",
      "execution_count": null,
      "id": "6409df99-d038-45b5-a25a-cc4113c80734",
      "metadata": {
        "id": "6409df99-d038-45b5-a25a-cc4113c80734"
      },
      "outputs": [],
      "source": [
        "def print_even_number():\n",
        "    limit1=int(input('Enter the first limit of even numbers'))\n",
        "    limit2=int(input('Enter the second limit of even numbers'))\n",
        "    for i in range(limit1,limit2+1):\n",
        "        if i%2==0:\n",
        "            print(i,end=' ')\n"
      ]
    },
    {
      "cell_type": "code",
      "execution_count": null,
      "id": "d033f8f8-9c0e-4c1c-952b-982888d6f2a8",
      "metadata": {
        "id": "d033f8f8-9c0e-4c1c-952b-982888d6f2a8",
        "outputId": "14595e1a-6308-4a69-dda0-d08b57b67885"
      },
      "outputs": [
        {
          "name": "stdin",
          "output_type": "stream",
          "text": [
            "Enter the first limit of even numbers 2\n",
            "Enter the second limit of even numbers 50\n"
          ]
        },
        {
          "name": "stdout",
          "output_type": "stream",
          "text": [
            "2468101214161820222426283032343638404244464850"
          ]
        }
      ],
      "source": [
        "print_even_number()"
      ]
    },
    {
      "cell_type": "code",
      "execution_count": null,
      "id": "a8c59c10-a9bf-4605-8bb9-0a4d45353c97",
      "metadata": {
        "id": "a8c59c10-a9bf-4605-8bb9-0a4d45353c97",
        "outputId": "9523cf74-ec18-408d-83f1-a293608ffea7"
      },
      "outputs": [
        {
          "name": "stdin",
          "output_type": "stream",
          "text": [
            "Enter 2 numbers between which you want the even number 2 5\n"
          ]
        },
        {
          "name": "stdout",
          "output_type": "stream",
          "text": [
            "2\n",
            "4\n"
          ]
        }
      ],
      "source": [
        "def print_even_numbers():\n",
        "    a , b = input(\"Enter 2 numbers between which you want the even number\").split()\n",
        "\n",
        "    for i in range( int(a), int(b)):\n",
        "        if i%2 == 0:\n",
        "            print(i)\n",
        "\n",
        "print_even_numbers()\n"
      ]
    },
    {
      "cell_type": "code",
      "execution_count": null,
      "id": "d6202773-5632-45fc-872d-26e99cf6d4a0",
      "metadata": {
        "id": "d6202773-5632-45fc-872d-26e99cf6d4a0"
      },
      "outputs": [],
      "source": [
        "13. Accept three positive integers as input and check if they form the\n",
        "sides of a right triangle. Print YES if they form one, and NO is they do\n",
        "not. The input will have three lines, with one integer on each line.\n",
        "The output should be a single line containing one of these two\n",
        "strings: YES or NO."
      ]
    },
    {
      "cell_type": "code",
      "execution_count": null,
      "id": "65525449-fe48-4f87-a9e9-d9b97a178c0e",
      "metadata": {
        "id": "65525449-fe48-4f87-a9e9-d9b97a178c0e",
        "outputId": "2c7708dc-0da6-468a-e52e-932318edd115"
      },
      "outputs": [
        {
          "name": "stdin",
          "output_type": "stream",
          "text": [
            "Enter a side 1 of right triangle 5\n",
            "Enter a side 2 of right triangle 8\n",
            "Enter a side 3 of right triangle 2\n"
          ]
        },
        {
          "name": "stdout",
          "output_type": "stream",
          "text": [
            "NO\n"
          ]
        }
      ],
      "source": [
        "a = int(input(\"Enter a side 1 of right triangle\"))\n",
        "b = int(input(\"Enter a side 2 of right triangle\"))\n",
        "c = int(input(\"Enter a side 3 of right triangle\"))\n",
        "\n",
        "\n",
        "hyp = a\n",
        "side1 = b\n",
        "side2 = c\n",
        "\n",
        "if b > hyp :\n",
        "    hyp,side1=b,hyp\n",
        "\n",
        "if c > hyp:\n",
        "    hyp,side1,side2=c,hyp,side1\n",
        "\n",
        "elif c>side1 :\n",
        "    b,c = side2,side1\n",
        "\n",
        "if hyp*hyp==side1*side1+side2*side2:\n",
        "    print(\"YES\")\n",
        "else:\n",
        "    print(\"NO\")\n"
      ]
    },
    {
      "cell_type": "code",
      "execution_count": null,
      "id": "1cb9f527-8e1b-4b99-9da1-ceb63deec443",
      "metadata": {
        "id": "1cb9f527-8e1b-4b99-9da1-ceb63deec443",
        "outputId": "8e047354-aca7-43bf-8da2-c073f1cb99ee"
      },
      "outputs": [
        {
          "name": "stdin",
          "output_type": "stream",
          "text": [
            "Enter the first side of triangle :  3\n",
            "Enter the second side of triangle :  9\n",
            "Enter the third side of triangle :  2\n"
          ]
        },
        {
          "name": "stdout",
          "output_type": "stream",
          "text": [
            "It is not a right angled triangle\n"
          ]
        }
      ],
      "source": [
        "def checkRightTriangle(a,b,c):\n",
        "    if a**2 == b**2 + c**2 or b**2 == c**2 + a**2 or c**2 == a**2 + b**2:\n",
        "        print('It is a right angled triangle')\n",
        "    else:\n",
        "        print('It is not a right angled triangle')\n",
        "a = int(input('Enter the first side of triangle : '))\n",
        "b = int(input('Enter the second side of triangle : '))\n",
        "c = int(input('Enter the third side of triangle : '))\n",
        "checkRightTriangle(a,b,c)\n"
      ]
    },
    {
      "cell_type": "code",
      "execution_count": null,
      "id": "fec514a6-dc99-4a6a-a3a4-bf3ea7d3b8fe",
      "metadata": {
        "id": "fec514a6-dc99-4a6a-a3a4-bf3ea7d3b8fe"
      },
      "outputs": [],
      "source": [
        "17.Accept a string as input. Your task is to determine if the input string is a valid password or not. For a\n",
        "string to be a valid password, it must satisfy all the conditions given below:\n",
        "(1) It should have at least 8 and at most 32 characters\n",
        "(2) It should start with an uppercase or lowercase letter\n",
        "(3) It should not have any of these characters: / \\ = ' \"\n",
        "(4) It should not have spaces\n",
        "It could have any character that is not mentioned in the list of characters to be avoided (points 3 and\n",
        "4). Output True if the string forms a valid password and False otherwise"
      ]
    }
  ],
  "metadata": {
    "kernelspec": {
      "display_name": "Python 3 (ipykernel)",
      "language": "python",
      "name": "python3"
    },
    "language_info": {
      "codemirror_mode": {
        "name": "ipython",
        "version": 3
      },
      "file_extension": ".py",
      "mimetype": "text/x-python",
      "name": "python",
      "nbconvert_exporter": "python",
      "pygments_lexer": "ipython3",
      "version": "3.10.8"
    },
    "colab": {
      "provenance": [],
      "include_colab_link": true
    }
  },
  "nbformat": 4,
  "nbformat_minor": 5
}