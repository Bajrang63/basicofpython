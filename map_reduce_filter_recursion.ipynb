{
 "cells": [
  {
   "cell_type": "code",
   "execution_count": 2,
   "id": "34cb3250-bd56-4977-b6ea-a02f210a0d3f",
   "metadata": {},
   "outputs": [
    {
     "name": "stdout",
     "output_type": "stream",
     "text": [
      "1\n",
      "2\n",
      "3\n",
      "4\n",
      "5\n",
      "6\n",
      "7\n",
      "8\n",
      "9\n",
      "10\n"
     ]
    }
   ],
   "source": [
    "###________for loop assignmewnt question\n",
    "\n",
    "\n",
    "##1. Write a Python program to print numbers from 1 to 10 using a for loop.\n",
    "\n",
    "for i in range(1,11):\n",
    "    print(i)"
   ]
  },
  {
   "cell_type": "code",
   "execution_count": 1,
   "id": "3843b885-51a6-4509-b4fa-b9eb3ae27115",
   "metadata": {},
   "outputs": [
    {
     "name": "stdout",
     "output_type": "stream",
     "text": [
      "0\n",
      "1\n",
      "2\n",
      "3\n",
      "4\n",
      "0\n",
      "1\n",
      "2\n",
      "3\n",
      "4\n"
     ]
    }
   ],
   "source": [
    "## 2. Explain the difference between a for loop and a while loop in Python.\n",
    "\n",
    "\n",
    "#For loop is used to iterate over a sequence of items.\n",
    "\n",
    "#While loop is used to repeatedly execute a block of statements while a condition is true.\n",
    "\n",
    "#For loops are designed for iterating over a sequence of items. Eg. list, tuple, etc.\n",
    "\n",
    "#While loop is used when the number of iterations is not known in advance or when we want to repeat a block of code until a certain condition is met.\n",
    "\n",
    "#For loop require a sequence to iterate over.\n",
    "\n",
    "#While the loop requires an initial condition that is tested at the beginning of the loop.\n",
    "\n",
    "#For loop is typically used for iterating over a fixed sequence of items\n",
    "\n",
    "#While loop is used for more complex control flow situations.\n",
    "\n",
    "#For loop is more efficient than a while loop when iterating over sequences, since the number of iterations is predetermined and the loop can be optimized accordingly.\n",
    "\n",
    "#While a loop may be more efficient in certain situations where the condition being tested can be evaluated quickly.\n",
    "\n",
    "#for loop\n",
    "for i in range(5):\n",
    "    print(i)\n",
    "\n",
    "    \n",
    "#while loop\n",
    "i = 0\n",
    "while i < 5:\n",
    "    print(i)\n",
    "    i += 1"
   ]
  },
  {
   "cell_type": "code",
   "execution_count": 3,
   "id": "6b7e13de-26ac-4039-a70f-22da2da2a746",
   "metadata": {},
   "outputs": [
    {
     "name": "stdout",
     "output_type": "stream",
     "text": [
      "The sum of all numbers from 1 to 100 is 5050.\n"
     ]
    }
   ],
   "source": [
    "## 3. Write a Python program to calculate the sum of all numbers from 1 to 100 using a for loop.\n",
    "\n",
    "sum = 0\n",
    "for i in range(1, 101):\n",
    "    sum += i\n",
    "print(f\"The sum of all numbers from 1 to 100 is {sum}.\")\n"
   ]
  },
  {
   "cell_type": "code",
   "execution_count": 9,
   "id": "53f43e24-7913-4d85-996c-874d7d2eac88",
   "metadata": {},
   "outputs": [
    {
     "name": "stdout",
     "output_type": "stream",
     "text": [
      "1\n",
      "2\n",
      "3\n",
      "4\n",
      "5\n"
     ]
    }
   ],
   "source": [
    " ## 4.How do you iterate through a list using a for loop in Python?\n",
    "  \n",
    "my_list = [1, 2, 3, 4, 5]\n",
    "for item in my_list:\n",
    "        print(item)\n",
    "\n",
    "#for i in range(len(my_list)):\n",
    "#        print(my_list[i])\n",
    "\n",
    "\n"
   ]
  },
  {
   "cell_type": "code",
   "execution_count": 10,
   "id": "d3b74370-aa26-4377-b6f3-87c79b1a95d7",
   "metadata": {},
   "outputs": [
    {
     "name": "stdout",
     "output_type": "stream",
     "text": [
      "The product of all elements in the list is 120.\n"
     ]
    }
   ],
   "source": [
    "## 5. Write a Python program to find the product of all elements in a list using a for loop.\n",
    "\n",
    "product = 1\n",
    "my_list = [1, 2, 3, 4, 5]\n",
    "for i in my_list:\n",
    "    product *= i\n",
    "print(f\"The product of all elements in the list is {product}.\")\n"
   ]
  },
  {
   "cell_type": "code",
   "execution_count": 14,
   "id": "6b8ac8b2-7d86-4694-9331-bb36f0723fed",
   "metadata": {},
   "outputs": [
    {
     "name": "stdout",
     "output_type": "stream",
     "text": [
      "2\n",
      "4\n",
      "6\n",
      "8\n",
      "10\n",
      "12\n",
      "14\n",
      "16\n",
      "18\n",
      "20\n"
     ]
    }
   ],
   "source": [
    "## 6. Create a Python program that prints all even numbers from 1 to 20 using a for loop.\n",
    "\n",
    "for v in range(1,21):\n",
    "    if v%2==0:\n",
    "        print(v)"
   ]
  },
  {
   "cell_type": "code",
   "execution_count": 15,
   "id": "8376144c-9766-4cbf-b1ca-e34f4fff2765",
   "metadata": {},
   "outputs": [
    {
     "name": "stdout",
     "output_type": "stream",
     "text": [
      "The factorial of 7 is 5040\n"
     ]
    }
   ],
   "source": [
    "## 7. Write a Python program that calculates the factorial of a number using a for loop.\n",
    "\n",
    "num = 7\n",
    "factorial = 1\n",
    "\n",
    "if num < 0:\n",
    "    print(\"Sorry, factorial does not exist for negative numbers\")\n",
    "elif num == 0:\n",
    "    print(\"The factorial of 0 is 1\")\n",
    "else:\n",
    "    for i in range(1,num + 1):\n",
    "        factorial = factorial*i\n",
    "    print(\"The factorial of\",num,\"is\",factorial)\n"
   ]
  },
  {
   "cell_type": "code",
   "execution_count": 18,
   "id": "afb6b353-4730-4963-9e7e-06a3762d82d6",
   "metadata": {},
   "outputs": [
    {
     "name": "stdout",
     "output_type": "stream",
     "text": [
      "w\n",
      "e\n",
      "f\n",
      "e\n",
      "a\n",
      "f\n",
      "r\n",
      "e\n",
      "a\n",
      "r\n",
      "t\n",
      "g\n",
      "d\n",
      "r\n",
      "e\n",
      "s\n",
      "d\n"
     ]
    }
   ],
   "source": [
    "## 8. How can you iterate through the characters of a string using a for loop in Python?\n",
    "\n",
    "str=\"wefeafreartgdresd\"\n",
    "for i in range(len(str)):\n",
    "    print(str[i])"
   ]
  },
  {
   "cell_type": "code",
   "execution_count": 35,
   "id": "d76ca021-0cd2-41eb-8e9a-c845b4505a31",
   "metadata": {},
   "outputs": [
    {
     "name": "stdout",
     "output_type": "stream",
     "text": [
      "88\n"
     ]
    }
   ],
   "source": [
    "## 9. Write a Python program to find the largest number in a list using a for loop.\n",
    "\n",
    "list1=[1,2,3,4,67,88,9,77,65,54,3,43]\n",
    "largest_list=list1[0]\n",
    "\n",
    "for l in range(1,len(list1)):\n",
    "    if list1[l]>largest_list:\n",
    "        largest_list=list1[l]\n",
    "print(largest_list)"
   ]
  },
  {
   "cell_type": "code",
   "execution_count": 3,
   "id": "ffe0bfa8-c0ed-4522-9e64-482a57b19314",
   "metadata": {},
   "outputs": [
    {
     "name": "stdout",
     "output_type": "stream",
     "text": [
      "0 1 1 2 3 "
     ]
    }
   ],
   "source": [
    "##10. Create a Python program that prints the Fibonacci sequence up to a specified limit using a for loop.\n",
    "\n",
    "\n",
    "def fibonacci():\n",
    "    a, b = 0, 1\n",
    "    for i in range(1,6):\n",
    "        print(a, end=\" \")\n",
    "        a, b = b, a + b\n",
    "\n",
    "fibonacci()\n"
   ]
  },
  {
   "cell_type": "code",
   "execution_count": 4,
   "id": "b3126f94-590e-450d-af23-36996d445436",
   "metadata": {},
   "outputs": [
    {
     "data": {
      "text/plain": [
       "2"
      ]
     },
     "execution_count": 4,
     "metadata": {},
     "output_type": "execute_result"
    }
   ],
   "source": [
    "## 11. Write a Python program to count the number of vowels in a given string using a for loop.\n",
    "\n",
    "STR=\"bajrang\"\n",
    "def count_vowels(STR):\n",
    "    vowels='aeiou'\n",
    "    count = 0\n",
    "    for char in STR:\n",
    "        if char.lower() in vowels:\n",
    "            count += 1\n",
    "    return count\n",
    "\n",
    "\n",
    "count_vowels(STR)\n"
   ]
  },
  {
   "cell_type": "code",
   "execution_count": 8,
   "id": "390a3173-46ea-4673-b8da-ca1b6eda07a5",
   "metadata": {},
   "outputs": [
    {
     "name": "stdout",
     "output_type": "stream",
     "text": [
      "3\n",
      "6\n",
      "9\n",
      "12\n",
      "15\n",
      "18\n",
      "21\n",
      "24\n",
      "27\n",
      "30\n"
     ]
    }
   ],
   "source": [
    "## 12. Create a Python program that generates a multiplication table for a given number using a for loop.\n",
    "\n",
    "def multiplication_table(num):\n",
    "    for i in range(1, 11):\n",
    "        print( num * i)\n",
    "\n",
    "num = 3\n",
    "multiplication_table(num)\n",
    "\n"
   ]
  },
  {
   "cell_type": "code",
   "execution_count": 11,
   "id": "46f753cb-ad6a-4f44-8ece-01fcf42c9154",
   "metadata": {},
   "outputs": [
    {
     "name": "stdout",
     "output_type": "stream",
     "text": [
      "[5, 4, 3, 2, 1]\n"
     ]
    }
   ],
   "source": [
    "## 13. Write a Python program to reverse a list using a for loop\n",
    "\n",
    "my_list = [1, 2, 3, 4, 5]\n",
    "reversed_list = []\n",
    "\n",
    "for i in range(len(my_list) - 1,-1,-1):\n",
    "    reversed_list.append(my_list[i])\n",
    "\n",
    "#print(f\"The original list: {my_list}\")\n",
    "#print(f\"The reversed list: {reversed_list}\")\n",
    "print(reversed_list)"
   ]
  },
  {
   "cell_type": "code",
   "execution_count": 3,
   "id": "10eac922-229e-4885-ab77-e5303e709c18",
   "metadata": {},
   "outputs": [
    {
     "name": "stdout",
     "output_type": "stream",
     "text": [
      "[4, 5]\n"
     ]
    }
   ],
   "source": [
    "## 14. Write a Python program to find the common elements between two lists using a for loop.\n",
    "\n",
    "list1 = [1, 2, 3, 4, 5]\n",
    "list2 = [4, 5, 6, 7, 8]\n",
    "def common_elements(list1, list2):\n",
    "    result = []\n",
    "    for element in list1:\n",
    "        if element in list2:\n",
    "            result.append(element)\n",
    "    return result\n",
    "\n",
    "\n",
    "print(common_elements(list1, list2))\n"
   ]
  },
  {
   "cell_type": "code",
   "execution_count": 6,
   "id": "95e65e55-003c-436d-9c09-bab185cf89cf",
   "metadata": {},
   "outputs": [
    {
     "name": "stdout",
     "output_type": "stream",
     "text": [
      " key : apple:::value: 1\n",
      " key : banana:::value: 2\n",
      " key : cherry:::value: 3\n"
     ]
    }
   ],
   "source": [
    "## 15. Explain how to use a for loop to iterate through the keys and values of a dictionary in Python.\n",
    "\n",
    "my_dict = {\"apple\": 1, \"banana\": 2, \"cherry\": 3}\n",
    "\n",
    "for key, value in my_dict.items():\n",
    "    print(f\" key : {key}:::value: {value}\")\n"
   ]
  },
  {
   "cell_type": "code",
   "execution_count": 10,
   "id": "df297da4-d421-4fd5-8641-c195f23c63f0",
   "metadata": {},
   "outputs": [
    {
     "name": "stdout",
     "output_type": "stream",
     "text": [
      "The GCD  is 2\n"
     ]
    }
   ],
   "source": [
    "## 16. Write a Python program to find the GCD (Greatest Common Divisor) of two numbers using a for loop.\n",
    "\n",
    "\n",
    "def gcd(num1, num2):\n",
    "    smaller = min(num1, num2)\n",
    "    for i in range(1, smaller+1):\n",
    "        if num1 % i == 0 and num2 % i == 0:\n",
    "            gcd = i\n",
    "    return gcd\n",
    "\n",
    "\n",
    "num1 = 62\n",
    "num2 = 44\n",
    "print(f\"The GCD  is {gcd(num1, num2)}\")\n"
   ]
  },
  {
   "cell_type": "code",
   "execution_count": 5,
   "id": "cde5afaa-452c-46f8-adbc-61e113f07ae5",
   "metadata": {},
   "outputs": [
    {
     "data": {
      "text/plain": [
       "True"
      ]
     },
     "execution_count": 5,
     "metadata": {},
     "output_type": "execute_result"
    }
   ],
   "source": [
    "## 17. Create a Python program that checks if a string is a palindrome using a for loop.\n",
    "\n",
    "def is_palindrome(string):\n",
    "    for i in range(len(string)):\n",
    "        if string[i] != string[-i - 1]:\n",
    "            return False\n",
    "    return True\n",
    "\n",
    "is_palindrome(\"nitin\")"
   ]
  },
  {
   "cell_type": "code",
   "execution_count": 9,
   "id": "945d4541-2888-44a1-aa06-a47095490ece",
   "metadata": {},
   "outputs": [
    {
     "data": {
      "text/plain": [
       "[1, 2, 3, 5, 4]"
      ]
     },
     "execution_count": 9,
     "metadata": {},
     "output_type": "execute_result"
    }
   ],
   "source": [
    "## 18. Write a Python program to remove duplicates from a list using a for loop.\n",
    "\n",
    "def remove_duplicates(lst):\n",
    "    new_lst = []\n",
    "    for item in lst:\n",
    "        if item not in new_lst:\n",
    "            new_lst.append(item)\n",
    "    return new_lst\n",
    "\n",
    "remove_duplicates([1,2,3,3,5,3,4])"
   ]
  },
  {
   "cell_type": "code",
   "execution_count": 11,
   "id": "19ccffd0-5839-474e-9d0b-f6e21077b7e1",
   "metadata": {},
   "outputs": [
    {
     "data": {
      "text/plain": [
       "8"
      ]
     },
     "execution_count": 11,
     "metadata": {},
     "output_type": "execute_result"
    }
   ],
   "source": [
    "##19. Create a Python program that counts the number of words in a sentence using a for loop.\n",
    "\n",
    "def count_words(sentence):\n",
    "    count = 1\n",
    "    for i in range(len(sentence)):\n",
    "        if sentence[i] == ' ':\n",
    "            count += 1\n",
    "    return count\n",
    "\n",
    "count_words(\"this is python programming laguage lecture on pwskills\")"
   ]
  },
  {
   "cell_type": "code",
   "execution_count": 4,
   "id": "d28c53f5-1252-4c50-b4b0-12ce7cedbe09",
   "metadata": {},
   "outputs": [],
   "source": [
    "## 20. Write a Python program to find the sum of all odd numbers from 1 to 50 using a for loop"
   ]
  },
  {
   "cell_type": "code",
   "execution_count": 5,
   "id": "5e95a56f-f028-400c-b660-e9812b0309c1",
   "metadata": {},
   "outputs": [],
   "source": [
    "def sum_odd_numbers():\n",
    "    total = 0\n",
    "    for i in range(1, 51):\n",
    "        if i % 2 != 0:\n",
    "            total += i\n",
    "    return total\n"
   ]
  },
  {
   "cell_type": "code",
   "execution_count": 6,
   "id": "58bdd718-c548-4131-847d-f4a107b50956",
   "metadata": {},
   "outputs": [
    {
     "data": {
      "text/plain": [
       "625"
      ]
     },
     "execution_count": 6,
     "metadata": {},
     "output_type": "execute_result"
    }
   ],
   "source": [
    "sum_odd_numbers()"
   ]
  },
  {
   "cell_type": "code",
   "execution_count": 11,
   "id": "cb974c30-707f-48c8-b94f-85025d58e234",
   "metadata": {},
   "outputs": [
    {
     "data": {
      "text/plain": [
       "True"
      ]
     },
     "execution_count": 11,
     "metadata": {},
     "output_type": "execute_result"
    }
   ],
   "source": [
    "## 21. Write a Python program that checks if a given year is a leap year using a for loop.\n",
    "\n",
    "def is_leap_year(year):\n",
    "    if year % 4 == 0:\n",
    "        if year % 100 == 0:\n",
    "            if year % 400 == 0:\n",
    "                return True\n",
    "            else:\n",
    "                return False\n",
    "        else:\n",
    "            return True\n",
    "    else:\n",
    "        return False\n",
    "\n",
    "is_leap_year(2004) "
   ]
  },
  {
   "cell_type": "code",
   "execution_count": 5,
   "id": "f89ecf7e-9a14-468e-a28d-b18516b037b2",
   "metadata": {},
   "outputs": [
    {
     "name": "stdout",
     "output_type": "stream",
     "text": [
      "The square root of 25 is 5\n"
     ]
    }
   ],
   "source": [
    "## 22. Create a Python program that calculates the square root of a number using a for loop\n",
    "\n",
    "number = 25\n",
    "for i in range(1, number+1):\n",
    "    if i*i == number:\n",
    "        print(f\"The square root of {number} is {i}\")\n"
   ]
  },
  {
   "cell_type": "code",
   "execution_count": 7,
   "id": "3ad7a607-e779-4e6a-8461-6e01ac8d3581",
   "metadata": {},
   "outputs": [
    {
     "name": "stdout",
     "output_type": "stream",
     "text": [
      "The LCM  is 60\n"
     ]
    }
   ],
   "source": [
    "## 23. Write a Python program to find the LCM (Least Common Multiple) of two numbers using a for loop.\n",
    "\n",
    "def compute_lcm(x, y):\n",
    "    greater = x if x > y else y\n",
    "    while True:\n",
    "        if greater % x == 0 and greater % y == 0:\n",
    "            lcm = greater\n",
    "            break\n",
    "        greater += 1\n",
    "    return lcm\n",
    "\n",
    "num1 = 12\n",
    "num2 = 30\n",
    "print(f\"The LCM  is {compute_lcm(num1, num2)}\")\n"
   ]
  },
  {
   "cell_type": "code",
   "execution_count": 9,
   "id": "edefe5f8-2d45-44ba-b8c9-26c56afaf0be",
   "metadata": {},
   "outputs": [
    {
     "name": "stdin",
     "output_type": "stream",
     "text": [
      "Enter a number:  -2\n"
     ]
    },
    {
     "name": "stdout",
     "output_type": "stream",
     "text": [
      "-2.0 is negative.\n"
     ]
    }
   ],
   "source": [
    "####_______If else :\n",
    "\n",
    "\n",
    "\n",
    "## 1. Write a Python program to check if a number is positive, negative, or zero using an if-else statemen\n",
    "\n",
    "\n",
    "num = float(input(\"Enter a number: \"))\n",
    "if num > 0:\n",
    "    print(f\"{num} is a positive number.\")\n",
    "elif num == 0:\n",
    "    print(f\"{num} is zero.\")\n",
    "else:\n",
    "    print(f\"{num} is negative.\")\n"
   ]
  },
  {
   "cell_type": "code",
   "execution_count": 11,
   "id": "8a0deefb-eb81-451d-baf4-5e34add27016",
   "metadata": {},
   "outputs": [
    {
     "name": "stdin",
     "output_type": "stream",
     "text": [
      "Enter a number:  2\n"
     ]
    },
    {
     "name": "stdout",
     "output_type": "stream",
     "text": [
      "2 is an even number.\n"
     ]
    }
   ],
   "source": [
    "## 2. Create a Python program that checks if a given number is even or odd using an if-else statement.\n",
    "\n",
    "num = int(input(\"Enter a number: \"))\n",
    "if num % 2 == 0:\n",
    "    print(f\"{num} is an even number.\")\n",
    "else:\n",
    "    print(f\"{num} is an  odd  number.\")\n"
   ]
  },
  {
   "cell_type": "code",
   "execution_count": 12,
   "id": "4db998f8-5608-4817-b756-032b0d18b186",
   "metadata": {},
   "outputs": [
    {
     "name": "stdout",
     "output_type": "stream",
     "text": [
      "x is less than y\n"
     ]
    }
   ],
   "source": [
    "##3. How can you use nested if-else statements in Python, and provide an example?\n",
    "\n",
    "x = 10\n",
    "y = 20\n",
    "\n",
    "if x > y:\n",
    "    print(\"x is greater than y\")\n",
    "elif x < y:\n",
    "    print(\"x is less than y\")\n",
    "else:\n",
    "    if x == y:\n",
    "        print(\"x is equal to y\")\n"
   ]
  },
  {
   "cell_type": "code",
   "execution_count": 13,
   "id": "76782d86-5de3-4dca-a626-7e991257d208",
   "metadata": {},
   "outputs": [
    {
     "name": "stdout",
     "output_type": "stream",
     "text": [
      "The largest number is 14\n"
     ]
    }
   ],
   "source": [
    "## 4. Write a Python program to determine the largest of three numbers using if-else.\n",
    "\n",
    "num1 = 10\n",
    "num2 = 14\n",
    "num3 = 12\n",
    "\n",
    "if (num1 >= num2) and (num1 >= num3):\n",
    "    largest = num1\n",
    "elif (num2 >= num1) and (num2 >= num3):\n",
    "    largest = num2\n",
    "else:\n",
    "    largest = num3\n",
    "\n",
    "print(\"The largest number is\", largest)\n"
   ]
  },
  {
   "cell_type": "code",
   "execution_count": 14,
   "id": "5e3b9add-f652-47d3-821b-6d0895bdb769",
   "metadata": {},
   "outputs": [
    {
     "name": "stdout",
     "output_type": "stream",
     "text": [
      "The absolute value of -10 is 10\n"
     ]
    }
   ],
   "source": [
    "## 5. Write a Python program that calculates the absolute value of a number using if-else\n",
    "\n",
    "num = -10\n",
    "\n",
    "if num < 0:\n",
    "    abs_num = -num\n",
    "else:\n",
    "    abs_num = num\n",
    "\n",
    "print(f\"The absolute value of {num} is {abs_num}\")\n"
   ]
  },
  {
   "cell_type": "code",
   "execution_count": 15,
   "id": "5f3aa04d-4176-462a-854d-042384ff041f",
   "metadata": {},
   "outputs": [
    {
     "name": "stdout",
     "output_type": "stream",
     "text": [
      "The character a is a **vowel**.\n"
     ]
    }
   ],
   "source": [
    "##6. Create a Python program that checks if a given character is a vowel or consonant using if-else.\n",
    "\n",
    "char = 'a'\n",
    "\n",
    "if char == 'a' or char == 'e' or char == 'i' or char == 'o' or char == 'u':\n",
    "    print(f\"The character {char} is a vowel.\")\n",
    "else:\n",
    "    print(f\"The character {char} is a consonant.\")\n"
   ]
  },
  {
   "cell_type": "code",
   "execution_count": 18,
   "id": "05c3a898-9889-4fac-95fd-0437f54cfbf7",
   "metadata": {},
   "outputs": [
    {
     "name": "stdin",
     "output_type": "stream",
     "text": [
      "Enter your age:  18\n"
     ]
    },
    {
     "name": "stdout",
     "output_type": "stream",
     "text": [
      "You are eligible to vote.\n"
     ]
    }
   ],
   "source": [
    "## 7. Write a Python program to determine if a user is eligible to vote based on their age using if-else.\n",
    "\n",
    "age = int(input(\"Enter your age: \"))\n",
    "if age >= 18:\n",
    "    print(\"You are eligible to vote.\")\n",
    "else:\n",
    "    print(\"You are not eligible to vote yet.\")\n"
   ]
  },
  {
   "cell_type": "code",
   "execution_count": 19,
   "id": "e82e1ff3-3807-4916-9228-72fed7b1ac46",
   "metadata": {},
   "outputs": [
    {
     "name": "stdin",
     "output_type": "stream",
     "text": [
      "Enter the purchase amount:  2980\n"
     ]
    },
    {
     "name": "stdout",
     "output_type": "stream",
     "text": [
      "The discount amount is $447.00\n"
     ]
    }
   ],
   "source": [
    "##8. Create a Python program that calculates the discount amount based on the purchase amount using if-else\n",
    "\n",
    "purchase_amount = float(input(\"Enter the purchase amount: \"))\n",
    "if purchase_amount > 500:\n",
    "    discount = purchase_amount * 0.15\n",
    "elif purchase_amount > 100:\n",
    "    discount = purchase_amount * 0.10\n",
    "elif purchase_amount > 50:\n",
    "    discount = purchase_amount * 0.05\n",
    "else:\n",
    "    discount = 0\n",
    "\n",
    "print(f\"The discount amount is ${discount:.2f}\")\n"
   ]
  },
  {
   "cell_type": "code",
   "execution_count": null,
   "id": "0dd5f9c9-d71f-4066-a8c5-4dadea44ed00",
   "metadata": {},
   "outputs": [
    {
     "name": "stdin",
     "output_type": "stream",
     "text": [
      "Enter a number:  22\n"
     ]
    }
   ],
   "source": [
    "##9. Write a Python program to check if a number is within a specified range using if-else.\n",
    "\n",
    "number = float(input(\"Enter a number: \"))\n",
    "if 10 <= number <= 20:\n",
    "    print(\"The number is within the specified range.\")\n",
    "else:\n",
    "    print(\"The number is outside the specified range.\")\n"
   ]
  },
  {
   "cell_type": "code",
   "execution_count": 1,
   "id": "9bfd9cc4-f985-424d-908e-b8f95c6a72f5",
   "metadata": {},
   "outputs": [
    {
     "name": "stdin",
     "output_type": "stream",
     "text": [
      "Enter Score Grade:  79\n"
     ]
    },
    {
     "name": "stdout",
     "output_type": "stream",
     "text": [
      "Your grade is a B\n"
     ]
    }
   ],
   "source": [
    "## 10. Create a Python program that determines the grade of a student based on their score using if-else\n",
    "\n",
    "score = float(input(\"Enter Score Grade: \"))\n",
    "if score < 35:\n",
    "    print(\"Your grade is an F\")\n",
    "elif score < 60:\n",
    "    print(\"Your grade is a D\")\n",
    "elif score < 70:\n",
    "    print(\"Your grade is a C\")\n",
    "elif score < 80:\n",
    "    print(\"Your grade is a B\")\n",
    "elif score <= 90:\n",
    "    print(\"Your grade is an A\")\n",
    "else:\n",
    "    print(\"Wrong score\")\n"
   ]
  },
  {
   "cell_type": "code",
   "execution_count": 2,
   "id": "c58de3d7-5f7f-435c-9dd4-a83dcaa2a5b4",
   "metadata": {},
   "outputs": [
    {
     "name": "stdin",
     "output_type": "stream",
     "text": [
      "Enter a string:  \n"
     ]
    },
    {
     "name": "stdout",
     "output_type": "stream",
     "text": [
      "The string is empty\n"
     ]
    }
   ],
   "source": [
    "## 11. Write a Python program to check if a string is empty or not using if-else.\n",
    "\n",
    "string = input(\"Enter a string: \")\n",
    "if string == \"\":\n",
    "    print(\"The string is empty\")\n",
    "else:\n",
    "    print(\"The string is not empty\")\n"
   ]
  },
  {
   "cell_type": "code",
   "execution_count": 3,
   "id": "e11922ba-a149-4d8f-b985-66c2a658bf62",
   "metadata": {},
   "outputs": [
    {
     "name": "stdin",
     "output_type": "stream",
     "text": [
      "Enter the length of side a:  2\n",
      "Enter the length of side b:  2\n",
      "Enter the length of side c:  1\n"
     ]
    },
    {
     "name": "stdout",
     "output_type": "stream",
     "text": [
      "The triangle is an isosceles triangle.\n"
     ]
    }
   ],
   "source": [
    "## 12. Create a Python program that identifies the type of a triangle (e.g., equilateral, isosceles, or scalene) based on input values using if-else\n",
    "\n",
    "a = float(input(\"Enter the length of side a: \"))\n",
    "b = float(input(\"Enter the length of side b: \"))\n",
    "c = float(input(\"Enter the length of side c: \"))\n",
    "\n",
    "if a == b == c:\n",
    "    print(\"The triangle is an equilateral triangle.\")\n",
    "elif a == b or b == c or a == c:\n",
    "    print(\"The triangle is an isosceles triangle.\")\n",
    "else:\n",
    "    print(\"The triangle is a scalene triangle.\")\n"
   ]
  },
  {
   "cell_type": "code",
   "execution_count": 4,
   "id": "f31f789d-fa27-40cc-a6df-1cf9e44c243a",
   "metadata": {},
   "outputs": [
    {
     "name": "stdin",
     "output_type": "stream",
     "text": [
      "Enter a number between 1 and 7:  4\n"
     ]
    },
    {
     "name": "stdout",
     "output_type": "stream",
     "text": [
      "The day is Wednesday\n"
     ]
    }
   ],
   "source": [
    "## 13. Write a Python program to determine the day of the week based on a user-provided number using if-else.\n",
    "\n",
    "day = int(input(\"Enter a number between 1 and 7: \"))\n",
    "if day == 1:\n",
    "    print(\"The day is Sunday\")\n",
    "elif day == 2:\n",
    "    print(\"The day is Monday\")\n",
    "elif day == 3:\n",
    "    print(\"The day is Tuesday\")\n",
    "elif day == 4:\n",
    "    print(\"The day is Wednesday\")\n",
    "elif day == 5:\n",
    "    print(\"The day is Thursday\")\n",
    "elif day == 6:\n",
    "    print(\"The day is Friday\")\n",
    "elif day == 7:\n",
    "    print(\"The day is Saturday\")\n",
    "else:\n",
    "    print(\"Invalid input. Please enter a number between 1 and 7.\")\n"
   ]
  },
  {
   "cell_type": "code",
   "execution_count": 5,
   "id": "31fe0bf9-c678-47c5-84f3-3adc573f35e3",
   "metadata": {},
   "outputs": [
    {
     "name": "stdin",
     "output_type": "stream",
     "text": [
      "Enter a year:  2006\n"
     ]
    },
    {
     "name": "stdout",
     "output_type": "stream",
     "text": [
      "The year 2006 is not a leap year.\n"
     ]
    }
   ],
   "source": [
    "#### 14. Create a Python program that checks if a given year is a leap year using both if-else and a function.\n",
    "\n",
    "def is_leap_year(year):\n",
    "    if year % 4 == 0:\n",
    "        if year % 100 == 0:\n",
    "            if year % 400 == 0:\n",
    "                return True\n",
    "            else:\n",
    "                return False\n",
    "        else:\n",
    "            return True\n",
    "    else:\n",
    "        return False\n",
    "\n",
    "year = int(input(\"Enter a year: \"))\n",
    "if is_leap_year(year):\n",
    "    print(f\"The year {year} is a leap year.\")\n",
    "else:\n",
    "    print(f\"The year {year} is not a leap year.\")\n"
   ]
  },
  {
   "cell_type": "code",
   "execution_count": 5,
   "id": "5af05521-0886-40c4-8438-5b049b9795cb",
   "metadata": {},
   "outputs": [
    {
     "ename": "AssertionError",
     "evalue": "x is greater than 5",
     "output_type": "error",
     "traceback": [
      "\u001b[0;31m---------------------------------------------------------------------------\u001b[0m",
      "\u001b[0;31mAssertionError\u001b[0m                            Traceback (most recent call last)",
      "Cell \u001b[0;32mIn[5], line 6\u001b[0m\n\u001b[1;32m      4\u001b[0m x \u001b[38;5;241m=\u001b[39m \u001b[38;5;241m11\u001b[39m\n\u001b[1;32m      5\u001b[0m \u001b[38;5;28;01mif\u001b[39;00m x \u001b[38;5;241m>\u001b[39m \u001b[38;5;241m5\u001b[39m:\n\u001b[0;32m----> 6\u001b[0m     \u001b[38;5;28;01massert\u001b[39;00m x \u001b[38;5;241m<\u001b[39m \u001b[38;5;241m5\u001b[39m, \u001b[38;5;124m\"\u001b[39m\u001b[38;5;124mx is greater than 5\u001b[39m\u001b[38;5;124m\"\u001b[39m\n\u001b[1;32m      7\u001b[0m \u001b[38;5;28;01melse\u001b[39;00m:\n\u001b[1;32m      8\u001b[0m     \u001b[38;5;28;01massert\u001b[39;00m x \u001b[38;5;241m>\u001b[39m \u001b[38;5;241m5\u001b[39m, \u001b[38;5;124m\"\u001b[39m\u001b[38;5;124mx is less than or equal to 5\u001b[39m\u001b[38;5;124m\"\u001b[39m\n",
      "\u001b[0;31mAssertionError\u001b[0m: x is greater than 5"
     ]
    }
   ],
   "source": [
    "## 15. How do you use the \"assert\" statement in Python to add debugging checks within if-else blocks?\n",
    "\n",
    "#assert condition, error_message\n",
    "x = 11\n",
    "if x > 5:\n",
    "    assert x < 5, \"x is greater than 5\"\n",
    "else:\n",
    "    assert x > 5, \"x is less than or equal to 5\"\n"
   ]
  },
  {
   "cell_type": "code",
   "execution_count": 1,
   "id": "086b2ad2-d4c1-4c41-9281-e0c2366e7c9f",
   "metadata": {},
   "outputs": [
    {
     "name": "stdin",
     "output_type": "stream",
     "text": [
      "Enter your age:  21\n"
     ]
    },
    {
     "name": "stdout",
     "output_type": "stream",
     "text": [
      "You are not eligible for a senior citizen discount.\n"
     ]
    }
   ],
   "source": [
    "## 16. Create a Python program that determines the eligibility of a person for a senior citizen discount based on age using if-else.\n",
    "\n",
    "age = int(input(\"Enter your age: \"))\n",
    "\n",
    "if age >= 60:\n",
    "    print(\"You are eligible for a senior citizen discount.\")\n",
    "else:\n",
    "    print(\"You are not eligible for a senior citizen discount.\")\n"
   ]
  },
  {
   "cell_type": "code",
   "execution_count": 2,
   "id": "175c65fe-4cae-4c8d-8880-204f3ef46c29",
   "metadata": {},
   "outputs": [
    {
     "name": "stdin",
     "output_type": "stream",
     "text": [
      "Enter a character:  a\n"
     ]
    },
    {
     "name": "stdout",
     "output_type": "stream",
     "text": [
      "The character 'a' is a lowercase letter.\n"
     ]
    }
   ],
   "source": [
    "## 17. Write a Python program to categorize a given character as uppercase, lowercase, or neither using if-else.\n",
    "\n",
    "char = input(\"Enter a character: \")\n",
    "\n",
    "if char.isupper():\n",
    "    print(f\"The character '{char}' is an uppercase letter.\")\n",
    "elif char.islower():\n",
    "    print(f\"The character '{char}' is a lowercase letter.\")\n",
    "else:\n",
    "    print(f\"The character '{char}' is neither an uppercase nor a lowercase letter.\")\n"
   ]
  },
  {
   "cell_type": "code",
   "execution_count": 4,
   "id": "dae60c34-0570-45f3-a448-b510fccf55dc",
   "metadata": {},
   "outputs": [
    {
     "name": "stdin",
     "output_type": "stream",
     "text": [
      "Enter the coefficient a:  23\n",
      "Enter the coefficient b:  12\n",
      "Enter the coefficient c:  2\n"
     ]
    },
    {
     "name": "stdout",
     "output_type": "stream",
     "text": [
      "The quadratic equation has no real roots.\n"
     ]
    }
   ],
   "source": [
    "## 18. Write a Python program to determine the roots of a quadratic equation using if-else.\n",
    "\n",
    "a = float(input(\"Enter the coefficient a: \"))\n",
    "b = float(input(\"Enter the coefficient b: \"))\n",
    "c = float(input(\"Enter the coefficient c: \"))\n",
    "\n",
    "if a == 0:\n",
    "    print(\"The value of 'a' cannot be zero.\")\n",
    "else:\n",
    "    discriminant = b**2 - 4*a*c\n",
    "    if discriminant > 0:\n",
    "        root1 = (-b + discriminant**0.5) / (2*a)\n",
    "        root2 = (-b - discriminant**0.5) / (2*a)\n",
    "        print(f\"The roots of the quadratic equation are {root1:.2f} and {root2:.2f}.\")\n",
    "    elif discriminant == 0:\n",
    "        root = -b / (2*a)\n",
    "        print(f\"The root of the quadratic equation is {root:.2f}.\")\n",
    "    else:\n",
    "        print(\"The quadratic equation has no real roots.\")\n"
   ]
  },
  {
   "cell_type": "code",
   "execution_count": 7,
   "id": "dbebd66e-4a3c-4edf-b5d6-6ca913f00f97",
   "metadata": {},
   "outputs": [
    {
     "name": "stdin",
     "output_type": "stream",
     "text": [
      "Enter a year:  2000\n"
     ]
    },
    {
     "name": "stdout",
     "output_type": "stream",
     "text": [
      "The year 2000 is a century year.\n"
     ]
    }
   ],
   "source": [
    "## 19. Create a Python program that checks if a given year is a century year or not using if-else.\n",
    "\n",
    "year = int(input(\"Enter a year: \"))\n",
    "\n",
    "if year % 100 == 0:\n",
    "    print(f\"The year {year} is a century year.\")\n",
    "else:\n",
    "    print(f\"The year {year} is not a century year.\")\n"
   ]
  },
  {
   "cell_type": "code",
   "execution_count": 8,
   "id": "ebba7dfd-f11d-437f-8169-85de0e801f9f",
   "metadata": {},
   "outputs": [
    {
     "name": "stdin",
     "output_type": "stream",
     "text": [
      "Enter a number:  9\n"
     ]
    },
    {
     "name": "stdout",
     "output_type": "stream",
     "text": [
      "The number 9 is a perfect square.\n"
     ]
    }
   ],
   "source": [
    "## 20. Write a Python program to determine if a given number is a perfect square using if-else.\n",
    "\n",
    "import math\n",
    "\n",
    "num = int(input(\"Enter a number: \"))\n",
    "\n",
    "if math.isqrt(num)**2 == num:\n",
    "    print(f\"The number {num} is a perfect square.\")\n",
    "else:\n",
    "    print(f\"The number {num} is not a perfect square.\")\n"
   ]
  },
  {
   "cell_type": "code",
   "execution_count": 9,
   "id": "1aa0e059-950d-4052-ad51-aaa40c15366c",
   "metadata": {},
   "outputs": [
    {
     "name": "stdout",
     "output_type": "stream",
     "text": [
      "0\n",
      "1\n",
      "2\n",
      "4\n"
     ]
    }
   ],
   "source": [
    "##21. Explain the purpose of the \"continue\" and \"break\" statements within if-else loops.\n",
    "\n",
    "#The break and continue statements are used to alter the flow of loops in Python.\n",
    "\n",
    "#The break statement is used to exit a loop immediately when it’s encountered.\n",
    "\n",
    "#The continue statement is used to skip the current iteration of the loop and proceed to the next one.\n",
    "\n",
    "#The break statement is usually used inside decision-making statements such as if...else. It can be used with both for and while loops. When used with a for loop, the break statement terminates the loop when a certain condition is met. When used with a while loop, the break statement terminates the loop when a certain condition is met.\n",
    "\n",
    "#The continue statement is also usually used inside decision-making statements such as if...else. It can also be used with both for and while loops. When used with a for loop, the continue statement skips the current iteration of the loop and proceeds to the next one. When used with a while loop, the continue statement skips the current iteration of the loop and proceeds to the next one.\n",
    "\n",
    "for i in range(10):\n",
    "    if i == 5:\n",
    "        break\n",
    "    elif i == 3:\n",
    "        continue\n",
    "    print(i)\n"
   ]
  },
  {
   "cell_type": "code",
   "execution_count": 10,
   "id": "ad0f9173-2872-4409-b7d9-31652d81d35f",
   "metadata": {},
   "outputs": [
    {
     "name": "stdin",
     "output_type": "stream",
     "text": [
      "Enter your height in meters:  6\n",
      "Enter your weight in kilograms:  60\n"
     ]
    },
    {
     "name": "stdout",
     "output_type": "stream",
     "text": [
      "Your BMI is 1.67. You are underweight.\n"
     ]
    }
   ],
   "source": [
    "## 22. Create a Python program that calculates the BMI (Body Mass Index) of a person based on their weight and height using if-else.\n",
    "\n",
    "height = float(input(\"Enter your height in meters: \"))\n",
    "weight = float(input(\"Enter your weight in kilograms: \"))\n",
    "\n",
    "bmi = weight / height ** 2\n",
    "\n",
    "if bmi < 18.5:\n",
    "    print(f\"Your BMI is {bmi:.2f}. You are underweight.\")\n",
    "elif bmi < 25:\n",
    "    print(f\"Your BMI is {bmi:.2f}. You have a normal weight.\")\n",
    "elif bmi < 30:\n",
    "    print(f\"Your BMI is {bmi:.2f}. You are overweight.\")\n",
    "else:\n",
    "    print(f\"Your BMI is {bmi:.2f}. You are obese.\")\n"
   ]
  },
  {
   "cell_type": "code",
   "execution_count": 12,
   "id": "dfa8db0a-271b-4da1-a5b3-14d3f2070120",
   "metadata": {},
   "outputs": [
    {
     "name": "stdout",
     "output_type": "stream",
     "text": [
      "The even numbers in the list are: [2, 4, 6, 8, 10]\n"
     ]
    }
   ],
   "source": [
    "##23. How can you use the \"filter()\" function with if-else statements to filter elements from a list?\n",
    "\n",
    "my_list = [1, 2, 3, 4, 5, 6, 7, 8, 9, 10]\n",
    "\n",
    "filtered_list = list(filter(lambda x: x % 2 == 0, my_list))\n",
    "\n",
    "if filtered_list:\n",
    "    print(f\"The even numbers in the list are: {filtered_list}\")\n",
    "else:\n",
    "    print(\"There are no even numbers in the list.\")\n"
   ]
  },
  {
   "cell_type": "code",
   "execution_count": 14,
   "id": "6817440e-5934-46a9-8404-903f834c969d",
   "metadata": {},
   "outputs": [
    {
     "name": "stdin",
     "output_type": "stream",
     "text": [
      "Enter a number:  4\n"
     ]
    },
    {
     "name": "stdout",
     "output_type": "stream",
     "text": [
      "The number 4 is not a prime number.\n"
     ]
    }
   ],
   "source": [
    "## 24. Write a Python program to determine if a given number is prime or not using if-else.\n",
    "\n",
    "num = int(input(\"Enter a number: \"))\n",
    "\n",
    "if num > 1:\n",
    "    for i in range(2, num):\n",
    "        if (num % i) == 0:\n",
    "            print(f\"The number {num} is not a prime number.\")\n",
    "            break\n",
    "    else:\n",
    "        print(f\"The number {num} is a prime number.\")\n",
    "else:\n",
    "    print(f\"The number {num} is not a prime number.\")\n"
   ]
  },
  {
   "cell_type": "code",
   "execution_count": 15,
   "id": "dfccf9de-b4eb-42c0-b02b-ded4b32f48a3",
   "metadata": {},
   "outputs": [
    {
     "name": "stdout",
     "output_type": "stream",
     "text": [
      "[1, 4, 9, 16, 25]\n"
     ]
    }
   ],
   "source": [
    "###___________Map \n",
    "\n",
    "\n",
    "\n",
    "## 1. Explain the purpose of the `map()` function in Python and provide an example of how it can be used to apply a function to each element of an iterable.\n",
    "\n",
    "#The map() function in Python is used to apply a function to each element of an iterable (such as a list, tuple, or dictionary) and return a new iterable with the results.\n",
    "#The map() function takes two arguments: a function and an iterable. The function is applied to each element of the iterable, and the results are returned as a new iterable.\n",
    "\n",
    "def square(x):\n",
    "    return x ** 2\n",
    "\n",
    "my_list = [1, 2, 3, 4, 5]\n",
    "\n",
    "result = map(square, my_list)\n",
    "\n",
    "print(list(result))\n"
   ]
  },
  {
   "cell_type": "code",
   "execution_count": 17,
   "id": "76f35c6a-826d-4074-bd26-44213dcb699e",
   "metadata": {},
   "outputs": [
    {
     "name": "stdout",
     "output_type": "stream",
     "text": [
      "The original list of numbers is [1, 2, 3, 4, 5].\n",
      "The squared list of numbers is [1, 4, 9, 16, 25].\n"
     ]
    }
   ],
   "source": [
    "## 2. Write a Python program that uses the `map()` function to square each element of a list of numbers.\n",
    "\n",
    "numbers = [1, 2, 3, 4, 5]\n",
    "\n",
    "squared_numbers = list(map(lambda x: x ** 2, numbers))\n",
    "\n",
    "print(f\"The original list of numbers is {numbers}.\")\n",
    "print(f\"The squared list of numbers is {squared_numbers}.\")\n"
   ]
  },
  {
   "cell_type": "code",
   "execution_count": 18,
   "id": "0e305821-9f28-4574-904c-219919db8217",
   "metadata": {},
   "outputs": [
    {
     "name": "stdout",
     "output_type": "stream",
     "text": [
      "The original list of numbers is [1, 2, 3, 4, 5].\n",
      "The squared list of numbers using map() is [1, 4, 9, 16, 25].\n",
      "The squared list of numbers using a list comprehension is [1, 4, 9, 16, 25].\n"
     ]
    }
   ],
   "source": [
    "## 3. How does the `map()` function differ from a list comprehension in Python, and when would you choose one over the other?\n",
    "\n",
    "#The map() function and list comprehensions are both used to apply a function to each element of an iterable and return a new iterable with the results. However, there are some differences between the two.\n",
    "\n",
    "#The map() function returns a map object, which is an iterator that generates the results on-the-fly as they are needed. In contrast, list comprehensions return a list, which is a collection of all the results at once.\n",
    "\n",
    "numbers = [1, 2, 3, 4, 5]\n",
    "\n",
    "squared_numbers_map = map(lambda x: x ** 2, numbers)\n",
    "squared_numbers_list_comprehension = [x ** 2 for x in numbers]\n",
    "\n",
    "print(f\"The squared list of numbers using map() is {list(squared_numbers_map)}.\")\n",
    "print(f\"The squared list of numbers using a list comprehension is {squared_numbers_list_comprehension}.\")\n"
   ]
  },
  {
   "cell_type": "code",
   "execution_count": 21,
   "id": "f305fe96-77fb-4baa-a8f2-dceb9f53d2c7",
   "metadata": {},
   "outputs": [
    {
     "name": "stdout",
     "output_type": "stream",
     "text": [
      "The list of names in uppercase is ['JOHN', 'JANE', 'JIM'].\n"
     ]
    }
   ],
   "source": [
    "##4. Create a Python program that uses the `map()` function to convert a list of names to uppercase.\n",
    "\n",
    "names = [\"john\", \"jane\", \"jim\"]\n",
    "\n",
    "upper_names = list(map(str.upper, names))\n",
    "\n",
    "\n",
    "print(f\"The list of names in uppercase is {upper_names}.\")\n"
   ]
  },
  {
   "cell_type": "code",
   "execution_count": 22,
   "id": "6073141a-9e84-46c8-87f7-bd4809c195e3",
   "metadata": {},
   "outputs": [
    {
     "name": "stdout",
     "output_type": "stream",
     "text": [
      "The original list of strings is ['Hello, world!', 'How are you?', \"I'm fine, thank you.\"].\n",
      "The list of word lengths is [6, 6, 3, 3, 4, 3, 5, 5, 4].\n"
     ]
    }
   ],
   "source": [
    "## 5. Write a Python program that uses the `map()` function to calculate the length of each word in a list of strings.\n",
    "\n",
    "strings = [\"Hello, world!\", \"How are you?\", \"I'm fine, thank you.\"]\n",
    "\n",
    "word_lengths = list(map(lambda x: len(x), [word for string in strings for word in string.split()]))\n",
    "\n",
    "print(f\"The original list of strings is {strings}.\")\n",
    "print(f\"The list of word lengths is {word_lengths}.\")\n"
   ]
  },
  {
   "cell_type": "code",
   "execution_count": 23,
   "id": "e9c047e6-2a61-48d0-92d3-eacb9a9c26cd",
   "metadata": {},
   "outputs": [
    {
     "name": "stdout",
     "output_type": "stream",
     "text": [
      "The result of adding the elements of the three lists is [12, 15, 18].\n"
     ]
    }
   ],
   "source": [
    "## 6. How can you use the `map()` function to apply a custom function to elements of multiple lists simultaneously in Python?\n",
    "\n",
    "list1 = [1, 2, 3]\n",
    "list2 = [4, 5, 6]\n",
    "list3 = [7, 8, 9]\n",
    "\n",
    "result = list(map(lambda x, y, z: x + y + z, list1, list2, list3))\n",
    "\n",
    "print(f\"The result of adding the elements of the three lists is {result}.\")\n"
   ]
  },
  {
   "cell_type": "code",
   "execution_count": 27,
   "id": "b92d4ad8-51b8-4251-8c51-9930c5ec5181",
   "metadata": {},
   "outputs": [
    {
     "name": "stdout",
     "output_type": "stream",
     "text": [
      "The list of temperatures in Fahrenheit is [50.0, 68.0, 86.0].\n"
     ]
    }
   ],
   "source": [
    "## 7. Create a Python program that uses `map()` to convert a list of temperatures from Celsius to Fahrenheit.\n",
    "\n",
    "celsius_temperatures = [ 10, 20, 30]\n",
    "\n",
    "fahrenheit_temperatures = list(map(lambda c: (9/5) * c + 32, celsius_temperatures))\n",
    "\n",
    "print(f\"The list of temperatures in Fahrenheit is {fahrenheit_temperatures}.\")\n"
   ]
  },
  {
   "cell_type": "code",
   "execution_count": 30,
   "id": "4ba2b065-2b10-44eb-b51c-94e221d38758",
   "metadata": {},
   "outputs": [
    {
     "name": "stdout",
     "output_type": "stream",
     "text": [
      "The list of integers rounded from the floating-point numbers is [1, 2, 4, 6].\n"
     ]
    }
   ],
   "source": [
    "## 8. Write a Python program that uses the `map()` function to round each element of a list of floating-point numbers to the nearest integer.\n",
    "\n",
    "float_numbers = [1.2, 2.5, 3.7,5.9]\n",
    "\n",
    "int_numbers = list(map(round, float_numbers))\n",
    "\n",
    "print(f\"The list of integers rounded from the floating-point numbers is {int_numbers}.\")\n"
   ]
  },
  {
   "cell_type": "code",
   "execution_count": 32,
   "id": "d09384bc-6652-495b-8c14-958be2a58f0e",
   "metadata": {},
   "outputs": [
    {
     "name": "stdout",
     "output_type": "stream",
     "text": [
      "The original list of numbers is [1, 2, 3, 4, 5].\n",
      "The product of the numbers is 120.\n"
     ]
    }
   ],
   "source": [
    "####___________Reduce :-\n",
    "\n",
    "\n",
    "\n",
    "\n",
    "##1. What is the `reduce()` function in Python, and what module should you import to use it? Provide an example of its basic usage\n",
    "\n",
    "#The reduce() function in Python is used to apply a function to the elements of an iterable and reduce them to a single value. The reduce() function is part of the functools module, so you need to import it before you can use it.\n",
    "\n",
    "\n",
    "from functools import reduce\n",
    "\n",
    "numbers = [1, 2, 3, 4, 5]\n",
    "\n",
    "product = reduce(lambda x, y: x * y, numbers)\n",
    "\n",
    "print(f\"The original list of numbers is {numbers}.\")\n",
    "print(f\"The product of the numbers is {product}.\")\n"
   ]
  },
  {
   "cell_type": "code",
   "execution_count": 33,
   "id": "63010d6b-4a9c-43cd-8f59-deef465157fb",
   "metadata": {},
   "outputs": [
    {
     "name": "stdout",
     "output_type": "stream",
     "text": [
      "The original list of numbers is [1, 2, 3, 4, 5].\n",
      "The product of all the numbers in the list is 120.\n"
     ]
    }
   ],
   "source": [
    "## 2. Write a Python program that uses the `reduce()` function to find the product of all elements in a list.\n",
    "\n",
    "from functools import reduce\n",
    "\n",
    "numbers = [1, 2, 3, 4, 5]\n",
    "\n",
    "product = reduce(lambda x, y: x * y, numbers)\n",
    "\n",
    "print(f\"The original list of numbers is {numbers}.\")\n",
    "print(f\"The product of all the numbers in the list is {product}.\")\n"
   ]
  },
  {
   "cell_type": "code",
   "execution_count": 34,
   "id": "054d0ec7-395f-4447-a930-90ec3e077871",
   "metadata": {},
   "outputs": [
    {
     "name": "stdout",
     "output_type": "stream",
     "text": [
      "The original list of numbers is [1, 2, 3, 4, 5].\n",
      "The maximum element in the list is 5.\n"
     ]
    }
   ],
   "source": [
    "## 3. Create a Python program that uses `reduce()` to find the maximum element in a list of numbers.\n",
    "\n",
    "from functools import reduce\n",
    "\n",
    "numbers = [1, 2, 3, 4, 5]\n",
    "\n",
    "maximum = reduce(lambda x, y: x if x > y else y, numbers)\n",
    "\n",
    "print(f\"The original list of numbers is {numbers}.\")\n",
    "print(f\"The maximum element in the list is {maximum}.\")\n",
    "\n"
   ]
  },
  {
   "cell_type": "code",
   "execution_count": 35,
   "id": "53673cfb-9dd1-4b51-8359-92e94f90b3e2",
   "metadata": {},
   "outputs": [
    {
     "name": "stdout",
     "output_type": "stream",
     "text": [
      "The original list of strings is ['hello', 'world', 'how', 'are', 'you'].\n",
      "The concatenated string is hello world how are you.\n"
     ]
    }
   ],
   "source": [
    "## 4. How can you use the `reduce()` function to concatenate a list of strings into a single string?\n",
    "\n",
    "from functools import reduce\n",
    "\n",
    "strings = [\"hello\", \"world\", \"how\", \"are\", \"you\"]\n",
    "\n",
    "concatenated_string = reduce(lambda x, y: x + \" \" + y, strings)\n",
    "\n",
    "print(f\"The original list of strings is {strings}.\")\n",
    "print(f\"The concatenated string is {concatenated_string}.\")\n",
    "\n"
   ]
  },
  {
   "cell_type": "code",
   "execution_count": 36,
   "id": "4194d5da-1f45-4f0b-8a4e-8aac11a7f56a",
   "metadata": {},
   "outputs": [
    {
     "name": "stdin",
     "output_type": "stream",
     "text": [
      "Enter a number:  4\n"
     ]
    },
    {
     "name": "stdout",
     "output_type": "stream",
     "text": [
      "The factorial of 4 is 24.\n"
     ]
    }
   ],
   "source": [
    "## 5. Write a Python program that calculates the factorial of a number using the `reduce()` function.\n",
    "\n",
    "from functools import reduce\n",
    "\n",
    "number = int(input(\"Enter a number: \"))\n",
    "\n",
    "factorial = reduce(lambda x, y: x * y, range(1, number + 1))\n",
    "\n",
    "print(f\"The factorial of {number} is {factorial}.\")\n"
   ]
  },
  {
   "cell_type": "code",
   "execution_count": 1,
   "id": "acbd8588-3e66-4fee-bccf-d1afacb21f87",
   "metadata": {},
   "outputs": [
    {
     "name": "stdout",
     "output_type": "stream",
     "text": [
      "The original list of numbers is [12, 24, 27, 30, 36].\n",
      "The GCD of the numbers is 3.\n"
     ]
    }
   ],
   "source": [
    "## 6. Create a Python program that uses `reduce()` to find the GCD (Greatest Common Divisor) of a list of numbers.\n",
    "\n",
    "from functools import reduce\n",
    "import math\n",
    "\n",
    "numbers = [12, 24, 27, 30, 36]\n",
    "\n",
    "gcd = reduce(math.gcd, numbers)\n",
    "\n",
    "print(f\"The original list of numbers is {numbers}.\")\n",
    "print(f\"The GCD of the numbers is {gcd}.\")\n",
    "\n"
   ]
  },
  {
   "cell_type": "code",
   "execution_count": 2,
   "id": "985f000f-8210-4800-a304-b81a77db2d2f",
   "metadata": {},
   "outputs": [
    {
     "name": "stdin",
     "output_type": "stream",
     "text": [
      "Enter a number:  5\n"
     ]
    },
    {
     "name": "stdout",
     "output_type": "stream",
     "text": [
      "The original number is 5.\n",
      "The sum of the digits of the number is 5.\n"
     ]
    }
   ],
   "source": [
    "## 7. Write a Python program that uses the `reduce()` function to find the sum of the digits of a given number.\n",
    "\n",
    "from functools import reduce\n",
    "\n",
    "number = int(input(\"Enter a number: \"))\n",
    "\n",
    "digit_sum = reduce(lambda x, y: int(x) + int(y), str(number))\n",
    "\n",
    "print(f\"The original number is {number}.\")\n",
    "print(f\"The sum of the digits of the number is {digit_sum}.\")\n"
   ]
  },
  {
   "cell_type": "code",
   "execution_count": 9,
   "id": "4ecd6a44-4b3b-4d97-a207-b8df267e631f",
   "metadata": {},
   "outputs": [
    {
     "name": "stdout",
     "output_type": "stream",
     "text": [
      "The odd numbers in the list are [1, 3, 5, 7, 9]\n"
     ]
    }
   ],
   "source": [
    "###____________Filter :-\n",
    "\n",
    "\n",
    "\n",
    "\n",
    "## 1. Explain the purpose of the `filter()` function in Python and provide an example of how it can beused to filter elements from an iterable\n",
    "\n",
    "#The filter() function in Python is used to filter elements from an iterable based on a given condition. It takes two arguments: a function and an iterable. The function is applied to each element of the iterable, and only the elements for which the function returns True are included in the output.\n",
    "\n",
    "\n",
    "numbers = [1, 2, 3, 4, 5, 6, 7, 8, 9, 10]  \n",
    "\n",
    "\n",
    "odd_number= list(filter(lambda x: x % 2 != 0, numbers))\n",
    "\n",
    "print(f\"The odd numbers in the list are {odd_number}\")\n"
   ]
  },
  {
   "cell_type": "code",
   "execution_count": 6,
   "id": "8584a335-5a85-45c1-8285-18fe1cff2468",
   "metadata": {},
   "outputs": [
    {
     "name": "stdout",
     "output_type": "stream",
     "text": [
      "The even numbers in the list are [2, 4, 6, 8, 10].\n"
     ]
    }
   ],
   "source": [
    "## 2. Write a Python program that uses the `filter()` function to select even numbers from a list ofintegers\n",
    "\n",
    "numbers = [1, 2, 3, 4, 5, 6, 7, 8, 9, 10]\n",
    "\n",
    "even_numbers = list(filter(lambda x: x % 2 == 0, numbers))\n",
    "\n",
    "print(f\"The even numbers in the list are {even_numbers}.\")"
   ]
  },
  {
   "cell_type": "code",
   "execution_count": 11,
   "id": "2944c58f-0be2-4e63-9409-e995323a746c",
   "metadata": {},
   "outputs": [
    {
     "name": "stdin",
     "output_type": "stream",
     "text": [
      "Enter a letter:  BOb\n"
     ]
    },
    {
     "name": "stdout",
     "output_type": "stream",
     "text": [
      "There are no names that start with the letter 'BOb'.\n"
     ]
    }
   ],
   "source": [
    "## 3. Create a Python program that uses the `filter()` function to select names that start with a specific letter from a list of strings.\n",
    "\n",
    "names = [\"Alice\", \"Bob\", \"Charlie\", \"David\", \"Eve\", \"Frank\", \"Grace\"]\n",
    "\n",
    "letter = input(\"Enter a letter: \")\n",
    "\n",
    "filtered_names = list(filter(lambda name: name.startswith(letter), names))\n",
    "\n",
    "if filtered_names:\n",
    "    print(f\"The original list of names is {names}.\")\n",
    "    print(f\"The names that start with the letter '{letter}' are {filtered_names}.\")\n",
    "else:\n",
    "    print(f\"There are no names that start with the letter '{letter}'.\")\n"
   ]
  },
  {
   "cell_type": "code",
   "execution_count": 13,
   "id": "63caeb1e-bc22-4380-a32d-4b63918e4390",
   "metadata": {},
   "outputs": [
    {
     "name": "stdout",
     "output_type": "stream",
     "text": [
      "The prime numbers in the list are [2, 3, 5, 7, 11, 13].\n"
     ]
    }
   ],
   "source": [
    "## 4. Write a Python program that uses the `filter()` function to select prime numbers from a list of integers.\n",
    "\n",
    "numbers = [2, 3, 4, 5, 6, 7, 8, 9, 10, 11, 12, 13, 14, 15]\n",
    "\n",
    "prime_numbers = list(filter(lambda x: all(x % i != 0 for i in range(2, int(x ** 0.5) + 1)), numbers))\n",
    "\n",
    "print(f\"The prime numbers in the list are {prime_numbers}.\")\n"
   ]
  },
  {
   "cell_type": "code",
   "execution_count": 2,
   "id": "72ba4136-f208-4287-8391-3ca63041cb1e",
   "metadata": {},
   "outputs": [],
   "source": [
    "## 5. How can you use the `filter()` function to remove None values from a list in Python?\n",
    "\n",
    "my_list = [1, None, 4, None, None, 5, 8, None]\n",
    "new_list = list(filter(lambda x: x is not None, my_list))\n"
   ]
  },
  {
   "cell_type": "code",
   "execution_count": 3,
   "id": "48d10d7d-8a0f-41e0-a9e6-00b035b0ee1c",
   "metadata": {},
   "outputs": [
    {
     "name": "stdout",
     "output_type": "stream",
     "text": [
      "['banana', 'cherry', 'elderberry']\n"
     ]
    }
   ],
   "source": [
    "##6. Create a Python program that uses `filter()` to select words longer than a certain length from a list of strings.\n",
    "\n",
    "words = [\"apple\", \"banana\", \"cherry\", \"date\", \"elderberry\"]\n",
    "min_length = 5\n",
    "filtered_words = list(filter(lambda word: len(word) > min_length, words))\n",
    "print(filtered_words)\n"
   ]
  },
  {
   "cell_type": "code",
   "execution_count": 4,
   "id": "89270304-84d2-42a2-be0a-540a99644fc0",
   "metadata": {},
   "outputs": [
    {
     "name": "stdout",
     "output_type": "stream",
     "text": [
      "[6, 7, 8, 9, 10]\n"
     ]
    }
   ],
   "source": [
    "## 7. Write a Python program that uses the `filter()` function to select elements greater than a specified threshold from a list of values.\n",
    "\n",
    "values = [1, 2, 3, 4, 5, 6, 7, 8, 9, 10]\n",
    "threshold = 5\n",
    "filtered_values = list(filter(lambda x: x > threshold, values))\n",
    "print(filtered_values)\n"
   ]
  },
  {
   "cell_type": "markdown",
   "id": "1bf2178e-d519-4448-b8f1-eb99f55a313a",
   "metadata": {},
   "source": [
    "###___________Recursion:-\n",
    "\n",
    "\n",
    "\n",
    "\n",
    "# 1. Explain the concept of recursion in Python. How does it differ from iteration?\n",
    "\n",
    "Recursion is a programming technique in which a function calls itself directly or indirectly to solve a problem. It is a way of breaking down a complex problem into smaller sub-problems that are easier to solve.\n",
    "\n",
    "In Python, recursion differs from iteration in that it uses function calls to repeat a process, whereas iteration uses loops. Recursion can be more elegant and easier to read than iteration for certain types of problems, but it can also be less efficient and more difficult to debug.\n",
    "\n",
    "Recursion has two main components: the base case and the recursive case. The base case is the simplest version of the problem that can be solved without recursion. The recursive case is the more complex version of the problem that requires recursion to solve.\n",
    "\n",
    "When a function is called recursively, a new instance of the function is created on the call stack. Each instance of the function has its own set of local variables and parameters. When the base case is reached, the function returns a value to the previous instance of the function on the call stack, which then returns a value to the previous instance, and so on, until the original function call is completed.\n",
    "\n",
    "\n"
   ]
  },
  {
   "cell_type": "code",
   "execution_count": 1,
   "id": "0783e488-ce42-4925-aa13-592f4f1b9c7f",
   "metadata": {},
   "outputs": [
    {
     "name": "stdout",
     "output_type": "stream",
     "text": [
      "The factorial of 5 is 120.\n"
     ]
    }
   ],
   "source": [
    "## 2. Write a Python program to calculate the factorial of a number using recursion.\n",
    "  \n",
    "def factorial(n):\n",
    "    if n == 0:\n",
    "        return 1\n",
    "    else:\n",
    "        return n * factorial(n-1)\n",
    "\n",
    "num = 5\n",
    "fact = factorial(num)\n",
    "print(f\"The factorial of {num} is {fact}.\")\n"
   ]
  },
  {
   "cell_type": "code",
   "execution_count": 2,
   "id": "ebb7f525-e05a-41e5-9932-3f2d609cef79",
   "metadata": {},
   "outputs": [
    {
     "name": "stdout",
     "output_type": "stream",
     "text": [
      "5th term of Fibonacci series is: 5\n"
     ]
    }
   ],
   "source": [
    "## 3. Create a recursive Python function to find the nth Fibonacci number.\n",
    "\n",
    "def fib(n):\n",
    "    if n <= 1:\n",
    "        return n, 0\n",
    "    else:\n",
    "        a, b = fib(n - 1)\n",
    "        return a + b, a\n",
    "\n",
    "term=5\n",
    "result = fib(term)\n",
    "print(f\"{term}th term of Fibonacci series is: {result[0]}\")\n"
   ]
  },
  {
   "cell_type": "code",
   "execution_count": 6,
   "id": "afb84c3d-2fec-4069-b4a5-b57a139dda21",
   "metadata": {},
   "outputs": [
    {
     "name": "stdout",
     "output_type": "stream",
     "text": [
      "Sum of elements: 42\n"
     ]
    }
   ],
   "source": [
    "## 4. Write a recursive Python function to calculate the sum of all elements in a list.\n",
    "\n",
    "\n",
    "def sum_of_list(my_list, n_sum):\n",
    "    if len(my_list):\n",
    "        return sum_of_list(my_list[1:], n_sum + my_list[0])\n",
    "    else:\n",
    "        return n_sum\n",
    "\n",
    "\n",
    "my_list = [23, 4, 2, 6, 7]\n",
    "print(\"Sum of elements:\", sum_of_list(my_list, 0))\n"
   ]
  },
  {
   "cell_type": "code",
   "execution_count": 22,
   "id": "60ae4fbf-58af-4b9c-bd0e-99ec8d448182",
   "metadata": {},
   "outputs": [
    {
     "name": "stdout",
     "output_type": "stream",
     "text": [
      "<function factorial_tail at 0x7fd2275a3130> is 120\n"
     ]
    }
   ],
   "source": [
    "## 5. How can you prevent a recursive function from running indefinitely, causing a stack overflow error?\n",
    "\n",
    "def factorial_tail(n, acc=1):\n",
    "    if n == 0:\n",
    "        return acc\n",
    "    else:\n",
    "        return factorial_tail(n - 1, acc * n)\n",
    "\n",
    "factorial_tail(5, 1)\n",
    "fact=factorial_tail(5, 1)\n",
    "print(f\"{factorial_tail} is {fact}\")\n",
    "\n",
    "\n",
    "\n",
    "#solve it later \n"
   ]
  },
  {
   "cell_type": "code",
   "execution_count": 23,
   "id": "4bd67fbd-4b9f-446b-8b15-0712a98aa378",
   "metadata": {},
   "outputs": [
    {
     "name": "stdout",
     "output_type": "stream",
     "text": [
      "The GCD of 60 and 48 is: 12\n"
     ]
    }
   ],
   "source": [
    "## 6. Create a recursive Python function to find the greatest common divisor (GCD) of two numbers using the Euclidean algorithm.\n",
    "\n",
    "def gcd(a, b):\n",
    "\n",
    "    if a == 0:\n",
    "        return b\n",
    "    elif b == 0:\n",
    "        return a\n",
    "    else:\n",
    "        return gcd(b, a % b)\n",
    "\n",
    "# Example usage:\n",
    "num1 = 60\n",
    "num2 = 48\n",
    "result = gcd(num1, num2)\n",
    "print(f\"The GCD of {num1} and {num2} is: {result}\")\n"
   ]
  },
  {
   "cell_type": "code",
   "execution_count": 8,
   "id": "3ef3aebc-b14c-4e9e-9014-87e1f1b3630e",
   "metadata": {},
   "outputs": [
    {
     "name": "stdout",
     "output_type": "stream",
     "text": [
      "Reversed string: nawap\n"
     ]
    }
   ],
   "source": [
    "## 7. Write a recursive Python function to reverse a string\n",
    "\n",
    "def reverse_str(s1):\n",
    "    if s1 == \"\":\n",
    "        return s1\n",
    "    else:\n",
    "        return s1[-1]+reverse_str(s1[:-1])\n",
    "    \n",
    "        \n",
    "s2=\"pawan\"\n",
    "reverse_st = reverse_str(s2)\n",
    "print(f\"Reversed string: {reverse_st}\")\n"
   ]
  },
  {
   "cell_type": "code",
   "execution_count": 17,
   "id": "02032f70-dbbe-4334-a533-199a5f3b9fe7",
   "metadata": {},
   "outputs": [
    {
     "name": "stdout",
     "output_type": "stream",
     "text": [
      "2 raised to the power of 5 is: 32\n"
     ]
    }
   ],
   "source": [
    "## 8. Create a recursive Python function to calculate the power of a number (x^n).\n",
    "\n",
    "def power_num(n,p):\n",
    "    if p==0:\n",
    "        return 1\n",
    "    return  n* power_num(n,p-1)\n",
    "\n",
    "\n",
    "n=5\n",
    "x=2\n",
    "print(f\"{x} raised to the power of {n} is: {power_num(x, n)}\")"
   ]
  },
  {
   "cell_type": "code",
   "execution_count": 41,
   "id": "67787fa0-d47c-48ce-97ab-1cbe7d4ed46a",
   "metadata": {},
   "outputs": [
    {
     "name": "stdout",
     "output_type": "stream",
     "text": [
      "Input string and all permutation combinations are :pa =['pa', 'ap']\n"
     ]
    }
   ],
   "source": [
    "## 9. Write a recursive Python function to find all permutations of a given string.\n",
    "\n",
    "from itertools import permutations\n",
    "\n",
    "def get_permutations(s, idx=0):\n",
    "   \n",
    "    if idx == len(s) - 1:\n",
    "        return [s]\n",
    "    result = []\n",
    "    for j in range(idx, len(s)):\n",
    "        words_list = [c for c in s]\n",
    "        words_list[idx], words_list[j] = words_list[j], words_list[idx]\n",
    "        result += [ p for p in get_permutations(\"\".join(words_list), idx + 1)]\n",
    "    return result\n",
    "\n",
    "\n",
    "input_string = \"pa\"\n",
    "permutations = get_permutations(input_string)\n",
    "print(f\"Input string and all permutation combinations are :{input_string} ={permutations:}\")\n",
    "\n"
   ]
  },
  {
   "cell_type": "code",
   "execution_count": 47,
   "id": "1ca9e4af-7dfb-4625-ba95-98bff572b04a",
   "metadata": {},
   "outputs": [
    {
     "name": "stdout",
     "output_type": "stream",
     "text": [
      "Yes, it's a palindrome!\n"
     ]
    }
   ],
   "source": [
    "## 10. Write a recursive Python function to check if a string is a palindrome.\n",
    "    \n",
    "\n",
    "def is_palindrome(s):\n",
    "   \n",
    "    s = s.lower().replace(\" \", \"\")  # Remove spaces and convert to lowercase\n",
    "    return s == s[::-1]  # Compare the string with its reverse\n",
    "\n",
    "# Example usage:\n",
    "input_string = \"nitin\"\n",
    "if is_palindrome(input_string):\n",
    "    print(\"Yes, it's a palindrome!\")\n",
    "else:\n",
    "    print(\"No, it's not a palindrome.\")\n"
   ]
  },
  {
   "cell_type": "code",
   "execution_count": 52,
   "id": "c2c3be42-0363-488c-890a-04a87aeae2f5",
   "metadata": {},
   "outputs": [
    {
     "name": "stdout",
     "output_type": "stream",
     "text": [
      "All combination in list[[], [2], [1], [2, 1]]\n"
     ]
    }
   ],
   "source": [
    "## 11. Create a recursive Python function to generate all possible combinations of a list of elements.\n",
    "\n",
    "import itertools\n",
    "\n",
    "def all_subsets(lst):\n",
    "   \n",
    "    if not lst:\n",
    "        return [[]]  \n",
    "    \n",
    "    first, rest = lst[0], lst[1:]\n",
    "    \n",
    "    subsets_without_first = all_subsets(rest)\n",
    "    \n",
    "    subsets_with_first = [subset + [first] for subset in subsets_without_first]\n",
    "    \n",
    "    return subsets_without_first + subsets_with_first\n",
    "\n",
    "\n",
    "list1 = [1, 2]\n",
    "all_combinations = all_subsets(list1)\n",
    "print(f\"All combination in list{all_combinations}\")\n"
   ]
  },
  {
   "cell_type": "markdown",
   "id": "50723e43-27bf-4b92-b159-88b28954ce8d",
   "metadata": {},
   "source": [
    "##_______ Basics of Functions:\n",
    "\n",
    "\n",
    "\n",
    "1. What is a function in Python, and why is it used?\n",
    "\n",
    "A function in Python is a block of organized, reusable code that performs a specific task.\n",
    "It allows you to group related actions together and encapsulate them into a single unit.\n",
    "Functions provide better modularity for your code by breaking it down into smaller, manageable parts.\n",
    "You can call a function whenever you need to execute its code.\n",
    "\n",
    "2.Why Use Functions?\n",
    "\n",
    "Code Reusability: Instead of writing the same code repeatedly for different inputs, you can create a function and reuse it.\n",
    "Modularity: Functions allow you to break down complex tasks into smaller, more manageable pieces.\n",
    "Readability: Well-named functions make your code more readable and self-explanatory.\n",
    "Abstraction: Functions abstract away implementation details, allowing you to focus on high-level logic.\n",
    "Parameter Passing: Functions can accept parameters (input values) and return results.\n",
    "\n",
    "Function Declaration in Python:\n",
    "\n",
    "To declare a function, use the def keyword followed by the function name and a pair of parentheses.\n",
    "Example:\n",
    "\n",
    "\n",
    "def greet():\n",
    "    print(\"Hello from a function\")\n",
    "\n",
    "3.Calling a Function:\n",
    "\n",
    "After defining a function, you can call it by using its name followed by parentheses.\n",
    "Example:\n",
    "\n",
    "\n",
    "greet()  # Output: Hello from a function\n",
    "\n",
    "4.Function Parameters:\n",
    "\n",
    "Functions can accept arguments (values passed inside the parentheses).\n",
    "You can define parameters with data types and even specify the return type (for Python 3.5 and above).\n",
    "Example:\n",
    "\n",
    "\n",
    "def add(num1: int, num2: int) -> int:\n",
    "    return num1 + num2\n",
    "\n",
    "5.Types of Function Arguments:\n",
    "\n",
    "Python supports various types of function arguments:\n",
    "Default Arguments: Parameters with default values.\n",
    "Keyword Arguments: Named arguments passed in any order.\n",
    "Variable-Length Arguments: Functions that can accept a variable number of arguments.\n",
    "Positional Arguments: Regular arguments passed in the order defined."
   ]
  },
  {
   "cell_type": "code",
   "execution_count": 55,
   "id": "b4db8a25-65bb-4408-830b-53acf050215f",
   "metadata": {},
   "outputs": [],
   "source": [
    "## 2. How do you define a function in Python? Provide an exampl\n",
    "\n",
    "def greet(): \n",
    "    print(\"Hello from a function\")"
   ]
  },
  {
   "cell_type": "markdown",
   "id": "d981b82c-3303-4e05-9353-54249dbbe49f",
   "metadata": {},
   "source": [
    "## 3. Explain the difference between a function definition and a function call.\n",
    "Function Definition:\n",
    "\n",
    "A function definition (also known as a function declaration) is the process of creating a new function.\n",
    "It involves specifying the function’s name, parameters (if any), and the code block that defines what the function does.\n",
    "\n",
    "Key points:\n",
    "The def keyword marks the beginning of a function definition.\n",
    "function_name is the name of the function.\n",
    "parameters (if any) are placeholders for values that the function expects when called.\n",
    "The code block under the function definition contains the actual logic of the function.\n",
    "\n",
    "Function Call:\n",
    "\n",
    "A function call (also known as a function invocation) is the process of executing a function that has already been defined.\n",
    "It involves using the function’s name followed by parentheses, optionally passing arguments (values) inside the parentheses.\n",
    "\n",
    "Key points:\n",
    "function_name is the name of the function you want to execute.\n",
    "arguments (if any) are the actual values you provide to the function.\n",
    "The function executes its code block, performs its task, and may return a result (if specified).\n",
    "\n",
    "# function definition:\n",
    "def add(a, b):\n",
    "    return a + b\n",
    "\n",
    "# Function call:\n",
    "result = add(3, 5)\n",
    "print(\"Sum:\", result)  # Output: Sum: 8\n"
   ]
  },
  {
   "cell_type": "code",
   "execution_count": 56,
   "id": "ffe2e58f-80d4-4f1c-9e88-66ef061d7521",
   "metadata": {},
   "outputs": [
    {
     "name": "stdin",
     "output_type": "stream",
     "text": [
      "Enter the first number:  2\n",
      "Enter the second number:  3\n"
     ]
    },
    {
     "name": "stdout",
     "output_type": "stream",
     "text": [
      "The sum of 2.0 and 3.0 is 5.0\n"
     ]
    }
   ],
   "source": [
    "## 4. Write a Python program that defines a function to calculate the sum of two numbers and then calls the function\n",
    "\n",
    "def add_numbers(a, b):\n",
    "    \n",
    "    return a + b\n",
    "\n",
    "# Input from the user\n",
    "num1 = float(input(\"Enter the first number: \"))\n",
    "num2 = float(input(\"Enter the second number: \"))\n",
    "\n",
    "# Call the function and display the result\n",
    "result = add_numbers(num1, num2)\n",
    "print(f\"The sum of {num1} and {num2} is {result}\")\n"
   ]
  },
  {
   "cell_type": "markdown",
   "id": "716da73f-cfa8-48c2-9978-e5cc14639e52",
   "metadata": {},
   "source": [
    "## 5. What is a function signature, and what information does it typically include?\n",
    "\n",
    "Function Signature:\n",
    "\n",
    "A function signature refers to the definition and characteristics of a function.\n",
    "It includes information about the name, parameters, and return type of the function.\n",
    "The signature provides a concise summary of how the function behaves.\n",
    "\n",
    "Components of a Function Signature:\n",
    "\n",
    "Function Name: The unique identifier for the function.\n",
    "Parameters (Input Arguments): The values the function accepts when called.\n",
    "Specifies the number and types of input arguments.\n",
    "In Python, parameter names are not part of the signature; only the types matter.\n",
    "\n",
    "Return Type: The type of value the function returns (if any).\n",
    "In Python, this can be specified using type hints (introduced in newer versions).\n",
    "Example: Consider the following Python function:\n",
    "\n",
    "def multiply(x: int, y: int) -> int:\n",
    "    return x * y\n",
    "\n",
    "The function name is multiply.\n",
    "It takes two integer parameters (x and y).\n",
    "The return type is an integer.\n",
    "Function Signature in Other Languages:\n",
    "\n",
    "In some languages (e.g., C++), the signature also includes the scope and access modifiers.\n",
    "\n",
    "Use Case:\n",
    "\n",
    "Understanding function signatures is essential for type checking, documentation, and code readability.\n",
    "It helps developers know how to call a function correctly and what to expect in return."
   ]
  },
  {
   "cell_type": "code",
   "execution_count": 58,
   "id": "8768b74b-327e-4d04-91f7-c66c4f7694cb",
   "metadata": {},
   "outputs": [
    {
     "name": "stdin",
     "output_type": "stream",
     "text": [
      "Enter the first number:  3\n",
      "Enter the second number:  2\n"
     ]
    },
    {
     "name": "stdout",
     "output_type": "stream",
     "text": [
      "the product of 3.0 and 2.0 is 6.0\n"
     ]
    }
   ],
   "source": [
    "## 6. Create a Python function that takes two arguments and returns their product\n",
    "\n",
    "def product(a,b):\n",
    "    return a*b\n",
    "\n",
    "num1 = float(input(\"Enter the first number: \"))\n",
    "num2 = float(input(\"Enter the second number: \"))\n",
    "\n",
    "result=product(num1,num2)\n",
    "print(f\"the product of {num1} and {num2} is {result}\")"
   ]
  },
  {
   "cell_type": "markdown",
   "id": "ca07e44a-ba73-477c-ba9a-8fcdf8d28b85",
   "metadata": {},
   "source": [
    "## Function Parameters and Arguments:\\\n",
    "\n",
    "\n",
    "## 1. Explain the concepts of formal parameters and actual arguments in Python functions\n",
    "\n",
    "Formal Parameters (Parameters):\n",
    "\n",
    "Formal parameters (often simply called parameters) are placeholders defined in the function signature.\n",
    "They represent the input values that a function expects when it is called.\n",
    "Formal parameters are specified within the parentheses following the function name.\n",
    "\n",
    "Example:\n",
    "\n",
    "def greet(name, age):\n",
    "    print(f\"Hello, {name}! You are {age} years old.\")\n",
    "    \n",
    "Actual Arguments (Arguments):\n",
    "\n",
    "Actual arguments (commonly referred to as arguments) are the real values passed to a function during its invocation.\n",
    "When you call a function, you provide actual arguments that match the formal parameters.\n",
    "Arguments can be constants, variables, expressions, or even other function calls.\n",
    "\n",
    "Example:\n",
    "\n",
    "greet(\"Alice\", 30)"
   ]
  },
  {
   "cell_type": "code",
   "execution_count": 62,
   "id": "ffdb86a0-00a4-4c90-b4df-63b4653066b1",
   "metadata": {},
   "outputs": [
    {
     "name": "stdout",
     "output_type": "stream",
     "text": [
      "Dahale, bajrang!\n",
      "Dahale, alian!\n"
     ]
    }
   ],
   "source": [
    "## 2. Write a Python program that defines a function with default argument values\n",
    "\n",
    "def greet(name=\"bajrang\", message=\"Dahale\"):\n",
    "   \n",
    "    print(f\"{message}, {name}!\")\n",
    "\n",
    "\n",
    "greet()  \n",
    "greet(\"alian\") \n"
   ]
  },
  {
   "cell_type": "code",
   "execution_count": 64,
   "id": "afd0b8f4-d6b4-422e-8c58-d3e4af35adb6",
   "metadata": {},
   "outputs": [
    {
     "name": "stdout",
     "output_type": "stream",
     "text": [
      "Area 1: 15\n",
      "Area 2: 15\n"
     ]
    }
   ],
   "source": [
    "## 3. How do you use keyword arguments in Python function calls? Provide an example.\n",
    "\n",
    "# Keyword Arguments:\n",
    "\n",
    "#When calling a function, use the parameter names followed by the = sign and the corresponding values.\n",
    "#Syntax: function_name(parameter_name=value)\n",
    "\n",
    "#Example \n",
    "def calculate_rectangle_area(length, width):\n",
    "    return length * width\n",
    "\n",
    "# Using keyword arguments:\n",
    "area1 = calculate_rectangle_area(length=5, width=3)\n",
    "area2 = calculate_rectangle_area(width=3, length=5)\n",
    "\n",
    "print(f\"Area 1: {area1}\")\n",
    "print(f\"Area 2: {area2}\")\n",
    "\n"
   ]
  },
  {
   "cell_type": "code",
   "execution_count": 66,
   "id": "c4f840a9-a901-429a-b52f-bd790c0f8ec7",
   "metadata": {},
   "outputs": [
    {
     "name": "stdout",
     "output_type": "stream",
     "text": [
      "sum 1:10\n",
      "sum 2:40\n"
     ]
    }
   ],
   "source": [
    "# 4. Create a Python function that accepts a variable number of arguments and calculates their sum.\n",
    "\n",
    "def calculate_sum(*args):\n",
    "    return sum(args)\n",
    "\n",
    "r1=calculate_sum(1,2,3,4)\n",
    "r2=calculate_sum(4,5,3,7,8,7,6,)\n",
    "\n",
    "print(f\"sum 1:{r1}\")\n",
    "print(f\"sum 2:{r2}\")"
   ]
  },
  {
   "cell_type": "markdown",
   "id": "9551e3cf-b058-4bfc-a59d-8fbb1a689372",
   "metadata": {},
   "source": [
    "## 5. What is the purpose of the `*args` and `**kwargs` syntax in function parameter list\n",
    "\n",
    "*args (Arbitrary Positional Arguments):\n",
    "\n",
    "The *args syntax allows a function to accept an arbitrary number of positional arguments.\n",
    "It collects these arguments into a tuple within the function.\n",
    "Use *args when you’re unsure how many arguments will be passed to the function.\n",
    "Example:\n",
    "Python\n",
    "def print_args(*args):\n",
    "    for arg in args:\n",
    "        print(arg)\n",
    "\n",
    "print_args(1, 2, 3)  # Output: 1 2 3\n",
    "\n",
    "**kwargs (Arbitrary Keyword Arguments):\n",
    "\n",
    "The **kwargs syntax allows a function to accept an arbitrary number of keyword arguments (key-value pairs).\n",
    "It collects these arguments into a dictionary within the function.\n",
    "Use **kwargs when you want to pass named arguments with varying keys.\n",
    "Example:\n",
    "Python\n",
    "\n",
    "def print_kwargs(**kwargs):\n",
    "    for key, value in kwargs.items():\n",
    "        print(f\"{key}: {value}\")\n",
    "print_kwargs(name=\"Alice\", age=30)  # Output: name: Alice  age: 30\n",
    "\n",
    "Use Cases:\n",
    "\n",
    "*args and **kwargs are useful when:\n",
    "You want to create flexible functions that can handle different numbers of arguments.\n",
    "You’re building decorators or wrappers around existing functions.\n",
    "You’re working with libraries that use these conventions (e.g., *args and **kwargs in super() calls).\n",
    "\n",
    "\n",
    "Remember:\n",
    "\n",
    "*args collects positional arguments into a tuple.\n",
    "**kwargs collects keyword arguments into a dictionary."
   ]
  },
  {
   "cell_type": "code",
   "execution_count": 70,
   "id": "ad3db979-6c5e-4690-9c5e-da86bc70268e",
   "metadata": {},
   "outputs": [
    {
     "name": "stdout",
     "output_type": "stream",
     "text": [
      "Sum: 8\n",
      "Hello, Ali\n"
     ]
    }
   ],
   "source": [
    "##___________ Return Values and Scoping:\n",
    "\n",
    "\n",
    "\n",
    "##1. Describe the role of the `return` statement in Python functions and provide examples\n",
    "\n",
    "#The return statement is used to exit a function and return a value to the caller.\n",
    "\n",
    "#It allows you to pass back a specific result or data from a function, enabling further computation or processing.\n",
    "\n",
    "#When a function encounters a return statement, it immediately exits, and control returns to the calling code.\n",
    "\n",
    "def add(a, b):\n",
    "    return a + b\n",
    "\n",
    "def greet(name):\n",
    "    return f\"Hello, {name}\"\n",
    "\n",
    "\n",
    "result1 = add(3, 5)\n",
    "message = greet(\"Ali\")\n",
    "\n",
    "\n",
    "print(f\"Sum: {result1}\")\n",
    "print(message)\n",
    "\n"
   ]
  },
  {
   "cell_type": "markdown",
   "id": "5385ee44-7a84-4840-acf5-1d029e23434d",
   "metadata": {},
   "source": [
    "##2. Explain the concept of variable scope in Python, including local and global variables\n",
    "\n",
    "Variable Scope:\n",
    "\n",
    "Variable scope refers to the visibility and accessibility of a variable within different parts of your code.\n",
    "It determines where a variable is defined, accessible, and usable.\n",
    "Python has two primary types of variable scope: local and global.\n",
    "\n",
    "Local Variables:\n",
    "\n",
    "Local variables are defined inside a function or a code block (such as a loop or conditional statement).\n",
    "They are temporary and exist only within the specific function or block where they are declared.\n",
    "Local variables are not accessible outside their defining scope.\n",
    "\n",
    "Global Variables:\n",
    "\n",
    "Global variables are defined outside any function or code block.\n",
    "They have global scope and can be accessed from any part of the program.\n",
    "Global variables are persistent and remain in memory throughout the program’s execution\n",
    "\n",
    "\n",
    "\n",
    "\n",
    "\n"
   ]
  },
  {
   "cell_type": "code",
   "execution_count": 1,
   "id": "957709ad-f3c2-4bdc-b8ea-629d28a23cd4",
   "metadata": {},
   "outputs": [
    {
     "name": "stdout",
     "output_type": "stream",
     "text": [
      "Global variable value: 42\n"
     ]
    }
   ],
   "source": [
    " # Global variable\n",
    "\n",
    "global_var = 42 \n",
    "\n",
    "def print_global():\n",
    "    print(f\"Global variable value: {global_var}\")\n",
    "\n",
    "print_global()"
   ]
  },
  {
   "cell_type": "code",
   "execution_count": 2,
   "id": "57b6dd5d-441d-4fd2-8c5c-9416b124bb77",
   "metadata": {},
   "outputs": [
    {
     "name": "stdout",
     "output_type": "stream",
     "text": [
      "Hello, World!\n"
     ]
    }
   ],
   "source": [
    "# Local variable\n",
    "def greet():\n",
    "    message = \"Hello, World!\"  \n",
    "    print(message)\n",
    "\n",
    "greet()\n",
    "\n"
   ]
  },
  {
   "cell_type": "code",
   "execution_count": 4,
   "id": "7069ffc7-9c69-48c9-8607-2943ea66fb2e",
   "metadata": {},
   "outputs": [
    {
     "ename": "SyntaxError",
     "evalue": "name 'global_var' is used prior to global declaration (426387136.py, line 10)",
     "output_type": "error",
     "traceback": [
      "\u001b[0;36m  Cell \u001b[0;32mIn[4], line 10\u001b[0;36m\u001b[0m\n\u001b[0;31m    global global_var\u001b[0m\n\u001b[0m    ^\u001b[0m\n\u001b[0;31mSyntaxError\u001b[0m\u001b[0;31m:\u001b[0m name 'global_var' is used prior to global declaration\n"
     ]
    }
   ],
   "source": [
    "## 3. Write a Python program that demonstrates the use of global variables within functions.\n",
    "\n",
    "\n",
    "global_var = 10\n",
    "\n",
    "def my_function():\n",
    "  \n",
    "    print(f\"The global variable value is: {global_var}\")\n",
    "\n",
    "    global global_var\n",
    "    global_var += 5\n",
    "\n",
    "\n",
    "my_function()\n",
    "\n",
    "\n",
    "print(f\"The updated global variable value is: {global_var}\")\n"
   ]
  },
  {
   "cell_type": "code",
   "execution_count": 7,
   "id": "a004fb40-93d6-41d8-a0e3-e9adb74d52ba",
   "metadata": {},
   "outputs": [
    {
     "name": "stdout",
     "output_type": "stream",
     "text": [
      "The factorial of 7 is 5040\n"
     ]
    }
   ],
   "source": [
    "## 4. Create a Python function that calculates the factorial of a number and returns it\n",
    "\n",
    "def factorial_recursive(x):\n",
    "    if x == 1:\n",
    "        return 1\n",
    "    else:        \n",
    "        return x * factorial_recursive(x - 1)\n",
    "\n",
    "\n",
    "number = 7\n",
    "result = factorial_recursive(number)\n",
    "print(f\"The factorial of {number} is {result}\")\n"
   ]
  },
  {
   "cell_type": "code",
   "execution_count": 8,
   "id": "3f1dc5a8-8fcf-4bd6-80f8-ad990fa85f7d",
   "metadata": {},
   "outputs": [
    {
     "name": "stdout",
     "output_type": "stream",
     "text": [
      "Global variable value: 42\n"
     ]
    }
   ],
   "source": [
    "## 5. How can you access variables defined outside a function from within the function?\n",
    "\n",
    "global_var = 42\n",
    "\n",
    "def my_function():\n",
    "    global global_var\n",
    "    print(f\"Global variable value: {global_var}\")\n",
    "\n",
    "my_function()\n"
   ]
  },
  {
   "cell_type": "markdown",
   "id": "6ec936f9-8ac4-4890-b5c9-df63c99d7143",
   "metadata": {},
   "source": [
    "###___________ Lambda Functions and Higher-Order Functions:\n",
    "\n",
    "\n",
    "\n",
    "## 1. What are lambda functions in Python, and when are they typically used?\n",
    "\n",
    "Lambda functions, also known as anonymous functions, are small, one-line functions defined without a name.\n",
    "They are created using the lambda keyword, followed by a list of arguments and an expression.\n",
    "The primary purpose of lambda functions is to provide a concise way to define simple functions on the fly.\n",
    "\n",
    "Syntax:\n",
    "\n",
    "A lambda function has the following syntax: lambda arguments: expression.\n",
    "Example: lambda x: x * 2 creates a lambda function that doubles its input.\n",
    "Characteristics:\n",
    "\n",
    "Lambda functions are limited in functionality compared to regular functions.\n",
    "They can only contain a single expression.\n",
    "They do not have a return statement; the result of the expression is implicitly returned.\n",
    "\n",
    "Common Use Cases:\n",
    "\n",
    "Sorting Lists with Custom Keys:\n",
    "\n",
    "Lambda functions are often used as custom key functions when sorting lists.\n",
    "For example, you can sort a list of tuples based on the second element using sorted(my_list, key=lambda x: x[1]).\n",
    "Filtering Lists with filter():\n",
    "\n",
    "Lambda functions work well with the filter() function.\n",
    "You can filter elements from a list based on a condition using filter(my_list, lambda x: x > 10).\n",
    "\n",
    "Mapping with map():\n",
    "\n",
    "Lambda functions are useful for applying a transformation to each element in a list.\n",
    "For instance, you can square all elements in a list using map(lambda x: x**2, my_list).\n",
    "Higher-Order Functions:\n",
    "\n",
    "Lambda functions play a crucial role in higher-order functions.\n",
    "Higher-order functions accept other functions as arguments or return functions.\n",
    "Examples include map(), filter(), and reduce().\n",
    "When to Use Lambda Functions:\n",
    "\n",
    "Use lambda functions when:\n",
    "You need a simple function for a short-lived purpose.\n",
    "You want to pass a function as an argument to another function.\n",
    "You’re working with higher-order functions"
   ]
  },
  {
   "cell_type": "code",
   "execution_count": 10,
   "id": "7faf4d39-144b-4434-a364-a1744ce61938",
   "metadata": {},
   "outputs": [
    {
     "name": "stdout",
     "output_type": "stream",
     "text": [
      "('abc', 121)\n",
      "('abc', 148)\n",
      "('abc', 221)\n",
      "('abc', 231)\n"
     ]
    }
   ],
   "source": [
    "## 2. Write a Python program that uses lambda functions to sort a list of tuples based on the second element.\n",
    "\n",
    "\n",
    "my_list = [('abc', 121), ('abc', 231), ('abc', 148), ('abc', 221)]\n",
    "\n",
    "\n",
    "sorted_list = sorted(my_list, key=lambda x: x[1])\n",
    "\n",
    "\n",
    "for item in sorted_list:\n",
    "    print(item)\n"
   ]
  },
  {
   "cell_type": "markdown",
   "id": "00ae6b5c-e85b-422d-91b1-96fc8dfb4687",
   "metadata": {},
   "source": [
    "## 3. Explain the concept of higher-order functions in Python, and provide an example.\n",
    "\n",
    "Certainly! Let's explore the concept of **higher-order functions** in Python.\n",
    "\n",
    "### Higher-Order Functions (HOFs)\n",
    "- A **higher-order function** is a function that meets one or more of the following criteria:\n",
    "    1. **Accepts other functions as parameters**.\n",
    "    2. **Returns a function as its result**.\n",
    "    3. **Creates new functions within its body**.\n",
    "\n",
    "### Properties of Higher-Order Functions:\n",
    "1. A function is an **instance of the Object type**.\n",
    "2. You can **store a function in a variable**.\n",
    "3. You can **pass a function as a parameter to another function**.\n",
    "4. You can **return a function from a function**.\n",
    "5. You can store functions in data structures such as hash tables, lists, and more.\n",
    "\n",
    "### Examples of Higher-Order Functions:\n",
    "1. **Functions as Objects**:\n",
    "   - In Python, a function can be assigned to a variable. This assignment creates a reference to the function.\n",
    "   - Example:\n",
    "     ```python\n",
    "     def shout(text):\n",
    "         return text.upper()\n",
    "\n",
    "     print(shout('Hello'))  # Output: HELLO\n",
    "\n",
    "     yell = shout\n",
    "     print(yell('Hello'))  # Output: HELLO\n",
    "     ```\n",
    "\n",
    "2. **Passing Functions as Arguments**:\n",
    "   - Since functions are like objects, they can be passed as arguments to other functions.\n",
    "   - Example:\n",
    "     ```python\n",
    "     def whisper(text):\n",
    "         return text.lower()\n",
    "\n",
    "     def greet(func):\n",
    "         greeting = func(\"Hi, I am created by a function passed as an argument.\")\n",
    "         print(greeting)\n",
    "\n",
    "     greet(shout)    # Output: HI, I AM CREATED BY A FUNCTION PASSED AS AN ARGUMENT.\n",
    "     greet(whisper)  # Output: hi, i am created by a function passed as an argument.\n",
    "     ```\n",
    "\n",
    "3. **Returning Functions**:\n",
    "   - Functions can also be returned from other functions.\n",
    "   - Example:\n",
    "     ```python\n",
    "     def create_adder(x):\n",
    "         def adder(y):\n",
    "             return x + y\n",
    "         return adder\n",
    "\n",
    "     add_15 = create_adder(15)\n",
    "     print(add_15(10))  # Output: 25\n",
    "     ```\n",
    "\n",
    "4. **Decorators**:\n",
    "   - Decorators are a common use of higher-order functions in Python.\n",
    "   - They modify the behavior of functions or classes without permanently altering them.\n",
    "   - Decorators take functions as arguments and enhance their behavior.\n",
    "   - Example:\n",
    "     ```python\n",
    "     def hello_decorator(func):\n",
    "         def inner1():\n",
    "             print(\"Hello, this is before function execution\")\n",
    "             func()\n",
    "             print(\"This is after function execution\")\n",
    "         return inner1\n",
    "\n",
    "     @hello_decorator\n",
    "     def say_hello():\n",
    "         print(\"Hello, world!\")\n",
    "\n",
    "     say_hello()\n",
    "     # Output:\n",
    "     # Hello, this is before function execution\n",
    "     # Hello, world!\n",
    "     \n"
   ]
  },
  {
   "cell_type": "code",
   "execution_count": 11,
   "id": "17861689-ff81-4d8c-a428-201eb715603e",
   "metadata": {},
   "outputs": [
    {
     "name": "stdout",
     "output_type": "stream",
     "text": [
      "Original list: [1, 2, 3, 4, 5]\n",
      "Squared list: [1, 4, 9, 16, 25]\n"
     ]
    }
   ],
   "source": [
    "## 4. Create a Python function that takes a list of numbers and a function as arguments, applying the function to each element in the list.\n",
    "\n",
    "def apply_function_to_list(numbers, func):\n",
    "   \n",
    "    return [func(num) for num in numbers]\n",
    "\n",
    "\n",
    "def square(x):\n",
    "    return x ** 2\n",
    "\n",
    "my_numbers = [1, 2, 3, 4, 5]\n",
    "result = apply_function_to_list(my_numbers, square)\n",
    "\n",
    "print(\"Original list:\", my_numbers)\n",
    "print(\"Squared list:\", result)\n"
   ]
  },
  {
   "cell_type": "markdown",
   "id": "f8077882-3021-4ebf-a836-0e7d2f1e78be",
   "metadata": {},
   "source": [
    "##___________Built-in Functions:\n",
    "\n",
    "\n",
    "\n",
    "## 1. Describe the role of built-in functions like `len()`, `max()`, and `min()` in Python.\n",
    "\n",
    "Certainly! Let's explore the roles of some essential built-in functions in Python:\n",
    "\n",
    "1. **`len()`**:\n",
    "   - The `len()` function calculates the **length** of an object, such as a string, list, tuple, or dictionary.\n",
    "   - It returns the **number of elements** in the object.\n",
    "   - Example:\n",
    "     ```python\n",
    "     my_string = \"Hello, world!\"\n",
    "     string_length = len(my_string)\n",
    "     print(f\"Length of the string: {string_length}\")\n",
    "     # Output: Length of the string: 13\n",
    "     ```\n",
    "\n",
    "2. **`max()`**:\n",
    "   - The `max()` function finds the **maximum value** from a sequence (list, tuple, or other iterable).\n",
    "   - It can also accept multiple arguments and return the maximum among them.\n",
    "   - Example:\n",
    "     ```python\n",
    "     numbers = [10, 5, 20, 15]\n",
    "     max_value = max(numbers)\n",
    "     print(f\"Maximum value: {max_value}\")\n",
    "     # Output: Maximum value: 20\n",
    "     ```\n",
    "\n",
    "3. **`min()`**:\n",
    "   - The `min()` function determines the **minimum value** from a sequence.\n",
    "   - Like `max()`, it can handle multiple arguments and return the minimum among them.\n",
    "   - Example:\n",
    "     ```python\n",
    "     temperatures = [25, 18, 30, 22]\n",
    "     min_temp = min(temperatures)\n",
    "     print(f\"Minimum temperature: {min_temp}\")\n",
    "\n",
    "\n"
   ]
  },
  {
   "cell_type": "code",
   "execution_count": 12,
   "id": "6109242a-d4d2-40bf-9008-e51d1ef51c98",
   "metadata": {},
   "outputs": [
    {
     "name": "stdout",
     "output_type": "stream",
     "text": [
      "Original list: [1, 2, 3, 4, 5]\n",
      "Squared list: [1, 4, 9, 16, 25]\n"
     ]
    }
   ],
   "source": [
    "## 2. Write a Python program that uses the `map()` function to apply a function to each element of a list\n",
    "\n",
    "def square_num(n):\n",
    "    return n * n\n",
    "\n",
    "\n",
    "my_numbers = [1, 2, 3, 4, 5]\n",
    "\n",
    "squared_list = list(map(square_num, my_numbers))\n",
    "\n",
    "print(\"Original list:\", my_numbers)\n",
    "print(\"Squared list:\", squared_list)\n"
   ]
  },
  {
   "cell_type": "markdown",
   "id": "1cb4c527-5a00-4189-9d93-0a197c1389c8",
   "metadata": {},
   "source": [
    "## 3. How does the `filter()` function work in Python, and when would you use it?\n",
    "\n",
    "Certainly! Let's explore the **`filter()`** function in Python and understand its purpose and usage.\n",
    "\n",
    "### The `filter()` Function:\n",
    "- The `filter()` function is a **built-in function** that allows you to **filter elements** from an iterable (such as a list, tuple, or other sequence) based on a given condition.\n",
    "- It processes each element in the iterable and retains only those elements that satisfy the specified condition.\n",
    "- The result of `filter()` is an **iterator** containing the filtered elements.\n",
    "\n",
    "### Syntax:\n",
    "```python\n",
    "filter(function, iterable)\n",
    "```\n",
    "\n",
    "- `function`: A **function** that tests each element of the iterable. It returns `True` or `False`.\n",
    "- `iterable`: The sequence (list, tuple, etc.) to be filtered.\n",
    "\n",
    "### Common Use Cases:\n",
    "1. **Filtering with a Custom Function**:\n",
    "   - You can use your own custom function to determine whether an element should be included in the filtered result.\n",
    "   - Example:\n",
    "     ```python\n",
    "     def is_even(num):\n",
    "         return num % 2 == 0\n",
    "\n",
    "     numbers = [1, 2, 3, 4, 5, 6]\n",
    "     even_numbers = list(filter(is_even, numbers))\n",
    "     print(even_numbers)  # Output: [2, 4, 6]\n",
    "     ```\n",
    "\n",
    "2. **Filtering with Lambda Functions**:\n",
    "   - Lambda functions work well with `filter()`.\n",
    "   - Example:\n",
    "     ```python\n",
    "     numbers = [10, 15, 20, 25, 30]\n",
    "     filtered_numbers = list(filter(lambda x: x > 20, numbers))\n",
    "     print(filtered_numbers)  # Output: [25, 30]\n",
    "     ```\n",
    "\n",
    "3. **Removing Empty Strings from a List**:\n",
    "   - Use `filter()` to remove empty strings from a list.\n",
    "   - Example:\n",
    "     ```python\n",
    "     words = [\"apple\", \"\", \"banana\", \"\", \"cherry\"]\n",
    "     non_empty_words = list(filter(None, words))\n",
    "     print(non_empty_words)  # Output: ['apple', 'banana', 'cherry']\n",
    "     ```\n",
    "\n",
    "### When to Use `filter()`:\n",
    "- Use `filter()` when you need to **select specific elements** from an iterable based on a condition.\n",
    "- It's especially useful when you want to **avoid writing explicit loops** for filtering.\n",
    "\n"
   ]
  },
  {
   "cell_type": "code",
   "execution_count": 13,
   "id": "995b126f-f269-486e-b733-b823cecb6701",
   "metadata": {},
   "outputs": [
    {
     "name": "stdout",
     "output_type": "stream",
     "text": [
      "The product of the list elements is: 120\n"
     ]
    }
   ],
   "source": [
    "## 4. Create a Python program that uses the `reduce()` function to find the product of all elements in a list.\n",
    "\n",
    "import functools\n",
    "\n",
    "def main():\n",
    "    \n",
    "    my_numbers = [1, 2, 3, 4, 5]\n",
    "\n",
    "    product = functools.reduce(lambda x, y: x * y, my_numbers)\n",
    "\n",
    "    print(f\"The product of the list elements is: {product}\")\n",
    "\n",
    "if __name__ == \"__main__\":\n",
    "    main()\n"
   ]
  },
  {
   "cell_type": "markdown",
   "id": "c72ab835-ca13-4e1a-9721-3aa031abe83c",
   "metadata": {},
   "source": [
    "## Function Documentation and Best Practices:\n",
    "\n",
    "\n",
    "\n",
    "## 1. Explain the purpose of docstrings in Python functions and how to write them\n",
    "\n",
    "Certainly! Let's delve into the world of **docstrings** in Python and understand their significance, purpose, and how to write them.\n",
    "\n",
    "### What Are Docstrings?\n",
    "- **Docstrings** (short for \"documentation strings\") are **string literals** that appear **immediately after the definition** of a function, method, class, or module.\n",
    "- They serve as **documentation** for your code, providing essential information about the purpose, behavior, and usage of the code entity they are associated with.\n",
    "\n",
    "### Why Use Docstrings?\n",
    "1. **Self-Documentation**:\n",
    "   - Docstrings help **document your code** so that other developers (including your future self) can understand it without diving into the implementation details.\n",
    "   - They act as **self-contained documentation** right within the code.\n",
    "\n",
    "2. **Access via `help()`**:\n",
    "   - You can access docstrings using the built-in `help()` function or by querying the `__doc__` attribute of an object.\n",
    "   - For example:\n",
    "     ```python\n",
    "     def my_function():\n",
    "         '''This function does something.'''\n",
    "         # Implementation details here\n",
    "\n",
    "     print(my_function.__doc__)  # Output: This function does something.\n",
    "     ```\n",
    "\n",
    "3. **Readability and Maintainability**:\n",
    "   - Well-written docstrings enhance code **readability** and make maintenance easier.\n",
    "   - They provide context, expected inputs, and return values.\n",
    "\n",
    "### How to Write Docstrings:\n",
    "1. **Triple-Quoted Strings**:\n",
    "   - Use triple quotes (`'''` or `\"\"\"`) to create docstrings.\n",
    "   - Triple quotes allow for **multi-line docstrings**.\n",
    "\n",
    "2. **Placement**:\n",
    "   - Place the docstring immediately after the function, method, class, or module definition.\n",
    "   - It should be the **first statement** within the entity.\n",
    "\n",
    "3. **Content**:\n",
    "   - Describe the purpose of the code entity.\n",
    "   - Document the **arguments**, **return values**, and any **exceptions** raised.\n",
    "   - Include any relevant details (e.g., author, date, assumptions).\n",
    "\n",
    "4. **Style Conventions**:\n",
    "   - Follow a consistent style for docstrings (e.g., Google-style, NumPy-style, reStructuredText).\n",
    "   - Choose a style that aligns with your project or organization.\n",
    "\n",
    "### Examples:\n",
    "1. **Single-Line Docstring**:\n",
    "   ```python\n",
    "   def square(n):\n",
    "       '''Takes in a number n, returns the square of n'''\n",
    "       return n**2\n",
    "   ```\n",
    "\n",
    "2. **Multi-Line Docstring**:\n",
    "   ```python\n",
    "   def calculate_tax(income):\n",
    "       '''\n",
    "       Calculates income tax based on the given income.\n",
    "\n",
    "       Args:\n",
    "           income (float): The total annual income.\n",
    "\n",
    "       Returns:\n",
    "           float: The calculated income tax.\n",
    "\n",
    "\n",
    "\n"
   ]
  },
  {
   "cell_type": "code",
   "execution_count": null,
   "id": "0ef08bd1-9d3c-470d-98c2-954c21b0b605",
   "metadata": {},
   "outputs": [],
   "source": [
    "## 2.Describe some best practices for naming function and variables in python ,including naming convertion and guidelines.\n",
    "\n",
    "Certainly! Naming conventions and guidelines play a crucial role in writing clean, readable, and maintainable Python code. Let's explore some best practices for naming functions and variables:\n",
    "\n",
    "1. **Function and Variable Names**:\n",
    "    - **Descriptive and Meaningful**:\n",
    "        - Choose names that clearly convey the purpose of the function or variable.\n",
    "        - Avoid single-letter or cryptic names (unless they represent well-known conventions like `i`, `j`, etc.).\n",
    "    - **Use Snake Case**:\n",
    "        - For both functions and variables, use **snake_case** (all lowercase with underscores between words).\n",
    "        - Example: `calculate_tax`, `total_amount`, `user_input`.\n",
    "    - **Avoid Ambiguity**:\n",
    "        - Be precise and avoid ambiguous terms.\n",
    "        - Instead of `data`, use `user_data` or `sensor_data`.\n",
    "    - **Avoid Reserved Words**:\n",
    "        - Do not use Python's reserved keywords (e.g., `if`, `else`, `while`, `for`) as identifiers.\n",
    "        - If you must, add a suffix or prefix to differentiate (e.g., `if_condition`, `my_list`).\n",
    "\n",
    "2. **Constants**:\n",
    "    - **Uppercase with Underscores**:\n",
    "        - Constants (values that remain unchanged) should be in **uppercase** with underscores.\n",
    "        - Example: `PI`, `MAX_VALUE`, `DEFAULT_TIMEOUT`.\n",
    "\n",
    "3. **Class Names**:\n",
    "    - **Camel Case**:\n",
    "        - Class names should use **CamelCase** (capitalize each word except the first, without spaces).\n",
    "        - Example: `MyClass`, `EmployeeDetails`.\n",
    "\n",
    "4. **Module and Package Names**:\n",
    "    - **Lowercase with Underscores**:\n",
    "        - Module and package names should be in **lowercase** with underscores.\n",
    "        - Example: `my_module.py`, `my_package`.\n",
    "\n",
    "5. **Private Variables and Functions**:\n",
    "    - **Prefix with Underscore**:\n",
    "        - To indicate that a variable or function is intended for internal use within a module or class, prefix it with an underscore.\n",
    "        - Example: `_private_var`, `_internal_function`.\n",
    "\n",
    "6. **Avoid Single-Character Names**:\n",
    "    - Except for common loop variables (`i`, `j`, etc.), avoid using single-character names.\n",
    "    - Use descriptive names even for short-lived variables.\n",
    "\n",
    "7. **Consistency**:\n",
    "    - **Follow a Consistent Style**:\n",
    "        - Choose a naming convention (e.g., PEP 8, Google style) and stick to it consistently across your codebase.\n",
    "    - **Be Consistent Within a Project**:\n",
    "        - If you're working on a team, agree on naming conventions to maintain consistency.\n",
    "\n",
    "8. **Documentation (Docstrings)**:\n",
    "    - **Include Docstrings**:\n",
    "        - Write informative docstrings for functions, classes, and modules.\n",
    "        - Describe the purpose, parameters, return values, and any exceptions.\n",
    "    - **Use Triple-Quoted Strings**:\n",
    "        - Triple quotes (`'''` or `\"\"\"`) allow multi-line docstrings.\n",
    "\n",
    ",(programming_language)."
   ]
  }
 ],
 "metadata": {
  "kernelspec": {
   "display_name": "Python 3 (ipykernel)",
   "language": "python",
   "name": "python3"
  },
  "language_info": {
   "codemirror_mode": {
    "name": "ipython",
    "version": 3
   },
   "file_extension": ".py",
   "mimetype": "text/x-python",
   "name": "python",
   "nbconvert_exporter": "python",
   "pygments_lexer": "ipython3",
   "version": "3.10.8"
  }
 },
 "nbformat": 4,
 "nbformat_minor": 5
}
