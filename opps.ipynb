{
 "cells": [
  {
   "cell_type": "code",
   "execution_count": 1,
   "id": "cd1cb83d-da2e-4733-90de-a326b460a02f",
   "metadata": {},
   "outputs": [],
   "source": [
    "##Problem 1: Bank Account Create a class representing a bank account with attributes like account number, account holder name, and balance. Implement methods to deposit and withdraw money from the account.\n",
    "\n",
    "\n",
    "class BankAccount:\n",
    "    def __init__(self, account_number: str, account_holder_name: str, balance: float):\n",
    "        self.account_number = account_number\n",
    "        self.account_holder_name = account_holder_name\n",
    "        self.balance = balance\n",
    "\n",
    "    def deposit(self, amount: float) -> None:\n",
    "        self.balance += amount\n",
    "        print(f\"Amount {amount} deposited successfully. New balance is {self.balance}.\")\n",
    "\n",
    "    def withdraw(self, amount: float) -> None:\n",
    "        if amount > self.balance:\n",
    "            print(f\"Insufficient balance. Cannot withdraw {amount}.\")\n",
    "        else:\n",
    "            self.balance -= amount\n",
    "            print(f\"Amount {amount} withdrawn successfully. New balance is {self.balance}.\")\n"
   ]
  },
  {
   "cell_type": "code",
   "execution_count": 3,
   "id": "09ade844-11f5-42fd-b25f-60167c47bb29",
   "metadata": {},
   "outputs": [
    {
     "name": "stdout",
     "output_type": "stream",
     "text": [
      "Amount 500.0 deposited successfully. New balance is 1500.0.\n"
     ]
    }
   ],
   "source": [
    "# Create a new bank account\n",
    "account = BankAccount(\"1234567890\", \"John Doe\", 1000.0)\n",
    "\n",
    "# Deposit some money\n",
    "account.deposit(500.0)"
   ]
  },
  {
   "cell_type": "code",
   "execution_count": 4,
   "id": "4cf646ce-3530-4041-a970-0413d96ca761",
   "metadata": {},
   "outputs": [
    {
     "name": "stdout",
     "output_type": "stream",
     "text": [
      "Amount 200.0 withdrawn successfully. New balance is 1300.0.\n"
     ]
    }
   ],
   "source": [
    "# Withdraw some money\n",
    "account.withdraw(200.0)"
   ]
  },
  {
   "cell_type": "code",
   "execution_count": 2,
   "id": "789bb2da-a823-4d7f-97ba-232bebb51490",
   "metadata": {},
   "outputs": [],
   "source": [
    "##Problem 2: Employee Management Create a class representing an employee with attributes like employee ID, name, and salary. Implement methods to calculate the yearly bonus and display employee details.\n",
    "\n",
    "\n",
    "class Employee:\n",
    "    def __init__(self, employee_id: str, name: str, salary: float):\n",
    "        self.employee_id = employee_id\n",
    "        self.name = name\n",
    "        self.salary = salary\n",
    "\n",
    "    def calculate_yearly_bonus(self) -> float:\n",
    "        return self.salary * 0.1\n",
    "\n",
    "    def display_employee_details(self) -> None:\n",
    "        print(f\"Employee ID: {self.employee_id}\")\n",
    "        print(f\"Name: {self.name}\")\n",
    "        print(f\"Salary: {self.salary}\")\n",
    "        print(f\"Yearly Bonus: {self.calculate_yearly_bonus()}\")\n"
   ]
  },
  {
   "cell_type": "code",
   "execution_count": 3,
   "id": "4f057f86-6b17-44dd-ad26-96a25287c944",
   "metadata": {},
   "outputs": [
    {
     "name": "stdout",
     "output_type": "stream",
     "text": [
      "Employee ID: 123456\n",
      "Name: John Doe\n",
      "Salary: 50000.0\n",
      "Yearly Bonus: 5000.0\n"
     ]
    }
   ],
   "source": [
    "# Create a new employee\n",
    "employee = Employee(\"123456\", \"John Doe\", 50000.0)\n",
    "\n",
    "# Display employee details\n",
    "employee.display_employee_details()\n"
   ]
  },
  {
   "cell_type": "code",
   "execution_count": 4,
   "id": "ad21fc0b-6d84-4e7d-8ea2-101ab1173a78",
   "metadata": {},
   "outputs": [],
   "source": [
    "## Problem 3: Vehicle Rental Create a class representing a vehicle rental system. Implement methods to rent a vehicle, return a vehicle, and display available vehicles.\n",
    "\n",
    "class Vehicle:\n",
    "    def __init__(self, vehicle_id: str, vehicle_type: str, is_available: bool):\n",
    "        self.vehicle_id = vehicle_id\n",
    "        self.vehicle_type = vehicle_type\n",
    "        self.is_available = is_available\n",
    "\n",
    "class VehicleRentalSystem:\n",
    "    def __init__(self, vehicles: list[Vehicle]):\n",
    "        self.vehicles = vehicles\n",
    "\n",
    "    def rent_vehicle(self, vehicle_id: str) -> None:\n",
    "        for vehicle in self.vehicles:\n",
    "            if vehicle.vehicle_id == vehicle_id:\n",
    "                if vehicle.is_available:\n",
    "                    vehicle.is_available = False\n",
    "                    print(f\"Vehicle {vehicle_id} rented successfully.\")\n",
    "                else:\n",
    "                    print(f\"Vehicle {vehicle_id} is not available for rent.\")\n",
    "                return\n",
    "        print(f\"Vehicle {vehicle_id} not found.\")\n",
    "\n",
    "    def return_vehicle(self, vehicle_id: str) -> None:\n",
    "        for vehicle in self.vehicles:\n",
    "            if vehicle.vehicle_id == vehicle_id:\n",
    "                if not vehicle.is_available:\n",
    "                    vehicle.is_available = True\n",
    "                    print(f\"Vehicle {vehicle_id} returned successfully.\")\n",
    "                else:\n",
    "                    print(f\"Vehicle {vehicle_id} is already available.\")\n",
    "                return\n",
    "        print(f\"Vehicle {vehicle_id} not found.\")\n",
    "\n",
    "    def display_available_vehicles(self) -> None:\n",
    "        available_vehicles = [vehicle for vehicle in self.vehicles if vehicle.is_available]\n",
    "        if available_vehicles:\n",
    "            print(\"Available Vehicles:\")\n",
    "            for vehicle in available_vehicles:\n",
    "                print(f\"Vehicle ID: {vehicle.vehicle_id}, Type: {vehicle.vehicle_type}\")\n",
    "        else:\n",
    "            print(\"No vehicles available for rent.\")\n"
   ]
  },
  {
   "cell_type": "code",
   "execution_count": 5,
   "id": "11a36ddf-7f28-4326-8aad-32f6508191af",
   "metadata": {},
   "outputs": [
    {
     "name": "stdout",
     "output_type": "stream",
     "text": [
      "Vehicle 1 rented successfully.\n",
      "Vehicle 2 returned successfully.\n",
      "Available Vehicles:\n",
      "Vehicle ID: 2, Type: Bike\n",
      "Vehicle ID: 3, Type: Scooter\n"
     ]
    }
   ],
   "source": [
    "# Create some vehicles\n",
    "vehicles = [\n",
    "    Vehicle(\"1\", \"Car\", True),\n",
    "    Vehicle(\"2\", \"Bike\", False),\n",
    "    Vehicle(\"3\", \"Scooter\", True),\n",
    "]\n",
    "\n",
    "# Create a new vehicle rental system\n",
    "vehicle_rental_system = VehicleRentalSystem(vehicles)\n",
    "\n",
    "# Rent a vehicle\n",
    "vehicle_rental_system.rent_vehicle(\"1\")\n",
    "\n",
    "# Return a vehicle\n",
    "vehicle_rental_system.return_vehicle(\"2\")\n",
    "\n",
    "# Display available vehicles\n",
    "vehicle_rental_system.display_available_vehicles()\n"
   ]
  },
  {
   "cell_type": "code",
   "execution_count": 11,
   "id": "4547d0e4-607c-479f-a364-dd7026feb242",
   "metadata": {},
   "outputs": [],
   "source": [
    "## Problem 4: Library Catalog Create classes representing a library and a book. Implement methods to add books to the library, borrow books, and display available books.\n",
    "\n",
    "class Book:\n",
    "    def __init__(self, book_id: str, title: str, author: str):\n",
    "        self.book_id = book_id\n",
    "        self.title = title\n",
    "        self.author = author\n",
    "\n",
    "class Library:\n",
    "    def __init__(self):\n",
    "        self.books = []\n",
    "\n",
    "    def add_book(self, book: Book) :\n",
    "        self.books.append(book)\n",
    "\n",
    "    def borrow_book(self, book_id: str):\n",
    "        for book in self.books:\n",
    "            if book.book_id == book_id:\n",
    "                self.books.remove(book)\n",
    "                print(f\"Book {book.title} by {book.author} borrowed successfully.\")\n",
    "                return\n",
    "        print(f\"Book with ID {book_id} not found.\")\n",
    "\n",
    "    def display_available_books(self) :\n",
    "        if self.books:\n",
    "            print(\"Available Books:\")\n",
    "            for book in self.books:\n",
    "                print(f\"Book ID: {book.book_id}, Title: {book.title}, Author: {book.author}\")\n",
    "        else:\n",
    "            print(\"No books available.\")\n",
    "\n"
   ]
  },
  {
   "cell_type": "code",
   "execution_count": 12,
   "id": "3cc76c9c-b2f8-4cd7-9f6d-7db622d3b778",
   "metadata": {},
   "outputs": [
    {
     "name": "stdout",
     "output_type": "stream",
     "text": [
      "Book The Great Gatsby by F. Scott Fitzgerald borrowed successfully.\n",
      "Available Books:\n",
      "Book ID: 2, Title: To Kill a Mockingbird, Author: Harper Lee\n",
      "Book ID: 3, Title: 1984, Author: George Orwell\n"
     ]
    }
   ],
   "source": [
    "# Create a new library\n",
    "library = Library()\n",
    "\n",
    "# Add some books\n",
    "book1 = Book(\"1\", \"The Great Gatsby\", \"F. Scott Fitzgerald\")\n",
    "book2 = Book(\"2\", \"To Kill a Mockingbird\", \"Harper Lee\")\n",
    "book3 = Book(\"3\", \"1984\", \"George Orwell\")\n",
    "library.add_book(book1)\n",
    "library.add_book(book2)\n",
    "library.add_book(book3)\n",
    "\n",
    "# Borrow a book\n",
    "library.borrow_book(\"1\")\n",
    "\n",
    "# Display available books\n",
    "library.display_available_books()\n"
   ]
  },
  {
   "cell_type": "code",
   "execution_count": 13,
   "id": "2ae8fcab-236f-4517-961e-124c0e0dafe0",
   "metadata": {},
   "outputs": [],
   "source": [
    "## Problem 5: Product Inventory Create classes representing a product and an inventory system. Implement methods to add products to the inventory, update product quantity, and display available products in python\n",
    "\n",
    "\n",
    "class Product:\n",
    "    def __init__(self, name, price, quantity):\n",
    "        self.name = name\n",
    "        self.price = price\n",
    "        self.quantity = quantity\n",
    "\n",
    "class Inventory:\n",
    "    def __init__(self):\n",
    "        self.products = []\n",
    "\n",
    "    def add_product(self, product):\n",
    "        self.products.append(product)\n",
    "\n",
    "    def update_quantity(self, name, quantity):\n",
    "        for product in self.products:\n",
    "            if product.name == name:\n",
    "                product.quantity = quantity\n",
    "                break\n",
    "\n",
    "    def display_products(self):\n",
    "        print(\"Available products:\")\n",
    "        for product in self.products:\n",
    "            print(f\"{product.name} - {product.price} - {product.quantity}\")\n",
    "\n",
    "\n"
   ]
  },
  {
   "cell_type": "code",
   "execution_count": 14,
   "id": "1476c3ba-b0dc-4784-a9bc-94493cddd346",
   "metadata": {},
   "outputs": [
    {
     "name": "stdout",
     "output_type": "stream",
     "text": [
      "Available products:\n",
      "apple - 1.0 - 20\n",
      "banana - 2.0 - 5\n"
     ]
    }
   ],
   "source": [
    "\n",
    "inventory = Inventory()\n",
    "inventory.add_product(Product(\"apple\", 1.0, 10))\n",
    "inventory.add_product(Product(\"banana\", 2.0, 5))\n",
    "inventory.update_quantity(\"apple\", 20)\n",
    "inventory.display_products()\n",
    "\n"
   ]
  },
  {
   "cell_type": "code",
   "execution_count": 37,
   "id": "eca13bdc-0bf8-4393-915d-e770be795c15",
   "metadata": {},
   "outputs": [
    {
     "name": "stdout",
     "output_type": "stream",
     "text": [
      "Area of rectangle: 50\n",
      "Perimeter of rectangle: 30\n"
     ]
    }
   ],
   "source": [
    "## Problem 6: Shape Calculation Create a class representing a shape with attributes like length, width, and height. Implement methods to calculate the area and perimeter of the shape in python\n",
    "\n",
    "\n",
    "class Shape:\n",
    "    def __init__(self, length, width, height):\n",
    "        self.length = length\n",
    "        self.width = width\n",
    "        self.height = height\n",
    "\n",
    "    def calculate_area(self):\n",
    "        pass\n",
    "\n",
    "    def calculate_perimeter(self):\n",
    "        pass\n",
    "\n",
    "class Rectangle(Shape):\n",
    "    def calculate_area(self):\n",
    "        return self.length * self.width\n",
    "\n",
    "    def calculate_perimeter(self):\n",
    "        return 2 * (self.length + self.width)\n",
    "\n",
    "\n",
    "rectangle = Rectangle(5, 10, None)\n",
    "print(f\"Area of rectangle: {rectangle.calculate_area()}\")\n",
    "print(f\"Perimeter of rectangle: {rectangle.calculate_perimeter()}\")\n",
    "\n",
    "\n"
   ]
  },
  {
   "cell_type": "code",
   "execution_count": 34,
   "id": "f6d288b0-f93d-41bd-9ba3-ed489f0a0da6",
   "metadata": {},
   "outputs": [],
   "source": [
    "class shape1:\n",
    "    def __init__(self,side,side2,side3,base,height):\n",
    "        self.side=side\n",
    "        self.side2=side2\n",
    "        self.side3=side3\n",
    "        self.base=base\n",
    "        self.height=height\n",
    "    \n",
    "    def area_of_triangle():\n",
    "         pass\n",
    "\n",
    "    def perimeter_of_triangle():\n",
    "         pass\n",
    "    \n",
    "class Triangle(shape1):\n",
    "    def calculate_area(self):\n",
    "        return self.base*self.height\n",
    "    \n",
    "    def calculate_perimeter(self):\n",
    "        return self.side + self.side2 + self.side3"
   ]
  },
  {
   "cell_type": "code",
   "execution_count": 35,
   "id": "04a2ab42-f70b-405e-bbfe-7861db4bacfa",
   "metadata": {},
   "outputs": [
    {
     "name": "stdout",
     "output_type": "stream",
     "text": [
      "Area of triangle: 15\n",
      "Perimeter of triangle: 9\n"
     ]
    }
   ],
   "source": [
    "triangle = Triangle( 2,3,4,3, 5)\n",
    "print(f\"Area of triangle: {triangle.calculate_area()}\")\n",
    "print(f\"Perimeter of triangle: {triangle.calculate_perimeter()}\")\n"
   ]
  },
  {
   "cell_type": "code",
   "execution_count": 41,
   "id": "ad044318-63c2-45a6-a632-a77f27dca327",
   "metadata": {},
   "outputs": [],
   "source": [
    "class Shape2:\n",
    "    def __init__(self, radius ):\n",
    "        self.radius=radius\n",
    "        \n",
    "    def calculate_area(self):\n",
    "        pass\n",
    "\n",
    "    def calculate_perimeter(self):\n",
    "        pass\n",
    "\n",
    "\n",
    "class Circle(Shape2):\n",
    "    def calculate_area(self):\n",
    "        return 3.14 * self.radius ** 2\n",
    "\n",
    "    def calculate_perimeter(self):\n",
    "        return 2 * 3.14 * self.radius"
   ]
  },
  {
   "cell_type": "code",
   "execution_count": 42,
   "id": "a3b73cce-6ac4-4e25-b997-27666a6da516",
   "metadata": {},
   "outputs": [
    {
     "name": "stdout",
     "output_type": "stream",
     "text": [
      "Area of circle: 153.86\n",
      "Circumference of circle: 43.96\n"
     ]
    }
   ],
   "source": [
    "\n",
    "circle = Circle( 7)\n",
    "print(f\"Area of circle: {circle.calculate_area()}\")\n",
    "print(f\"Circumference of circle: {circle.calculate_perimeter()}\")"
   ]
  },
  {
   "cell_type": "code",
   "execution_count": 65,
   "id": "37797c22-e481-462d-9682-03d39857a6d6",
   "metadata": {},
   "outputs": [],
   "source": [
    "## Problem 7: Student Management Create a class representing a student with attributes like student ID, name, and grades. Implement methods to calculate the average grade and display student details.\n",
    "\n",
    "\n",
    "class student_details:\n",
    "    def __init__(self,student_ID, name,grade):\n",
    "        self.student_ID=student_ID\n",
    "        self.name=name\n",
    "        self.grade=grade\n",
    "        \n",
    "    \n",
    "    def average_grade(self):\n",
    "        return sum(self.grade) / len(self.grade)\n",
    "\n",
    "    def display_student_details(self):\n",
    "        print(f\"Student ID: {self.student_ID}\")\n",
    "        print(f\"Name: {self.name}\")\n",
    "        print(f\"Grades: {self.grade}\")\n",
    "        print(f\"Average Grade: {self.average_grade()}\")\n",
    "    \n",
    "   "
   ]
  },
  {
   "cell_type": "code",
   "execution_count": 66,
   "id": "c5f8f689-f970-4204-88e5-3fbde17c0093",
   "metadata": {},
   "outputs": [
    {
     "name": "stdout",
     "output_type": "stream",
     "text": [
      "Student ID: 1\n",
      "Name: pawan Dahale\n",
      "Grades: [90, 85, 95, 80]\n",
      "Average Grade: 87.5\n"
     ]
    }
   ],
   "source": [
    "student = student_details(1, \"pawan Dahale\", [90, 85, 95, 80])\n",
    "student.display_student_details()"
   ]
  },
  {
   "cell_type": "code",
   "execution_count": null,
   "id": "99d9e781-d2e8-4c5b-993c-4ac621a9aeda",
   "metadata": {},
   "outputs": [],
   "source": []
  },
  {
   "cell_type": "code",
   "execution_count": 92,
   "id": "9c18c40f-75ab-4647-9008-2a7384af0ec0",
   "metadata": {},
   "outputs": [],
   "source": [
    "## Problem 8: Email Management Create a class representing an email with attributes like sender, recipient, and subject. Implement methods to send an email and display email details.\n",
    "\n",
    "\n",
    "class Email:\n",
    "    def __init__(self, sender, recipient, subject, body):\n",
    "        self.sender = sender\n",
    "        self.recipient = recipient\n",
    "        self.subject = subject\n",
    "        self.body = body\n",
    "\n",
    "    def send_email(self):\n",
    "        msg = EmailMessage()\n",
    "        msg.set_content(self.body)\n",
    "        msg['Subject'] = self.subject\n",
    "        msg['From'] == self.sender\n",
    "        msg['To']== self.recipient\n",
    "\n",
    "    def display_email_details(self):\n",
    "        print(f\"Sender: {self.sender}\")\n",
    "        print(f\"Recipient: {self.recipient}\")\n",
    "        print(f\"Subject: {self.subject}\")\n",
    "        print(f\"Body: {self.body}\")\n",
    "\n"
   ]
  },
  {
   "cell_type": "code",
   "execution_count": 91,
   "id": "785b0f18-6ef7-4ccc-af93-ff0544ef1bf3",
   "metadata": {},
   "outputs": [
    {
     "name": "stdout",
     "output_type": "stream",
     "text": [
      "Sender: sender@23.com\n",
      "Recipient: recipient@e34.com\n",
      "Subject: Greetings from a fellow Python enthusiast\n",
      "Body:  who is interested in learning more about your experience as a Python developer.\n"
     ]
    }
   ],
   "source": [
    "email = Email('sender@23.com', 'recipient@e34.com', 'Greetings from a fellow Python enthusiast', ' who is interested in learning more about your experience as a Python developer.')\n",
    "email.send_email()\n",
    "email.display_email_details()\n"
   ]
  },
  {
   "cell_type": "code",
   "execution_count": 93,
   "id": "86a74846-c03b-4992-90dd-f2da0df50dcc",
   "metadata": {},
   "outputs": [],
   "source": [
    "## Problem 9: Social Media Profile Create a class representing a social media profile with attributes like username and posts. Implement methods to add posts, display posts, and search for posts by keyword.\n",
    "\n",
    "    \n",
    "class SocialMediaProfile:\n",
    "    def __init__(self, username):\n",
    "        self.username = username\n",
    "        self.posts = []\n",
    "\n",
    "    def add_post(self, post):\n",
    "        self.posts.append(post)\n",
    "\n",
    "    def display_posts(self):\n",
    "        if not self.posts:\n",
    "            print(\"No posts to display.\")\n",
    "        else:\n",
    "            for post in self.posts:\n",
    "                print(post)\n",
    "\n",
    "    def search_posts(self, keyword):\n",
    "        matching_posts = []\n",
    "        for post in self.posts:\n",
    "            if keyword in post:\n",
    "                matching_posts.append(post)\n",
    "        if not matching_posts:\n",
    "            print(\"No matching posts found.\")\n",
    "        else:\n",
    "            print(f\"Matching posts for '{keyword}':\")\n",
    "            for post in matching_posts:\n",
    "                print(post)\n"
   ]
  },
  {
   "cell_type": "code",
   "execution_count": 126,
   "id": "3d55ee55-ddf9-479d-97f9-a96693ff5946",
   "metadata": {},
   "outputs": [
    {
     "name": "stdout",
     "output_type": "stream",
     "text": [
      "as you sow as you reap\n",
      "Matching posts for 'sow':\n",
      "as you sow as you reap\n"
     ]
    }
   ],
   "source": [
    "social= SocialMediaProfile(\"bajrang\")\n",
    "social.add_post(\"as you sow as you reap\")\n",
    "social.display_posts()\n",
    "social.search_posts(\"sow\")\n"
   ]
  },
  {
   "cell_type": "code",
   "execution_count": null,
   "id": "25b888ce-3fe2-4488-9f58-8fb2380fbfd3",
   "metadata": {},
   "outputs": [],
   "source": [
    "@Problem 10: ToDo List Create a class representing a ToDo list with attributes like tasks and due dates. Implement methods to add tasks, mark tasks as completed, and display pending tasks.\n"
   ]
  },
  {
   "cell_type": "code",
   "execution_count": null,
   "id": "bebcff95-7f3f-44a4-94e2-dc833e025815",
   "metadata": {},
   "outputs": [],
   "source": []
  }
 ],
 "metadata": {
  "kernelspec": {
   "display_name": "Python 3 (ipykernel)",
   "language": "python",
   "name": "python3"
  },
  "language_info": {
   "codemirror_mode": {
    "name": "ipython",
    "version": 3
   },
   "file_extension": ".py",
   "mimetype": "text/x-python",
   "name": "python",
   "nbconvert_exporter": "python",
   "pygments_lexer": "ipython3",
   "version": "3.10.8"
  }
 },
 "nbformat": 4,
 "nbformat_minor": 5
}
