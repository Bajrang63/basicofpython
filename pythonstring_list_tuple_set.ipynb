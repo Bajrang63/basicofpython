{
 "cells": [
  {
   "cell_type": "code",
   "execution_count": null,
   "id": "4d50421b-1c94-4e39-9a55-9ac2ad5a158b",
   "metadata": {},
   "outputs": [],
   "source": [
    "#TOPIC: String Based Assignment Problem\n",
    "\n",
    "### 1. Write a program to reverse a string\n",
    "\n",
    "s1=\"bajrang\"\n",
    "\n",
    "s1[::-1]"
   ]
  },
  {
   "cell_type": "code",
   "execution_count": null,
   "id": "8a622097-96f3-49f2-a720-f651a3fda28e",
   "metadata": {},
   "outputs": [],
   "source": [
    "### 2. Check if a string is a palindrome.\n",
    "s=\"pawan\"\n",
    "s=s.lower()\n",
    "s=''.join(x for x in s if s.isalpha())\n",
    "\n",
    "s[::-1]"
   ]
  },
  {
   "cell_type": "code",
   "execution_count": null,
   "id": "a45d2d37-fdd4-4768-a7b0-14eca5921a40",
   "metadata": {},
   "outputs": [],
   "source": [
    "### 3. Convert a string to uppercase.\n",
    "\n",
    "s=str(input(\"enter the string\"))\n",
    "s.upper()"
   ]
  },
  {
   "cell_type": "code",
   "execution_count": null,
   "id": "f4c6fe50-2cd1-421d-b1b4-66ffe01411d9",
   "metadata": {},
   "outputs": [],
   "source": [
    "### 4. Convert a string to lowercase.\n",
    "\n",
    "s2=\"PAWAN\"\n",
    "s2.lower()"
   ]
  },
  {
   "cell_type": "code",
   "execution_count": null,
   "id": "8298a2fa-6f13-41ad-be3d-9cd1e877f4a0",
   "metadata": {},
   "outputs": [],
   "source": [
    "##5. Count the number of vowels in a string\n",
    "def vowel_num(string :str):\n",
    "    vowels = \"aeiou\"\n",
    "    count = 0\n",
    "    for str in string:\n",
    "        if str.lower() in vowels:\n",
    "            count += 1\n",
    "    return count"
   ]
  },
  {
   "cell_type": "code",
   "execution_count": null,
   "id": "8b6683c1-532a-4ded-9988-92b8fde8f97e",
   "metadata": {},
   "outputs": [],
   "source": [
    "vowel_num(\"bajrang\")"
   ]
  },
  {
   "cell_type": "code",
   "execution_count": null,
   "id": "c893921f-e847-4489-8ec1-1569923d73c6",
   "metadata": {},
   "outputs": [],
   "source": [
    "###6. Count the number of consonants in a string\n",
    "def consonant_num(string :str ):\n",
    "    vowel=\"aeiouAEIOU\"\n",
    "    count=0\n",
    "    for str in string:\n",
    "        if str.isalpha() and str.lower() not in vowel :\n",
    "            count+=1\n",
    "    return count\n"
   ]
  },
  {
   "cell_type": "code",
   "execution_count": null,
   "id": "25a98aef-f3eb-47de-a0b7-eb2c6edc94f2",
   "metadata": {},
   "outputs": [],
   "source": [
    "consonant_num(\"bajrang\")"
   ]
  },
  {
   "cell_type": "code",
   "execution_count": 29,
   "id": "f38318fd-6dfd-4fe6-89c0-ab899dbced27",
   "metadata": {},
   "outputs": [],
   "source": [
    "##7. Remove all whitespaces from a string."
   ]
  },
  {
   "cell_type": "code",
   "execution_count": 30,
   "id": "7175a016-175a-48a9-bc38-1c3de609aff4",
   "metadata": {},
   "outputs": [],
   "source": [
    "def whitespace(string: str):\n",
    "    return string.replace(\" \", \"\")\n"
   ]
  },
  {
   "cell_type": "code",
   "execution_count": 31,
   "id": "dbc50308-8c76-480b-b52e-782e376cbc2b",
   "metadata": {},
   "outputs": [
    {
     "data": {
      "text/plain": [
       "'bajrangdahale'"
      ]
     },
     "execution_count": 31,
     "metadata": {},
     "output_type": "execute_result"
    }
   ],
   "source": [
    "whitespace(\"bajrang dahale\")"
   ]
  },
  {
   "cell_type": "code",
   "execution_count": 32,
   "id": "777b8337-c23d-4e11-884e-99f3124488de",
   "metadata": {},
   "outputs": [
    {
     "data": {
      "text/plain": [
       "'iam'"
      ]
     },
     "execution_count": 32,
     "metadata": {},
     "output_type": "execute_result"
    }
   ],
   "source": [
    "whitespace(\"i am\")"
   ]
  },
  {
   "cell_type": "code",
   "execution_count": 33,
   "id": "5723714c-5e97-4e77-9b2a-954ce018f168",
   "metadata": {},
   "outputs": [],
   "source": [
    "###8. Find the length of a string without using the `len()` function\n",
    "def count_string(string: str):\n",
    "    count = 0\n",
    "    for _ in string:\n",
    "        count += 1\n",
    "    return count\n"
   ]
  },
  {
   "cell_type": "code",
   "execution_count": 34,
   "id": "5b03d80f-c93a-42f8-8d6f-4dfdcc668285",
   "metadata": {},
   "outputs": [
    {
     "data": {
      "text/plain": [
       "7"
      ]
     },
     "execution_count": 34,
     "metadata": {},
     "output_type": "execute_result"
    }
   ],
   "source": [
    "count_string(\"bajrang\")"
   ]
  },
  {
   "cell_type": "code",
   "execution_count": 43,
   "id": "97359f9c-52b9-48a7-9b25-49c1d1c02a27",
   "metadata": {},
   "outputs": [],
   "source": [
    "###9. Check if a string contains a specific word.\n",
    "def contains_word(string: str, word: str):\n",
    "    return word in string\n",
    "\n",
    "#The function contains_word takes two strings as input and returns True if the second string is present in the first string, and False otherwise."
   ]
  },
  {
   "cell_type": "code",
   "execution_count": 45,
   "id": "38f04df5-9ef7-4e9c-8c43-c0db69b7fc13",
   "metadata": {},
   "outputs": [
    {
     "data": {
      "text/plain": [
       "True"
      ]
     },
     "execution_count": 45,
     "metadata": {},
     "output_type": "execute_result"
    }
   ],
   "source": [
    "contains_word(\" programming language \",\"language\")"
   ]
  },
  {
   "cell_type": "code",
   "execution_count": 24,
   "id": "bd073aba-7b6d-4ac1-bd9d-4022af905da1",
   "metadata": {},
   "outputs": [
    {
     "name": "stdout",
     "output_type": "stream",
     "text": [
      "The quick brown cat jumps over the lazy dog.\n"
     ]
    }
   ],
   "source": [
    "##10. Replace a word in a string with another word.\n",
    "\n",
    "sentence = \"The quick brown fox jumps over the lazy dog.\"\n",
    "new_sentence = sentence.replace(\"fox\", \"cat\")\n",
    "print(new_sentence)\n"
   ]
  },
  {
   "cell_type": "code",
   "execution_count": 15,
   "id": "e87cb288-d48c-49d3-a20f-fd031ec8914d",
   "metadata": {},
   "outputs": [
    {
     "name": "stdout",
     "output_type": "stream",
     "text": [
      "4\n"
     ]
    }
   ],
   "source": [
    "##11. Count the occurrences of a word in a string\n",
    "\n",
    "string = \"bajrang dahale!\"\n",
    "word= \"a\"\n",
    "count = string.count(word)\n",
    "print(count)\n"
   ]
  },
  {
   "cell_type": "code",
   "execution_count": 18,
   "id": "6ffd23a3-a00c-45d0-94ab-827edfc8c832",
   "metadata": {},
   "outputs": [
    {
     "name": "stdout",
     "output_type": "stream",
     "text": [
      "6\n"
     ]
    }
   ],
   "source": [
    "#12. Find the first occurrence of a word in a string.\n",
    "\n",
    "string = \"Hello,bajrang\"\n",
    "first = \"bajrang\"\n",
    "index = string.find(first)\n",
    "print(index)\n",
    "\n"
   ]
  },
  {
   "cell_type": "code",
   "execution_count": 21,
   "id": "dbecb81c-abd9-4fa0-ac60-34f37818cc44",
   "metadata": {},
   "outputs": [
    {
     "name": "stdout",
     "output_type": "stream",
     "text": [
      "7\n"
     ]
    }
   ],
   "source": [
    "#13. Find the last occurrence of a word in a string.\n",
    "\n",
    "string = \"Hello, bajrang\"\n",
    "last = \"bajrang\"\n",
    "index = string.rfind(last)\n",
    "print(index)\n"
   ]
  },
  {
   "cell_type": "code",
   "execution_count": 23,
   "id": "d7b995ab-a986-43f1-9d1b-cdc62acd9b0f",
   "metadata": {},
   "outputs": [
    {
     "name": "stdout",
     "output_type": "stream",
     "text": [
      "['This', 'is', 'a', 'simple', 'sentence', 'i', 'attend', 'python', 'session']\n"
     ]
    }
   ],
   "source": [
    "#14. Split a string into a list of words\n",
    "\n",
    "sentence = \"This is a simple sentence i attend python session\"\n",
    "words = sentence.split()\n",
    "print(words)\n"
   ]
  },
  {
   "cell_type": "code",
   "execution_count": 30,
   "id": "a4c23aff-9b8f-4c06-96ac-6e41e70c76af",
   "metadata": {},
   "outputs": [
    {
     "name": "stdout",
     "output_type": "stream",
     "text": [
      "apple,banana,cherry\n"
     ]
    }
   ],
   "source": [
    "##15. Join a list of words into a string\n",
    "\n",
    "words = ['apple', 'banana', 'cherry']\n",
    "comma = ','\n",
    "sentence = comma.join(words)\n",
    "print(sentence)\n"
   ]
  },
  {
   "cell_type": "code",
   "execution_count": 31,
   "id": "3ffd5444-5368-40bb-928e-d4b0972f8fb5",
   "metadata": {},
   "outputs": [
    {
     "name": "stdout",
     "output_type": "stream",
     "text": [
      "This_is_a_sample_sentence.\n"
     ]
    }
   ],
   "source": [
    "##16.Convert a string where words are separated by spaces to one where words\n",
    "#are separated by underscores.\n",
    "\n",
    "words = \"This is a sample sentence.\"\n",
    "sentence = words.replace(\" \", \"_\")\n",
    "print(sentence)\n"
   ]
  },
  {
   "cell_type": "code",
   "execution_count": 32,
   "id": "fafaefb7-5816-442e-9918-e8e8466433aa",
   "metadata": {},
   "outputs": [
    {
     "name": "stdout",
     "output_type": "stream",
     "text": [
      "The text starts with 'This'\n"
     ]
    }
   ],
   "source": [
    "##17. Check if a string starts with a specific word or phrase.\n",
    "\n",
    "text = \"This is a sample text\"\n",
    "if text.startswith(\"This\"):\n",
    "    print(\"The text starts with 'This'\")\n"
   ]
  },
  {
   "cell_type": "code",
   "execution_count": 33,
   "id": "84cf4b08-614a-4ed6-9ce5-78c2e3f278da",
   "metadata": {},
   "outputs": [
    {
     "name": "stdout",
     "output_type": "stream",
     "text": [
      "The text ends with 'text'\n"
     ]
    }
   ],
   "source": [
    "##18. Check if a string ends with a specific word or phrase\n",
    "\n",
    "text = \"This is a sample text\"\n",
    "if text.endswith(\"text\"):\n",
    "    print(\"The text ends with 'text'\")\n"
   ]
  },
  {
   "cell_type": "code",
   "execution_count": 34,
   "id": "96fc99ab-05cd-4048-a8da-b948289a0205",
   "metadata": {},
   "outputs": [
    {
     "data": {
      "text/plain": [
       "'Bajrang Dahale'"
      ]
     },
     "execution_count": 34,
     "metadata": {},
     "output_type": "execute_result"
    }
   ],
   "source": [
    "##19. Convert a string to title case (e.g., \"hello world\" to \"Hello World\")\n",
    "\n",
    "string1=\"bajrang dahale\"\n",
    "string1.title()"
   ]
  },
  {
   "cell_type": "code",
   "execution_count": 37,
   "id": "a79e8265-d3b5-46c9-95f1-93796980d810",
   "metadata": {},
   "outputs": [
    {
     "name": "stdout",
     "output_type": "stream",
     "text": [
      "The longest word in 'i am learning python programming language' is 'programming'\n"
     ]
    }
   ],
   "source": [
    "##20. Find the longest word in a string.\n",
    "\n",
    "def find_longest_word(text):\n",
    "    words = text.split()\n",
    "    longest_word = \"\"\n",
    "    for word in words:\n",
    "        if len(word) > len(longest_word):\n",
    "            longest_word = word\n",
    "    return longest_word\n",
    "text = \"i am learning python programming language\"\n",
    "longest_word = find_longest_word(text)\n",
    "print(f\"The longest word in '{text}' is '{longest_word}'\")"
   ]
  },
  {
   "cell_type": "code",
   "execution_count": 7,
   "id": "289bdb57-07d1-4e3e-a51e-dd669a139753",
   "metadata": {},
   "outputs": [
    {
     "name": "stdout",
     "output_type": "stream",
     "text": [
      "The short word in 'i am learning python programming language' is 'i'\n"
     ]
    }
   ],
   "source": [
    "##21. Find the shortest word in a string.\n",
    "\n",
    "def find_short_word(text):\n",
    "    words = text.split()\n",
    "    short_word = words[0]\n",
    "    for word in words:\n",
    "        if len(word) < len(short_word):\n",
    "            short_word = word\n",
    "    return short_word\n",
    "text = \"i am learning python programming language\"\n",
    "short_word = find_short_word(text)\n",
    "print(f\"The short word in '{text}' is '{short_word}'\")"
   ]
  },
  {
   "cell_type": "code",
   "execution_count": 8,
   "id": "9c056558-9d2c-4a67-9e3c-e221ce7e597f",
   "metadata": {},
   "outputs": [
    {
     "name": "stdout",
     "output_type": "stream",
     "text": [
      "Dahale pawan\n"
     ]
    }
   ],
   "source": [
    "##22. Reverse the order of words in a string.\n",
    "\n",
    "string = \"pawan Dahale\"\n",
    "words = string.split()\n",
    "reversed_words = words[::-1]\n",
    "reversed_string = \" \".join(reversed_words)\n",
    "print(reversed_string)\n"
   ]
  },
  {
   "cell_type": "code",
   "execution_count": 10,
   "id": "609671b9-f53f-4a08-9871-b3d2d7e68878",
   "metadata": {},
   "outputs": [
    {
     "name": "stdout",
     "output_type": "stream",
     "text": [
      "True\n"
     ]
    }
   ],
   "source": [
    "##23. Check if a string is alphanumeric\n",
    "\n",
    "string=\"ganesh\"\n",
    "s1=string.isalnum()\n",
    "print(s1)"
   ]
  },
  {
   "cell_type": "code",
   "execution_count": 18,
   "id": "0bf61427-ae52-4202-be5d-5f3d8d37f830",
   "metadata": {},
   "outputs": [
    {
     "name": "stdout",
     "output_type": "stream",
     "text": [
      " 2363\n"
     ]
    }
   ],
   "source": [
    "##24. Extract all digits from a string.\n",
    "\n",
    "string=\"bajrang 23 dahale 63\"\n",
    "result = \" \"\n",
    "\n",
    "for char in string:\n",
    "    if char.isdigit():\n",
    "        result += char\n",
    "\n",
    "print(result)\n"
   ]
  },
  {
   "cell_type": "code",
   "execution_count": 19,
   "id": "2562fb67-f3b0-4288-afe7-683db0ae4cbf",
   "metadata": {},
   "outputs": [
    {
     "name": "stdout",
     "output_type": "stream",
     "text": [
      " bajrangdahale\n"
     ]
    }
   ],
   "source": [
    "##25. Extract all alphabets from a string.\n",
    "\n",
    "string=\"bajrang 23 dahale 63\"\n",
    "result = \" \"\n",
    "\n",
    "for char in string:\n",
    "    if char.isalpha():\n",
    "        result += char\n",
    "\n",
    "print(result)\n"
   ]
  },
  {
   "cell_type": "code",
   "execution_count": 21,
   "id": "fdd8b9e9-536f-4876-a64d-861d640eb089",
   "metadata": {},
   "outputs": [
    {
     "name": "stdout",
     "output_type": "stream",
     "text": [
      "The number of uppercase letters in 'PytHoN' is 3.\n"
     ]
    }
   ],
   "source": [
    "##26. Count the number of uppercase letters in a string\n",
    "\n",
    "string=\"PytHoN\"\n",
    "count = sum(1 for char in string if char.isupper())\n",
    "print(f\"The number of uppercase letters in '{string}' is {count}.\")\n"
   ]
  },
  {
   "cell_type": "code",
   "execution_count": 24,
   "id": "cea511ab-da14-4069-8609-65826ed4c5bb",
   "metadata": {},
   "outputs": [
    {
     "name": "stdout",
     "output_type": "stream",
     "text": [
      "The number of lowercase letters in 'PytHoNs' is 4.\n"
     ]
    }
   ],
   "source": [
    "##27. Count the number of lowercase letters in a string\n",
    "\n",
    "string=\"PytHoNs\"\n",
    "count = sum(1 for char in string if char.islower())\n",
    "print(f\"The number of lowercase letters in '{string}' is {count}.\")\n"
   ]
  },
  {
   "cell_type": "code",
   "execution_count": 33,
   "id": "d1430c1b-d7d8-4bb9-bdf3-d1b224d75a09",
   "metadata": {},
   "outputs": [
    {
     "name": "stdout",
     "output_type": "stream",
     "text": [
      "baJRANG\n"
     ]
    }
   ],
   "source": [
    "##28. Swap the case of each character in a string\n",
    "\n",
    "string=\"BAjrang\"\n",
    "swap_string=string.swapcase()\n",
    "print(swap_string)"
   ]
  },
  {
   "cell_type": "code",
   "execution_count": 35,
   "id": "4c28021c-4fd9-4e19-8b55-64b165f43768",
   "metadata": {},
   "outputs": [
    {
     "name": "stdout",
     "output_type": "stream",
     "text": [
      " python Javascript \n"
     ]
    }
   ],
   "source": [
    "##29. Remove a specific word from a string\n",
    "\n",
    "\n",
    "string=\"java python Javascript java\"\n",
    "word_to_remove = \"java\"\n",
    "new_string = string.replace(word_to_remove, \"\")\n",
    "print(new_string) \n"
   ]
  },
  {
   "cell_type": "code",
   "execution_count": 13,
   "id": "d6b2e766-d064-4229-a875-4539bde01c73",
   "metadata": {},
   "outputs": [
    {
     "name": "stdout",
     "output_type": "stream",
     "text": [
      "Valid email address\n"
     ]
    }
   ],
   "source": [
    "##30. Check if a string is a valid email address.\n",
    "\n",
    "import re\n",
    "\n",
    "def is_valid_email(email):\n",
    "    pattern = r'^[a-zA-Z0-9._%+-]+@[a-zA-Z0-9.-]+\\.[a-zA-Z]{2,}$'\n",
    "    return re.match(pattern, email) is not None\n",
    "email = \"bajrang@45.com\"\n",
    "if is_valid_email(email):\n",
    "    print(\"Valid email address\")\n",
    "else:\n",
    "    print(\"Invalid email address\")\n"
   ]
  },
  {
   "cell_type": "code",
   "execution_count": 14,
   "id": "f97d125a-2bfe-4129-a22c-f4dfe6189fa2",
   "metadata": {},
   "outputs": [
    {
     "name": "stdout",
     "output_type": "stream",
     "text": [
      "Username: bajrang\n"
     ]
    }
   ],
   "source": [
    "##31. Extract the username from an email address string\n",
    "\n",
    "def extract_username(email):\n",
    "    username = email.split('@')[0]\n",
    "    return username\n",
    "email = \"bajrang@45.com\"\n",
    "username = extract_username(email)\n",
    "print(\"Username:\", username)\n"
   ]
  },
  {
   "cell_type": "code",
   "execution_count": 15,
   "id": "a68c6f5e-20cc-408d-93ab-32b3fb42aea2",
   "metadata": {},
   "outputs": [
    {
     "name": "stdout",
     "output_type": "stream",
     "text": [
      "Domain: 45.com\n"
     ]
    }
   ],
   "source": [
    "##32. Extract the domain name from an email address string.\n",
    "\n",
    "def extract_domain(email):\n",
    "    domain = email.split('@')[1]\n",
    "    return domain\n",
    "email = \"example@45.com\"\n",
    "domain = extract_domain(email)\n",
    "print(\"Domain:\", domain)\n"
   ]
  },
  {
   "cell_type": "code",
   "execution_count": 18,
   "id": "67c1926b-49d2-4b88-a3f5-f0930cbb488d",
   "metadata": {},
   "outputs": [
    {
     "name": "stdout",
     "output_type": "stream",
     "text": [
      "New string: bajrang dahale\n"
     ]
    }
   ],
   "source": [
    "##33. Replace multiple spaces in a string with a single space.\n",
    "\n",
    "def replace_multiple_spaces(string):\n",
    "    return ' '.join(string.split())\n",
    "string = \"bajrang    dahale\"\n",
    "new_string = replace_multiple_spaces(string)\n",
    "print(\"New string:\", new_string)\n"
   ]
  },
  {
   "cell_type": "code",
   "execution_count": 11,
   "id": "86bc61e4-9025-44e4-9cc0-f984d3a3dd8a",
   "metadata": {},
   "outputs": [
    {
     "ename": "ModuleNotFoundError",
     "evalue": "No module named 'validators'",
     "output_type": "error",
     "traceback": [
      "\u001b[0;31m---------------------------------------------------------------------------\u001b[0m",
      "\u001b[0;31mModuleNotFoundError\u001b[0m                       Traceback (most recent call last)",
      "Cell \u001b[0;32mIn[11], line 3\u001b[0m\n\u001b[1;32m      1\u001b[0m \u001b[38;5;66;03m#34. Check if a string is a valid URL.\u001b[39;00m\n\u001b[0;32m----> 3\u001b[0m \u001b[38;5;28;01mimport\u001b[39;00m \u001b[38;5;21;01mvalidators\u001b[39;00m\n\u001b[1;32m      5\u001b[0m string \u001b[38;5;241m=\u001b[39m \u001b[38;5;124m\"\u001b[39m\u001b[38;5;124mhttps://www.bing.com\u001b[39m\u001b[38;5;124m\"\u001b[39m\n\u001b[1;32m      6\u001b[0m \u001b[38;5;28;01mimport\u001b[39;00m \u001b[38;5;21;01mre\u001b[39;00m\n",
      "\u001b[0;31mModuleNotFoundError\u001b[0m: No module named 'validators'"
     ]
    }
   ],
   "source": [
    "#34. Check if a string is a valid URL\n",
    "##35. Extract the protocol (http or https) from a URL string.\n"
   ]
  },
  {
   "cell_type": "code",
   "execution_count": null,
   "id": "46910be4-f1bd-43f0-ace0-bcdd5561401e",
   "metadata": {},
   "outputs": [],
   "source": []
  },
  {
   "cell_type": "code",
   "execution_count": 2,
   "id": "b4885868-90db-4447-a21c-5456aaeb7ccf",
   "metadata": {},
   "outputs": [
    {
     "name": "stdout",
     "output_type": "stream",
     "text": [
      "The character 'b' appears 1 times in the string.\n",
      "The character 'a' appears 4 times in the string.\n",
      "The character 'j' appears 1 times in the string.\n",
      "The character 'r' appears 1 times in the string.\n",
      "The character 'n' appears 1 times in the string.\n",
      "The character 'g' appears 1 times in the string.\n",
      "The character ' ' appears 1 times in the string.\n",
      "The character 'd' appears 1 times in the string.\n",
      "The character 'h' appears 1 times in the string.\n",
      "The character 'l' appears 1 times in the string.\n",
      "The character 'e' appears 1 times in the string.\n"
     ]
    }
   ],
   "source": [
    "##36. Find the frequency of each character in a string.\n",
    "\n",
    "from collections import Counter\n",
    "\n",
    "string = \"bajrang dahale\"\n",
    "frequency = Counter(string)\n",
    "\n",
    "for char, count in frequency.items():\n",
    "    print(f\"The character '{char}' appears {count} times in the string.\")\n"
   ]
  },
  {
   "cell_type": "code",
   "execution_count": 10,
   "id": "f68dfb69-f1a2-4467-b192-09bff614dfa1",
   "metadata": {},
   "outputs": [
    {
     "name": "stdout",
     "output_type": "stream",
     "text": [
      "Without punctuation: 'HellobajrangHowsitgoing'\n"
     ]
    }
   ],
   "source": [
    "##37. Remove all punctuation from a string.\n",
    "\n",
    "def remove_punctuation(string):\n",
    "    return ''.join(ch for ch in string if ch.isalnum())\n",
    "\n",
    "# Test the function\n",
    "string = \"Hello, bajrang! How's it going?)\"\n",
    "result = remove_punctuation(string)\n",
    "print(f\"Without punctuation: '{result}'\")"
   ]
  },
  {
   "cell_type": "code",
   "execution_count": 8,
   "id": "d8c65355-6bd1-4d11-b8ff-d94d147b993a",
   "metadata": {},
   "outputs": [
    {
     "name": "stdout",
     "output_type": "stream",
     "text": [
      "'12345' contains only digits: True\n"
     ]
    }
   ],
   "source": [
    "##38. Check if a string contains only digits.\n",
    "\n",
    "def is_digits_only(string):\n",
    "    return string.isdigit()\n",
    "\n",
    "# Test the function\n",
    "string = \"12345\"\n",
    "result = is_digits_only(string)\n",
    "print(f\"'{string}' contains only digits: {result}\")\n"
   ]
  },
  {
   "cell_type": "code",
   "execution_count": 17,
   "id": "1845afb7-dd83-4491-bfbb-2143ea55ef76",
   "metadata": {},
   "outputs": [
    {
     "name": "stdout",
     "output_type": "stream",
     "text": [
      "'pawan' contains only alphabets: True\n",
      "'ganesh23' contains only alphabets: False\n",
      "'123456' contains only alphabets: False\n"
     ]
    }
   ],
   "source": [
    "####39. Check if a string contains only alphabets\n",
    "\n",
    "\n",
    "strings = [\"pawan\", \"ganesh23\", \"123456\"]\n",
    "\n",
    "for string in strings:\n",
    "    print(f\"{string!r} contains only alphabets: {string.isalpha()}\")"
   ]
  },
  {
   "cell_type": "code",
   "execution_count": 18,
   "id": "9bc7f2ae-7e26-4db9-80cf-57a33aba5d4c",
   "metadata": {},
   "outputs": [
    {
     "name": "stdout",
     "output_type": "stream",
     "text": [
      "['d', 'h', 'a', 'n', 'a', 'n', 'j', 'a', 'y']\n"
     ]
    }
   ],
   "source": [
    "##40. Convert a string to a list of characters\n",
    "\n",
    "string = \"dhananjay\"\n",
    "char_list = list(string)\n",
    "print(char_list)"
   ]
  },
  {
   "cell_type": "code",
   "execution_count": 19,
   "id": "b9e08e2c-dd9a-43d3-be2b-b7ff28780e04",
   "metadata": {},
   "outputs": [
    {
     "name": "stdout",
     "output_type": "stream",
     "text": [
      "True\n"
     ]
    }
   ],
   "source": [
    "##41. Check if two strings are anagrams.\n",
    "\n",
    "from collections import Counter\n",
    "\n",
    "def is_anagram(string1, string2):\n",
    "    counter1 = Counter(string1)\n",
    "    counter2 = Counter(string2)\n",
    "    return counter1 == counter2\n",
    "\n",
    "string1 = \"listen\"\n",
    "string2 = \"silent\"\n",
    "print(is_anagram(string1, string2))\n",
    "#In this code snippet, the is_anagram() function is used to check if two strings are anagrams.\n",
    "#It compares the character frequencies in the two strings using the Counter class."
   ]
  },
  {
   "cell_type": "code",
   "execution_count": 26,
   "id": "0b66c1a6-776e-4995-ad59-bdf7f268e416",
   "metadata": {},
   "outputs": [
    {
     "name": "stdout",
     "output_type": "stream",
     "text": [
      "sdzdq\n"
     ]
    }
   ],
   "source": [
    "##42. Encode a string using a Caesar cipher.\n",
    "\n",
    "def caesar_cipher_encode(string, shift):\n",
    "    encoded_string = \"\"\n",
    "    for char in string:\n",
    "        if char.isalpha():\n",
    "            ascii_offset = ord('a') if char.islower() else ord('A')\n",
    "            encoded_char = chr((ord(char) - ascii_offset + shift) % 26 + ascii_offset)\n",
    "            encoded_string += encoded_char\n",
    "        else:\n",
    "            encoded_string += char\n",
    "    return encoded_string\n",
    "\n",
    "string = \"pawan\"\n",
    "shift = 3\n",
    "encoded_string = caesar_cipher_encode(string, shift)\n",
    "print(encoded_string)\n",
    "\n",
    "#caesar_cipher_encode() function is used to encode a string using a Caesar cipher.\n",
    "#It iterates over each character in the string and checks if it is an alphabetic character"
   ]
  },
  {
   "cell_type": "code",
   "execution_count": 27,
   "id": "0242d156-b4c7-48fb-98ff-ba9601355462",
   "metadata": {},
   "outputs": [
    {
     "name": "stdout",
     "output_type": "stream",
     "text": [
      "pawan\n"
     ]
    }
   ],
   "source": [
    "##43. Decode a Caesar cipher encoded string\n",
    "\n",
    "def caesar_cipher_decode(encoded_string, shift):\n",
    "    decoded_string = \"\"\n",
    "    for char in encoded_string:\n",
    "        if char.isalpha():\n",
    "            ascii_offset = ord('a') if char.islower() else ord('A')\n",
    "            decoded_char = chr((ord(char) - ascii_offset - shift) % 26 + ascii_offset)\n",
    "            decoded_string += decoded_char\n",
    "        else:\n",
    "            decoded_string += char\n",
    "    return decoded_string\n",
    "\n",
    "encoded_string = \"sdzdq\"\n",
    "shift = 3\n",
    "decoded_string = caesar_cipher_decode(encoded_string, shift)\n",
    "print(decoded_string)"
   ]
  },
  {
   "cell_type": "code",
   "execution_count": 31,
   "id": "2fa963c0-8117-4e13-8692-02aeea0860c2",
   "metadata": {},
   "outputs": [
    {
     "name": "stdout",
     "output_type": "stream",
     "text": [
      "bajrang\n"
     ]
    }
   ],
   "source": [
    "##44. Find the most frequent word in a string.\n",
    "\n",
    "import re\n",
    "from collections import Counter\n",
    "\n",
    "def most_frequent_word(text):\n",
    "    words = re.findall(r'\\b\\w+\\b', text.lower())\n",
    "    word_counts = Counter(words)\n",
    "    most_frequent_word = word_counts.most_common(1)[0][0]\n",
    "    return most_frequent_word\n",
    "\n",
    "text = \"Hello Bajrang,bajrang! Python is a  programming language.\"\n",
    "most_frequent_word = most_frequent_word(text)\n",
    "print(most_frequent_word)"
   ]
  },
  {
   "cell_type": "code",
   "execution_count": 33,
   "id": "c2511c3a-b9bd-424d-8d47-2295190b93eb",
   "metadata": {},
   "outputs": [
    {
     "name": "stdout",
     "output_type": "stream",
     "text": [
      "['hello', 'bajrang', 'let', 's', 'write', 'some', 'code']\n"
     ]
    }
   ],
   "source": [
    "##45. Find all unique words in a string.\n",
    "\n",
    "import re\n",
    "from collections import Counter\n",
    "\n",
    "def unique_words(text):\n",
    "    words = re.findall(r'\\b\\w+\\b', text.lower())\n",
    "    word_counts = Counter(words)\n",
    "    unique_word_list = list(word_counts.keys())\n",
    "    return unique_word_list\n",
    "\n",
    "text = \"Hello bajrang ! Let's write some code.\"\n",
    "unique_words = unique_words(text)\n",
    "print(unique_words)"
   ]
  },
  {
   "cell_type": "code",
   "execution_count": 6,
   "id": "bfe1b849-1a33-4185-9b74-5b2a202a71fd",
   "metadata": {},
   "outputs": [
    {
     "name": "stdin",
     "output_type": "stream",
     "text": [
      "Enter a word:  pawan\n"
     ]
    },
    {
     "name": "stdout",
     "output_type": "stream",
     "text": [
      "The number of syllables in the word is: 2\n"
     ]
    }
   ],
   "source": [
    "##46. Count the number of syllables in a string.\n",
    "\n",
    "word = input(\"Enter a word: \")\n",
    "word = word.lower()\n",
    "vowels = \"aeiou\"\n",
    "count = 0\n",
    "if word[0] in vowels:\n",
    "    count += 1\n",
    "for index in range(1, len(word)):\n",
    "    if word[index] in vowels and word[index - 1] not in vowels:\n",
    "        count += 1\n",
    "if word.endswith(\"e\"):\n",
    "    count -= 1\n",
    "if count == 0:\n",
    "    count += 1\n",
    "print(\"The number of syllables in the word is:\", count)\n",
    " "
   ]
  },
  {
   "cell_type": "code",
   "execution_count": 7,
   "id": "f6d5848a-2aa0-4d27-af27-2b9cae650b62",
   "metadata": {},
   "outputs": [
    {
     "name": "stdin",
     "output_type": "stream",
     "text": [
      "Enter a string:  bajrang@#12\n"
     ]
    },
    {
     "name": "stdout",
     "output_type": "stream",
     "text": [
      "The string contains special characters.\n"
     ]
    }
   ],
   "source": [
    "##47. Check if a string contains any special characters.\n",
    "\n",
    "special_characters = \"!@#$%^&*()_+-=[]{}|;':\\\",./<>?\"\n",
    "string = input(\"Enter a string: \")\n",
    "for character in string:\n",
    "    if character in special_characters:\n",
    "        print(\"The string contains special characters.\")\n",
    "        break\n",
    "else:\n",
    "    print(\"The string does not contain any special characters.\")\n"
   ]
  },
  {
   "cell_type": "code",
   "execution_count": 11,
   "id": "0495326e-bde4-430c-bd33-ba98c0fbc940",
   "metadata": {},
   "outputs": [
    {
     "name": "stdin",
     "output_type": "stream",
     "text": [
      "Enter a string:  i am learning python programming language\n",
      "Enter the index of the word to remove:  3\n"
     ]
    },
    {
     "name": "stdout",
     "output_type": "stream",
     "text": [
      "The new string is: i am learning programming language\n"
     ]
    }
   ],
   "source": [
    "##48. Remove the nth word from a string.\n",
    "\n",
    "string = input(\"Enter a string: \")\n",
    "n = int(input(\"Enter the index of the word to remove: \"))\n",
    "words = string.split()\n",
    "new_string = \"\"\n",
    "for i in range(len(words)):\n",
    "    if i != n:\n",
    "        new_string += words[i] + \" \"\n",
    "print(\"The new string is:\", new_string.strip())\n"
   ]
  },
  {
   "cell_type": "code",
   "execution_count": 15,
   "id": "7ae6cfa5-31ca-428f-be24-0ce429b3f8d6",
   "metadata": {},
   "outputs": [
    {
     "name": "stdin",
     "output_type": "stream",
     "text": [
      "Enter a string:  i read newpaper \n",
      "Enter a word to insert:  yesterday\n",
      "Enter the index of the position to insert the word:  16\n"
     ]
    },
    {
     "name": "stdout",
     "output_type": "stream",
     "text": [
      "The new string is: i read newpaper yesterday\n"
     ]
    }
   ],
   "source": [
    "##49. Insert a word at the nth position in a string.\n",
    "\n",
    "string = input(\"Enter a string: \")\n",
    "word = input(\"Enter a word to insert: \")\n",
    "n = int(input(\"Enter the index of the position to insert the word: \"))\n",
    "new_string = string[:n] + word + string[n:]\n",
    "print(\"The new string is:\", new_string)\n"
   ]
  },
  {
   "cell_type": "code",
   "execution_count": 16,
   "id": "dd4f36ab-c353-4f34-95c0-179248bb008b",
   "metadata": {},
   "outputs": [
    {
     "name": "stdin",
     "output_type": "stream",
     "text": [
      "Enter a CSV string:  1,2,3,4,5,6,7,8,9\n"
     ]
    },
    {
     "name": "stdout",
     "output_type": "stream",
     "text": [
      "The list of lists is: [['1', '2', '3', '4', '5', '6', '7', '8', '9']]\n"
     ]
    }
   ],
   "source": [
    "## 50. Convert a CSV string to a list of lists.\n",
    "\n",
    "csv_string = input(\"Enter a CSV string: \")\n",
    "rows = csv_string.split(\"\\\\n\")\n",
    "list_of_lists = []\n",
    "for row in rows:\n",
    "    list_of_lists.append(row.split(\",\"))\n",
    "print(\"The list of lists is:\", list_of_lists)\n"
   ]
  },
  {
   "cell_type": "code",
   "execution_count": 17,
   "id": "89d59d66-794c-496f-a855-25961564a700",
   "metadata": {},
   "outputs": [],
   "source": [
    "##_____List Based Practice Problem :\n",
    "\n",
    "\n",
    "## 1. Create a list with integers from 1 to 10.\n",
    "\n",
    "list1=[1,2,3,4,5,6,7,8,9,10]"
   ]
  },
  {
   "cell_type": "code",
   "execution_count": 18,
   "id": "27e769ce-edb0-4a58-a603-91c206a7961e",
   "metadata": {},
   "outputs": [
    {
     "data": {
      "text/plain": [
       "list"
      ]
     },
     "execution_count": 18,
     "metadata": {},
     "output_type": "execute_result"
    }
   ],
   "source": [
    "type(list1)"
   ]
  },
  {
   "cell_type": "code",
   "execution_count": 19,
   "id": "55679006-fb33-44f3-92c0-453e8c185048",
   "metadata": {},
   "outputs": [
    {
     "data": {
      "text/plain": [
       "[1, 2, 3, 4, 5, 6, 7, 8, 9, 10]"
      ]
     },
     "execution_count": 19,
     "metadata": {},
     "output_type": "execute_result"
    }
   ],
   "source": [
    "list1"
   ]
  },
  {
   "cell_type": "code",
   "execution_count": 49,
   "id": "fa3799c6-5250-4c62-b032-4530c7661b9c",
   "metadata": {},
   "outputs": [
    {
     "name": "stdout",
     "output_type": "stream",
     "text": [
      "The length of the list is 6.\n"
     ]
    }
   ],
   "source": [
    "## 2. Find the length of a list without using the `len()` function.\n",
    "\n",
    "my_list = [1, 2, 3, 4, 5,6]\n",
    "count = 0\n",
    "for element in my_list:\n",
    "    count += 1\n",
    "print(f\"The length of the list is {count}.\")\n"
   ]
  },
  {
   "cell_type": "code",
   "execution_count": 3,
   "id": "b7b17080-5c2a-489a-aacb-766a97baaecd",
   "metadata": {},
   "outputs": [
    {
     "name": "stdout",
     "output_type": "stream",
     "text": [
      "The new list is [12, 3, 4, 63, 56, 78, 45].\n"
     ]
    }
   ],
   "source": [
    "## 3. Append an element to the end of a list.\n",
    "\n",
    "list2=[12,3,4,63,56,78]\n",
    "list2.append(45)\n",
    "print(f\"The new list is {list2}.\")\n"
   ]
  },
  {
   "cell_type": "code",
   "execution_count": 4,
   "id": "29b3ff70-e626-4357-b6e7-cdb59750d617",
   "metadata": {},
   "outputs": [
    {
     "name": "stdout",
     "output_type": "stream",
     "text": [
      "the new element list is [12, 3, 23, 4, 63, 56, 78].\n"
     ]
    }
   ],
   "source": [
    "## 4. Insert an element at a specific index in a list.\n",
    "\n",
    "list2=[12,3,4,63,56,78]\n",
    "list2.insert(2,23)\n",
    "print(f\"the new element list is {list2}.\")"
   ]
  },
  {
   "cell_type": "code",
   "execution_count": 5,
   "id": "a47f705f-421a-4f91-9da4-f101a25d0b95",
   "metadata": {},
   "outputs": [],
   "source": [
    "## 5. Remove an element from a list by its value.\n",
    "\n",
    "list3=[12,3,56,7,76,8,64]\n",
    "list3.remove(76)"
   ]
  },
  {
   "cell_type": "code",
   "execution_count": 6,
   "id": "23f09a4a-b7c8-4556-bb9f-c3933c59b933",
   "metadata": {},
   "outputs": [
    {
     "data": {
      "text/plain": [
       "[12, 3, 56, 7, 8, 64]"
      ]
     },
     "execution_count": 6,
     "metadata": {},
     "output_type": "execute_result"
    }
   ],
   "source": [
    "list3"
   ]
  },
  {
   "cell_type": "code",
   "execution_count": 7,
   "id": "7bd11e1e-9bc3-446f-9c3e-004f3cdd88b5",
   "metadata": {},
   "outputs": [
    {
     "name": "stdout",
     "output_type": "stream",
     "text": [
      "The new list is [12, 3, 8, 64].\n"
     ]
    }
   ],
   "source": [
    "## 6. Remove an element from a list by its index.\n",
    "\n",
    "list4=[12,3,56,8,64]\n",
    "del list4[2]\n",
    "print(f\"The new list is {list4}.\")\n"
   ]
  },
  {
   "cell_type": "code",
   "execution_count": null,
   "id": "d3467d77-f8f8-40dc-8ca7-012cac422a8a",
   "metadata": {},
   "outputs": [],
   "source": []
  },
  {
   "cell_type": "code",
   "execution_count": 3,
   "id": "c2cf01c3-b646-4d18-b8b1-c9464f7be460",
   "metadata": {},
   "outputs": [
    {
     "name": "stdout",
     "output_type": "stream",
     "text": [
      "the number doesn't  exist in list\n"
     ]
    }
   ],
   "source": [
    "## 7. Check if an element exists in a list.\n",
    "\n",
    "list5=[8,7,65,54,3,2,36]\n",
    "if 33 in list5:\n",
    "    print(\"the number is exist in list\")\n",
    "else:\n",
    "        print(\"the number doesn't  exist in list\")"
   ]
  },
  {
   "cell_type": "code",
   "execution_count": 8,
   "id": "fc486fa7-924d-4bc0-897b-d350ab205692",
   "metadata": {},
   "outputs": [
    {
     "name": "stdout",
     "output_type": "stream",
     "text": [
      "The index of the first occurrence of 3 is 2.\n"
     ]
    }
   ],
   "source": [
    "##  8. Find the index of the first occurrence of an element in a list\n",
    "\n",
    "\n",
    "my_list = [1, 2, 3, 4, 5]\n",
    "element = 3\n",
    "index = my_list.index(element)\n",
    "print(f\"The index of the first occurrence of {element} is {index}.\")\n",
    "\n"
   ]
  },
  {
   "cell_type": "code",
   "execution_count": 9,
   "id": "fd59546d-fdee-4176-9b38-20aaa06ead6b",
   "metadata": {},
   "outputs": [
    {
     "name": "stdout",
     "output_type": "stream",
     "text": [
      "The element 3 occurs 3 times in the list.\n"
     ]
    }
   ],
   "source": [
    "## 9. Count the occurrences of an element in a list.\n",
    "\n",
    "my_list = [1, 2, 3, 4, 5, 3, 2, 1, 3]\n",
    "element = 3\n",
    "count = my_list.count(element)\n",
    "print(f\"The element {element} occurs {count} times in the list.\")\n"
   ]
  },
  {
   "cell_type": "code",
   "execution_count": 10,
   "id": "a7051c31-75ac-4299-9367-22378dfe82b5",
   "metadata": {},
   "outputs": [
    {
     "name": "stdout",
     "output_type": "stream",
     "text": [
      "the list is reversal order of the element [23, 63, 4, 63, 257, 3, 466, 3, 235].\n"
     ]
    }
   ],
   "source": [
    "## 10. Reverse the order of elements in a list.\n",
    "\n",
    "list7=[235,3,466,3,257,63,4,63,23]\n",
    "list7.reverse()\n",
    "print(f\"the list is reversal order of the element {list7}.\")"
   ]
  },
  {
   "cell_type": "code",
   "execution_count": 2,
   "id": "79388058-d6ee-47d5-8e15-8871deb467aa",
   "metadata": {},
   "outputs": [
    {
     "name": "stdout",
     "output_type": "stream",
     "text": [
      " this list in a sort by ascending order [7, 34, 34, 54, 65, 78, 78, 325, 575].\n"
     ]
    }
   ],
   "source": [
    "## 11. Sort a list in ascending order.\n",
    "\n",
    "list8=[575,34,65,7,78,78,54,325,34]\n",
    "list8.sort()\n",
    "print(f\" this list in a sort by ascending order {list8}.\")\n"
   ]
  },
  {
   "cell_type": "code",
   "execution_count": 6,
   "id": "ddb8d2c2-c1e4-46fa-bd7f-eab5032709f8",
   "metadata": {},
   "outputs": [
    {
     "name": "stdout",
     "output_type": "stream",
     "text": [
      "sort a list in descending in order [1346, 544, 436, 37, 32, 7, 5, 4, 3, 2].\n"
     ]
    }
   ],
   "source": [
    "## 12. Sort a list in descending order.\n",
    "\n",
    "list9=[1346,37,436,7,4,3,5,2,32,544]\n",
    "list9.sort(reverse=True)\n",
    "print(f\"sort a list in descending in order {list9}.\")"
   ]
  },
  {
   "cell_type": "code",
   "execution_count": 11,
   "id": "44d35de6-94ec-4676-8020-9f2db183d67b",
   "metadata": {},
   "outputs": [
    {
     "name": "stdout",
     "output_type": "stream",
     "text": [
      "list of even number between 1 to 20 : 2\n",
      "list of even number between 1 to 20 : 4\n",
      "list of even number between 1 to 20 : 6\n",
      "list of even number between 1 to 20 : 8\n",
      "list of even number between 1 to 20 : 10\n",
      "list of even number between 1 to 20 : 12\n",
      "list of even number between 1 to 20 : 14\n",
      "list of even number between 1 to 20 : 16\n",
      "list of even number between 1 to 20 : 18\n",
      "list of even number between 1 to 20 : 20\n"
     ]
    }
   ],
   "source": [
    "## 13. Create a list of even numbers from 1 to 20.\n",
    "\n",
    "list11=[]\n",
    "for n in range(1,21):\n",
    "    if n%2==0:\n",
    "        print(\"list of even number between 1 to 20 :\",n)\n",
    "    "
   ]
  },
  {
   "cell_type": "code",
   "execution_count": 12,
   "id": "442ef2cc-081c-47b0-b771-19cfc95ce32a",
   "metadata": {},
   "outputs": [
    {
     "name": "stdout",
     "output_type": "stream",
     "text": [
      "list of odd number between 1 to 20 : 1\n",
      "list of odd number between 1 to 20 : 3\n",
      "list of odd number between 1 to 20 : 5\n",
      "list of odd number between 1 to 20 : 7\n",
      "list of odd number between 1 to 20 : 9\n",
      "list of odd number between 1 to 20 : 11\n",
      "list of odd number between 1 to 20 : 13\n",
      "list of odd number between 1 to 20 : 15\n",
      "list of odd number between 1 to 20 : 17\n",
      "list of odd number between 1 to 20 : 19\n"
     ]
    }
   ],
   "source": [
    "## 14. Create a list of odd numbers from 1 to 20.\n",
    "\n",
    "list11=[]\n",
    "for n in range(1,21):\n",
    "    if n%2!=0:\n",
    "        print(\"list of odd number between 1 to 20 :\",n)\n",
    "    "
   ]
  },
  {
   "cell_type": "code",
   "execution_count": 15,
   "id": "5fd2e4b9-1b0f-43f1-a6e3-9fde07f85cdf",
   "metadata": {},
   "outputs": [
    {
     "name": "stdout",
     "output_type": "stream",
     "text": [
      "1\n",
      "3\n",
      "6\n",
      "10\n",
      "15\n",
      "21\n",
      "28\n",
      "36\n",
      "45\n"
     ]
    }
   ],
   "source": [
    "## 15. Find the sum of all elements in a list.\n",
    "\n",
    "list01=[1,2,3,4,5,6,7,8,9]\n",
    "s=0\n",
    "for i in list01:\n",
    "    s=s+i\n",
    "    print(s)"
   ]
  },
  {
   "cell_type": "code",
   "execution_count": 5,
   "id": "831b7585-1418-449f-a009-81e935d88af5",
   "metadata": {},
   "outputs": [
    {
     "name": "stdout",
     "output_type": "stream",
     "text": [
      "The maximum value in the list is 656.\n"
     ]
    }
   ],
   "source": [
    "## 16. Find the maximum value in a list.\n",
    "\n",
    "list02=[23,34,656,4,3,53,2,455]\n",
    "max_value = max(list02)\n",
    "print(f\"The maximum value in the list is {max_value}.\")\n",
    "\n",
    "\n",
    "    "
   ]
  },
  {
   "cell_type": "code",
   "execution_count": 6,
   "id": "8ef9770b-b74d-4766-85ea-123efe16a1af",
   "metadata": {},
   "outputs": [
    {
     "name": "stdout",
     "output_type": "stream",
     "text": [
      "The minimum value in the list is 2.\n"
     ]
    }
   ],
   "source": [
    "## 17. Find the minimum value in a list.\n",
    "\n",
    "list02=[23,34,656,4,3,53,2,455]\n",
    "min_value = min(list02)\n",
    "print(f\"The minimum value in the list is {min_value}.\")\n",
    "\n"
   ]
  },
  {
   "cell_type": "code",
   "execution_count": 11,
   "id": "b58d5bc2-5a67-4227-88f5-36c695b86777",
   "metadata": {},
   "outputs": [
    {
     "name": "stdout",
     "output_type": "stream",
     "text": [
      "square between in 1 to 10 :: 1\n",
      "square between in 1 to 10 :: 4\n",
      "square between in 1 to 10 :: 9\n",
      "square between in 1 to 10 :: 16\n",
      "square between in 1 to 10 :: 25\n",
      "square between in 1 to 10 :: 36\n",
      "square between in 1 to 10 :: 49\n",
      "square between in 1 to 10 :: 64\n",
      "square between in 1 to 10 :: 81\n",
      "square between in 1 to 10 :: 100\n"
     ]
    }
   ],
   "source": [
    "## 18. Create a list of squares of numbers from 1 to 10\n",
    "\n",
    "list03=[1,2,3,4,5,6,7,8,9,10]\n",
    "for i in list03:\n",
    "    print(\"square between in 1 to 10 ::\",i*i)"
   ]
  },
  {
   "cell_type": "code",
   "execution_count": 18,
   "id": "fdc18781-1014-4fc6-a42f-28fb9772f989",
   "metadata": {},
   "outputs": [
    {
     "name": "stdout",
     "output_type": "stream",
     "text": [
      "The list of 10 random numbers between 1 and 100 is: [1, 31, 61, 77, 48, 10, 41, 66, 59, 74]\n"
     ]
    }
   ],
   "source": [
    "## 19. Create a list of random numbers\n",
    "\n",
    "import random\n",
    "n = 10\n",
    "start = 1\n",
    "end = 100\n",
    "random_list = random.sample(range(start, end), n)\n",
    "print(f\"The list of {n} random numbers between {start} and {end} is: {random_list}\")\n"
   ]
  },
  {
   "cell_type": "code",
   "execution_count": 19,
   "id": "a9f04a60-f1f0-40b2-8c88-b47ef2050a03",
   "metadata": {},
   "outputs": [
    {
     "name": "stdout",
     "output_type": "stream",
     "text": [
      "The new list without duplicates is [1, 2, 3, 4, 5].\n"
     ]
    }
   ],
   "source": [
    "##  20. Remove duplicates from a list\n",
    "\n",
    "mylist = [1, 2, 3, 4, 5, 3, 2, 1, 3]\n",
    "new_list = list(set(mylist))\n",
    "print(f\"The new list without duplicates is {new_list}.\")\n"
   ]
  },
  {
   "cell_type": "code",
   "execution_count": 23,
   "id": "0f516611-afb7-451b-8e26-d1a4a67d29cf",
   "metadata": {},
   "outputs": [
    {
     "name": "stdout",
     "output_type": "stream",
     "text": [
      "The common elements between are [3, 5].\n"
     ]
    }
   ],
   "source": [
    "## 21. Find the common elements between two lists.\n",
    "\n",
    "list1 = [1, 2, 3, 4, 5, 3, 2, 1, 3]\n",
    "list2 = [3, 5, 7, 9]\n",
    "common_elements = list(set(list1).intersection(list2))\n",
    "print(f\"The common elements between are {common_elements}.\")\n"
   ]
  },
  {
   "cell_type": "code",
   "execution_count": 24,
   "id": "2cbf12cc-f105-4a74-855c-02bb430b97fb",
   "metadata": {},
   "outputs": [
    {
     "name": "stdout",
     "output_type": "stream",
     "text": [
      "The difference between is [1, 2, 4].\n"
     ]
    }
   ],
   "source": [
    "## 22. Find the difference between two lists.\n",
    "\n",
    "list1 = [1, 2, 3, 4, 5, 3, 2, 1, 3]\n",
    "list2 = [3, 5, 7, 9]\n",
    "difference = list(set(list1) - set(list2))\n",
    "print(f\"The difference between is {difference}.\")\n"
   ]
  },
  {
   "cell_type": "code",
   "execution_count": 26,
   "id": "fd09b088-0252-457d-b500-f80a24b4396e",
   "metadata": {},
   "outputs": [
    {
     "name": "stdout",
     "output_type": "stream",
     "text": [
      "The difference between is [1, 2, 3, 4, 5, 3, 3, 5, 7, 9].\n"
     ]
    }
   ],
   "source": [
    "## 23. Merge two lists\n",
    "\n",
    "list1 = [1, 2, 3, 4, 5, 3]\n",
    "list2 = [3, 5, 7, 9]\n",
    "merge = (list1)+(list2)\n",
    "print(f\"The difference between is {merge}.\")"
   ]
  },
  {
   "cell_type": "code",
   "execution_count": 28,
   "id": "2e3563a2-6592-4ca5-9413-731d7d1ed6c2",
   "metadata": {},
   "outputs": [
    {
     "name": "stdout",
     "output_type": "stream",
     "text": [
      "All elements are multiplied by 2 is [2, 4, 6, 8, 10].\n"
     ]
    }
   ],
   "source": [
    "## 24. Multiply all elements in a list by 2.\n",
    "# using list comprehension \n",
    "list1 = [1, 2, 3, 4, 5]\n",
    "new_list = [element * 2 for element in list1]\n",
    "print(f\"All elements are multiplied by 2 is {new_list}.\")\n"
   ]
  },
  {
   "cell_type": "code",
   "execution_count": 30,
   "id": "5a019409-a538-4646-9c9f-972e5f17e6c3",
   "metadata": {},
   "outputs": [
    {
     "name": "stdout",
     "output_type": "stream",
     "text": [
      " All even elements removed is [1, 3, 5].\n"
     ]
    }
   ],
   "source": [
    "## 25. Filter out all even numbers from a list.\n",
    "## using list comprehension \n",
    "mylist = [1, 2, 3, 4, 5]\n",
    "new_list = [element for element in mylist if element % 2 != 0]\n",
    "print(f\" All even elements removed is {new_list}.\")\n"
   ]
  },
  {
   "cell_type": "code",
   "execution_count": 31,
   "id": "fbb9546e-87ad-4866-a2af-cf4774d97c7f",
   "metadata": {},
   "outputs": [
    {
     "name": "stdout",
     "output_type": "stream",
     "text": [
      "All elements converted to integers is [1, 2, 3, 4, 5].\n"
     ]
    }
   ],
   "source": [
    "## 26. Convert a list of strings to a list of integers.\n",
    "# using map concept\n",
    "\n",
    "string_list = ['1', '2', '3', '4', '5']\n",
    "int_list = list(map(int, string_list))\n",
    "print(f\"All elements converted to integers is {int_list}.\")\n"
   ]
  },
  {
   "cell_type": "code",
   "execution_count": 32,
   "id": "4a1b80d3-21e7-439f-8f1e-c17ea01a2df8",
   "metadata": {},
   "outputs": [
    {
     "name": "stdout",
     "output_type": "stream",
     "text": [
      "TAll elements converted to strings is ['1', '2', '3', '4', '5'].\n"
     ]
    }
   ],
   "source": [
    "### 27. Convert a list of integers to a list of strings.\n",
    "\n",
    "my_list = [1, 2, 3, 4, 5]\n",
    "new_list = list(map(str, my_list))\n",
    "print(f\"TAll elements converted to strings is {new_list}.\")\n"
   ]
  },
  {
   "cell_type": "code",
   "execution_count": 33,
   "id": "25f47587-2b4b-4212-893b-b2c898189083",
   "metadata": {},
   "outputs": [
    {
     "name": "stdout",
     "output_type": "stream",
     "text": [
      "The flattened list is [1, 2, 3, 4, 5, 6, 7, 8, 9].\n"
     ]
    }
   ],
   "source": [
    "## 28. Flatten a nested list.\n",
    "\n",
    "nested_list = [[1, 2, 3], [4, 5, 6], [7, 8, 9]]\n",
    "flat_list = [element for sublist in nested_list for element in sublist]\n",
    "print(f\"The flattened list is {flat_list}.\")\n"
   ]
  },
  {
   "cell_type": "code",
   "execution_count": 34,
   "id": "0ea0b728-1cf7-4f89-8451-972bc538f997",
   "metadata": {},
   "outputs": [
    {
     "name": "stdout",
     "output_type": "stream",
     "text": [
      "The first 10 Fibonacci numbers are [0, 1, 1, 2, 3, 5, 8, 13, 21, 34].\n"
     ]
    }
   ],
   "source": [
    "## 29. Create a list of the first 10 Fibonacci numbers.\n",
    "\n",
    "fibonacci = [0, 1]\n",
    "for i in range(2, 10):\n",
    "    fibonacci.append(fibonacci[i-1] + fibonacci[i-2])\n",
    "print(f\"The first 10 Fibonacci numbers are {fibonacci}.\")\n"
   ]
  },
  {
   "cell_type": "code",
   "execution_count": 36,
   "id": "949b455c-149c-4576-8c46-604767b9c2e7",
   "metadata": {},
   "outputs": [
    {
     "name": "stdout",
     "output_type": "stream",
     "text": [
      "The list is sorted.\n"
     ]
    }
   ],
   "source": [
    "## 30. Check if a list is sorted.\n",
    "#using list comprehesion\n",
    "\n",
    "mylist = [1, 2, 3, 4, 5]\n",
    "if all(mylist[i] <= mylist[i+1] for i in range(len(mylist)-1)):\n",
    "    print(\"The list is sorted.\")\n",
    "else:\n",
    "    print(\"The list is not sorted.\")\n",
    "\n"
   ]
  },
  {
   "cell_type": "code",
   "execution_count": 38,
   "id": "83b5e490-741a-4ad5-b997-a9ef8d080065",
   "metadata": {},
   "outputs": [
    {
     "name": "stdout",
     "output_type": "stream",
     "text": [
      "The list rotated to the left by 2 positions is [3, 4, 5, 1, 2].\n"
     ]
    }
   ],
   "source": [
    "## 31. Rotate a list to the left by `n` positions.\n",
    "\n",
    "mylist = [1, 2, 3, 4, 5]\n",
    "n = 2\n",
    "rotated_list = mylist[n:] + mylist[:n]\n",
    "print(f\"The list rotated to the left by {n} positions is {rotated_list}.\")\n"
   ]
  },
  {
   "cell_type": "code",
   "execution_count": 44,
   "id": "43cf0bb3-ecdb-4063-8835-4273f54b3767",
   "metadata": {},
   "outputs": [
    {
     "name": "stdout",
     "output_type": "stream",
     "text": [
      "The list rotated to the right by 2 positions is [4, 5, 1, 2, 3].\n"
     ]
    }
   ],
   "source": [
    "## 32. Rotate a list to the right by `n` positions.\n",
    "\n",
    "mylist = [1, 2, 3, 4, 5]\n",
    "n = 2\n",
    "rotated_list = mylist[-n:] + mylist[:-n]\n",
    "print(f\"The list rotated to the right by {n} positions is {rotated_list}.\")\n"
   ]
  },
  {
   "cell_type": "code",
   "execution_count": 1,
   "id": "8c241ab8-e743-466b-8bc1-c7da4ce2c7ec",
   "metadata": {},
   "outputs": [
    {
     "name": "stdout",
     "output_type": "stream",
     "text": [
      "Prime numbers up to 50: [2, 3, 5, 7, 11, 13, 17, 19, 23, 29, 31, 37, 41, 43, 47]\n"
     ]
    }
   ],
   "source": [
    "## 33. Create a list of prime numbers up to 50.\n",
    "\n",
    "primes = []\n",
    "for num in range(2, 51):\n",
    "    is_prime = True\n",
    "    for i in range(2, num):\n",
    "        if num % i == 0:\n",
    "            is_prime = False\n",
    "            break\n",
    "    if is_prime:\n",
    "        primes.append(num)\n",
    "print(f\"Prime numbers up to 50: {primes}\")\n"
   ]
  },
  {
   "cell_type": "code",
   "execution_count": 4,
   "id": "85557b33-872b-4f22-be71-cac11394300d",
   "metadata": {},
   "outputs": [
    {
     "name": "stdout",
     "output_type": "stream",
     "text": [
      "The list split into chunks of size 3 is: [[1, 2, 3], [4, 5, 6], [7, 8, 9]]\n"
     ]
    }
   ],
   "source": [
    "## 34. Split a list into chunks of size `n`.\n",
    "\n",
    "my_list = [1, 2, 3, 4, 5, 6, 7, 8, 9]\n",
    "n = 3\n",
    "chunks = [my_list[i:i+n] for i in range(0, len(my_list), n)]\n",
    "print(f\"The list split into chunks of size {n} is: {chunks}\")\n"
   ]
  },
  {
   "cell_type": "code",
   "execution_count": 6,
   "id": "36df299f-6449-4dfe-809a-9301c59cc4d2",
   "metadata": {},
   "outputs": [
    {
     "name": "stdout",
     "output_type": "stream",
     "text": [
      "The second largest number in [1, 3, 5, 7, 9, 2, 4, 6, 8, 10] is 9\n"
     ]
    }
   ],
   "source": [
    "## 35. Find the second largest number in a list.\n",
    "\n",
    "list2 = [1, 3, 5, 7, 9, 2, 4, 6, 8, 10]\n",
    "largest = second_largest = float('-inf')\n",
    "for num in list2:\n",
    "    if num > largest:\n",
    "        second_largest = largest\n",
    "        largest = num\n",
    "    elif num > second_largest:\n",
    "        second_largest = num\n",
    "print(f\"The second largest number in {list2} is {second_largest}\")\n"
   ]
  },
  {
   "cell_type": "code",
   "execution_count": 7,
   "id": "6361f680-2ea4-49b7-a3aa-a87badcfdadb",
   "metadata": {},
   "outputs": [
    {
     "name": "stdout",
     "output_type": "stream",
     "text": [
      "[1, 4, 9, 16, 25]\n"
     ]
    }
   ],
   "source": [
    "## 36. Replace every element in a list with its square.\n",
    "\n",
    "my_list = [1, 2, 3, 4, 5]\n",
    "my_list = list(map(lambda x: x**2, my_list))\n",
    "print(my_list)\n"
   ]
  },
  {
   "cell_type": "code",
   "execution_count": 8,
   "id": "9a382af0-c849-4a68-8a6d-14cac6f5de4f",
   "metadata": {},
   "outputs": [
    {
     "name": "stdout",
     "output_type": "stream",
     "text": [
      "{'apple': 0, 'banana': 1, 'cherry': 2}\n"
     ]
    }
   ],
   "source": [
    "##37. Convert a list to a dictionary where list elements become keys and their\n",
    "## indices become values.\n",
    "\n",
    "\n",
    "my_list = ['apple', 'banana', 'cherry']\n",
    "my_dict = {key: value for value, key in enumerate(my_list)}\n",
    "print(my_dict)\n"
   ]
  },
  {
   "cell_type": "code",
   "execution_count": 10,
   "id": "e35fb8f9-dab4-41b4-9fe2-9335519462ae",
   "metadata": {},
   "outputs": [
    {
     "name": "stdout",
     "output_type": "stream",
     "text": [
      "[2, 4, 5, 3, 1]\n"
     ]
    }
   ],
   "source": [
    "### 38. Shuffle the elements of a list randomly\n",
    "\n",
    "import random\n",
    "\n",
    "mlist = [1, 2, 3, 4, 5]\n",
    "random.shuffle(mlist)\n",
    "print(mlist)\n"
   ]
  },
  {
   "cell_type": "code",
   "execution_count": 11,
   "id": "0df2d4e7-47e0-4062-acec-389e63844a65",
   "metadata": {},
   "outputs": [
    {
     "name": "stdout",
     "output_type": "stream",
     "text": [
      "[1, 2, 6, 24, 120, 720, 5040, 40320, 362880]\n"
     ]
    }
   ],
   "source": [
    "## 39. Create a list of the first 10 factorial numbers.\n",
    "\n",
    "s = []\n",
    "s = [s[-1] for x in range(1, 10) if not s.append(x * s[-1] if s else 1)]\n",
    "print(s)\n"
   ]
  },
  {
   "cell_type": "code",
   "execution_count": 12,
   "id": "f84a47cc-5b7e-4979-9135-611444b92070",
   "metadata": {},
   "outputs": [],
   "source": [
    "## 40. Check if two lists have at least one element in common.\n",
    "\n",
    "def have_common_element(list1, list2):\n",
    "  for elem in list1:\n",
    "    if elem in list2:\n",
    "      return True\n",
    "  return False\n"
   ]
  },
  {
   "cell_type": "code",
   "execution_count": 13,
   "id": "b39200a5-1c3e-42b0-8bc3-edf5234be4e3",
   "metadata": {},
   "outputs": [
    {
     "data": {
      "text/plain": [
       "True"
      ]
     },
     "execution_count": 13,
     "metadata": {},
     "output_type": "execute_result"
    }
   ],
   "source": [
    "have_common_element([2,3,45,1,2],[2,34,45,23,1,2])"
   ]
  },
  {
   "cell_type": "code",
   "execution_count": 14,
   "id": "92a4caea-4a65-4311-8789-f05c5d486a0e",
   "metadata": {},
   "outputs": [
    {
     "name": "stdout",
     "output_type": "stream",
     "text": [
      "[]\n"
     ]
    }
   ],
   "source": [
    "## 41. Remove all elements from a list.\n",
    "\n",
    "my_list = [1, 2, 3,32,2,43,54,35,21, 4, 5]\n",
    "my_list.clear()\n",
    "print(my_list) \n"
   ]
  },
  {
   "cell_type": "code",
   "execution_count": 15,
   "id": "f74fd933-71ef-435e-ae47-b9732f93d61b",
   "metadata": {},
   "outputs": [
    {
     "name": "stdout",
     "output_type": "stream",
     "text": [
      "[1, 0, 3, 0, 5, 0]\n"
     ]
    }
   ],
   "source": [
    "## 42. Replace negative numbers in a list with 0.\n",
    "\n",
    "my_list = [1, -2, 3, -4, 5, -6]\n",
    "my_list = [0 if x < 0 else x for x in my_list]\n",
    "print(my_list) \n"
   ]
  },
  {
   "cell_type": "code",
   "execution_count": 16,
   "id": "a7b29756-693e-4469-82f2-ae82609d2684",
   "metadata": {},
   "outputs": [
    {
     "name": "stdout",
     "output_type": "stream",
     "text": [
      "['This', 'is', 'a', 'string', 'with', 'words']\n"
     ]
    }
   ],
   "source": [
    "## 43. Convert a string into a list of words.\n",
    "\n",
    "sentence = \"This is a string with words\"\n",
    "words = sentence.split()\n",
    "print(words) \n"
   ]
  },
  {
   "cell_type": "code",
   "execution_count": 17,
   "id": "fbbe76d3-b3b5-4aa2-a0f6-ec5ec2136fd1",
   "metadata": {},
   "outputs": [
    {
     "name": "stdout",
     "output_type": "stream",
     "text": [
      "Hello world\n"
     ]
    }
   ],
   "source": [
    "##44. Convert a list of words into a string.\n",
    "\n",
    "words = [\"Hello\", \"world\"]\n",
    "sentence = \" \".join(words) # use a space as the separator\n",
    "print(sentence) # prints \"Hello world\"\n"
   ]
  },
  {
   "cell_type": "code",
   "execution_count": 18,
   "id": "bbe59cf2-0e1b-47e6-8f53-9d6fc25d66b0",
   "metadata": {},
   "outputs": [
    {
     "name": "stdout",
     "output_type": "stream",
     "text": [
      "[1, 245, 60025, 14706125, 3603000625]\n",
      "[1, 2, 4, 8, 16]\n"
     ]
    }
   ],
   "source": [
    "## 45 Create a list of the first `n` powers of 2.\n",
    "\n",
    "import numpy as np\n",
    "n = 5 # change this to any positive integer\n",
    "base = np.full(n, 245) # create an array of n elements with value 245\n",
    "exponent = np.arange(n) # create an array of n elements with value 0 to n-1\n",
    "powers = np.power(base, exponent) # compute the element-wise power\n",
    "powers = powers.tolist() # convert the numpy array to a list\n",
    "print(powers) # prints [1, 245, 60025, 14700625, 360050625]\n",
    "n = 5 # change this to any positive integer\n",
    "powers = [2**i for i in range(n)] # create a list with value 2^i for i from 0 to n-1\n",
    "print(powers) # prints [1, 2, 4, 8, 16]\n"
   ]
  },
  {
   "cell_type": "code",
   "execution_count": 19,
   "id": "37476d9a-967a-4338-a5ee-8f969478ac7d",
   "metadata": {},
   "outputs": [
    {
     "name": "stdout",
     "output_type": "stream",
     "text": [
      "banana\n"
     ]
    }
   ],
   "source": [
    "## 46. Find the longest string in a list of strings.\n",
    "\n",
    "my_list = [\"apple\", \"banana\", \"cherry\", \"date\"]\n",
    "longest = max(my_list, key=len)\n",
    "print(longest) # prints cherry\n"
   ]
  },
  {
   "cell_type": "code",
   "execution_count": 20,
   "id": "391ce535-80c9-4a79-ba59-f01ea242544d",
   "metadata": {},
   "outputs": [
    {
     "name": "stdout",
     "output_type": "stream",
     "text": [
      "date\n"
     ]
    }
   ],
   "source": [
    "## 47. Find the shortest string in a list of strings.\n",
    "\n",
    "my_list = [\"apple\", \"banana\", \"cherry\", \"date\"]\n",
    "shortest = min(my_list, key=len)\n",
    "print(shortest) # prints date\n"
   ]
  },
  {
   "cell_type": "code",
   "execution_count": 21,
   "id": "1220557a-fa27-4383-b62f-7e84af20983d",
   "metadata": {},
   "outputs": [
    {
     "name": "stdout",
     "output_type": "stream",
     "text": [
      "[1, 3, 6, 10, 15, 21, 28, 36, 45, 55]\n"
     ]
    }
   ],
   "source": [
    "## 48. Create a list of the first `n` triangular numbers\n",
    "\n",
    "n = 10 # change this to any positive integer\n",
    "triangular_numbers = [n * (n + 1) // 2 for n in range(1, n + 1)]\n",
    "print(triangular_numbers) # prints [1, 3, 6, 10, 15, 21, 28, 36, 45, 55]\n"
   ]
  },
  {
   "cell_type": "code",
   "execution_count": 22,
   "id": "b1167d20-6541-450b-9069-acdb6a852e92",
   "metadata": {},
   "outputs": [],
   "source": [
    "## 49. Check if a list contains another list as a subsequence.\n",
    "\n",
    "def contains(list1, list2):\n",
    "  # check if list2 is empty\n",
    "  if not list2:\n",
    "    return True\n",
    "  # check if list1 is shorter than list2\n",
    "  if len(list1) < len(list2):\n",
    "    return False\n",
    "  # loop through list1\n",
    "  for i in range(len(list1) - len(list2) + 1):\n",
    "    # compare the subsequence starting from index i with list2\n",
    "    if list1[i:i+len(list2)] == list2:\n",
    "      # return the start and end indices of the subsequence\n",
    "      return [i, i+len(list2)-1]\n",
    "  # return False if no subsequence is found\n",
    "  return False\n"
   ]
  },
  {
   "cell_type": "code",
   "execution_count": 27,
   "id": "d49031d1-c9bd-4425-9adf-0d6015baf2d8",
   "metadata": {},
   "outputs": [
    {
     "data": {
      "text/plain": [
       "False"
      ]
     },
     "execution_count": 27,
     "metadata": {},
     "output_type": "execute_result"
    }
   ],
   "source": [
    "contains([1,2,3,4,5],[1,2,3,4,5,34,2,3])"
   ]
  },
  {
   "cell_type": "code",
   "execution_count": 28,
   "id": "e76ed47d-4348-43ed-9735-71d34fb1a1fe",
   "metadata": {},
   "outputs": [
    {
     "name": "stdout",
     "output_type": "stream",
     "text": [
      "['a', 'd', 'c', 'b']\n"
     ]
    }
   ],
   "source": [
    "## 50. Swap two elements in a list by their indices.\n",
    "\n",
    "lst = [\"a\", \"b\", \"c\", \"d\"]\n",
    "i, j = 1, 3 # Swap index i=1 with index j=3\n",
    "lst[i], lst[j] = lst[j], lst[i]\n",
    "print(lst) # [\"a\", \"d\", \"c\", \"b\"]\n"
   ]
  },
  {
   "cell_type": "code",
   "execution_count": 29,
   "id": "696fa35b-d6aa-423e-8795-79198c661a6a",
   "metadata": {},
   "outputs": [],
   "source": [
    "#####_______Tuple Based Practice Problem :\n",
    "    \n",
    "\n",
    "## 1. Create a tuple with integers from 1 to 5.\n",
    "\n",
    "t1=(1,2,3,4,5)"
   ]
  },
  {
   "cell_type": "code",
   "execution_count": 30,
   "id": "152f8a0c-e062-4b3e-acc9-ee054057218f",
   "metadata": {},
   "outputs": [
    {
     "data": {
      "text/plain": [
       "tuple"
      ]
     },
     "execution_count": 30,
     "metadata": {},
     "output_type": "execute_result"
    }
   ],
   "source": [
    "type(t1)"
   ]
  },
  {
   "cell_type": "code",
   "execution_count": 31,
   "id": "9068650d-98a0-45a3-bd21-1780b93755c7",
   "metadata": {},
   "outputs": [
    {
     "data": {
      "text/plain": [
       "(1, 2, 3, 4, 5)"
      ]
     },
     "execution_count": 31,
     "metadata": {},
     "output_type": "execute_result"
    }
   ],
   "source": [
    "t1"
   ]
  },
  {
   "cell_type": "code",
   "execution_count": null,
   "id": "46df1e37-ed00-48e5-a39c-862434e8c72b",
   "metadata": {},
   "outputs": [],
   "source": [
    "## 2. Access the third element of a tuple.\n",
    "\n",
    "my_tuple = (\"apple\", \"banana\", \"cherry\", \"date\")\n",
    "\n",
    "# Access the third element (index 2)\n",
    "print(my_tuple[2])\n",
    "\n",
    "\n"
   ]
  },
  {
   "cell_type": "code",
   "execution_count": 32,
   "id": "2c9b8907-ecb8-4f77-9381-52d4a1da6690",
   "metadata": {},
   "outputs": [],
   "source": [
    "## 3. Find the length of a tuple without using the `len()` function.\n",
    "\n",
    "def tuple_length(t):\n",
    "  # initialize a counter variable\n",
    "  count = 0\n",
    "  # loop through the tuple\n",
    "  for elem in t:\n",
    "    # increment the counter by 1\n",
    "    count += 1\n",
    "  # return the counter value\n",
    "  return count\n"
   ]
  },
  {
   "cell_type": "code",
   "execution_count": 34,
   "id": "7c652947-98e6-44a0-a954-5a67f3ba7d75",
   "metadata": {},
   "outputs": [
    {
     "data": {
      "text/plain": [
       "5"
      ]
     },
     "execution_count": 34,
     "metadata": {},
     "output_type": "execute_result"
    }
   ],
   "source": [
    "tuple_length(\"apple\")"
   ]
  },
  {
   "cell_type": "code",
   "execution_count": 35,
   "id": "1eb20065-de8e-43aa-887c-0875ef95e76d",
   "metadata": {},
   "outputs": [
    {
     "name": "stdout",
     "output_type": "stream",
     "text": [
      "2\n"
     ]
    }
   ],
   "source": [
    "## 4. Count the occurrences of an element in a tuple.\n",
    "\n",
    "# create a tuple of fruits\n",
    "fruits = (\"apple\", \"banana\", \"cherry\", \"apple\", \"mango\")\n",
    "\n",
    "# count the occurrences of \"apple\"\n",
    "count = fruits.count(\"apple\")\n",
    "print(count) # prints 2\n"
   ]
  },
  {
   "cell_type": "code",
   "execution_count": 40,
   "id": "df46d2da-4123-4bd9-b641-408b3ed836f2",
   "metadata": {},
   "outputs": [
    {
     "name": "stdout",
     "output_type": "stream",
     "text": [
      "1\n"
     ]
    }
   ],
   "source": [
    "## 5. Find the index of the first occurrence of an element in a tuple.\n",
    "colors = (\"red\", \"green\", \"blue\", \"yellow\", \"pink\", \"green\")\n",
    "\n",
    "index = colors.index(\"green\")\n",
    "print(index) # prints 1\n",
    "\n",
    "\n"
   ]
  },
  {
   "cell_type": "code",
   "execution_count": 41,
   "id": "6ce21803-b16a-4b46-a935-58b6beaf404d",
   "metadata": {},
   "outputs": [
    {
     "name": "stdout",
     "output_type": "stream",
     "text": [
      "True\n",
      "False\n"
     ]
    }
   ],
   "source": [
    "## 6. Check if an element exists in a tuple.\n",
    "\n",
    "# Create a tuple of numbers\n",
    "my_tuple = (1, 2, 3, 4, 5)\n",
    "\n",
    "# Check if 3 is in the tuple\n",
    "print(3 in my_tuple) # prints True\n",
    "\n",
    "# Check if 6 is in the tuple\n",
    "print(6 in my_tuple) # prints False\n"
   ]
  },
  {
   "cell_type": "code",
   "execution_count": 42,
   "id": "bc3a1d3e-7284-41e8-841c-0abce6fdd6cd",
   "metadata": {},
   "outputs": [
    {
     "name": "stdout",
     "output_type": "stream",
     "text": [
      "[1, 2, 3, 4, 5]\n"
     ]
    }
   ],
   "source": [
    "## 7. Convert a tuple to a list.\n",
    "\n",
    "# Create a tuple of numbers\n",
    "my_tuple = (1, 2, 3, 4, 5)\n",
    "\n",
    "# Convert the tuple to a list\n",
    "my_list = list(my_tuple)\n",
    "\n",
    "# Print the list\n",
    "print(my_list) # prints [1, 2, 3, 4, 5]\n"
   ]
  },
  {
   "cell_type": "code",
   "execution_count": 43,
   "id": "8cbd7d67-0fee-4cbc-8430-b05144eeee9a",
   "metadata": {},
   "outputs": [
    {
     "name": "stdout",
     "output_type": "stream",
     "text": [
      "(1, 2, 3, 4, 5)\n"
     ]
    }
   ],
   "source": [
    "## 8. Convert a list to a tuple.\n",
    "\n",
    "# Create a list of numbers\n",
    "my_list = [1, 2, 3, 4, 5]\n",
    "\n",
    "# Convert the list to a tuple\n",
    "my_tuple = tuple(my_list)\n",
    "\n",
    "# Print the tuple\n",
    "print(my_tuple) # prints (1, 2, 3, 4, 5)\n"
   ]
  },
  {
   "cell_type": "code",
   "execution_count": 45,
   "id": "b2fa6bf7-c6dc-451b-9778-ead71c1e79a2",
   "metadata": {},
   "outputs": [
    {
     "ename": "SyntaxError",
     "evalue": "invalid syntax (1740598445.py, line 3)",
     "output_type": "error",
     "traceback": [
      "\u001b[0;36m  Cell \u001b[0;32mIn[45], line 3\u001b[0;36m\u001b[0m\n\u001b[0;31m    (variable1, variable2, ....., variableN) = tuple_name\u001b[0m\n\u001b[0m                               ^\u001b[0m\n\u001b[0;31mSyntaxError\u001b[0m\u001b[0;31m:\u001b[0m invalid syntax\n"
     ]
    }
   ],
   "source": [
    "## 9. Unpack the elements of a tuple into variables.\n",
    "\n",
    "(variable1, variable2, ....., variableN) = tuple_name\n",
    "(a, b, c) = my_tuple\n"
   ]
  },
  {
   "cell_type": "code",
   "execution_count": 46,
   "id": "4c600717-1b95-49d4-bfa9-0476207db727",
   "metadata": {},
   "outputs": [
    {
     "name": "stdout",
     "output_type": "stream",
     "text": [
      "(2, 4, 6, 8, 10)\n"
     ]
    }
   ],
   "source": [
    "## 10. Create a tuple of even numbers from 1 to 10.\n",
    "\n",
    "# Create a tuple of even numbers from 1 to 10\n",
    "even_tuple = tuple(range(2, 11, 2))\n",
    "\n",
    "# Print the tuple\n",
    "print(even_tuple) # prints (2, 4, 6, 8, 10)\n"
   ]
  },
  {
   "cell_type": "code",
   "execution_count": 47,
   "id": "d9e4b0b8-893e-407c-bfa5-dd49d1f94270",
   "metadata": {},
   "outputs": [
    {
     "name": "stdout",
     "output_type": "stream",
     "text": [
      "(1, 3, 5, 7, 9)\n"
     ]
    }
   ],
   "source": [
    "## 11. Create a tuple of odd numbers from 1 to 10.\n",
    "\n",
    "# Create a tuple of odd numbers from 1 to 10\n",
    "odd_tuple = tuple(range(1, 11, 2))\n",
    "\n",
    "# Print the tuple\n",
    "print(odd_tuple) # prints (1, 3, 5, 7, 9)\n"
   ]
  },
  {
   "cell_type": "code",
   "execution_count": 48,
   "id": "468e4745-43db-4fda-b60a-4736bb5fabaa",
   "metadata": {},
   "outputs": [
    {
     "name": "stdout",
     "output_type": "stream",
     "text": [
      "(1, 2, 3, 4, 5, 6)\n"
     ]
    }
   ],
   "source": [
    "## 12. Concatenate two tuples.\n",
    "\n",
    "# Create two tuples named tuple1 and tuple2\n",
    "tuple1 = (1, 2, 3)\n",
    "tuple2 = (4, 5, 6)\n",
    "\n",
    "# Concatenate the two tuples using the + operator\n",
    "result = tuple1 + tuple2\n",
    "\n",
    "# Print the result\n",
    "print(result) # prints (1, 2, 3, 4, 5, 6)\n"
   ]
  },
  {
   "cell_type": "code",
   "execution_count": 49,
   "id": "4bd801b4-89f2-44af-937c-7b88d15662f9",
   "metadata": {},
   "outputs": [
    {
     "name": "stdout",
     "output_type": "stream",
     "text": [
      "(1, 2, 3, 1, 2, 3, 1, 2, 3)\n"
     ]
    }
   ],
   "source": [
    "##13. Repeat a tuple three times\n",
    "\n",
    "# Create a tuple of numbers\n",
    "my_tuple = (1, 2, 3)\n",
    "\n",
    "# Repeat the tuple three times using the * operator\n",
    "result = my_tuple * 3\n",
    "\n",
    "# Print the result\n",
    "print(result) # prints (1, 2, 3, 1, 2, 3, 1, 2, 3)\n",
    "\n"
   ]
  },
  {
   "cell_type": "code",
   "execution_count": 50,
   "id": "63aa0e71-78aa-4175-8894-eb1fe791a8bb",
   "metadata": {},
   "outputs": [
    {
     "name": "stdout",
     "output_type": "stream",
     "text": [
      "True\n"
     ]
    }
   ],
   "source": [
    "## 14. Check if a tuple is empty.\n",
    "\n",
    "# create a tuple\n",
    "t = ()\n",
    "\n",
    "# check if tuple is empty\n",
    "print(len(t) == 0) # prints True\n"
   ]
  },
  {
   "cell_type": "code",
   "execution_count": 52,
   "id": "671f24f6-4fd9-4157-8037-6d92d8415bd2",
   "metadata": {},
   "outputs": [
    {
     "name": "stdout",
     "output_type": "stream",
     "text": [
      "5\n"
     ]
    }
   ],
   "source": [
    "## 15. Create a nested tuple.\n",
    "\n",
    "nested_tuple = ((1, 2, 3), (4, 5, 6))\n",
    "print(nested_tuple[1][1]) # prints 5\n"
   ]
  },
  {
   "cell_type": "code",
   "execution_count": 53,
   "id": "4f13e670-7d7a-4715-ae3d-8fd9a2382a6b",
   "metadata": {},
   "outputs": [
    {
     "name": "stdout",
     "output_type": "stream",
     "text": [
      "1\n"
     ]
    }
   ],
   "source": [
    "## 16. Access the first element of a nested tuple.\n",
    "\n",
    "# Create a nested tuple\n",
    "nested_tuple = ((1, 2, 3), (4, 5, 6))\n",
    "\n",
    "# Access the first element of the first tuple\n",
    "print(nested_tuple[0][0]) # prints 1\n"
   ]
  },
  {
   "cell_type": "code",
   "execution_count": 1,
   "id": "182950c5-a738-441a-bf6e-a1bedc4596db",
   "metadata": {},
   "outputs": [],
   "source": [
    "## 17. Create a tuple with a single element.\n",
    "\n",
    "my_tuple = (\"apple\",)\n",
    "my_tuple = (\"apple\")\n",
    "\n"
   ]
  },
  {
   "cell_type": "code",
   "execution_count": null,
   "id": "4eb8ce4b-2adf-4a0a-bcd2-cb5b332e8270",
   "metadata": {},
   "outputs": [],
   "source": [
    "## 18. Compare two tuples.\n"
   ]
  },
  {
   "cell_type": "code",
   "execution_count": 22,
   "id": "abdd6cbe-637b-4b26-9b44-5673d7c3ec2c",
   "metadata": {},
   "outputs": [
    {
     "name": "stdout",
     "output_type": "stream",
     "text": [
      "(1, 2, 3, 4, 5)\n"
     ]
    }
   ],
   "source": [
    "## 19. Delete a tuple in python\n",
    "\n",
    "\n",
    "# Create a tuple\n",
    "my_tuple = (1, 2, 3, 4, 5)\n",
    "print(my_tuple) \n",
    "\n",
    "\n"
   ]
  },
  {
   "cell_type": "code",
   "execution_count": 5,
   "id": "07eec976-3178-4b6c-9fb0-d6ea34fb98f1",
   "metadata": {},
   "outputs": [
    {
     "data": {
      "text/plain": [
       "('a', 'b', 'c', 'd', 'e')"
      ]
     },
     "execution_count": 5,
     "metadata": {},
     "output_type": "execute_result"
    }
   ],
   "source": [
    "## 20. Slice a tuple.\n",
    "\n",
    "\n",
    "my_tuple = ('a', 'b', 'c', 'd', 'e', 'f', 'g', 'h', 'i', 'j', 'k', 'l', 'm', 'n', 'o', 'p', 'q', 'r', 's', 't', 'u', 'v', 'w', 'x', 'y', 'z')\n",
    "my_tuple[:5]"
   ]
  },
  {
   "cell_type": "code",
   "execution_count": 6,
   "id": "b9d9b3ce-c998-412e-95b7-e7d4277eb049",
   "metadata": {},
   "outputs": [
    {
     "name": "stdout",
     "output_type": "stream",
     "text": [
      "(10, 20, 30, 40, 50)\n",
      "50\n"
     ]
    }
   ],
   "source": [
    "## 21. Find the maximum value in a tuple.\n",
    "\n",
    "# Create a tuple\n",
    "my_tuple = (10, 20, 30, 40, 50)\n",
    "print(my_tuple) # Output: (10, 20, 30, 40, 50)\n",
    "\n",
    "# Find the maximum value in the tuple\n",
    "max_value = max(my_tuple)\n",
    "print(max_value)\n"
   ]
  },
  {
   "cell_type": "code",
   "execution_count": 7,
   "id": "99275598-5705-465b-b458-0f5cc2db3c89",
   "metadata": {},
   "outputs": [
    {
     "name": "stdout",
     "output_type": "stream",
     "text": [
      "(10, 20, 30, 40, 50)\n",
      "10\n"
     ]
    }
   ],
   "source": [
    "## 22. Find the minimum value in a tuple.\n",
    "\n",
    "# Create a tuple\n",
    "my_tuple = (10, 20, 30, 40, 50)\n",
    "print(my_tuple) # Output: (10, 20, 30, 40, 50)\n",
    "\n",
    "# Find the minimum value in the tuple\n",
    "min_value = min(my_tuple)\n",
    "print(min_value)\n"
   ]
  },
  {
   "cell_type": "code",
   "execution_count": 8,
   "id": "1d37b203-2b82-456a-a498-c70bd10e3b5f",
   "metadata": {},
   "outputs": [
    {
     "name": "stdout",
     "output_type": "stream",
     "text": [
      "Hello, world!\n",
      "('H', 'e', 'l', 'l', 'o', ',', ' ', 'w', 'o', 'r', 'l', 'd', '!')\n"
     ]
    }
   ],
   "source": [
    "## 23. Convert a string to a tuple of characters.\n",
    "\n",
    "# Create a string\n",
    "my_string = \"Hello, world!\"\n",
    "print(my_string) # Output: Hello, world!\n",
    "\n",
    "# Convert the string to a tuple of characters\n",
    "my_tuple = tuple(my_string)\n",
    "print(my_tuple) "
   ]
  },
  {
   "cell_type": "code",
   "execution_count": 9,
   "id": "d9d1ac25-35cd-4a8b-a451-df90ac646899",
   "metadata": {},
   "outputs": [
    {
     "name": "stdout",
     "output_type": "stream",
     "text": [
      "('H', 'e', 'l', 'l', 'o')\n",
      "Hello\n"
     ]
    }
   ],
   "source": [
    "## 24. Convert a tuple of characters to a string.\n",
    "\n",
    "# Create a tuple\n",
    "my_tuple = ('H', 'e', 'l', 'l', 'o')\n",
    "print(my_tuple) # Output: ('H', 'e', 'l', 'l', 'o')\n",
    "\n",
    "# Convert the tuple to a string\n",
    "my_string = ''.join(my_tuple)\n",
    "print(my_string) "
   ]
  },
  {
   "cell_type": "code",
   "execution_count": 10,
   "id": "05b7b618-8130-48dc-b0cc-6a3f81922b56",
   "metadata": {},
   "outputs": [
    {
     "name": "stdout",
     "output_type": "stream",
     "text": [
      "('Hello', True, 3.14, 42)\n",
      "<class 'tuple'>\n",
      "(1, 'a', False, 2.5)\n",
      "<class 'tuple'>\n"
     ]
    }
   ],
   "source": [
    "## 25. Create a tuple from multiple data types.\n",
    "\n",
    "# Create a tuple using parentheses\n",
    "my_tuple = (\"Hello\", True, 3.14, 42)\n",
    "print(my_tuple) # Output: ('Hello', True, 3.14, 42)\n",
    "print(type(my_tuple)) # Output: <class 'tuple'>\n",
    "\n",
    "# Create a tuple using the tuple() function\n",
    "my_tuple = tuple([1, \"a\", False, 2.5])\n",
    "print(my_tuple) # Output: (1, 'a', False, 2.5)\n",
    "print(type(my_tuple))\n"
   ]
  },
  {
   "cell_type": "code",
   "execution_count": 11,
   "id": "9597c10a-a3cd-4e9f-b788-b35a9c198bc0",
   "metadata": {},
   "outputs": [
    {
     "name": "stdout",
     "output_type": "stream",
     "text": [
      "True\n",
      "False\n"
     ]
    }
   ],
   "source": [
    "## 26. Check if two tuples are identical.\n",
    "\n",
    "a = (1, 2, 3)\n",
    "b = (3, 2, 1)\n",
    "c = (1, 2, 4)\n",
    "\n",
    "print(set(a) == set(b)) \n",
    "print(set(a) == set(c))\n"
   ]
  },
  {
   "cell_type": "code",
   "execution_count": 2,
   "id": "045dac22-db84-4dff-8f7f-f5e2e34d951b",
   "metadata": {},
   "outputs": [],
   "source": [
    "## 27. Sort the elements of a tuple.\n",
    "\n",
    "my_tuple = (5, 2, 9, 7, 1, 4)\n",
    "my_list = list(my_tuple) # returns [5, 2, 9, 7, 1, 4]\n",
    "my_list.sort() # sorts the list in place\n",
    "sorted_tuple = tuple(my_list)\n"
   ]
  },
  {
   "cell_type": "code",
   "execution_count": 3,
   "id": "e74ea91b-67cf-4c0b-9056-9abc2e349517",
   "metadata": {},
   "outputs": [
    {
     "name": "stdout",
     "output_type": "stream",
     "text": [
      "('1', '2', '3', '4', '5')\n"
     ]
    }
   ],
   "source": [
    "## 28. Convert a tuple of integers to a tuple of strings.\n",
    "\n",
    "my_tuple = (1, 2, 3, 4, 5)\n",
    "string_tuple = ()\n",
    "for num in my_tuple:\n",
    "    string_tuple += (str(num),) # append the string version of the number to the new tuple\n",
    "print(string_tuple) "
   ]
  },
  {
   "cell_type": "code",
   "execution_count": 4,
   "id": "db5eaf52-c212-45da-a93c-0619506a5723",
   "metadata": {},
   "outputs": [
    {
     "name": "stdout",
     "output_type": "stream",
     "text": [
      "(1, 2, 3, 4, 5)\n"
     ]
    }
   ],
   "source": [
    "##29. Convert a tuple of strings to a tuple of integers.\n",
    "\n",
    "my_tuple = ('1', '2', '3', '4', '5')\n",
    "int_tuple = tuple(map(int, my_tuple)) # apply the int() function to each element of the tuple and convert the result to a tuple\n",
    "print(int_tuple)\n"
   ]
  },
  {
   "cell_type": "code",
   "execution_count": 5,
   "id": "70c7adff-f1e5-4577-9730-71dbe67632bb",
   "metadata": {},
   "outputs": [
    {
     "name": "stdout",
     "output_type": "stream",
     "text": [
      "('a', 'b', 'c', 1, 2, 3)\n"
     ]
    }
   ],
   "source": [
    "## 30. Merge two tuples\n",
    "tuple1 = (\"a\", \"b\" , \"c\")\n",
    "tuple2 = (1, 2, 3)\n",
    "\n",
    "tuple3 = tuple1 + tuple2\n",
    "print(tuple3)"
   ]
  },
  {
   "cell_type": "code",
   "execution_count": 7,
   "id": "b5e9743a-f6ac-4728-81d5-d175feac12f4",
   "metadata": {},
   "outputs": [
    {
     "name": "stdout",
     "output_type": "stream",
     "text": [
      "The original tuple: ((11, 12), (13, 14), (15, 16))\n",
      "The flattened tuple: ((11, 12), (13, 14), (15, 16))\n"
     ]
    }
   ],
   "source": [
    "## 31. Flatten a nested tuple.\n",
    "\n",
    "def flatten(nested_tuple):\n",
    "    # base case: if the tuple is a pair of non-tuple elements, return it as it is\n",
    "    if isinstance(nested_tuple, tuple) and len(nested_tuple) == 2 and not isinstance(nested_tuple[0], tuple):\n",
    "        return (nested_tuple,)\n",
    "    # recursive case: create an empty tuple to store the flattened elements\n",
    "    flattened_tuple = ()\n",
    "    # loop over each element of the tuple\n",
    "    for element in nested_tuple:\n",
    "        # if the element is a tuple, call the function on it and extend the flattened tuple with the result\n",
    "        if isinstance(element, tuple):\n",
    "            flattened_tuple += flatten(element)\n",
    "        # otherwise, just append the element to the flattened tuple\n",
    "        else:\n",
    "            flattened_tuple += (element,)\n",
    "    # return the flattened tuple\n",
    "    return flattened_tuple\n",
    "\n",
    "# a nested tuple with two levels of nesting\n",
    "nested_tuple = ((11, 12), (13, 14), (15, 16))\n",
    "# print the original tuple\n",
    "print(\"The original tuple:\", nested_tuple)\n",
    "# print the flattened tuple\n",
    "print(\"The flattened tuple:\", flatten(nested_tuple))\n"
   ]
  },
  {
   "cell_type": "code",
   "execution_count": 8,
   "id": "14c913bc-fa1a-4922-ba36-5361a81d34be",
   "metadata": {},
   "outputs": [
    {
     "name": "stdout",
     "output_type": "stream",
     "text": [
      "(5, 7, 11, 13, 17)\n"
     ]
    }
   ],
   "source": [
    "## 32. Create a tuple of the first 5 prime numbers.\n",
    "\n",
    "\n",
    "\n",
    "def is_prime(n):\n",
    "    # if n is less than 2, it is not prime\n",
    "    if n < 2:\n",
    "        return False\n",
    "    \n",
    "    for i in range(2, int(n**0.5) + 1):\n",
    "        # if n is divisible by i, it is not prime\n",
    "        if n % i == 0:\n",
    "            return False\n",
    "    # otherwise, it is prime\n",
    "    return True\n",
    "\n",
    "# create an empty tuple to store the prime numbers\n",
    "prime_tuple = ()\n",
    "count = 0\n",
    "\n",
    "# loop until 5 primes are found\n",
    "while count < 5:\n",
    "    # if the number is prime, append it to the tuple and increment the counter\n",
    "    if is_prime(num):\n",
    "        prime_tuple += (num,)\n",
    "        count += 1\n",
    "    # increment the number to check the next one\n",
    "    num += 1\n",
    "# print the tuple of the first 5 prime numbers\n",
    "print(prime_tuple)\n"
   ]
  },
  {
   "cell_type": "code",
   "execution_count": 9,
   "id": "bbd81a33-a3c7-4084-a4fa-ab2b3d85981d",
   "metadata": {},
   "outputs": [
    {
     "name": "stdout",
     "output_type": "stream",
     "text": [
      "True\n",
      "False\n"
     ]
    }
   ],
   "source": [
    "## 33. Check if a tuple is a palindrome.\n",
    "\n",
    "def is_palindrome(tuple):\n",
    "    return all(x == y for x, y in zip(tuple, tuple[::-1]))\n",
    "\n",
    "print(is_palindrome(((1, 2), (3, 4), (3, 4), (1, 2)))) # True\n",
    "print(is_palindrome(((1, 2), (3, 4), (5, 6), (7, 8)))) # False\n"
   ]
  },
  {
   "cell_type": "code",
   "execution_count": 10,
   "id": "47262151-0541-46bb-a683-14e72dff10d8",
   "metadata": {},
   "outputs": [
    {
     "name": "stdout",
     "output_type": "stream",
     "text": [
      "(1, 4, 9, 16, 25)\n"
     ]
    }
   ],
   "source": [
    "## 34. Create a tuple of squares of numbers from 1 to 5.\n",
    "\n",
    "# create an empty tuple to store the squares\n",
    "square_tuple = ()\n",
    "# loop from 1 to 5\n",
    "for num in range(1, 6):\n",
    "    # calculate the square of the number and append it to the tuple\n",
    "    square_tuple += (num**2,)\n",
    "# print the tuple of squares\n",
    "print(square_tuple)\n"
   ]
  },
  {
   "cell_type": "code",
   "execution_count": 11,
   "id": "fa190898-c059-4370-b5a3-096421c86be6",
   "metadata": {},
   "outputs": [
    {
     "name": "stdout",
     "output_type": "stream",
     "text": [
      "(1, 3, 5)\n"
     ]
    }
   ],
   "source": [
    "## 35. Filter out all even numbers from a tuple.\n",
    "\n",
    "my_tuple = (1, 2, 3, 4, 5, 6)\n",
    "odd_tuple = tuple(filter(lambda x: x % 2 != 0, my_tuple)) # filter out the even elements using a lambda function\n",
    "print(odd_tuple) # (1, 3, 5)\n"
   ]
  },
  {
   "cell_type": "code",
   "execution_count": 12,
   "id": "e5a4c38b-9d62-478f-802e-f3b187f81791",
   "metadata": {},
   "outputs": [
    {
     "name": "stdout",
     "output_type": "stream",
     "text": [
      "(2, 4, 6, 8)\n"
     ]
    }
   ],
   "source": [
    "## 36. Multiply all elements in a tuple by 2.\n",
    "\n",
    "# Define a tuple\n",
    "tup = (1, 2, 3, 4)\n",
    "\n",
    "# Initialize an empty list\n",
    "result = []\n",
    "\n",
    "# Loop through the tuple and multiply each element by 2\n",
    "for x in tup:\n",
    "    result.append(x * 2)\n",
    "\n",
    "# Convert the list to a tuple\n",
    "result = tuple(result)\n",
    "\n",
    "# Print the result\n",
    "print(result)"
   ]
  },
  {
   "cell_type": "code",
   "execution_count": 13,
   "id": "12c4df87-5150-43eb-b67f-e4df0cac19f6",
   "metadata": {},
   "outputs": [
    {
     "name": "stdout",
     "output_type": "stream",
     "text": [
      "(3, 3, 9, 1, 1)\n"
     ]
    }
   ],
   "source": [
    "## 37. Create a tuple of random numbers\n",
    "\n",
    "# Import the random module\n",
    "import random\n",
    "\n",
    "# Define the size and range of the random numbers\n",
    "size = 5 # The number of random numbers in the tuple\n",
    "start = 1 # The lower bound of the random numbers (inclusive)\n",
    "end = 10 # The upper bound of the random numbers (exclusive)\n",
    "\n",
    "# Create a list of random numbers using the random.randrange function\n",
    "lst = [random.randrange(start, end) for _ in range(size)]\n",
    "\n",
    "# Convert the list to a tuple using the tuple function\n",
    "tup = tuple(lst)\n",
    "\n",
    "# Print the tuple\n",
    "print(tup) \n",
    "\n"
   ]
  },
  {
   "cell_type": "code",
   "execution_count": 14,
   "id": "6fee5160-3fd1-4e09-8f36-ec5f02ea443e",
   "metadata": {},
   "outputs": [
    {
     "name": "stdout",
     "output_type": "stream",
     "text": [
      "The tuple is sorted in ascending order\n",
      "The tuple is not sorted in descending order\n"
     ]
    }
   ],
   "source": [
    "## 38. Check if a tuple is sorted.\n",
    "\n",
    "# Define a tuple\n",
    "tup = (1, 2, 3, 4, 5)\n",
    "\n",
    "# Check if the tuple is sorted in ascending order\n",
    "if tup == tuple(sorted(tup)):\n",
    "    print(\"The tuple is sorted in ascending order\")\n",
    "else:\n",
    "    print(\"The tuple is not sorted in ascending order\")\n",
    "\n",
    "# Check if the tuple is sorted in descending order\n",
    "if tup == tuple(sorted(tup, reverse=True)):\n",
    "    print(\"The tuple is sorted in descending order\")\n",
    "else:\n",
    "    print(\"The tuple is not sorted in descending order\")\n"
   ]
  },
  {
   "cell_type": "code",
   "execution_count": 17,
   "id": "e5d6c1c2-887e-434b-a10c-abf5323651d9",
   "metadata": {},
   "outputs": [
    {
     "name": "stdout",
     "output_type": "stream",
     "text": [
      "(3, 4, 5, 1, 2)\n"
     ]
    }
   ],
   "source": [
    "## 39. Rotate a tuple to the left by `n` positions\n",
    "\n",
    "# Import the collections module\n",
    "import collections\n",
    "\n",
    "# Define a tuple\n",
    "tup = (1, 2, 3, 4, 5)\n",
    "\n",
    "# Define the number of positions to shift\n",
    "n = 2\n",
    "\n",
    "# Create a deque object from the tuple\n",
    "deq = collections.deque(tup)\n",
    "\n",
    "# Rotate the deque to the left by n positions using the rotate method\n",
    "deq.rotate(-n) # Use a negative value to rotate to the left\n",
    "\n",
    "# Convert the deque back to a tuple using the tuple function\n",
    "result = tuple(deq)\n",
    "\n",
    "# Print the result\n",
    "print(result)\n"
   ]
  },
  {
   "cell_type": "code",
   "execution_count": 18,
   "id": "30cb091a-6dc7-4ec1-93e0-00b75f11444a",
   "metadata": {},
   "outputs": [
    {
     "name": "stdout",
     "output_type": "stream",
     "text": [
      "(4, 5, 1, 2, 3)\n"
     ]
    }
   ],
   "source": [
    "## 40. Rotate a tuple to the right by `n` positions\n",
    "\n",
    "# Import the collections module\n",
    "import collections\n",
    "\n",
    "# Define a tuple\n",
    "tup = (1, 2, 3, 4, 5)\n",
    "\n",
    "# Define the number of positions to shift\n",
    "n = 2\n",
    "\n",
    "# Create a deque object from the tuple\n",
    "deq = collections.deque(tup)\n",
    "\n",
    "# Rotate the deque to the right by n positions using the rotate method\n",
    "deq.rotate(n)\n",
    "\n",
    "# Convert the deque back to a tuple using the tuple function\n",
    "result = tuple(deq)\n",
    "\n",
    "# Print the result\n",
    "print(result)"
   ]
  },
  {
   "cell_type": "code",
   "execution_count": 19,
   "id": "f9502ce8-3804-48be-8e63-843ceeb97a03",
   "metadata": {},
   "outputs": [
    {
     "name": "stdout",
     "output_type": "stream",
     "text": [
      "(0, 1, 1, 2, 3)\n"
     ]
    }
   ],
   "source": [
    "## 41. Create a tuple of the first 5 Fibonacci numbers\n",
    "\n",
    "\n",
    "n = 5\n",
    "a = 0\n",
    "b = 1\n",
    "\n",
    "# Initialize an empty list\n",
    "lst = []\n",
    "\n",
    "# Loop through the range of n\n",
    "for i in range(n):\n",
    "    # Append the current term to the list\n",
    "    lst.append(a)\n",
    "    # Update the next term by adding the previous two terms\n",
    "    a, b = b, a + b\n",
    "\n",
    "# Convert the list to a tuple using the tuple function\n",
    "tup = tuple(lst)\n",
    "\n",
    "# Print the tuple\n",
    "print(tup) \n"
   ]
  },
  {
   "cell_type": "code",
   "execution_count": 20,
   "id": "cd34be10-d0a1-45d0-a0d4-26d98c26c08b",
   "metadata": {},
   "outputs": [
    {
     "name": "stdin",
     "output_type": "stream",
     "text": [
      "Enter some values:  23\n"
     ]
    },
    {
     "name": "stdout",
     "output_type": "stream",
     "text": [
      "('23',)\n"
     ]
    }
   ],
   "source": [
    "## 42. Create a tuple from user input.\n",
    "\n",
    "# Ask the user to enter some values separated by commas\n",
    "user_input = input(\"Enter some values: \")\n",
    "\n",
    "# Split the user input by commas and store it in a list\n",
    "user_list = user_input.split(\",\")\n",
    "\n",
    "# Convert the list to a tuple using the tuple function\n",
    "user_tuple = tuple(user_list)\n",
    "\n",
    "# Print the tuple\n",
    "print(user_tuple)\n"
   ]
  },
  {
   "cell_type": "code",
   "execution_count": 29,
   "id": "0dd4dc08-e99a-456f-9a59-1b3bd78abc37",
   "metadata": {},
   "outputs": [
    {
     "name": "stdout",
     "output_type": "stream",
     "text": [
      "The original list is : [(3, 4), (6, 5), (7, 8)]\n",
      "The swapped tuple list is : [(4, 3), (5, 6), (8, 7)]\n"
     ]
    }
   ],
   "source": [
    "## 43. Swap two elements in a tuple.\n",
    "\n",
    "# initializing list\n",
    "test_list = [(3, 4), (6, 5), (7, 8)]\n",
    " \n",
    "# printing original list\n",
    "print(\"The original list is : \" + str(test_list))\n",
    " \n",
    "# Swap tuple elements in list of tuples\n",
    "# Using list comprehension\n",
    "res = [(sub[1], sub[0]) for sub in test_list]\n",
    "         \n",
    "# printing result\n",
    "print(\"The swapped tuple list is : \" + str(res))"
   ]
  },
  {
   "cell_type": "code",
   "execution_count": 30,
   "id": "698f730f-b1b1-41d8-9be2-66486b65474b",
   "metadata": {},
   "outputs": [
    {
     "name": "stdout",
     "output_type": "stream",
     "text": [
      "('k', 'e', 'e', 'g', 'f', 'd', 'a', 'z')\n"
     ]
    }
   ],
   "source": [
    "## 44. Reverse the elements of a tuple.\n",
    "\n",
    "def Reverse(tuples):\n",
    "    new_tup = tuples[::-1]\n",
    "    return new_tup\n",
    "     \n",
    "# Driver Code\n",
    "tuples = ('z','a','d','f','g','e','e','k')\n",
    "print(Reverse(tuples))"
   ]
  },
  {
   "cell_type": "code",
   "execution_count": 20,
   "id": "30b6452b-8014-47ee-8774-1b9708a7674f",
   "metadata": {},
   "outputs": [],
   "source": [
    "## 45. Create a tuple of the first `n` powers of 2.\n",
    "\n",
    "def powers_of_two(n: int) -> tuple:\n",
    "    return tuple(2 ** i for i in range(n))\n"
   ]
  },
  {
   "cell_type": "code",
   "execution_count": 21,
   "id": "f4c5d5f3-b671-465d-8f08-864a2f60802a",
   "metadata": {},
   "outputs": [
    {
     "data": {
      "text/plain": [
       "(1, 2, 4, 8, 16)"
      ]
     },
     "execution_count": 21,
     "metadata": {},
     "output_type": "execute_result"
    }
   ],
   "source": [
    "powers_of_two(5)"
   ]
  },
  {
   "cell_type": "code",
   "execution_count": 18,
   "id": "bd376a00-835d-49fc-9f3a-b7a522532b6f",
   "metadata": {},
   "outputs": [
    {
     "name": "stdout",
     "output_type": "stream",
     "text": [
      "The longest string is banana with length 6\n"
     ]
    }
   ],
   "source": [
    "## 46. Find the longest string in a tuple of strings\n",
    "\n",
    "\n",
    "def longest_string(strings):\n",
    "    return max(strings, key=len)\n",
    "\n",
    "strings = ('apple', 'banana', 'pear', 'kiwi', 'orange')\n",
    "longest = longest_string(strings)\n",
    "print(f\"The longest string is {longest} with length {len(longest)}\")\n"
   ]
  },
  {
   "cell_type": "code",
   "execution_count": 17,
   "id": "a4d88dd7-bbd2-4544-8413-64dfdbe875bf",
   "metadata": {},
   "outputs": [
    {
     "name": "stdout",
     "output_type": "stream",
     "text": [
      "The shortest string is pear with length 4\n"
     ]
    }
   ],
   "source": [
    "## 47. Find the shortest string in a tuple of strings.\n",
    "\n",
    "def shortest_string(strings):\n",
    "    return min(strings, key=len)\n",
    "\n",
    "strings = ('apple', 'banana', 'pear', 'kiwi', 'orange')\n",
    "shortest = shortest_string(strings)\n",
    "print(f\"The shortest string is {shortest} with length {len(shortest)}\")\n"
   ]
  },
  {
   "cell_type": "code",
   "execution_count": 5,
   "id": "4d9032ff-2c4c-47e6-b46a-c5d900cecc73",
   "metadata": {},
   "outputs": [],
   "source": [
    "## 48. Create a tuple of the first `n` triangular numbers.\n",
    "\n",
    "def get_triangular_numbers(n):\n",
    "    triangular_numbers = []\n",
    "    for i in range(1, n + 1):\n",
    "        triangular_number = (i * (i + 1)) // 2\n",
    "        triangular_numbers.append(triangular_number)\n",
    "    return tuple(triangular_numbers)\n"
   ]
  },
  {
   "cell_type": "code",
   "execution_count": 6,
   "id": "0a42275e-b669-49ce-916a-ed424e2c4fae",
   "metadata": {},
   "outputs": [
    {
     "data": {
      "text/plain": [
       "(1, 3, 6)"
      ]
     },
     "execution_count": 6,
     "metadata": {},
     "output_type": "execute_result"
    }
   ],
   "source": [
    "get_triangular_numbers(3)"
   ]
  },
  {
   "cell_type": "code",
   "execution_count": 8,
   "id": "239c9b9d-df2e-444c-bddc-59268b446e4f",
   "metadata": {},
   "outputs": [],
   "source": [
    "## 49. Check if a tuple contains another tuple as a subsequence.\n",
    "\n",
    "def is_subsequence(sub, main):\n",
    "    n = len(sub)\n",
    "    for i in range(len(main) - n + 1):\n",
    "        if main[i:i+n] == sub:\n",
    "            return True\n",
    "    return False\n"
   ]
  },
  {
   "cell_type": "code",
   "execution_count": 16,
   "id": "fec1cc9e-1f7e-41e7-9d3d-4d87e6798d29",
   "metadata": {},
   "outputs": [
    {
     "data": {
      "text/plain": [
       "False"
      ]
     },
     "execution_count": 16,
     "metadata": {},
     "output_type": "execute_result"
    }
   ],
   "source": [
    "is_subsequence((1,2,3),(1,2,4,7,6))"
   ]
  },
  {
   "cell_type": "code",
   "execution_count": 9,
   "id": "bda68451-8b5c-41f5-bc74-b2a83b73217b",
   "metadata": {},
   "outputs": [],
   "source": [
    "##50. Create a tuple of alternating 1s and 0s of length `n`.\n",
    "\n",
    "def alternating_tuple(n):\n",
    "    return tuple([1 if i % 2 == 0 else 0 for i in range(n)])\n"
   ]
  },
  {
   "cell_type": "code",
   "execution_count": 11,
   "id": "a24809cf-0c77-4aea-9a84-75e9fdee144a",
   "metadata": {},
   "outputs": [
    {
     "data": {
      "text/plain": [
       "(1, 0, 1, 0)"
      ]
     },
     "execution_count": 11,
     "metadata": {},
     "output_type": "execute_result"
    }
   ],
   "source": [
    "alternating_tuple(4)"
   ]
  },
  {
   "cell_type": "code",
   "execution_count": 23,
   "id": "1fcb6a51-ed00-417b-8a43-4ff152da03a9",
   "metadata": {},
   "outputs": [
    {
     "name": "stdout",
     "output_type": "stream",
     "text": [
      "{1, 2, 3, 4, 5}\n"
     ]
    }
   ],
   "source": [
    "####_______Set Based Practice Problem :\n",
    "    \n",
    "    \n",
    "## 1. Create a set with integers from 1 to 5.\n",
    "\n",
    "set1={1,2,3,4,5}\n",
    "print(set1)"
   ]
  },
  {
   "cell_type": "code",
   "execution_count": 25,
   "id": "99245eae-f726-42ef-83da-c24b363a4514",
   "metadata": {},
   "outputs": [
    {
     "name": "stdout",
     "output_type": "stream",
     "text": [
      "{1, 2, 3, 4, 5, 6, 7}\n"
     ]
    }
   ],
   "source": [
    "## 2. Add an element to a set.\n",
    "\n",
    "set1={1,2,3,4,5,6}\n",
    "set1.add(7)\n",
    "print(set1)"
   ]
  },
  {
   "cell_type": "code",
   "execution_count": 26,
   "id": "3cf05c6b-b0dc-4ef8-8f3a-92fa7e15a79c",
   "metadata": {},
   "outputs": [
    {
     "name": "stdout",
     "output_type": "stream",
     "text": [
      "{1, 2, 3, 4, 5, 6, 7}\n"
     ]
    }
   ],
   "source": [
    "## 3. Remove an element from a set.\n",
    "\n",
    "set2={2,4,6,8,1,3,5,7}\n",
    "set2.remove(8)\n",
    "print(set2)"
   ]
  },
  {
   "cell_type": "code",
   "execution_count": 27,
   "id": "ea628adf-1cc2-443c-81fd-fad03c94cb61",
   "metadata": {},
   "outputs": [
    {
     "name": "stdout",
     "output_type": "stream",
     "text": [
      "3 is present in the set.\n",
      "3 is present in the set.\n"
     ]
    }
   ],
   "source": [
    "## 4. Check if an element exists in a set.\n",
    "\n",
    "my_set = {1, 2, 3, 4, 5}\n",
    "element = 3\n",
    "\n",
    "if element in my_set:\n",
    "    print(f\"{element} is present in the set.\")\n",
    "else:\n",
    "    print(f\"{element} is not present in the set.\")\n",
    "\n",
    "if element not in my_set:\n",
    "    print(f\"{element} is not present in the set.\")\n",
    "else:\n",
    "    print(f\"{element} is present in the set.\")\n"
   ]
  },
  {
   "cell_type": "code",
   "execution_count": 30,
   "id": "770ddbde-f17e-4b35-b21a-8eb30b6955ac",
   "metadata": {},
   "outputs": [],
   "source": [
    "## 5. Find the length of a set without using the `len()` function.\n",
    "\n",
    "\n",
    "def set_length(s):\n",
    "  # initialize a counter variable\n",
    "  count = 0\n",
    "  # loop through the set\n",
    "  for elem in s:\n",
    "    # increment the counter by 1\n",
    "    count += 1\n",
    "  # return the counter value\n",
    "  return count\n"
   ]
  },
  {
   "cell_type": "code",
   "execution_count": 31,
   "id": "51a2d215-9d0b-4e0a-b4d2-fef5712de29d",
   "metadata": {},
   "outputs": [
    {
     "data": {
      "text/plain": [
       "6"
      ]
     },
     "execution_count": 31,
     "metadata": {},
     "output_type": "execute_result"
    }
   ],
   "source": [
    "set_length({1,2,3,4,5,6})"
   ]
  },
  {
   "cell_type": "code",
   "execution_count": 32,
   "id": "5faef85d-946d-422d-b3e3-830139466833",
   "metadata": {},
   "outputs": [
    {
     "name": "stdout",
     "output_type": "stream",
     "text": [
      "set()\n"
     ]
    }
   ],
   "source": [
    "## 6. Clear all elements from a set.\n",
    "\n",
    "set3={1,2,3,4,5,7,6}\n",
    "set3.clear()\n",
    "print(set3)"
   ]
  },
  {
   "cell_type": "code",
   "execution_count": 51,
   "id": "99153572-8aa0-4e7f-bedd-32f24ee00e8b",
   "metadata": {},
   "outputs": [],
   "source": [
    "## 7. Create a set of even numbers from 1 to 10.\n",
    "\n",
    "even_numbers = {2, 4, 6, 8, 10}\n"
   ]
  },
  {
   "cell_type": "code",
   "execution_count": 52,
   "id": "5023b2db-2543-42b4-b3c9-49bab622b55f",
   "metadata": {},
   "outputs": [],
   "source": [
    "## 8. Create a set of odd numbers from 1 to 10.\n",
    "\n",
    "odd_number={1,3,5,7,9}"
   ]
  },
  {
   "cell_type": "code",
   "execution_count": 60,
   "id": "2dd2c9ad-5df9-42e3-9260-b0ab6a68dd2b",
   "metadata": {},
   "outputs": [
    {
     "name": "stdout",
     "output_type": "stream",
     "text": [
      "{1, 2, 3, 4, 5, 'one', 'two', 'three'}\n"
     ]
    }
   ],
   "source": [
    "## 9. Find the union of two sets\n",
    "\n",
    "\n",
    "s1 = {1, 2, 3, 4, 5}\n",
    "s2 = {'one', 'two', 'three'}\n",
    "print(s1.union(s2))\n"
   ]
  },
  {
   "cell_type": "code",
   "execution_count": 61,
   "id": "32317b88-2915-4ad7-9584-2c28d2e370b1",
   "metadata": {},
   "outputs": [
    {
     "name": "stdout",
     "output_type": "stream",
     "text": [
      "{1, 2, 3}\n"
     ]
    }
   ],
   "source": [
    "## 10. Find the intersection of two sets.\n",
    "\n",
    "\n",
    "s1 = {1, 2, 3, 4, 5}\n",
    "s2 = {'one',1,2,3}\n",
    "print(s1.intersection(s2))\n"
   ]
  },
  {
   "cell_type": "code",
   "execution_count": 62,
   "id": "47fb66ee-6ffa-4a28-b2a9-5128fd2b0c34",
   "metadata": {},
   "outputs": [
    {
     "name": "stdout",
     "output_type": "stream",
     "text": [
      "{1, 2}\n",
      "{4, 5}\n",
      "{1, 2}\n",
      "{4, 5}\n"
     ]
    }
   ],
   "source": [
    "## 11. Find the difference between two sets.\n",
    "\n",
    "# Define two sets\n",
    "A = {1, 2, 3}\n",
    "B = {3, 4, 5}\n",
    "\n",
    "# Using the difference() method\n",
    "C = A.difference(B)\n",
    "D = B.difference(A)\n",
    "print(C) # {1, 2}\n",
    "print(D) # {4, 5}\n",
    "\n",
    "# Using the - operator\n",
    "C = A - B\n",
    "D = B - A\n",
    "print(C) \n",
    "print(D) \n"
   ]
  },
  {
   "cell_type": "code",
   "execution_count": 63,
   "id": "17ef4c11-0d37-45c6-9e03-529cf604f294",
   "metadata": {},
   "outputs": [
    {
     "name": "stdout",
     "output_type": "stream",
     "text": [
      "True\n",
      "True\n",
      "True\n",
      "True\n",
      "True\n",
      "False\n"
     ]
    }
   ],
   "source": [
    "## 12. Check if a set is a subset of another set.\n",
    "\n",
    "# Define two sets\n",
    "A = {1, 2, 3}\n",
    "B = {1, 2, 3, 4}\n",
    "\n",
    "# Check if A is a subset of B using the issubset() method\n",
    "print(A.issubset(B)) # True\n",
    "\n",
    "# Check if A is a subset of B using the <= operator\n",
    "print(A <= B) # True\n",
    "\n",
    "# Check if A is a proper subset of B using the < operator\n",
    "print(A < B) # True\n",
    "\n",
    "# Check if A is a subset of itself using the issubset() method\n",
    "print(A.issubset(A)) # True\n",
    "\n",
    "# Check if A is a subset of itself using the <= operator\n",
    "print(A <= A) # True\n",
    "\n",
    "# Check if A is a proper subset of itself using the < operator\n",
    "print(A < A) # False\n"
   ]
  },
  {
   "cell_type": "code",
   "execution_count": 64,
   "id": "ff389bdb-f7e9-4c34-b28a-c44a86526ad3",
   "metadata": {},
   "outputs": [
    {
     "name": "stdout",
     "output_type": "stream",
     "text": [
      "True\n",
      "True\n",
      "True\n",
      "True\n",
      "True\n",
      "False\n"
     ]
    }
   ],
   "source": [
    "## 13. Check if a set is a superset of another set\n",
    "\n",
    "# Define two sets\n",
    "A = {1, 2, 3}\n",
    "B = {1, 2, 3, 4}\n",
    "\n",
    "# Check if B is a superset of A using the issuperset() method\n",
    "print(B.issuperset(A)) # True\n",
    "\n",
    "# Check if B is a superset of A using the >= operator\n",
    "print(B >= A) # True\n",
    "\n",
    "# Check if B is a proper superset of A using the > operator\n",
    "print(B > A) # True\n",
    "\n",
    "# Check if A is a superset of itself using the issuperset() method\n",
    "print(A.issuperset(A)) # True\n",
    "\n",
    "# Check if A is a superset of itself using the >= operator\n",
    "print(A >= A) # True\n",
    "\n",
    "# Check if A is a proper superset of itself using the > operator\n",
    "print(A > A) # False\n"
   ]
  },
  {
   "cell_type": "code",
   "execution_count": 66,
   "id": "3a0c9973-5c8c-4c47-b5c4-59239e1666b3",
   "metadata": {},
   "outputs": [
    {
     "name": "stdout",
     "output_type": "stream",
     "text": [
      "{1, 2, 3, 4, 5}\n"
     ]
    }
   ],
   "source": [
    "## 14. Create a set from a list.\n",
    "\n",
    "my_list = [1, 2, 3, 4, 4, 5]\n",
    "my_set = set()\n",
    "for x in my_list:\n",
    "    my_set.add(x)\n",
    "print(my_set)\n"
   ]
  },
  {
   "cell_type": "code",
   "execution_count": 69,
   "id": "9e3864ef-e9bd-467f-8475-38814013bb96",
   "metadata": {},
   "outputs": [
    {
     "name": "stdout",
     "output_type": "stream",
     "text": [
      "[1, 2, 3]\n"
     ]
    }
   ],
   "source": [
    "##15. Convert a set to a list.\n",
    "\n",
    "# convert a set into a list\n",
    "def convert(set):\n",
    "\treturn sorted(set)\n",
    "\n",
    "# Driver function\n",
    "my_set = {1, 2, 3}\n",
    "\n",
    "s = set(my_set)\n",
    "print(convert(s))\n"
   ]
  },
  {
   "cell_type": "code",
   "execution_count": 70,
   "id": "8f1a9fb2-b557-4d1a-b8cd-d3e3676f0c70",
   "metadata": {},
   "outputs": [
    {
     "name": "stdout",
     "output_type": "stream",
     "text": [
      "The original set: set()\n",
      "The set is empty, nothing to remove\n",
      "The modified set: set()\n"
     ]
    }
   ],
   "source": [
    "## 16. Remove a random element from a set.\n",
    "\n",
    "# Define an empty set\n",
    "my_set = set()\n",
    "print(\"The original set:\", my_set)\n",
    "\n",
    "# Try to remove a random element from the set using the pop() method\n",
    "try:\n",
    "    random_element = my_set.pop()\n",
    "    print(\"The removed element:\", random_element)\n",
    "except KeyError:\n",
    "    print(\"The set is empty, nothing to remove\")\n",
    "\n",
    "# Print the modified set\n",
    "print(\"The modified set:\", my_set)\n"
   ]
  },
  {
   "cell_type": "code",
   "execution_count": 71,
   "id": "d36764c7-45e7-40f3-9597-f983c8de0ea5",
   "metadata": {},
   "outputs": [
    {
     "name": "stdout",
     "output_type": "stream",
     "text": [
      "The original set: {1, 2, 3, 4, 5}\n",
      "The popped element: 1\n",
      "The modified set: {2, 3, 4, 5}\n"
     ]
    }
   ],
   "source": [
    "## 17. Pop an element from a set.\n",
    "\n",
    "# Define a set\n",
    "my_set = {1, 2, 3, 4, 5}\n",
    "print(\"The original set:\", my_set)\n",
    "\n",
    "# Pop an element from the set using the pop() method\n",
    "popped_element = my_set.pop()\n",
    "print(\"The popped element:\", popped_element)\n",
    "\n",
    "# Print the modified set\n",
    "print(\"The modified set:\", my_set)\n"
   ]
  },
  {
   "cell_type": "code",
   "execution_count": 72,
   "id": "3dbaa27b-854d-4cd9-8caa-305a1c1c2f00",
   "metadata": {},
   "outputs": [
    {
     "name": "stdout",
     "output_type": "stream",
     "text": [
      "The original sets: {1, 2, 3} {4, 5, 6}\n",
      "The result of isdisjoint(): True\n"
     ]
    }
   ],
   "source": [
    "## 18. Check if two sets have no elements in common.\n",
    "\n",
    "# Define two sets\n",
    "A = {1, 2, 3}\n",
    "B = {4, 5, 6}\n",
    "print(\"The original sets:\", A, B)\n",
    "\n",
    "# Check if the sets have no elements in common using the isdisjoint() method\n",
    "result = A.isdisjoint(B)\n",
    "print(\"The result of isdisjoint():\", result)\n"
   ]
  },
  {
   "cell_type": "code",
   "execution_count": 73,
   "id": "990f37db-4b8f-40d9-bbd2-590679a84c97",
   "metadata": {},
   "outputs": [
    {
     "name": "stdout",
     "output_type": "stream",
     "text": [
      "The original sets: {1, 2, 3} {3, 4, 5}\n",
      "The result of symmetric_difference(): {1, 2, 4, 5}\n",
      "The result of ^ operator: {1, 2, 4, 5}\n"
     ]
    }
   ],
   "source": [
    "## 19. Find the symmetric difference between two sets.\n",
    "\n",
    "# Define two sets\n",
    "A = {1, 2, 3}\n",
    "B = {3, 4, 5}\n",
    "print(\"The original sets:\", A, B)\n",
    "\n",
    "# Find the symmetric difference between the sets using the symmetric_difference() method\n",
    "result1 = A.symmetric_difference(B)\n",
    "print(\"The result of symmetric_difference():\", result1)\n",
    "\n",
    "# Find the symmetric difference between the sets using the ^ operator\n",
    "result2 = A ^ B\n",
    "print(\"The result of ^ operator:\", result2)\n"
   ]
  },
  {
   "cell_type": "code",
   "execution_count": 1,
   "id": "7c4e7d8d-388d-4c9a-9c38-3d7c89be9bc3",
   "metadata": {},
   "outputs": [],
   "source": [
    "## 20. Update a set with elements from another set.\n",
    "\n",
    "a = {1, 2, 3}\n",
    "b = {3, 4, 5}\n",
    "a.update(b)\n",
    "a = {1, 2, 3, 4, 5}\n",
    "a |= b\n",
    "a = {1, 2, 3}\n",
    "b = [4, 5, 6]\n",
    "c = (7, 8, 9)\n",
    "d = {\"ten\": 10, \"eleven\": 11}\n",
    "\n",
    "a.update(b, c, d)\n",
    "a = {1, 2, 3, 4, 5, 6, 7, 8, 9, \"ten\", \"eleven\"}\n",
    "\n"
   ]
  },
  {
   "cell_type": "code",
   "execution_count": 2,
   "id": "8d87e319-908e-4348-a8a1-49163de42cce",
   "metadata": {},
   "outputs": [
    {
     "name": "stdout",
     "output_type": "stream",
     "text": [
      "{2, 3, 5, 7, 11}\n"
     ]
    }
   ],
   "source": [
    "## 21. Create a set of the first 5 prime numbers.\n",
    "\n",
    "def first_n_primes(n):\n",
    "    primes = []\n",
    "    num = 2\n",
    "    while len(primes) < n:\n",
    "        for i in range(2, num):\n",
    "            if num % i == 0:\n",
    "                break\n",
    "        else:\n",
    "            primes.append(num)\n",
    "        num += 1\n",
    "    return primes\n",
    "\n",
    "first_five_primes = set(first_n_primes(5))\n",
    "print(first_five_primes)\n"
   ]
  },
  {
   "cell_type": "code",
   "execution_count": 3,
   "id": "2fa2eb8b-f944-4fe9-8a25-60f616ddc451",
   "metadata": {},
   "outputs": [
    {
     "name": "stdout",
     "output_type": "stream",
     "text": [
      "True\n",
      "False\n",
      "True\n",
      "False\n",
      "set()\n",
      "{3, 4}\n"
     ]
    }
   ],
   "source": [
    "## 22. Check if two sets are identical.\n",
    "\n",
    "a = {1, 2, 3}\n",
    "b = {3, 2, 1}\n",
    "c = {1, 2, 4}\n",
    "\n",
    "# Equality operator\n",
    "print(a == b) # True\n",
    "print(a == c) # False\n",
    "\n",
    "# Subset check\n",
    "print(a.issubset(b) and b.issubset(a)) # True\n",
    "print(a.issubset(c) and c.issubset(a)) # False\n",
    "\n",
    "# Symmetric difference\n",
    "print(a.symmetric_difference(b)) # set()\n",
    "print(a.symmetric_difference(c)) # {3, 4}\n"
   ]
  },
  {
   "cell_type": "code",
   "execution_count": null,
   "id": "ddde8d4a-1600-4f67-bd9e-ac94438c39cd",
   "metadata": {},
   "outputs": [],
   "source": [
    "## 23. Create a frozen set.\n"
   ]
  },
  {
   "cell_type": "code",
   "execution_count": 4,
   "id": "9bb68ec0-9ca7-4aa7-9dbc-cdc01f93a4f2",
   "metadata": {},
   "outputs": [
    {
     "name": "stdout",
     "output_type": "stream",
     "text": [
      "The sets are disjoint.\n"
     ]
    }
   ],
   "source": [
    "## 24. Check if a set is disjoint with another set.\n",
    "\n",
    "def areDisjoint(set1, set2):\n",
    "    for i in set1:\n",
    "        for j in set2:\n",
    "            if i == j:\n",
    "                return False\n",
    "    return True\n",
    "\n",
    "set1 = {1, 2, 3, 4, 5}\n",
    "set2 = {6, 7, 8, 9, 10}\n",
    "if areDisjoint(set1, set2):\n",
    "    print(\"The sets are disjoint.\")\n",
    "else:\n",
    "    print(\"The sets are not disjoint.\")\n"
   ]
  },
  {
   "cell_type": "code",
   "execution_count": 5,
   "id": "de1194e2-24ff-43a1-a895-706bdd4ee873",
   "metadata": {},
   "outputs": [
    {
     "name": "stdout",
     "output_type": "stream",
     "text": [
      "frozenset({'apple', 'banana', 'cherry'})\n",
      "frozenset({1, 2, 3, 4})\n"
     ]
    }
   ],
   "source": [
    "## 25. Create a set of squares of numbers from 1 to 5.\n",
    "\n",
    "fruits = frozenset([\"apple\", \"banana\", \"cherry\"])\n",
    "print(fruits)\n",
    "frozenset({'banana', 'cherry', 'apple'})\n",
    "my_set = {1, 2, 3, 4}\n",
    "my_frozen_set = frozenset(my_set)\n",
    "print(my_frozen_set)\n"
   ]
  },
  {
   "cell_type": "code",
   "execution_count": 8,
   "id": "8e5a3528-a99c-4bdf-9757-d72fbd2588cc",
   "metadata": {},
   "outputs": [
    {
     "name": "stdout",
     "output_type": "stream",
     "text": [
      "{1, 3, 5}\n"
     ]
    }
   ],
   "source": [
    "## 26. Filter out all even numbers from a set.\n",
    "\n",
    "my_set = {1, 2, 3, 4, 5, 6}\n",
    "odd_set = set(filter(lambda x: x % 2 != 0, my_set))\n",
    "print(odd_set) \n"
   ]
  },
  {
   "cell_type": "code",
   "execution_count": 6,
   "id": "1b6db4f4-7eb8-4306-afca-1464e288aaab",
   "metadata": {},
   "outputs": [
    {
     "name": "stdout",
     "output_type": "stream",
     "text": [
      "{2, 4, 6, 8, 10}\n"
     ]
    }
   ],
   "source": [
    "## 27. Multiply all elements in a set by 2.\n",
    "\n",
    "my_set = {1, 2, 3, 4, 5}\n",
    "my_new_set = {i * 2 for i in my_set}\n",
    "print(my_new_set)\n"
   ]
  },
  {
   "cell_type": "code",
   "execution_count": 9,
   "id": "5cb6954b-7200-48e8-a15b-82ebc133a47a",
   "metadata": {},
   "outputs": [
    {
     "name": "stdout",
     "output_type": "stream",
     "text": [
      "{3, 6, 7, 9, 10}\n",
      "{50, 10, 20}\n",
      "{'w', 'e', 'r', 'k'}\n",
      "{1, 2, 3, 4, 5}\n"
     ]
    },
    {
     "name": "stderr",
     "output_type": "stream",
     "text": [
      "/tmp/ipykernel_2209/3469773945.py:14: DeprecationWarning: Sampling from a set deprecated\n",
      "since Python 3.9 and will be removed in a subsequent version.\n",
      "  my_set = set(random.sample(another_set, 3))\n"
     ]
    }
   ],
   "source": [
    "## 28. Create a set of random numbers.\n",
    "\n",
    "# Import the random module\n",
    "import random\n",
    "\n",
    "# Create a set of 5 random integers between 1 and 10\n",
    "my_set = set()\n",
    "while len(my_set) < 5:\n",
    "    my_set.add(random.randint(1, 10))\n",
    "print(my_set)\n",
    "\n",
    "# Create a set of 3 random elements from another set\n",
    "another_set = {10, 20, 30, 40, 50}\n",
    "my_set = set(random.sample(another_set, 3))\n",
    "print(my_set)\n",
    "\n",
    "# Create a set of 4 random characters from a string\n",
    "my_string = \"abcdefghijklmnopqrstuvwxyz\"\n",
    "my_set = set(random.choice(my_string) for _ in range(4))\n",
    "print(my_set)\n",
    "\n",
    "# Shuffle the elements of a set\n",
    "my_set = {1, 2, 3, 4, 5}\n",
    "my_list = list(my_set) # Convert the set to a list\n",
    "random.shuffle(my_list) # Shuffle the list\n",
    "my_set = set(my_list) # Convert the list back to a set\n",
    "print(my_set)\n"
   ]
  },
  {
   "cell_type": "code",
   "execution_count": 11,
   "id": "be103dcc-2892-4159-ae7e-4a319262af28",
   "metadata": {},
   "outputs": [
    {
     "name": "stdout",
     "output_type": "stream",
     "text": [
      "The set is not empty.\n"
     ]
    }
   ],
   "source": [
    "## 29. Check if a set is empty.\n",
    "\n",
    "my_set= {1, 2, 3, 4, 5}\n",
    "if len(my_set) == 0:\n",
    "    print(\"The set is empty.\")\n",
    "else:\n",
    "    print(\"The set is not empty.\")\n",
    "\n",
    "    "
   ]
  },
  {
   "cell_type": "code",
   "execution_count": 12,
   "id": "a908c023-73c5-4fb4-b890-74c63e0e76e8",
   "metadata": {},
   "outputs": [
    {
     "name": "stdout",
     "output_type": "stream",
     "text": [
      "frozenset({1, 2, 3})\n",
      "frozenset({4, 5, 6})\n",
      "frozenset({8, 9, 7})\n"
     ]
    }
   ],
   "source": [
    "## 30. Create a nested set (hint: use frozenset).\n",
    "\n",
    "# Create a frozenset from a list\n",
    "fs1 = frozenset([1, 2, 3])\n",
    "print(fs1) # frozenset({1, 2, 3})\n",
    "\n",
    "# Create a frozenset from a set\n",
    "fs2 = frozenset({4, 5, 6})\n",
    "print(fs2) # frozenset({4, 5, 6})\n",
    "\n",
    "# Create a frozenset from a tuple\n",
    "fs3 = frozenset((7, 8, 9))\n",
    "print(fs3) # frozenset({7, 8, 9})\n"
   ]
  },
  {
   "cell_type": "code",
   "execution_count": 14,
   "id": "4b84c920-e610-42bd-a3bc-3f59a5e80e89",
   "metadata": {},
   "outputs": [
    {
     "name": "stdout",
     "output_type": "stream",
     "text": [
      "{1, 2, 3, 4, 5}\n",
      "{1, 2, 4, 5}\n",
      "{1, 2, 4, 5}\n"
     ]
    }
   ],
   "source": [
    "## 31. Remove an element from a set using the discard method\n",
    "\n",
    "# Create a set\n",
    "my_set = {1, 2, 3, 4, 5}\n",
    "print(my_set) # {1, 2, 3, 4, 5}\n",
    "\n",
    "# Remove an element using discard\n",
    "my_set.discard(3)\n",
    "print(my_set) # {1, 2, 4, 5}\n",
    "\n",
    "# Try to remove an element that is not in the set\n",
    "my_set.discard(6)\n",
    "print(my_set) # {1, 2, 4, 5}\n"
   ]
  },
  {
   "cell_type": "code",
   "execution_count": 13,
   "id": "9ca8d1f6-3621-4994-843e-f624f5e965c6",
   "metadata": {},
   "outputs": [
    {
     "name": "stdout",
     "output_type": "stream",
     "text": [
      "The sets are not equal.\n"
     ]
    }
   ],
   "source": [
    "## 32. Compare two sets.\n",
    "\n",
    "set1 = {1, 2, 3, 4, 5}\n",
    "set2 = {3, 4, 5, 6, 7}\n",
    "if set1 == set2:\n",
    "    print(\"The sets are equal.\")\n",
    "else:\n",
    "    print(\"The sets are not equal.\")\n"
   ]
  },
  {
   "cell_type": "code",
   "execution_count": 15,
   "id": "c12ae7bc-0b89-46e2-b634-a557c442cfd9",
   "metadata": {},
   "outputs": [
    {
     "name": "stdout",
     "output_type": "stream",
     "text": [
      "{'m', 'e', 'x', 'a', 'l', 'p'}\n"
     ]
    }
   ],
   "source": [
    "## 33. Create a set from a string.\n",
    "\n",
    "string = \"example\"\n",
    "string_set = set(string)\n",
    "print(string_set)\n"
   ]
  },
  {
   "cell_type": "code",
   "execution_count": 16,
   "id": "5567b495-ea75-4002-a6bb-8b6bc4ef2688",
   "metadata": {},
   "outputs": [
    {
     "name": "stdout",
     "output_type": "stream",
     "text": [
      "{1, 2, 3}\n"
     ]
    }
   ],
   "source": [
    "## 34. Convert a set of strings to a set of integers.\n",
    "\n",
    "my_set = {\"1\", \"2\", \"3\"}\n",
    "my_set = {int(x) for x in my_set}\n",
    "print(my_set) # {1, 2, 3}\n"
   ]
  },
  {
   "cell_type": "code",
   "execution_count": 17,
   "id": "2eed51bd-6930-4e44-a3e6-e1a03b7d7ec9",
   "metadata": {},
   "outputs": [
    {
     "name": "stdout",
     "output_type": "stream",
     "text": [
      "{'1', '4', '2', '5', '3'}\n"
     ]
    }
   ],
   "source": [
    "## 35. Convert a set of integers to a set of strings.\n",
    "\n",
    "int_set = {1, 2, 3, 4, 5}\n",
    "str_set = set(map(str, int_set))\n",
    "print(str_set)\n"
   ]
  },
  {
   "cell_type": "code",
   "execution_count": 20,
   "id": "8e147bc0-c345-45f7-817b-1916f01b3273",
   "metadata": {},
   "outputs": [
    {
     "name": "stdout",
     "output_type": "stream",
     "text": [
      "{1, 2, 3, 4, 5}\n"
     ]
    }
   ],
   "source": [
    "## 36. Create a set from a tuple.\n",
    "\n",
    "my_tuple = (1, 2, 3, 4, 5)\n",
    "my_set = set(my_tuple)\n",
    "print(my_set)\n"
   ]
  },
  {
   "cell_type": "code",
   "execution_count": 18,
   "id": "5b7eaed4-8f4d-4351-966c-524c6aefc6d9",
   "metadata": {},
   "outputs": [
    {
     "name": "stdout",
     "output_type": "stream",
     "text": [
      "(1, 2, 3, 4, 5)\n"
     ]
    }
   ],
   "source": [
    "## 37. Convert a set to a tuple\n",
    "\n",
    "int_set = {1, 2, 3, 4, 5}\n",
    "tuple_set = tuple(int_set)\n",
    "print(tuple_set)\n"
   ]
  },
  {
   "cell_type": "code",
   "execution_count": 22,
   "id": "701c859f-575b-468b-88bc-9eef3da7682b",
   "metadata": {},
   "outputs": [
    {
     "name": "stdout",
     "output_type": "stream",
     "text": [
      "5\n"
     ]
    }
   ],
   "source": [
    "## 38. Find the maximum value in a set.\n",
    "\n",
    "my_set = {1, 2, 3, 4, 5}\n",
    "max_value = max(my_set)\n",
    "print(max_value)\n"
   ]
  },
  {
   "cell_type": "code",
   "execution_count": 19,
   "id": "df42c791-1e0a-47aa-91cc-d0d62882716f",
   "metadata": {},
   "outputs": [
    {
     "name": "stdout",
     "output_type": "stream",
     "text": [
      "1\n"
     ]
    }
   ],
   "source": [
    "## 39. Find the minimum value in a set.\n",
    "\n",
    "int_set = {1, 2, 3, 4, 5}\n",
    "min_value = min(int_set)\n",
    "print(min_value)\n"
   ]
  },
  {
   "cell_type": "code",
   "execution_count": 21,
   "id": "ee086810-286d-404e-95f1-081098b80e31",
   "metadata": {},
   "outputs": [
    {
     "name": "stdin",
     "output_type": "stream",
     "text": [
      "Enter a string:  bajrang\n"
     ]
    },
    {
     "name": "stdout",
     "output_type": "stream",
     "text": [
      "{'b', 'g', 'j', 'n', 'a', 'r'}\n"
     ]
    }
   ],
   "source": [
    "## 40. Create a set from user input.\n",
    "\n",
    "user_input = input(\"Enter a string: \")\n",
    "my_set = set(user_input)\n",
    "print(my_set)\n"
   ]
  },
  {
   "cell_type": "code",
   "execution_count": 1,
   "id": "5f9fd3aa-a8c6-485d-aa5f-f52a2f1cc1fd",
   "metadata": {},
   "outputs": [
    {
     "name": "stdout",
     "output_type": "stream",
     "text": [
      "The intersection of set1 and set2 is empty.\n"
     ]
    }
   ],
   "source": [
    "## 41. Check if the intersection of two sets is empty\n",
    "\n",
    "\n",
    "def is_intersection_empty(set1, set2):\n",
    "    return len(set1 & set2) == 0\n",
    "\n",
    "set1 = {1, 2, 3}\n",
    "set2 = {4, 5, 6}\n",
    "if is_intersection_empty(set1, set2):\n",
    "    print(\"The intersection of set1 and set2 is empty.\")\n",
    "else:\n",
    "    print(\"The intersection of set1 and set2 is not empty.\")\n"
   ]
  },
  {
   "cell_type": "code",
   "execution_count": null,
   "id": "df9d811d-96a0-4dbd-89ff-669e5cd27dd5",
   "metadata": {},
   "outputs": [],
   "source": []
  },
  {
   "cell_type": "code",
   "execution_count": 2,
   "id": "ff8ff140-277c-415b-bc56-778557f63447",
   "metadata": {},
   "outputs": [
    {
     "name": "stdout",
     "output_type": "stream",
     "text": [
      "[0, 1, 1, 2, 3]\n"
     ]
    }
   ],
   "source": [
    "## 42. Create a set of the first 5 Fibonacci numbers.\n",
    "\n",
    "def fibonacci(n):\n",
    "    if n <= 0:\n",
    "        return []\n",
    "    elif n == 1:\n",
    "        return [0]\n",
    "    elif n == 2:\n",
    "        return [0, 1]\n",
    "    else:\n",
    "        fib = [0, 1]\n",
    "        for i in range(2, n):\n",
    "            fib.append(fib[i-1] + fib[i-2])\n",
    "        return fib[:5]\n",
    "\n",
    "print(fibonacci(5))\n"
   ]
  },
  {
   "cell_type": "code",
   "execution_count": 3,
   "id": "7a18253a-519d-4155-ae92-583215b02765",
   "metadata": {},
   "outputs": [
    {
     "name": "stdout",
     "output_type": "stream",
     "text": [
      "[1, 2, 3, 4, 5]\n"
     ]
    }
   ],
   "source": [
    "## 43. Remove duplicates from a list using sets.\n",
    "\n",
    "def remove_duplicates(lst):\n",
    "    return list(set(lst))\n",
    "\n",
    "lst = [1, 2, 3, 2, 1, 4, 5, 4]\n",
    "print(remove_duplicates(lst))\n"
   ]
  },
  {
   "cell_type": "code",
   "execution_count": 4,
   "id": "018f93bf-518e-4459-9516-5e919f81dc43",
   "metadata": {},
   "outputs": [
    {
     "name": "stdout",
     "output_type": "stream",
     "text": [
      "The sets have the same elements.\n"
     ]
    }
   ],
   "source": [
    "## 44. Check if two sets have the same elements, regardless of their count.\n",
    "\n",
    "def are_sets_equal(set1, set2):\n",
    "    return set1 == set2\n",
    "\n",
    "set1 = {1, 2, 3}\n",
    "set2 = {3, 2, 1}\n",
    "if are_sets_equal(set1, set2):\n",
    "    print(\"The sets have the same elements.\")\n",
    "else:\n",
    "    print(\"The sets do not have the same elements.\")\n"
   ]
  },
  {
   "cell_type": "code",
   "execution_count": 8,
   "id": "bcc56e93-3082-45b7-ab13-2144e4eee23a",
   "metadata": {},
   "outputs": [],
   "source": [
    "## 45. Create a set of the first `n` powers 2\n",
    " \n",
    "    \n",
    "def powers_of_two(n: int) :\n",
    "    return tuple(2 ** i for i in range(n))"
   ]
  },
  {
   "cell_type": "code",
   "execution_count": 9,
   "id": "1b4f472a-1aca-415a-8f9c-0c53f3385da0",
   "metadata": {},
   "outputs": [
    {
     "data": {
      "text/plain": [
       "(1, 2, 4, 8, 16, 32, 64, 128)"
      ]
     },
     "execution_count": 9,
     "metadata": {},
     "output_type": "execute_result"
    }
   ],
   "source": [
    "powers_of_two(8)"
   ]
  },
  {
   "cell_type": "code",
   "execution_count": 27,
   "id": "e4aed0d4-ea12-45a2-b445-a9f9da1d7c25",
   "metadata": {},
   "outputs": [],
   "source": [
    "## 46. Find the common elements between a set and a list."
   ]
  },
  {
   "cell_type": "code",
   "execution_count": 28,
   "id": "5489d477-69ab-4421-a7c2-84e9091eaa17",
   "metadata": {},
   "outputs": [
    {
     "name": "stdout",
     "output_type": "stream",
     "text": [
      "The common elements in the two lists are: \n",
      "[5]\n"
     ]
    }
   ],
   "source": [
    "def common_member(a, b):\n",
    "    result = [i for i in a if i in b]\n",
    "    return result\n",
    " \n",
    "a = [1, 2, 3, 4, 5]\n",
    "b = [5, 6, 7, 8, 9]\n",
    " \n",
    "print(\"The common elements in the two lists are: \")\n",
    "print(common_member(a, b))"
   ]
  },
  {
   "cell_type": "code",
   "execution_count": 29,
   "id": "6a82896a-c7ca-43fe-b1c0-579d21baa18b",
   "metadata": {},
   "outputs": [
    {
     "name": "stdout",
     "output_type": "stream",
     "text": [
      "The number is a triangular number\n"
     ]
    }
   ],
   "source": [
    "## 47. Create a set of the first `n` triangular numbers.\n",
    "def isTriangular(num):\n",
    " \n",
    "    # Base case\n",
    "    if (num < 0):\n",
    "        return False\n",
    " \n",
    "    # A Triangular number must be \n",
    "    # sum of first n natural numbers\n",
    "    sum, n = 0, 1\n",
    " \n",
    "    while(sum <= num): \n",
    "     \n",
    "        sum = sum + n\n",
    "        if (sum == num):\n",
    "            return True\n",
    "        n += 1\n",
    " \n",
    "    return False\n",
    " \n",
    "# Driver code\n",
    "n = 55\n",
    "if (isTriangular(n)):\n",
    "    print(\"The number is a triangular number\")\n",
    "else:\n",
    "    print(\"The number is NOT a triangular number\")\n",
    " "
   ]
  },
  {
   "cell_type": "code",
   "execution_count": 30,
   "id": "f94bc7f3-f879-4aae-bdf9-4189ca1c12aa",
   "metadata": {},
   "outputs": [
    {
     "data": {
      "text/plain": [
       "(1, 3, 6, 10, 15)"
      ]
     },
     "execution_count": 30,
     "metadata": {},
     "output_type": "execute_result"
    }
   ],
   "source": [
    "get_triangular_numbers(5)"
   ]
  },
  {
   "cell_type": "code",
   "execution_count": 31,
   "id": "82c16895-3d81-4f91-bf17-246be7ccb9fb",
   "metadata": {},
   "outputs": [],
   "source": [
    "#### 47. Create a set of the first `n` triangular numbers.  second step\n",
    "\n",
    "\n",
    "def get_triangular_numbers(n):\n",
    "    triangular_numbers = []\n",
    "    for i in range(1, n + 1):\n",
    "        triangular_number = (i * (i + 1)) // 2\n",
    "        triangular_numbers.append(triangular_number)\n",
    "    return tuple(triangular_numbers)\n"
   ]
  },
  {
   "cell_type": "code",
   "execution_count": 36,
   "id": "966e72d2-9f18-4b19-b647-47a18905c6e3",
   "metadata": {},
   "outputs": [
    {
     "data": {
      "text/plain": [
       "(1, 3, 6, 10)"
      ]
     },
     "execution_count": 36,
     "metadata": {},
     "output_type": "execute_result"
    }
   ],
   "source": [
    "get_triangular_numbers(4)"
   ]
  },
  {
   "cell_type": "code",
   "execution_count": 37,
   "id": "19a1b70a-6a12-4b40-9d11-ae24326cc1eb",
   "metadata": {},
   "outputs": [
    {
     "name": "stdout",
     "output_type": "stream",
     "text": [
      "True\n",
      "False\n"
     ]
    }
   ],
   "source": [
    "## 48. Check if a set contains another set as a subset.\n",
    "\n",
    "A = {4, 1, 3, 5}\n",
    "B = {6, 0, 4, 1, 5, 0, 3, 5}\n",
    "\n",
    "print(A.issubset(B))\n",
    "print(B.issubset(A))\n"
   ]
  },
  {
   "cell_type": "code",
   "execution_count": 38,
   "id": "5ab2f0c2-2e0b-42e8-8b7a-ee08c017851c",
   "metadata": {},
   "outputs": [
    {
     "name": "stdout",
     "output_type": "stream",
     "text": [
      "The list after initializing : [1, 1, 1, 1, 0, 0, 0, 1, 1, 1, 1, 0, 0, 0]\n"
     ]
    }
   ],
   "source": [
    "## 49. Create a set of alternating 1s and 0s of length `n`.\n",
    "\n",
    "# count of 1\n",
    "count_1 = 4\n",
    " \n",
    "# count of 0\n",
    "count_0 = 3\n",
    " \n",
    "# total length of list\n",
    "size = 14\n",
    " \n",
    "# initializing list cyclically\n",
    "# using list comprehension\n",
    "test_list = [1 if i % (count_1 + count_0) < count_1\n",
    "             else 0 for i in range(size)]\n",
    " \n",
    "# printing list after change\n",
    "print(\"The list after initializing : \" + str(test_list))"
   ]
  },
  {
   "cell_type": "code",
   "execution_count": 39,
   "id": "0924c91d-8a51-420f-9f7c-3e2141be465d",
   "metadata": {},
   "outputs": [
    {
     "name": "stdout",
     "output_type": "stream",
     "text": [
      "{1, 2, 3, 4, 5, 6, 7, 8, 9}\n"
     ]
    }
   ],
   "source": [
    "## 50. Merge multiple sets into one.\n",
    "\n",
    "# Create sets\n",
    "myset1 = {1,2,3,4,5,6}\n",
    "myset2 = {7,8,9,1,4}\n",
    "\n",
    "# Join using operator |\n",
    "myset = myset1 | myset2\n",
    "print(myset)\n",
    "\n"
   ]
  },
  {
   "cell_type": "code",
   "execution_count": null,
   "id": "b3b0e3b4-c161-41d4-9ae9-fccc096a1557",
   "metadata": {},
   "outputs": [],
   "source": [
    "\n"
   ]
  },
  {
   "cell_type": "code",
   "execution_count": null,
   "id": "1519298a-d11f-4a8f-8de8-e12118a72ecb",
   "metadata": {},
   "outputs": [],
   "source": []
  },
  {
   "cell_type": "code",
   "execution_count": null,
   "id": "4543e8a8-3c14-4074-85fd-bafa4a346c32",
   "metadata": {},
   "outputs": [],
   "source": []
  }
 ],
 "metadata": {
  "kernelspec": {
   "display_name": "Python 3 (ipykernel)",
   "language": "python",
   "name": "python3"
  },
  "language_info": {
   "codemirror_mode": {
    "name": "ipython",
    "version": 3
   },
   "file_extension": ".py",
   "mimetype": "text/x-python",
   "name": "python",
   "nbconvert_exporter": "python",
   "pygments_lexer": "ipython3",
   "version": "3.10.8"
  }
 },
 "nbformat": 4,
 "nbformat_minor": 5
}
