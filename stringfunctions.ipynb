{
 "cells": [
  {
   "cell_type": "code",
   "execution_count": 1,
   "id": "0f05a5a8-de74-4625-87e0-4a0244a1d9fc",
   "metadata": {},
   "outputs": [],
   "source": [
    "a1=\"bajrang\""
   ]
  },
  {
   "cell_type": "code",
   "execution_count": 2,
   "id": "62ffc219-cfc7-4608-8d1a-0dab1540e6fd",
   "metadata": {},
   "outputs": [
    {
     "data": {
      "text/plain": [
       "'bajrang'"
      ]
     },
     "execution_count": 2,
     "metadata": {},
     "output_type": "execute_result"
    }
   ],
   "source": [
    "a1"
   ]
  },
  {
   "cell_type": "code",
   "execution_count": 5,
   "id": "17719903-c2c7-4f85-adc3-5d27c8dca7e2",
   "metadata": {},
   "outputs": [
    {
     "data": {
      "text/plain": [
       "7"
      ]
     },
     "execution_count": 5,
     "metadata": {},
     "output_type": "execute_result"
    }
   ],
   "source": [
    "len(a1)"
   ]
  },
  {
   "cell_type": "code",
   "execution_count": 8,
   "id": "a8a9e616-a9d8-4684-9fd5-4284a20873ef",
   "metadata": {},
   "outputs": [],
   "source": [
    "# Python code to count and display number of vowels\n",
    "# Simply using for and comparing it with a \n",
    "# string containing all vowels\n",
    "def Check_Vow(string, vowels):\n",
    "    final = [each for each in string if each in vowels]\n",
    "    print(len(final))\n",
    "    print(final)"
   ]
  },
  {
   "cell_type": "code",
   "execution_count": 11,
   "id": "2ee16723-3dd7-40a1-b7f7-a986477114ff",
   "metadata": {},
   "outputs": [
    {
     "name": "stdout",
     "output_type": "stream",
     "text": [
      "10\n",
      "['i', 'a', 'e', 'a', 'i', 'o', 'a', 'u', 'a', 'e']\n"
     ]
    }
   ],
   "source": [
    "string = \"i am learning python language \"\n",
    "vowels = \"a,e,i,o,u\"\n",
    "Check_Vow(string, vowels);"
   ]
  },
  {
   "cell_type": "code",
   "execution_count": 17,
   "id": "8a648d07-7921-478b-b18e-920464bd3e40",
   "metadata": {},
   "outputs": [],
   "source": [
    "#taking an string\n",
    "a1=\"bajrang\""
   ]
  },
  {
   "cell_type": "code",
   "execution_count": 13,
   "id": "94fa6a7a-0b84-4ad4-bba2-d5fc71173f87",
   "metadata": {},
   "outputs": [
    {
     "data": {
      "text/plain": [
       "'bajrang'"
      ]
     },
     "execution_count": 13,
     "metadata": {},
     "output_type": "execute_result"
    }
   ],
   "source": [
    "a1"
   ]
  },
  {
   "cell_type": "code",
   "execution_count": 16,
   "id": "d76c905b-1b24-49ea-8043-8d2477df7764",
   "metadata": {},
   "outputs": [
    {
     "data": {
      "text/plain": [
       "'gnarjab'"
      ]
     },
     "execution_count": 16,
     "metadata": {},
     "output_type": "execute_result"
    }
   ],
   "source": [
    "#reverse the order of characters using string slicing \n",
    "#print the string in reversal order\n",
    "a1[::-1]  "
   ]
  },
  {
   "cell_type": "code",
   "execution_count": 18,
   "id": "e4d564a5-7e67-47f0-b4fb-c1e937d88b4b",
   "metadata": {},
   "outputs": [],
   "source": [
    "# function which return reverse of a string\n",
    " \n",
    "def isPalindrome(s):\n",
    "    return s == s[::-1]"
   ]
  },
  {
   "cell_type": "code",
   "execution_count": 20,
   "id": "ff3a4dad-7abc-4016-8487-a2a3b34cfc11",
   "metadata": {},
   "outputs": [
    {
     "name": "stdout",
     "output_type": "stream",
     "text": [
      "Yes\n"
     ]
    }
   ],
   "source": [
    "#decode Run a loop from starting to length/2 and check \n",
    "#the first character to the last character of the string and second to second last one \n",
    "s = \"nitin\"\n",
    "ans = isPalindrome(s)\n",
    " \n",
    "if ans:\n",
    "    print(\"Yes\")\n",
    "else:\n",
    "    print(\"No\")"
   ]
  },
  {
   "cell_type": "code",
   "execution_count": 34,
   "id": "27a01aa4-0893-4831-a31b-49c4f66acb6b",
   "metadata": {},
   "outputs": [
    {
     "name": "stdout",
     "output_type": "stream",
     "text": [
      "mynameis'bajrang\n"
     ]
    }
   ],
   "source": [
    "# Python program to Remove spaces from a given string\n",
    "  \n",
    "# Function to remove all spaces from a given string\n",
    "def removeSpaces(string):\n",
    "    string = string.replace(' ','')\n",
    "    return string\n",
    "     \n",
    "# Driver program\n",
    "string = \"my nam e i s 'baj r a ng  \"\n",
    "print(removeSpaces(string))"
   ]
  },
  {
   "cell_type": "code",
   "execution_count": null,
   "id": "821c7ca5-eb95-41be-b28d-e0e31d98448a",
   "metadata": {},
   "outputs": [],
   "source": []
  }
 ],
 "metadata": {
  "kernelspec": {
   "display_name": "Python 3 (ipykernel)",
   "language": "python",
   "name": "python3"
  },
  "language_info": {
   "codemirror_mode": {
    "name": "ipython",
    "version": 3
   },
   "file_extension": ".py",
   "mimetype": "text/x-python",
   "name": "python",
   "nbconvert_exporter": "python",
   "pygments_lexer": "ipython3",
   "version": "3.10.8"
  }
 },
 "nbformat": 4,
 "nbformat_minor": 5
}
